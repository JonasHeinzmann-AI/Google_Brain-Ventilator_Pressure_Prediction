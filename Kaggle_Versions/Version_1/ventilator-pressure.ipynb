{
 "cells": [
  {
   "cell_type": "markdown",
   "id": "98062067",
   "metadata": {
    "papermill": {
     "duration": 0.015455,
     "end_time": "2021-10-01T15:51:29.109772",
     "exception": false,
     "start_time": "2021-10-01T15:51:29.094317",
     "status": "completed"
    },
    "tags": []
   },
   "source": [
    "# About this notebook  \n",
    "- PyTorch RNN starter code with W&B  \n",
    "- Pytorch W&B Usage Examples from https://docs.wandb.ai/guides/integrations/pytorch  \n",
    "\n",
    "If this notebook is helpful, feel free to upvote :)"
   ]
  },
  {
   "cell_type": "markdown",
   "id": "7fc22718",
   "metadata": {
    "papermill": {
     "duration": 0.013751,
     "end_time": "2021-10-01T15:51:29.138640",
     "exception": false,
     "start_time": "2021-10-01T15:51:29.124889",
     "status": "completed"
    },
    "tags": []
   },
   "source": [
    "![](https://raw.githubusercontent.com/google/deluca-lung/main/assets/2020-10-02%20Ventilator%20diagram.svg)"
   ]
  },
  {
   "cell_type": "code",
   "execution_count": 1,
   "id": "716d92b6",
   "metadata": {
    "execution": {
     "iopub.execute_input": "2021-10-01T15:51:29.171865Z",
     "iopub.status.busy": "2021-10-01T15:51:29.170350Z",
     "iopub.status.idle": "2021-10-01T15:51:29.258225Z",
     "shell.execute_reply": "2021-10-01T15:51:29.257523Z",
     "shell.execute_reply.started": "2021-10-01T14:49:02.586529Z"
    },
    "papermill": {
     "duration": 0.105679,
     "end_time": "2021-10-01T15:51:29.258380",
     "exception": false,
     "start_time": "2021-10-01T15:51:29.152701",
     "status": "completed"
    },
    "tags": []
   },
   "outputs": [],
   "source": [
    "# ====================================================\n",
    "# Directory settings\n",
    "# ====================================================\n",
    "import os\n",
    "\n",
    "OUTPUT_DIR = './'\n",
    "if not os.path.exists(OUTPUT_DIR):\n",
    "    os.makedirs(OUTPUT_DIR)"
   ]
  },
  {
   "cell_type": "code",
   "execution_count": 2,
   "id": "eee34d98",
   "metadata": {
    "execution": {
     "iopub.execute_input": "2021-10-01T15:51:29.293238Z",
     "iopub.status.busy": "2021-10-01T15:51:29.292426Z",
     "iopub.status.idle": "2021-10-01T15:51:29.294391Z",
     "shell.execute_reply": "2021-10-01T15:51:29.294751Z",
     "shell.execute_reply.started": "2021-10-01T14:49:02.684181Z"
    },
    "papermill": {
     "duration": 0.02238,
     "end_time": "2021-10-01T15:51:29.294919",
     "exception": false,
     "start_time": "2021-10-01T15:51:29.272539",
     "status": "completed"
    },
    "tags": []
   },
   "outputs": [],
   "source": [
    "# ====================================================\n",
    "# CFG\n",
    "# ====================================================\n",
    "class CFG:\n",
    "    competition='ventilator'\n",
    "    _wandb_kernel='nakama'\n",
    "    apex=False\n",
    "    print_freq=100\n",
    "    num_workers=4\n",
    "    model_name='rnn'\n",
    "    scheduler='CosineAnnealingLR' # ['linear', 'cosine', 'ReduceLROnPlateau', 'CosineAnnealingLR', 'CosineAnnealingWarmRestarts']\n",
    "    batch_scheduler=False\n",
    "    #num_warmup_steps=100 # ['linear', 'cosine']\n",
    "    #num_cycles=0.5 # 'cosine'\n",
    "    #factor=0.2 # ReduceLROnPlateau\n",
    "    #patience=4 # ReduceLROnPlateau\n",
    "    #eps=1e-6 # ReduceLROnPlateau\n",
    "    T_max=50 # CosineAnnealingLR\n",
    "    #T_0=50 # CosineAnnealingWarmRestarts\n",
    "    epochs=5\n",
    "    max_grad_norm=1000\n",
    "    gradient_accumulation_steps=1\n",
    "    hidden_size=64\n",
    "    lr=5e-3\n",
    "    min_lr=1e-6\n",
    "    weight_decay=1e-6\n",
    "    batch_size=64\n",
    "    n_fold=5\n",
    "    trn_fold=[0, 1, 2, 3, 4]\n",
    "    cate_seq_cols=['R', 'C']\n",
    "    cont_seq_cols=['time_step', 'u_in', 'u_out'] + ['breath_time', 'u_in_time']\n",
    "    train=True\n",
    "    inference=True"
   ]
  },
  {
   "cell_type": "code",
   "execution_count": 3,
   "id": "fd996d43",
   "metadata": {
    "execution": {
     "iopub.execute_input": "2021-10-01T15:51:29.329949Z",
     "iopub.status.busy": "2021-10-01T15:51:29.325657Z",
     "iopub.status.idle": "2021-10-01T15:51:39.018039Z",
     "shell.execute_reply": "2021-10-01T15:51:39.016981Z",
     "shell.execute_reply.started": "2021-10-01T14:49:02.692779Z"
    },
    "papermill": {
     "duration": 9.709968,
     "end_time": "2021-10-01T15:51:39.018194",
     "exception": false,
     "start_time": "2021-10-01T15:51:29.308226",
     "status": "completed"
    },
    "tags": []
   },
   "outputs": [
    {
     "name": "stderr",
     "output_type": "stream",
     "text": [
      "2021-10-01 15:51:35.355596: I tensorflow/stream_executor/platform/default/dso_loader.cc:49] Successfully opened dynamic library libcudart.so.11.0\n"
     ]
    }
   ],
   "source": [
    "# ====================================================\n",
    "# Library\n",
    "# ====================================================\n",
    "import os\n",
    "import gc\n",
    "import sys\n",
    "import json\n",
    "import time\n",
    "import math\n",
    "import random\n",
    "from datetime import datetime\n",
    "from collections import Counter, defaultdict\n",
    "\n",
    "import scipy as sp\n",
    "import numpy as np\n",
    "import pandas as pd\n",
    "pd.set_option('display.max_rows', 500)\n",
    "pd.set_option('display.max_columns', 500)\n",
    "pd.set_option('display.width', 1000)\n",
    "\n",
    "from tqdm.auto import tqdm\n",
    "import category_encoders as ce\n",
    "\n",
    "from sklearn import preprocessing\n",
    "from sklearn.metrics import mean_absolute_error\n",
    "from sklearn.model_selection import StratifiedKFold, GroupKFold, KFold\n",
    "\n",
    "import torch\n",
    "import torch.nn as nn\n",
    "import torch.optim as optim\n",
    "import torch.nn.init as init\n",
    "import torch.nn.functional as F\n",
    "from torch.utils.data import DataLoader, Dataset\n",
    "from torch.optim.lr_scheduler import CosineAnnealingWarmRestarts, CosineAnnealingLR, ReduceLROnPlateau\n",
    "\n",
    "from transformers import AdamW\n",
    "from transformers import get_linear_schedule_with_warmup, get_cosine_schedule_with_warmup\n",
    "\n",
    "import warnings\n",
    "warnings.filterwarnings(\"ignore\")\n",
    "\n",
    "if CFG.apex:\n",
    "    from apex import amp\n",
    "\n",
    "device = torch.device('cuda' if torch.cuda.is_available() else 'cpu')"
   ]
  },
  {
   "cell_type": "code",
   "execution_count": 4,
   "id": "06756514",
   "metadata": {
    "execution": {
     "iopub.execute_input": "2021-10-01T15:51:39.054978Z",
     "iopub.status.busy": "2021-10-01T15:51:39.054377Z",
     "iopub.status.idle": "2021-10-01T15:51:47.098151Z",
     "shell.execute_reply": "2021-10-01T15:51:47.097564Z",
     "shell.execute_reply.started": "2021-10-01T14:49:12.504605Z"
    },
    "papermill": {
     "duration": 8.065318,
     "end_time": "2021-10-01T15:51:47.098280",
     "exception": false,
     "start_time": "2021-10-01T15:51:39.032962",
     "status": "completed"
    },
    "tags": []
   },
   "outputs": [
    {
     "name": "stdout",
     "output_type": "stream",
     "text": [
      "If you want to use your W&B account, go to Add-ons -> Secrets and provide your W&B access token. Use the Label name as wandb_api. \n",
      "Get your W&B access token from here: https://wandb.ai/authorize\n"
     ]
    },
    {
     "name": "stderr",
     "output_type": "stream",
     "text": [
      "\u001b[34m\u001b[1mwandb\u001b[0m: Appending key for api.wandb.ai to your netrc file: /root/.netrc\n",
      "\u001b[34m\u001b[1mwandb\u001b[0m: wandb version 0.12.3 is available!  To upgrade, please run:\n",
      "\u001b[34m\u001b[1mwandb\u001b[0m:  $ pip install wandb --upgrade\n",
      "2021-10-01 15:51:42.181832: I tensorflow/stream_executor/platform/default/dso_loader.cc:49] Successfully opened dynamic library libcudart.so.11.0\n"
     ]
    },
    {
     "data": {
      "text/html": [
       "\n",
       "                Tracking run with wandb version 0.12.1<br/>\n",
       "                Syncing run <strong style=\"color:#cdcd00\">rnn</strong> to <a href=\"https://wandb.ai\" target=\"_blank\">Weights & Biases</a> <a href=\"https://docs.wandb.com/integrations/jupyter.html\" target=\"_blank\">(Documentation)</a>.<br/>\n",
       "                Project page: <a href=\"https://wandb.ai/anony-moose-140327/Ventilator-Pressure-Public?apiKey=7b74b0ca856f827705aaf9f81a53888eb39f2e1d\" target=\"_blank\">https://wandb.ai/anony-moose-140327/Ventilator-Pressure-Public?apiKey=7b74b0ca856f827705aaf9f81a53888eb39f2e1d</a><br/>\n",
       "                Run page: <a href=\"https://wandb.ai/anony-moose-140327/Ventilator-Pressure-Public/runs/3tgz559a?apiKey=7b74b0ca856f827705aaf9f81a53888eb39f2e1d\" target=\"_blank\">https://wandb.ai/anony-moose-140327/Ventilator-Pressure-Public/runs/3tgz559a?apiKey=7b74b0ca856f827705aaf9f81a53888eb39f2e1d</a><br/>\n",
       "                Run data is saved locally in <code>/kaggle/working/wandb/run-20211001_155140-3tgz559a</code><br/><br/>\n",
       "            "
      ],
      "text/plain": [
       "<IPython.core.display.HTML object>"
      ]
     },
     "metadata": {},
     "output_type": "display_data"
    }
   ],
   "source": [
    "# ====================================================\n",
    "# wandb\n",
    "# ====================================================\n",
    "import wandb\n",
    "\n",
    "try:\n",
    "    from kaggle_secrets import UserSecretsClient\n",
    "    user_secrets = UserSecretsClient()\n",
    "    secret_value_0 = user_secrets.get_secret(\"wandb_api\")\n",
    "    wandb.login(key=secret_value_0)\n",
    "    anony = None\n",
    "except:\n",
    "    anony = \"must\"\n",
    "    print('If you want to use your W&B account, go to Add-ons -> Secrets and provide your W&B access token. Use the Label name as wandb_api. \\nGet your W&B access token from here: https://wandb.ai/authorize')\n",
    "\n",
    "    \n",
    "def class2dict(f):\n",
    "    return dict((name, getattr(f, name)) for name in dir(f) if not name.startswith('__'))\n",
    "\n",
    "run = wandb.init(project=\"Ventilator-Pressure-Public\", \n",
    "                 name=CFG.model_name,\n",
    "                 config=class2dict(CFG),\n",
    "                 group=CFG.model_name,\n",
    "                 job_type=\"train\",\n",
    "                 anonymous=anony)"
   ]
  },
  {
   "cell_type": "code",
   "execution_count": 5,
   "id": "c3ae836a",
   "metadata": {
    "execution": {
     "iopub.execute_input": "2021-10-01T15:51:47.156440Z",
     "iopub.status.busy": "2021-10-01T15:51:47.153403Z",
     "iopub.status.idle": "2021-10-01T15:51:47.162492Z",
     "shell.execute_reply": "2021-10-01T15:51:47.163037Z",
     "shell.execute_reply.started": "2021-10-01T14:49:19.747414Z"
    },
    "papermill": {
     "duration": 0.041894,
     "end_time": "2021-10-01T15:51:47.163179",
     "exception": false,
     "start_time": "2021-10-01T15:51:47.121285",
     "status": "completed"
    },
    "tags": []
   },
   "outputs": [],
   "source": [
    "# ====================================================\n",
    "# Utils\n",
    "# ====================================================\n",
    "def get_score(y_trues, y_preds):\n",
    "    score = mean_absolute_error(y_trues, y_preds)\n",
    "    return score\n",
    "\n",
    "\n",
    "def init_logger(log_file=OUTPUT_DIR+'train.log'):\n",
    "    from logging import getLogger, INFO, FileHandler,  Formatter,  StreamHandler\n",
    "    logger = getLogger(__name__)\n",
    "    logger.setLevel(INFO)\n",
    "    handler1 = StreamHandler()\n",
    "    handler1.setFormatter(Formatter(\"%(message)s\"))\n",
    "    handler2 = FileHandler(filename=log_file)\n",
    "    handler2.setFormatter(Formatter(\"%(message)s\"))\n",
    "    logger.addHandler(handler1)\n",
    "    logger.addHandler(handler2)\n",
    "    return logger\n",
    "\n",
    "LOGGER = init_logger()\n",
    "\n",
    "\n",
    "def seed_everything(seed=42):\n",
    "    random.seed(seed)\n",
    "    os.environ['PYTHONHASHSEED'] = str(seed)\n",
    "    np.random.seed(seed)\n",
    "    torch.manual_seed(seed)\n",
    "    torch.cuda.manual_seed(seed)\n",
    "    torch.backends.cudnn.deterministic = True\n",
    "    \n",
    "seed_everything()"
   ]
  },
  {
   "cell_type": "code",
   "execution_count": 6,
   "id": "f2707c97",
   "metadata": {
    "execution": {
     "iopub.execute_input": "2021-10-01T15:51:47.222166Z",
     "iopub.status.busy": "2021-10-01T15:51:47.221334Z",
     "iopub.status.idle": "2021-10-01T15:52:01.353298Z",
     "shell.execute_reply": "2021-10-01T15:52:01.352811Z",
     "shell.execute_reply.started": "2021-10-01T14:49:19.771331Z"
    },
    "papermill": {
     "duration": 14.165448,
     "end_time": "2021-10-01T15:52:01.353446",
     "exception": false,
     "start_time": "2021-10-01T15:51:47.187998",
     "status": "completed"
    },
    "tags": []
   },
   "outputs": [
    {
     "name": "stderr",
     "output_type": "stream",
     "text": [
      "\n",
      "CondaEnvException: Unable to determine environment\n",
      "\n",
      "Please re-run this command with one of the following options:\n",
      "\n",
      "* Provide an environment name via --name or -n\n",
      "* Re-run this command inside an activated conda environment.\n",
      "\n"
     ]
    },
    {
     "data": {
      "text/html": [
       "<div>\n",
       "<style scoped>\n",
       "    .dataframe tbody tr th:only-of-type {\n",
       "        vertical-align: middle;\n",
       "    }\n",
       "\n",
       "    .dataframe tbody tr th {\n",
       "        vertical-align: top;\n",
       "    }\n",
       "\n",
       "    .dataframe thead th {\n",
       "        text-align: right;\n",
       "    }\n",
       "</style>\n",
       "<table border=\"1\" class=\"dataframe\">\n",
       "  <thead>\n",
       "    <tr style=\"text-align: right;\">\n",
       "      <th></th>\n",
       "      <th>id</th>\n",
       "      <th>breath_id</th>\n",
       "      <th>R</th>\n",
       "      <th>C</th>\n",
       "      <th>time_step</th>\n",
       "      <th>u_in</th>\n",
       "      <th>u_out</th>\n",
       "      <th>pressure</th>\n",
       "    </tr>\n",
       "  </thead>\n",
       "  <tbody>\n",
       "    <tr>\n",
       "      <th>0</th>\n",
       "      <td>1</td>\n",
       "      <td>1</td>\n",
       "      <td>1</td>\n",
       "      <td>2</td>\n",
       "      <td>0.000000</td>\n",
       "      <td>0.080043</td>\n",
       "      <td>0</td>\n",
       "      <td>5.837492</td>\n",
       "    </tr>\n",
       "    <tr>\n",
       "      <th>1</th>\n",
       "      <td>2</td>\n",
       "      <td>1</td>\n",
       "      <td>1</td>\n",
       "      <td>2</td>\n",
       "      <td>0.033652</td>\n",
       "      <td>2.964399</td>\n",
       "      <td>0</td>\n",
       "      <td>5.907794</td>\n",
       "    </tr>\n",
       "    <tr>\n",
       "      <th>2</th>\n",
       "      <td>3</td>\n",
       "      <td>1</td>\n",
       "      <td>1</td>\n",
       "      <td>2</td>\n",
       "      <td>0.067514</td>\n",
       "      <td>3.157395</td>\n",
       "      <td>0</td>\n",
       "      <td>7.876254</td>\n",
       "    </tr>\n",
       "    <tr>\n",
       "      <th>3</th>\n",
       "      <td>4</td>\n",
       "      <td>1</td>\n",
       "      <td>1</td>\n",
       "      <td>2</td>\n",
       "      <td>0.101542</td>\n",
       "      <td>3.170056</td>\n",
       "      <td>0</td>\n",
       "      <td>11.742872</td>\n",
       "    </tr>\n",
       "    <tr>\n",
       "      <th>4</th>\n",
       "      <td>5</td>\n",
       "      <td>1</td>\n",
       "      <td>1</td>\n",
       "      <td>2</td>\n",
       "      <td>0.135756</td>\n",
       "      <td>3.271690</td>\n",
       "      <td>0</td>\n",
       "      <td>12.234987</td>\n",
       "    </tr>\n",
       "  </tbody>\n",
       "</table>\n",
       "</div>"
      ],
      "text/plain": [
       "   id  breath_id  R  C  time_step      u_in  u_out   pressure\n",
       "0   1          1  1  2   0.000000  0.080043      0   5.837492\n",
       "1   2          1  1  2   0.033652  2.964399      0   5.907794\n",
       "2   3          1  1  2   0.067514  3.157395      0   7.876254\n",
       "3   4          1  1  2   0.101542  3.170056      0  11.742872\n",
       "4   5          1  1  2   0.135756  3.271690      0  12.234987"
      ]
     },
     "metadata": {},
     "output_type": "display_data"
    },
    {
     "data": {
      "text/html": [
       "<div>\n",
       "<style scoped>\n",
       "    .dataframe tbody tr th:only-of-type {\n",
       "        vertical-align: middle;\n",
       "    }\n",
       "\n",
       "    .dataframe tbody tr th {\n",
       "        vertical-align: top;\n",
       "    }\n",
       "\n",
       "    .dataframe thead th {\n",
       "        text-align: right;\n",
       "    }\n",
       "</style>\n",
       "<table border=\"1\" class=\"dataframe\">\n",
       "  <thead>\n",
       "    <tr style=\"text-align: right;\">\n",
       "      <th></th>\n",
       "      <th>id</th>\n",
       "      <th>breath_id</th>\n",
       "      <th>R</th>\n",
       "      <th>C</th>\n",
       "      <th>time_step</th>\n",
       "      <th>u_in</th>\n",
       "      <th>u_out</th>\n",
       "    </tr>\n",
       "  </thead>\n",
       "  <tbody>\n",
       "    <tr>\n",
       "      <th>0</th>\n",
       "      <td>1</td>\n",
       "      <td>0</td>\n",
       "      <td>0</td>\n",
       "      <td>1</td>\n",
       "      <td>0.000000</td>\n",
       "      <td>0.000000</td>\n",
       "      <td>0</td>\n",
       "    </tr>\n",
       "    <tr>\n",
       "      <th>1</th>\n",
       "      <td>2</td>\n",
       "      <td>0</td>\n",
       "      <td>0</td>\n",
       "      <td>1</td>\n",
       "      <td>0.031904</td>\n",
       "      <td>2.141835</td>\n",
       "      <td>0</td>\n",
       "    </tr>\n",
       "    <tr>\n",
       "      <th>2</th>\n",
       "      <td>3</td>\n",
       "      <td>0</td>\n",
       "      <td>0</td>\n",
       "      <td>1</td>\n",
       "      <td>0.063827</td>\n",
       "      <td>2.750578</td>\n",
       "      <td>0</td>\n",
       "    </tr>\n",
       "    <tr>\n",
       "      <th>3</th>\n",
       "      <td>4</td>\n",
       "      <td>0</td>\n",
       "      <td>0</td>\n",
       "      <td>1</td>\n",
       "      <td>0.095751</td>\n",
       "      <td>3.101470</td>\n",
       "      <td>0</td>\n",
       "    </tr>\n",
       "    <tr>\n",
       "      <th>4</th>\n",
       "      <td>5</td>\n",
       "      <td>0</td>\n",
       "      <td>0</td>\n",
       "      <td>1</td>\n",
       "      <td>0.127644</td>\n",
       "      <td>3.307654</td>\n",
       "      <td>0</td>\n",
       "    </tr>\n",
       "  </tbody>\n",
       "</table>\n",
       "</div>"
      ],
      "text/plain": [
       "   id  breath_id  R  C  time_step      u_in  u_out\n",
       "0   1          0  0  1   0.000000  0.000000      0\n",
       "1   2          0  0  1   0.031904  2.141835      0\n",
       "2   3          0  0  1   0.063827  2.750578      0\n",
       "3   4          0  0  1   0.095751  3.101470      0\n",
       "4   5          0  0  1   0.127644  3.307654      0"
      ]
     },
     "metadata": {},
     "output_type": "display_data"
    },
    {
     "data": {
      "text/html": [
       "<div>\n",
       "<style scoped>\n",
       "    .dataframe tbody tr th:only-of-type {\n",
       "        vertical-align: middle;\n",
       "    }\n",
       "\n",
       "    .dataframe tbody tr th {\n",
       "        vertical-align: top;\n",
       "    }\n",
       "\n",
       "    .dataframe thead th {\n",
       "        text-align: right;\n",
       "    }\n",
       "</style>\n",
       "<table border=\"1\" class=\"dataframe\">\n",
       "  <thead>\n",
       "    <tr style=\"text-align: right;\">\n",
       "      <th></th>\n",
       "      <th>id</th>\n",
       "      <th>pressure</th>\n",
       "    </tr>\n",
       "  </thead>\n",
       "  <tbody>\n",
       "    <tr>\n",
       "      <th>0</th>\n",
       "      <td>1</td>\n",
       "      <td>0</td>\n",
       "    </tr>\n",
       "    <tr>\n",
       "      <th>1</th>\n",
       "      <td>2</td>\n",
       "      <td>0</td>\n",
       "    </tr>\n",
       "    <tr>\n",
       "      <th>2</th>\n",
       "      <td>3</td>\n",
       "      <td>0</td>\n",
       "    </tr>\n",
       "    <tr>\n",
       "      <th>3</th>\n",
       "      <td>4</td>\n",
       "      <td>0</td>\n",
       "    </tr>\n",
       "    <tr>\n",
       "      <th>4</th>\n",
       "      <td>5</td>\n",
       "      <td>0</td>\n",
       "    </tr>\n",
       "  </tbody>\n",
       "</table>\n",
       "</div>"
      ],
      "text/plain": [
       "   id  pressure\n",
       "0   1         0\n",
       "1   2         0\n",
       "2   3         0\n",
       "3   4         0\n",
       "4   5         0"
      ]
     },
     "metadata": {},
     "output_type": "display_data"
    }
   ],
   "source": [
    "# ====================================================\n",
    "# Data Loading\n",
    "# ====================================================\n",
    "train = pd.read_csv('../input/ventilator-pressure-prediction/train.csv')\n",
    "test = pd.read_csv('../input/ventilator-pressure-prediction/test.csv')\n",
    "sub = pd.read_csv('../input/ventilator-pressure-prediction/sample_submission.csv')\n",
    "\n",
    "for c in ['u_in']:\n",
    "    train[c] = np.log1p(train[c])\n",
    "    test[c] = np.log1p(test[c])\n",
    "    \n",
    "r_map = {5: 0, 20: 1, 50: 2}\n",
    "c_map = {10: 0, 20: 1, 50: 2}\n",
    "train['R'] = train['R'].map(r_map)\n",
    "test['R'] = test['R'].map(r_map)\n",
    "train['C'] = train['C'].map(c_map)\n",
    "test['C'] = test['C'].map(c_map)\n",
    "\n",
    "display(train.head())\n",
    "display(test.head())\n",
    "display(sub.head())"
   ]
  },
  {
   "cell_type": "code",
   "execution_count": 7,
   "id": "b27c998c",
   "metadata": {
    "execution": {
     "iopub.execute_input": "2021-10-01T15:52:01.397778Z",
     "iopub.status.busy": "2021-10-01T15:52:01.396648Z",
     "iopub.status.idle": "2021-10-01T15:52:01.768727Z",
     "shell.execute_reply": "2021-10-01T15:52:01.769225Z",
     "shell.execute_reply.started": "2021-10-01T14:49:33.379647Z"
    },
    "papermill": {
     "duration": 0.396528,
     "end_time": "2021-10-01T15:52:01.769394",
     "exception": false,
     "start_time": "2021-10-01T15:52:01.372866",
     "status": "completed"
    },
    "tags": []
   },
   "outputs": [],
   "source": [
    "# ====================================================\n",
    "# FE\n",
    "# ====================================================\n",
    "def add_feature(df):\n",
    "    # breath_time\n",
    "    df['breath_time'] = df['time_step'] - df['time_step'].shift(1)\n",
    "    df.loc[df['time_step'] == 0, 'breath_time'] = 0\n",
    "    # u_in_time\n",
    "    df['u_in_time'] = df['u_in'] - df['u_in'].shift(1)\n",
    "    df.loc[df['time_step'] == 0, 'u_in_time'] = 0\n",
    "    return df\n",
    "\n",
    "\n",
    "train = add_feature(train)\n",
    "test = add_feature(test)"
   ]
  },
  {
   "cell_type": "code",
   "execution_count": 8,
   "id": "ae5fb61e",
   "metadata": {
    "execution": {
     "iopub.execute_input": "2021-10-01T15:52:01.811626Z",
     "iopub.status.busy": "2021-10-01T15:52:01.810601Z",
     "iopub.status.idle": "2021-10-01T15:52:03.293331Z",
     "shell.execute_reply": "2021-10-01T15:52:03.292648Z",
     "shell.execute_reply.started": "2021-10-01T14:49:33.745148Z"
    },
    "papermill": {
     "duration": 1.506435,
     "end_time": "2021-10-01T15:52:03.293496",
     "exception": false,
     "start_time": "2021-10-01T15:52:01.787061",
     "status": "completed"
    },
    "tags": []
   },
   "outputs": [
    {
     "name": "stdout",
     "output_type": "stream",
     "text": [
      "fold\n",
      "0    1207200\n",
      "1    1207200\n",
      "2    1207200\n",
      "3    1207200\n",
      "4    1207200\n",
      "dtype: int64\n"
     ]
    }
   ],
   "source": [
    "# ====================================================\n",
    "# CV split\n",
    "# ====================================================\n",
    "Fold = GroupKFold(n_splits=5)\n",
    "groups = train['breath_id'].values\n",
    "for n, (train_index, val_index) in enumerate(Fold.split(train, train['pressure'], groups)):\n",
    "    train.loc[val_index, 'fold'] = int(n)\n",
    "train['fold'] = train['fold'].astype(int)\n",
    "print(train.groupby('fold').size())"
   ]
  },
  {
   "cell_type": "code",
   "execution_count": 9,
   "id": "fe5f49dd",
   "metadata": {
    "execution": {
     "iopub.execute_input": "2021-10-01T15:52:03.340962Z",
     "iopub.status.busy": "2021-10-01T15:52:03.340024Z",
     "iopub.status.idle": "2021-10-01T15:52:03.343600Z",
     "shell.execute_reply": "2021-10-01T15:52:03.344251Z",
     "shell.execute_reply.started": "2021-10-01T14:49:35.205235Z"
    },
    "papermill": {
     "duration": 0.033478,
     "end_time": "2021-10-01T15:52:03.344453",
     "exception": false,
     "start_time": "2021-10-01T15:52:03.310975",
     "status": "completed"
    },
    "tags": []
   },
   "outputs": [],
   "source": [
    "# ====================================================\n",
    "# Dataset\n",
    "# ====================================================\n",
    "class TrainDataset(Dataset):\n",
    "    def __init__(self, df):\n",
    "        self.df = df\n",
    "        self.groups = df.groupby('breath_id').groups\n",
    "        self.keys = list(self.groups.keys())\n",
    "        \n",
    "    def __len__(self):\n",
    "        return len(self.groups)\n",
    "\n",
    "    def __getitem__(self, idx):\n",
    "        indexes = self.groups[self.keys[idx]]\n",
    "        df = self.df.iloc[indexes]\n",
    "        cate_seq_x = torch.LongTensor(df[CFG.cate_seq_cols].values)\n",
    "        cont_seq_x = torch.FloatTensor(df[CFG.cont_seq_cols].values)\n",
    "        u_out = torch.LongTensor(df['u_out'].values)\n",
    "        label = torch.FloatTensor(df['pressure'].values)\n",
    "        return cate_seq_x, cont_seq_x, u_out, label\n",
    "    \n",
    "\n",
    "class TestDataset(Dataset):\n",
    "    def __init__(self, df):\n",
    "        self.df = df\n",
    "        self.groups = df.groupby('breath_id').groups\n",
    "        self.keys = list(self.groups.keys())\n",
    "        \n",
    "    def __len__(self):\n",
    "        return len(self.groups)\n",
    "\n",
    "    def __getitem__(self, idx):\n",
    "        indexes = self.groups[self.keys[idx]]\n",
    "        df = self.df.iloc[indexes]\n",
    "        cate_seq_x = torch.LongTensor(df[CFG.cate_seq_cols].values)\n",
    "        cont_seq_x = torch.FloatTensor(df[CFG.cont_seq_cols].values)\n",
    "        return cate_seq_x, cont_seq_x"
   ]
  },
  {
   "cell_type": "code",
   "execution_count": 10,
   "id": "06daa9f3",
   "metadata": {
    "execution": {
     "iopub.execute_input": "2021-10-01T15:52:03.395939Z",
     "iopub.status.busy": "2021-10-01T15:52:03.395073Z",
     "iopub.status.idle": "2021-10-01T15:52:03.398595Z",
     "shell.execute_reply": "2021-10-01T15:52:03.399477Z",
     "shell.execute_reply.started": "2021-10-01T14:49:35.220852Z"
    },
    "papermill": {
     "duration": 0.035387,
     "end_time": "2021-10-01T15:52:03.399639",
     "exception": false,
     "start_time": "2021-10-01T15:52:03.364252",
     "status": "completed"
    },
    "tags": []
   },
   "outputs": [],
   "source": [
    "# ====================================================\n",
    "# Model\n",
    "# ====================================================\n",
    "class CustomModel(nn.Module):\n",
    "    def __init__(self, cfg):\n",
    "        super().__init__()\n",
    "        self.cfg = cfg\n",
    "        self.hidden_size = cfg.hidden_size\n",
    "        self.r_emb = nn.Embedding(3, 2, padding_idx=0)\n",
    "        self.c_emb = nn.Embedding(3, 2, padding_idx=0)\n",
    "        self.seq_emb = nn.Sequential(\n",
    "            nn.Linear(4 + len(cfg.cont_seq_cols), self.hidden_size),\n",
    "            nn.LayerNorm(self.hidden_size),\n",
    "            nn.ReLU(),\n",
    "            nn.Dropout(0.2),\n",
    "        )\n",
    "        self.lstm = nn.LSTM(self.hidden_size, self.hidden_size, \n",
    "                            dropout=0.2, batch_first=True, bidirectional=True)\n",
    "        self.head = nn.Sequential(\n",
    "            nn.Linear(self.hidden_size * 2, self.hidden_size * 2),\n",
    "            nn.LayerNorm(self.hidden_size * 2),\n",
    "            nn.ReLU(),\n",
    "            nn.Dropout(0.),\n",
    "            nn.Linear(self.hidden_size * 2, 1),\n",
    "        )\n",
    "        for n, m in self.named_modules():\n",
    "            if isinstance(m, nn.LSTM):\n",
    "                print(f'init {m}')\n",
    "                for param in m.parameters():\n",
    "                    if len(param.shape) >= 2:\n",
    "                        nn.init.orthogonal_(param.data)\n",
    "                    else:\n",
    "                        nn.init.normal_(param.data)\n",
    "            elif isinstance(m, nn.GRU):\n",
    "                print(f\"init {m}\")\n",
    "                for param in m.parameters():\n",
    "                    if len(param.shape) >= 2:\n",
    "                        init.orthogonal_(param.data)\n",
    "                    else:\n",
    "                        init.normal_(param.data)\n",
    "\n",
    "    def forward(self, cate_seq_x, cont_seq_x):\n",
    "        bs = cont_seq_x.size(0)\n",
    "        r_emb = self.r_emb(cate_seq_x[:,:,0]).view(bs, 80, -1)\n",
    "        c_emb = self.c_emb(cate_seq_x[:,:,1]).view(bs, 80, -1)\n",
    "        seq_x = torch.cat((r_emb, c_emb, cont_seq_x), 2)\n",
    "        seq_emb = self.seq_emb(seq_x)\n",
    "        seq_emb, _ = self.lstm(seq_emb)\n",
    "        output = self.head(seq_emb).view(bs, -1)\n",
    "        return output"
   ]
  },
  {
   "cell_type": "code",
   "execution_count": 11,
   "id": "92f7ccde",
   "metadata": {
    "execution": {
     "iopub.execute_input": "2021-10-01T15:52:03.461552Z",
     "iopub.status.busy": "2021-10-01T15:52:03.460634Z",
     "iopub.status.idle": "2021-10-01T15:52:03.464332Z",
     "shell.execute_reply": "2021-10-01T15:52:03.465391Z",
     "shell.execute_reply.started": "2021-10-01T14:49:35.236463Z"
    },
    "papermill": {
     "duration": 0.047006,
     "end_time": "2021-10-01T15:52:03.465575",
     "exception": false,
     "start_time": "2021-10-01T15:52:03.418569",
     "status": "completed"
    },
    "tags": []
   },
   "outputs": [],
   "source": [
    "# ====================================================\n",
    "# helper function\n",
    "# ====================================================\n",
    "class AverageMeter(object):\n",
    "    \"\"\"Computes and stores the average and current value\"\"\"\n",
    "    def __init__(self):\n",
    "        self.reset()\n",
    "\n",
    "    def reset(self):\n",
    "        self.val = 0\n",
    "        self.avg = 0\n",
    "        self.sum = 0\n",
    "        self.count = 0\n",
    "\n",
    "    def update(self, val, n=1):\n",
    "        self.val = val\n",
    "        self.sum += val * n\n",
    "        self.count += n\n",
    "        self.avg = self.sum / self.count\n",
    "\n",
    "\n",
    "def asMinutes(s):\n",
    "    m = math.floor(s / 60)\n",
    "    s -= m * 60\n",
    "    return '%dm %ds' % (m, s)\n",
    "\n",
    "\n",
    "def timeSince(since, percent):\n",
    "    now = time.time()\n",
    "    s = now - since\n",
    "    es = s / (percent)\n",
    "    rs = es - s\n",
    "    return '%s (remain %s)' % (asMinutes(s), asMinutes(rs))\n",
    "\n",
    "\n",
    "def train_fn(fold, train_loader, model, criterion, optimizer, epoch, scheduler, device):\n",
    "    model.train()\n",
    "    losses = AverageMeter()\n",
    "    start = end = time.time()\n",
    "    for step, (cate_seq_x, cont_seq_x, u_out, y) in enumerate(train_loader):\n",
    "        loss_mask = u_out == 0\n",
    "        cate_seq_x, cont_seq_x, y = cate_seq_x.to(device), cont_seq_x.to(device), y.to(device)\n",
    "        batch_size = cont_seq_x.size(0)\n",
    "        pred = model(cate_seq_x, cont_seq_x)\n",
    "        loss = 2. * criterion(pred[loss_mask], y[loss_mask]) + criterion(pred[loss_mask == 0], y[loss_mask == 0])\n",
    "        losses.update(loss.item(), batch_size)\n",
    "        if CFG.gradient_accumulation_steps > 1:\n",
    "            loss = loss / CFG.gradient_accumulation_steps\n",
    "        if CFG.apex:\n",
    "            with amp.scale_loss(loss, optimizer) as scaled_loss:\n",
    "                scaled_loss.backward()\n",
    "        else:\n",
    "            loss.backward()\n",
    "        grad_norm = torch.nn.utils.clip_grad_norm_(model.parameters(), CFG.max_grad_norm)\n",
    "        if (step + 1) % CFG.gradient_accumulation_steps == 0:\n",
    "            optimizer.step()\n",
    "            optimizer.zero_grad()\n",
    "            if CFG.batch_scheduler:\n",
    "                scheduler.step()\n",
    "        end = time.time()\n",
    "        if step % CFG.print_freq == 0 or step == (len(train_loader)-1):\n",
    "            print('Epoch: [{0}][{1}/{2}] '\n",
    "                  'Elapsed {remain:s} '\n",
    "                  'Loss: {loss.val:.4f}({loss.avg:.4f}) '\n",
    "                  'Grad: {grad_norm:.4f}  '\n",
    "                  'LR: {lr:.6f}  '\n",
    "                  .format(\n",
    "                   epoch+1, step, len(train_loader),\n",
    "                   remain=timeSince(start, float(step+1)/len(train_loader)),\n",
    "                   loss=losses,\n",
    "                   grad_norm=grad_norm,\n",
    "                   lr=scheduler.get_lr()[0],\n",
    "                   ))\n",
    "        wandb.log({f\"[fold{fold}] loss\": losses.val,\n",
    "                   f\"[fold{fold}] lr\": scheduler.get_lr()[0]})\n",
    "    return losses.avg\n",
    "\n",
    "\n",
    "def valid_fn(valid_loader, model, criterion, device):\n",
    "    model.eval()\n",
    "    preds = []\n",
    "    losses = AverageMeter()\n",
    "    start = end = time.time()\n",
    "    for step, (cate_seq_x, cont_seq_x, u_out, y) in enumerate(valid_loader):\n",
    "        loss_mask = u_out == 0\n",
    "        cate_seq_x, cont_seq_x, y = cate_seq_x.to(device), cont_seq_x.to(device), y.to(device)\n",
    "        batch_size = cont_seq_x.size(0)\n",
    "        with torch.no_grad():\n",
    "            pred = model(cate_seq_x, cont_seq_x)\n",
    "        loss = 2. * criterion(pred[loss_mask], y[loss_mask]) + criterion(pred[loss_mask == 0], y[loss_mask == 0])\n",
    "        losses.update(loss.item(), batch_size)\n",
    "        preds.append(pred.view(-1).detach().cpu().numpy())\n",
    "        if CFG.gradient_accumulation_steps > 1:\n",
    "            loss = loss / CFG.gradient_accumulation_steps\n",
    "        end = time.time()\n",
    "        if step % CFG.print_freq == 0 or step == (len(valid_loader)-1):\n",
    "            print('EVAL: [{0}/{1}] '\n",
    "                  'Elapsed {remain:s} '\n",
    "                  'Loss: {loss.val:.4f}({loss.avg:.4f}) '\n",
    "                  .format(\n",
    "                   step, len(valid_loader),\n",
    "                   remain=timeSince(start, float(step+1)/len(valid_loader)),\n",
    "                   loss=losses,\n",
    "                   ))\n",
    "    preds = np.concatenate(preds)\n",
    "    return losses.avg, preds\n",
    "\n",
    "\n",
    "def inference_fn(test_loader, model, device):\n",
    "    model.eval()\n",
    "    model.to(device)\n",
    "    preds = []\n",
    "    tk0 = tqdm(enumerate(test_loader), total=len(test_loader))\n",
    "    for step, (cate_seq_x, cont_seq_x) in tk0:\n",
    "        cate_seq_x, cont_seq_x = cate_seq_x.to(device), cont_seq_x.to(device)\n",
    "        with torch.no_grad():\n",
    "            pred = model(cate_seq_x, cont_seq_x)\n",
    "        preds.append(pred.view(-1).detach().cpu().numpy())\n",
    "    preds = np.concatenate(preds)\n",
    "    return preds"
   ]
  },
  {
   "cell_type": "code",
   "execution_count": 12,
   "id": "bfdfc8f9",
   "metadata": {
    "execution": {
     "iopub.execute_input": "2021-10-01T15:52:03.522922Z",
     "iopub.status.busy": "2021-10-01T15:52:03.522091Z",
     "iopub.status.idle": "2021-10-01T15:52:03.524068Z",
     "shell.execute_reply": "2021-10-01T15:52:03.524535Z",
     "shell.execute_reply.started": "2021-10-01T14:49:35.267054Z"
    },
    "papermill": {
     "duration": 0.03929,
     "end_time": "2021-10-01T15:52:03.524656",
     "exception": false,
     "start_time": "2021-10-01T15:52:03.485366",
     "status": "completed"
    },
    "tags": []
   },
   "outputs": [],
   "source": [
    "# ====================================================\n",
    "# train loop\n",
    "# ====================================================\n",
    "def train_loop(folds, fold):\n",
    "\n",
    "    LOGGER.info(f\"========== fold: {fold} training ==========\")\n",
    "\n",
    "    # ====================================================\n",
    "    # loader\n",
    "    # ====================================================\n",
    "    trn_idx = folds[folds['fold'] != fold].index\n",
    "    val_idx = folds[folds['fold'] == fold].index\n",
    "    \n",
    "    train_folds = train.loc[trn_idx].reset_index(drop=True)\n",
    "    valid_folds = train.loc[val_idx].reset_index(drop=True)\n",
    "    y_true = valid_folds['pressure'].values\n",
    "    non_expiratory_phase_val_idx = valid_folds[valid_folds['u_out'] == 0].index # The expiratory phase is not scored\n",
    "\n",
    "    train_dataset = TrainDataset(train_folds)\n",
    "    valid_dataset = TrainDataset(valid_folds)\n",
    "\n",
    "    train_loader = DataLoader(train_dataset,\n",
    "                              batch_size=CFG.batch_size,\n",
    "                              shuffle=True,\n",
    "                              num_workers=CFG.num_workers, pin_memory=True, drop_last=True)\n",
    "    valid_loader = DataLoader(valid_dataset,\n",
    "                              batch_size=CFG.batch_size,\n",
    "                              shuffle=False,\n",
    "                              num_workers=CFG.num_workers, pin_memory=True, drop_last=False)\n",
    "\n",
    "    # ====================================================\n",
    "    # model & optimizer\n",
    "    # ====================================================\n",
    "    model = CustomModel(CFG)\n",
    "    model.to(device)\n",
    "\n",
    "    optimizer = AdamW(model.parameters(), lr=CFG.lr, weight_decay=CFG.weight_decay)\n",
    "    num_train_steps = int(len(train_folds) / CFG.batch_size * CFG.epochs)\n",
    "    \n",
    "    def get_scheduler(optimizer):\n",
    "        if CFG.scheduler=='linear':\n",
    "            scheduler = get_linear_schedule_with_warmup(\n",
    "                optimizer, num_warmup_steps=CFG.num_warmup_steps, num_training_steps=num_train_steps\n",
    "            )\n",
    "        elif CFG.scheduler=='cosine':\n",
    "            scheduler = get_cosine_schedule_with_warmup(\n",
    "                optimizer, num_warmup_steps=CFG.num_warmup_steps, num_training_steps=num_train_steps, num_cycles=CFG.num_cycles\n",
    "            )\n",
    "        elif CFG.scheduler=='ReduceLROnPlateau':\n",
    "            scheduler = ReduceLROnPlateau(optimizer, mode='min', factor=CFG.factor, patience=CFG.patience, verbose=True, eps=CFG.eps)\n",
    "        elif CFG.scheduler=='CosineAnnealingLR':\n",
    "            scheduler = CosineAnnealingLR(optimizer, T_max=CFG.T_max, eta_min=CFG.min_lr, last_epoch=-1)\n",
    "        elif CFG.scheduler=='CosineAnnealingWarmRestarts':\n",
    "            scheduler = CosineAnnealingWarmRestarts(optimizer, T_0=CFG.T_0, T_mult=1, eta_min=CFG.min_lr, last_epoch=-1)\n",
    "        return scheduler\n",
    "\n",
    "    scheduler = get_scheduler(optimizer)\n",
    "\n",
    "    # ====================================================\n",
    "    # apex\n",
    "    # ====================================================\n",
    "    if CFG.apex:\n",
    "        model, optimizer = amp.initialize(model, optimizer, opt_level='O1', verbosity=0)\n",
    "\n",
    "    # ====================================================\n",
    "    # loop\n",
    "    # ====================================================\n",
    "    criterion = nn.L1Loss()\n",
    "\n",
    "    best_score = np.inf\n",
    "\n",
    "    for epoch in range(CFG.epochs):\n",
    "\n",
    "        start_time = time.time()\n",
    "\n",
    "        # train\n",
    "        avg_loss = train_fn(fold, train_loader, model, criterion, optimizer, epoch, scheduler, device)\n",
    "\n",
    "        # eval\n",
    "        avg_val_loss, preds = valid_fn(valid_loader, model, criterion, device)\n",
    "        \n",
    "        if isinstance(scheduler, ReduceLROnPlateau):\n",
    "            scheduler.step(avg_val_loss)\n",
    "        elif isinstance(scheduler, CosineAnnealingLR):\n",
    "            scheduler.step()\n",
    "        elif isinstance(scheduler, CosineAnnealingWarmRestarts):\n",
    "            scheduler.step()\n",
    "\n",
    "        # scoring\n",
    "        score = get_score(y_true[non_expiratory_phase_val_idx], preds[non_expiratory_phase_val_idx])\n",
    "\n",
    "        elapsed = time.time() - start_time\n",
    "\n",
    "        LOGGER.info(f'Epoch {epoch+1} - avg_train_loss: {avg_loss:.4f}  avg_val_loss: {avg_val_loss:.4f}  time: {elapsed:.0f}s')\n",
    "        LOGGER.info(f'Epoch {epoch+1} - MAE Score (without expiratory phase): {score:.4f}')\n",
    "        wandb.log({f\"[fold{fold}] epoch\": epoch+1, \n",
    "                   f\"[fold{fold}] avg_train_loss\": avg_loss, \n",
    "                   f\"[fold{fold}] avg_val_loss\": avg_val_loss,\n",
    "                   f\"[fold{fold}] score\": score})\n",
    "        \n",
    "        if score < best_score:\n",
    "            best_score = score\n",
    "            LOGGER.info(f'Epoch {epoch+1} - Save Best Score: {score:.4f} Model')\n",
    "            torch.save({'model': model.state_dict(),\n",
    "                        'preds': preds},\n",
    "                        OUTPUT_DIR+f\"fold{fold}_best.pth\")\n",
    "            \n",
    "    preds = torch.load(OUTPUT_DIR+f\"fold{fold}_best.pth\", map_location=torch.device('cpu'))['preds']\n",
    "    valid_folds['preds'] = preds\n",
    "\n",
    "    torch.cuda.empty_cache()\n",
    "    gc.collect()\n",
    "    \n",
    "    return valid_folds"
   ]
  },
  {
   "cell_type": "code",
   "execution_count": 13,
   "id": "7af8ff8a",
   "metadata": {
    "execution": {
     "iopub.execute_input": "2021-10-01T15:52:03.578245Z",
     "iopub.status.busy": "2021-10-01T15:52:03.577389Z",
     "iopub.status.idle": "2021-10-01T15:52:03.580952Z",
     "shell.execute_reply": "2021-10-01T15:52:03.582006Z",
     "shell.execute_reply.started": "2021-10-01T14:49:35.291213Z"
    },
    "papermill": {
     "duration": 0.034804,
     "end_time": "2021-10-01T15:52:03.582198",
     "exception": false,
     "start_time": "2021-10-01T15:52:03.547394",
     "status": "completed"
    },
    "tags": []
   },
   "outputs": [],
   "source": [
    "# ====================================================\n",
    "# main\n",
    "# ====================================================\n",
    "def main():\n",
    "    \n",
    "    \"\"\"\n",
    "    Prepare: 1.train 2.test\n",
    "    \"\"\"\n",
    "    \n",
    "    def get_result(result_df):\n",
    "        preds = result_df['preds'].values\n",
    "        labels = result_df['pressure'].values\n",
    "        non_expiratory_phase_val_idx = result_df[result_df['u_out'] == 0].index # The expiratory phase is not scored\n",
    "        score = get_score(labels[non_expiratory_phase_val_idx], preds[non_expiratory_phase_val_idx])\n",
    "        LOGGER.info(f'Score (without expiratory phase): {score:<.4f}')\n",
    "    \n",
    "    if CFG.train:\n",
    "        # train \n",
    "        oof_df = pd.DataFrame()\n",
    "        for fold in range(CFG.n_fold):\n",
    "            if fold in CFG.trn_fold:\n",
    "                _oof_df = train_loop(train, fold)\n",
    "                oof_df = pd.concat([oof_df, _oof_df])\n",
    "                LOGGER.info(f\"========== fold: {fold} result ==========\")\n",
    "                get_result(_oof_df)\n",
    "        # CV result\n",
    "        LOGGER.info(f\"========== CV ==========\")\n",
    "        get_result(oof_df)\n",
    "        # save result\n",
    "        oof_df.to_csv(OUTPUT_DIR+'oof_df.csv', index=False)\n",
    "    \n",
    "    if CFG.inference:\n",
    "        test_dataset = TestDataset(test)\n",
    "        test_loader = DataLoader(test_dataset, batch_size=CFG.batch_size * 2, shuffle=False, num_workers=CFG.num_workers, pin_memory=True)\n",
    "        for fold in CFG.trn_fold:\n",
    "            model = CustomModel(CFG)\n",
    "            path = OUTPUT_DIR+f\"fold{fold}_best.pth\"\n",
    "            state = torch.load(path, map_location=torch.device('cpu'))\n",
    "            model.load_state_dict(state['model'])\n",
    "            predictions = inference_fn(test_loader, model, device)\n",
    "            test[f'fold{fold}'] = predictions\n",
    "            del state, predictions; gc.collect()\n",
    "            torch.cuda.empty_cache()\n",
    "        # submission\n",
    "        test['pressure'] = test[[f'fold{fold}' for fold in range(CFG.n_fold)]].mean(1)\n",
    "        test[['id', 'pressure']+[f'fold{fold}' for fold in range(CFG.n_fold)]].to_csv(OUTPUT_DIR+'raw_submission.csv', index=False)\n",
    "        test[['id', 'pressure']].to_csv(OUTPUT_DIR+'submission.csv', index=False)\n",
    "    \n",
    "    wandb.finish()"
   ]
  },
  {
   "cell_type": "code",
   "execution_count": 14,
   "id": "cd868217",
   "metadata": {
    "execution": {
     "iopub.execute_input": "2021-10-01T15:52:03.627741Z",
     "iopub.status.busy": "2021-10-01T15:52:03.622370Z",
     "iopub.status.idle": "2021-10-01T16:52:12.574914Z",
     "shell.execute_reply": "2021-10-01T16:52:12.574463Z",
     "shell.execute_reply.started": "2021-10-01T14:49:35.311486Z"
    },
    "papermill": {
     "duration": 3608.974451,
     "end_time": "2021-10-01T16:52:12.575061",
     "exception": false,
     "start_time": "2021-10-01T15:52:03.600610",
     "status": "completed"
    },
    "tags": []
   },
   "outputs": [
    {
     "name": "stderr",
     "output_type": "stream",
     "text": [
      "========== fold: 0 training ==========\n"
     ]
    },
    {
     "name": "stdout",
     "output_type": "stream",
     "text": [
      "init LSTM(64, 64, batch_first=True, dropout=0.2, bidirectional=True)\n",
      "Epoch: [1][0/943] Elapsed 0m 0s (remain 11m 57s) Loss: 42.1867(42.1867) Grad: 30.7141  LR: 0.005000  \n",
      "Epoch: [1][100/943] Elapsed 0m 10s (remain 1m 29s) Loss: 9.7079(18.5723) Grad: 27.6273  LR: 0.005000  \n",
      "Epoch: [1][200/943] Elapsed 0m 21s (remain 1m 18s) Loss: 4.5978(12.1808) Grad: 46.6698  LR: 0.005000  \n",
      "Epoch: [1][300/943] Elapsed 0m 31s (remain 1m 7s) Loss: 3.6194(9.5902) Grad: 30.7479  LR: 0.005000  \n",
      "Epoch: [1][400/943] Elapsed 0m 42s (remain 0m 56s) Loss: 3.5849(8.2343) Grad: 15.6006  LR: 0.005000  \n",
      "Epoch: [1][500/943] Elapsed 0m 52s (remain 0m 46s) Loss: 4.8776(7.3472) Grad: 49.1285  LR: 0.005000  \n",
      "Epoch: [1][600/943] Elapsed 1m 2s (remain 0m 35s) Loss: 3.1692(6.7095) Grad: 16.0577  LR: 0.005000  \n",
      "Epoch: [1][700/943] Elapsed 1m 13s (remain 0m 25s) Loss: 3.2046(6.2384) Grad: 18.0597  LR: 0.005000  \n",
      "Epoch: [1][800/943] Elapsed 1m 23s (remain 0m 14s) Loss: 3.6701(5.8619) Grad: 24.2422  LR: 0.005000  \n",
      "Epoch: [1][900/943] Elapsed 1m 33s (remain 0m 4s) Loss: 3.3513(5.5797) Grad: 29.2930  LR: 0.005000  \n",
      "Epoch: [1][942/943] Elapsed 1m 37s (remain 0m 0s) Loss: 3.0061(5.4777) Grad: 36.2385  LR: 0.005000  \n",
      "EVAL: [0/236] Elapsed 0m 0s (remain 1m 49s) Loss: 2.9004(2.9004) \n",
      "EVAL: [100/236] Elapsed 0m 10s (remain 0m 13s) Loss: 2.6986(2.8450) \n",
      "EVAL: [200/236] Elapsed 0m 19s (remain 0m 3s) Loss: 2.8328(2.8324) \n"
     ]
    },
    {
     "name": "stderr",
     "output_type": "stream",
     "text": [
      "Epoch 1 - avg_train_loss: 5.4777  avg_val_loss: 2.8339  time: 120s\n",
      "Epoch 1 - MAE Score (without expiratory phase): 1.2079\n",
      "Epoch 1 - Save Best Score: 1.2079 Model\n"
     ]
    },
    {
     "name": "stdout",
     "output_type": "stream",
     "text": [
      "EVAL: [235/236] Elapsed 0m 22s (remain 0m 0s) Loss: 2.4933(2.8339) \n",
      "Epoch: [2][0/943] Elapsed 0m 0s (remain 8m 33s) Loss: 2.8398(2.8398) Grad: 17.6497  LR: 0.004990  \n",
      "Epoch: [2][100/943] Elapsed 0m 10s (remain 1m 30s) Loss: 4.1900(3.2174) Grad: 65.8356  LR: 0.004990  \n",
      "Epoch: [2][200/943] Elapsed 0m 21s (remain 1m 20s) Loss: 2.9325(3.2332) Grad: 17.1712  LR: 0.004990  \n",
      "Epoch: [2][300/943] Elapsed 0m 32s (remain 1m 9s) Loss: 3.4572(3.1972) Grad: 26.8499  LR: 0.004990  \n",
      "Epoch: [2][400/943] Elapsed 0m 42s (remain 0m 57s) Loss: 2.8838(3.1867) Grad: 40.7367  LR: 0.004990  \n",
      "Epoch: [2][500/943] Elapsed 0m 53s (remain 0m 47s) Loss: 2.8084(3.1564) Grad: 18.4096  LR: 0.004990  \n",
      "Epoch: [2][600/943] Elapsed 1m 4s (remain 0m 36s) Loss: 3.4701(3.1189) Grad: 47.9236  LR: 0.004990  \n",
      "Epoch: [2][700/943] Elapsed 1m 14s (remain 0m 25s) Loss: 2.7224(3.0776) Grad: 28.0150  LR: 0.004990  \n",
      "Epoch: [2][800/943] Elapsed 1m 25s (remain 0m 15s) Loss: 3.5705(3.0570) Grad: 35.5448  LR: 0.004990  \n",
      "Epoch: [2][900/943] Elapsed 1m 35s (remain 0m 4s) Loss: 3.1189(3.0388) Grad: 32.4259  LR: 0.004990  \n",
      "Epoch: [2][942/943] Elapsed 1m 39s (remain 0m 0s) Loss: 2.8176(3.0290) Grad: 24.7272  LR: 0.004990  \n",
      "EVAL: [0/236] Elapsed 0m 0s (remain 2m 20s) Loss: 2.7802(2.7802) \n",
      "EVAL: [100/236] Elapsed 0m 10s (remain 0m 13s) Loss: 2.3005(2.5240) \n",
      "EVAL: [200/236] Elapsed 0m 20s (remain 0m 3s) Loss: 2.5453(2.5055) \n"
     ]
    },
    {
     "name": "stderr",
     "output_type": "stream",
     "text": [
      "Epoch 2 - avg_train_loss: 3.0290  avg_val_loss: 2.5013  time: 123s\n",
      "Epoch 2 - MAE Score (without expiratory phase): 1.0566\n",
      "Epoch 2 - Save Best Score: 1.0566 Model\n"
     ]
    },
    {
     "name": "stdout",
     "output_type": "stream",
     "text": [
      "EVAL: [235/236] Elapsed 0m 22s (remain 0m 0s) Loss: 2.3272(2.5013) \n",
      "Epoch: [3][0/943] Elapsed 0m 0s (remain 9m 35s) Loss: 2.6754(2.6754) Grad: 10.9325  LR: 0.004966  \n",
      "Epoch: [3][100/943] Elapsed 0m 11s (remain 1m 32s) Loss: 2.4597(2.7982) Grad: 25.5816  LR: 0.004966  \n",
      "Epoch: [3][200/943] Elapsed 0m 22s (remain 1m 21s) Loss: 2.5997(2.8158) Grad: 19.4485  LR: 0.004966  \n",
      "Epoch: [3][300/943] Elapsed 0m 32s (remain 1m 8s) Loss: 2.5155(2.8199) Grad: 41.6341  LR: 0.004966  \n",
      "Epoch: [3][400/943] Elapsed 0m 42s (remain 0m 57s) Loss: 2.8067(2.7877) Grad: 24.7639  LR: 0.004966  \n",
      "Epoch: [3][500/943] Elapsed 0m 53s (remain 0m 46s) Loss: 2.3341(2.7921) Grad: 30.9253  LR: 0.004966  \n",
      "Epoch: [3][600/943] Elapsed 1m 3s (remain 0m 36s) Loss: 2.3596(2.7797) Grad: 19.9531  LR: 0.004966  \n",
      "Epoch: [3][700/943] Elapsed 1m 13s (remain 0m 25s) Loss: 2.8235(2.7635) Grad: 26.3375  LR: 0.004966  \n",
      "Epoch: [3][800/943] Elapsed 1m 24s (remain 0m 15s) Loss: 2.9239(2.7543) Grad: 53.8313  LR: 0.004966  \n",
      "Epoch: [3][900/943] Elapsed 1m 35s (remain 0m 4s) Loss: 2.4944(2.7506) Grad: 24.1032  LR: 0.004966  \n",
      "Epoch: [3][942/943] Elapsed 1m 39s (remain 0m 0s) Loss: 2.4675(2.7462) Grad: 19.8489  LR: 0.004966  \n",
      "EVAL: [0/236] Elapsed 0m 0s (remain 2m 10s) Loss: 2.7629(2.7629) \n",
      "EVAL: [100/236] Elapsed 0m 10s (remain 0m 13s) Loss: 2.3428(2.5309) \n",
      "EVAL: [200/236] Elapsed 0m 19s (remain 0m 3s) Loss: 2.4814(2.5212) \n"
     ]
    },
    {
     "name": "stderr",
     "output_type": "stream",
     "text": [
      "Epoch 3 - avg_train_loss: 2.7462  avg_val_loss: 2.5222  time: 122s\n",
      "Epoch 3 - MAE Score (without expiratory phase): 1.0706\n"
     ]
    },
    {
     "name": "stdout",
     "output_type": "stream",
     "text": [
      "EVAL: [235/236] Elapsed 0m 22s (remain 0m 0s) Loss: 2.2498(2.5222) \n",
      "Epoch: [4][0/943] Elapsed 0m 0s (remain 9m 58s) Loss: 2.6459(2.6459) Grad: 26.1202  LR: 0.004931  \n",
      "Epoch: [4][100/943] Elapsed 0m 11s (remain 1m 32s) Loss: 2.7742(2.6367) Grad: 48.0183  LR: 0.004931  \n",
      "Epoch: [4][200/943] Elapsed 0m 21s (remain 1m 18s) Loss: 2.7692(2.6878) Grad: 31.7675  LR: 0.004931  \n",
      "Epoch: [4][300/943] Elapsed 0m 32s (remain 1m 9s) Loss: 2.3346(2.6580) Grad: 13.1237  LR: 0.004931  \n",
      "Epoch: [4][400/943] Elapsed 0m 42s (remain 0m 57s) Loss: 2.3820(2.6475) Grad: 23.9667  LR: 0.004931  \n",
      "Epoch: [4][500/943] Elapsed 0m 52s (remain 0m 46s) Loss: 2.5304(2.6387) Grad: 19.7815  LR: 0.004931  \n",
      "Epoch: [4][600/943] Elapsed 1m 3s (remain 0m 36s) Loss: 2.4686(2.6174) Grad: 25.6206  LR: 0.004931  \n",
      "Epoch: [4][700/943] Elapsed 1m 14s (remain 0m 25s) Loss: 2.9435(2.6065) Grad: 40.1243  LR: 0.004931  \n",
      "Epoch: [4][800/943] Elapsed 1m 24s (remain 0m 15s) Loss: 2.4503(2.6049) Grad: 41.1149  LR: 0.004931  \n",
      "Epoch: [4][900/943] Elapsed 1m 35s (remain 0m 4s) Loss: 2.7686(2.5927) Grad: 25.2786  LR: 0.004931  \n",
      "Epoch: [4][942/943] Elapsed 1m 40s (remain 0m 0s) Loss: 2.5061(2.5912) Grad: 18.1527  LR: 0.004931  \n",
      "EVAL: [0/236] Elapsed 0m 0s (remain 1m 41s) Loss: 2.7175(2.7175) \n",
      "EVAL: [100/236] Elapsed 0m 9s (remain 0m 13s) Loss: 2.4780(2.5179) \n",
      "EVAL: [200/236] Elapsed 0m 19s (remain 0m 3s) Loss: 2.6763(2.5137) \n"
     ]
    },
    {
     "name": "stderr",
     "output_type": "stream",
     "text": [
      "Epoch 4 - avg_train_loss: 2.5912  avg_val_loss: 2.5120  time: 123s\n",
      "Epoch 4 - MAE Score (without expiratory phase): 1.0669\n"
     ]
    },
    {
     "name": "stdout",
     "output_type": "stream",
     "text": [
      "EVAL: [235/236] Elapsed 0m 22s (remain 0m 0s) Loss: 2.1833(2.5120) \n",
      "Epoch: [5][0/943] Elapsed 0m 0s (remain 10m 22s) Loss: 2.5153(2.5153) Grad: 11.8622  LR: 0.004887  \n",
      "Epoch: [5][100/943] Elapsed 0m 11s (remain 1m 37s) Loss: 2.1482(2.4136) Grad: 23.2927  LR: 0.004887  \n",
      "Epoch: [5][200/943] Elapsed 0m 21s (remain 1m 21s) Loss: 2.3950(2.4319) Grad: 16.9098  LR: 0.004887  \n",
      "Epoch: [5][300/943] Elapsed 0m 32s (remain 1m 8s) Loss: 2.5393(2.4478) Grad: 14.8522  LR: 0.004887  \n",
      "Epoch: [5][400/943] Elapsed 0m 43s (remain 0m 58s) Loss: 2.6997(2.4686) Grad: 13.3489  LR: 0.004887  \n",
      "Epoch: [5][500/943] Elapsed 0m 53s (remain 0m 47s) Loss: 2.3389(2.4615) Grad: 24.4503  LR: 0.004887  \n",
      "Epoch: [5][600/943] Elapsed 1m 3s (remain 0m 36s) Loss: 2.7295(2.4578) Grad: 26.6912  LR: 0.004887  \n",
      "Epoch: [5][700/943] Elapsed 1m 15s (remain 0m 25s) Loss: 2.2081(2.4553) Grad: 28.4857  LR: 0.004887  \n",
      "Epoch: [5][800/943] Elapsed 1m 25s (remain 0m 15s) Loss: 2.4302(2.4610) Grad: 27.1537  LR: 0.004887  \n",
      "Epoch: [5][900/943] Elapsed 1m 35s (remain 0m 4s) Loss: 2.6684(2.4609) Grad: 41.1146  LR: 0.004887  \n",
      "Epoch: [5][942/943] Elapsed 1m 39s (remain 0m 0s) Loss: 2.7226(2.4617) Grad: 32.8421  LR: 0.004887  \n",
      "EVAL: [0/236] Elapsed 0m 0s (remain 2m 30s) Loss: 2.7068(2.7068) \n",
      "EVAL: [100/236] Elapsed 0m 10s (remain 0m 14s) Loss: 2.2978(2.4974) \n",
      "EVAL: [200/236] Elapsed 0m 20s (remain 0m 3s) Loss: 2.7814(2.5036) \n"
     ]
    },
    {
     "name": "stderr",
     "output_type": "stream",
     "text": [
      "Epoch 5 - avg_train_loss: 2.4617  avg_val_loss: 2.4972  time: 123s\n",
      "Epoch 5 - MAE Score (without expiratory phase): 1.0711\n"
     ]
    },
    {
     "name": "stdout",
     "output_type": "stream",
     "text": [
      "EVAL: [235/236] Elapsed 0m 23s (remain 0m 0s) Loss: 2.1358(2.4972) \n"
     ]
    },
    {
     "name": "stderr",
     "output_type": "stream",
     "text": [
      "========== fold: 0 result ==========\n",
      "Score (without expiratory phase): 1.0566\n",
      "========== fold: 1 training ==========\n"
     ]
    },
    {
     "name": "stdout",
     "output_type": "stream",
     "text": [
      "init LSTM(64, 64, batch_first=True, dropout=0.2, bidirectional=True)\n",
      "Epoch: [1][0/943] Elapsed 0m 0s (remain 11m 10s) Loss: 40.6649(40.6649) Grad: 32.7730  LR: 0.005000  \n",
      "Epoch: [1][100/943] Elapsed 0m 11s (remain 1m 33s) Loss: 8.8900(18.2360) Grad: 33.5683  LR: 0.005000  \n",
      "Epoch: [1][200/943] Elapsed 0m 23s (remain 1m 25s) Loss: 4.1570(12.2521) Grad: 11.4235  LR: 0.005000  \n",
      "Epoch: [1][300/943] Elapsed 0m 33s (remain 1m 11s) Loss: 4.2139(9.7017) Grad: 33.2866  LR: 0.005000  \n",
      "Epoch: [1][400/943] Elapsed 0m 44s (remain 0m 59s) Loss: 4.1826(8.3398) Grad: 15.8234  LR: 0.005000  \n",
      "Epoch: [1][500/943] Elapsed 0m 54s (remain 0m 48s) Loss: 3.6243(7.4843) Grad: 16.8049  LR: 0.005000  \n",
      "Epoch: [1][600/943] Elapsed 1m 5s (remain 0m 37s) Loss: 3.8209(6.8699) Grad: 16.9263  LR: 0.005000  \n",
      "Epoch: [1][700/943] Elapsed 1m 16s (remain 0m 26s) Loss: 3.8861(6.4025) Grad: 17.2260  LR: 0.005000  \n",
      "Epoch: [1][800/943] Elapsed 1m 26s (remain 0m 15s) Loss: 3.3919(6.0298) Grad: 31.5657  LR: 0.005000  \n",
      "Epoch: [1][900/943] Elapsed 1m 37s (remain 0m 4s) Loss: 3.2593(5.7302) Grad: 25.8188  LR: 0.005000  \n",
      "Epoch: [1][942/943] Elapsed 1m 41s (remain 0m 0s) Loss: 2.9317(5.6200) Grad: 20.5836  LR: 0.005000  \n",
      "EVAL: [0/236] Elapsed 0m 0s (remain 2m 29s) Loss: 3.0537(3.0537) \n",
      "EVAL: [100/236] Elapsed 0m 10s (remain 0m 13s) Loss: 3.0584(3.0794) \n",
      "EVAL: [200/236] Elapsed 0m 20s (remain 0m 3s) Loss: 2.6233(3.0734) \n"
     ]
    },
    {
     "name": "stderr",
     "output_type": "stream",
     "text": [
      "Epoch 1 - avg_train_loss: 5.6200  avg_val_loss: 3.0659  time: 126s\n",
      "Epoch 1 - MAE Score (without expiratory phase): 1.3133\n",
      "Epoch 1 - Save Best Score: 1.3133 Model\n"
     ]
    },
    {
     "name": "stdout",
     "output_type": "stream",
     "text": [
      "EVAL: [235/236] Elapsed 0m 23s (remain 0m 0s) Loss: 2.8471(3.0659) \n",
      "Epoch: [2][0/943] Elapsed 0m 0s (remain 12m 12s) Loss: 3.0050(3.0050) Grad: 15.7754  LR: 0.004990  \n",
      "Epoch: [2][100/943] Elapsed 0m 13s (remain 1m 48s) Loss: 3.0565(3.2661) Grad: 13.5328  LR: 0.004990  \n",
      "Epoch: [2][200/943] Elapsed 0m 23s (remain 1m 25s) Loss: 2.7382(3.1728) Grad: 10.9619  LR: 0.004990  \n",
      "Epoch: [2][300/943] Elapsed 0m 33s (remain 1m 11s) Loss: 3.3799(3.1812) Grad: 57.4963  LR: 0.004990  \n",
      "Epoch: [2][400/943] Elapsed 0m 44s (remain 1m 0s) Loss: 2.5654(3.1795) Grad: 11.3501  LR: 0.004990  \n",
      "Epoch: [2][500/943] Elapsed 0m 54s (remain 0m 48s) Loss: 3.1890(3.1620) Grad: 21.6634  LR: 0.004990  \n",
      "Epoch: [2][600/943] Elapsed 1m 4s (remain 0m 36s) Loss: 2.8888(3.1285) Grad: 20.5852  LR: 0.004990  \n",
      "Epoch: [2][700/943] Elapsed 1m 16s (remain 0m 26s) Loss: 2.9367(3.1189) Grad: 35.5556  LR: 0.004990  \n",
      "Epoch: [2][800/943] Elapsed 1m 26s (remain 0m 15s) Loss: 3.0549(3.0938) Grad: 13.7643  LR: 0.004990  \n",
      "Epoch: [2][900/943] Elapsed 1m 36s (remain 0m 4s) Loss: 2.9552(3.0687) Grad: 22.4668  LR: 0.004990  \n",
      "Epoch: [2][942/943] Elapsed 1m 41s (remain 0m 0s) Loss: 2.8204(3.0556) Grad: 12.2342  LR: 0.004990  \n",
      "EVAL: [0/236] Elapsed 0m 0s (remain 2m 24s) Loss: 2.5647(2.5647) \n",
      "EVAL: [100/236] Elapsed 0m 11s (remain 0m 15s) Loss: 2.4298(2.6645) \n",
      "EVAL: [200/236] Elapsed 0m 20s (remain 0m 3s) Loss: 2.4661(2.6587) \n"
     ]
    },
    {
     "name": "stderr",
     "output_type": "stream",
     "text": [
      "Epoch 2 - avg_train_loss: 3.0556  avg_val_loss: 2.6524  time: 125s\n",
      "Epoch 2 - MAE Score (without expiratory phase): 1.1204\n",
      "Epoch 2 - Save Best Score: 1.1204 Model\n"
     ]
    },
    {
     "name": "stdout",
     "output_type": "stream",
     "text": [
      "EVAL: [235/236] Elapsed 0m 23s (remain 0m 0s) Loss: 2.1541(2.6524) \n",
      "Epoch: [3][0/943] Elapsed 0m 0s (remain 9m 40s) Loss: 2.5815(2.5815) Grad: 26.3065  LR: 0.004966  \n",
      "Epoch: [3][100/943] Elapsed 0m 11s (remain 1m 39s) Loss: 3.2719(2.9101) Grad: 23.5375  LR: 0.004966  \n",
      "Epoch: [3][200/943] Elapsed 0m 22s (remain 1m 24s) Loss: 2.8199(2.8627) Grad: 14.2249  LR: 0.004966  \n",
      "Epoch: [3][300/943] Elapsed 0m 33s (remain 1m 11s) Loss: 2.5432(2.8617) Grad: 16.0540  LR: 0.004966  \n",
      "Epoch: [3][400/943] Elapsed 0m 43s (remain 0m 59s) Loss: 2.3988(2.8336) Grad: 14.5604  LR: 0.004966  \n",
      "Epoch: [3][500/943] Elapsed 0m 54s (remain 0m 48s) Loss: 2.5525(2.8131) Grad: 27.7921  LR: 0.004966  \n",
      "Epoch: [3][600/943] Elapsed 1m 5s (remain 0m 37s) Loss: 2.6923(2.7931) Grad: 21.8772  LR: 0.004966  \n",
      "Epoch: [3][700/943] Elapsed 1m 15s (remain 0m 26s) Loss: 2.6097(2.7963) Grad: 16.5969  LR: 0.004966  \n",
      "Epoch: [3][800/943] Elapsed 1m 26s (remain 0m 15s) Loss: 2.5648(2.7765) Grad: 13.1952  LR: 0.004966  \n",
      "Epoch: [3][900/943] Elapsed 1m 37s (remain 0m 4s) Loss: 2.5775(2.7629) Grad: 10.9104  LR: 0.004966  \n",
      "Epoch: [3][942/943] Elapsed 1m 41s (remain 0m 0s) Loss: 3.1753(2.7767) Grad: 32.5954  LR: 0.004966  \n",
      "EVAL: [0/236] Elapsed 0m 0s (remain 2m 21s) Loss: 3.4599(3.4599) \n",
      "EVAL: [100/236] Elapsed 0m 11s (remain 0m 14s) Loss: 2.9039(3.3294) \n",
      "EVAL: [200/236] Elapsed 0m 21s (remain 0m 3s) Loss: 3.0890(3.3255) \n"
     ]
    },
    {
     "name": "stderr",
     "output_type": "stream",
     "text": [
      "Epoch 3 - avg_train_loss: 2.7767  avg_val_loss: 3.3212  time: 126s\n",
      "Epoch 3 - MAE Score (without expiratory phase): 1.3632\n"
     ]
    },
    {
     "name": "stdout",
     "output_type": "stream",
     "text": [
      "EVAL: [235/236] Elapsed 0m 24s (remain 0m 0s) Loss: 3.1212(3.3212) \n",
      "Epoch: [4][0/943] Elapsed 0m 0s (remain 10m 3s) Loss: 3.7564(3.7564) Grad: 32.6372  LR: 0.004931  \n",
      "Epoch: [4][100/943] Elapsed 0m 12s (remain 1m 42s) Loss: 3.2006(2.7453) Grad: 42.2569  LR: 0.004931  \n",
      "Epoch: [4][200/943] Elapsed 0m 22s (remain 1m 24s) Loss: 2.7713(2.7363) Grad: 16.6093  LR: 0.004931  \n",
      "Epoch: [4][300/943] Elapsed 0m 33s (remain 1m 11s) Loss: 2.5012(2.7325) Grad: 32.8270  LR: 0.004931  \n",
      "Epoch: [4][400/943] Elapsed 0m 44s (remain 0m 59s) Loss: 2.3736(2.7269) Grad: 18.1685  LR: 0.004931  \n",
      "Epoch: [4][500/943] Elapsed 0m 54s (remain 0m 48s) Loss: 2.2597(2.7138) Grad: 20.2498  LR: 0.004931  \n",
      "Epoch: [4][600/943] Elapsed 1m 5s (remain 0m 37s) Loss: 2.5945(2.6931) Grad: 19.5747  LR: 0.004931  \n",
      "Epoch: [4][700/943] Elapsed 1m 15s (remain 0m 26s) Loss: 2.7275(2.6877) Grad: 9.4550  LR: 0.004931  \n",
      "Epoch: [4][800/943] Elapsed 1m 26s (remain 0m 15s) Loss: 2.4632(2.6704) Grad: 24.1286  LR: 0.004931  \n",
      "Epoch: [4][900/943] Elapsed 1m 36s (remain 0m 4s) Loss: 2.6116(2.6584) Grad: 11.1030  LR: 0.004931  \n",
      "Epoch: [4][942/943] Elapsed 1m 41s (remain 0m 0s) Loss: 2.2406(2.6526) Grad: 27.4363  LR: 0.004931  \n",
      "EVAL: [0/236] Elapsed 0m 0s (remain 2m 53s) Loss: 2.4571(2.4571) \n",
      "EVAL: [100/236] Elapsed 0m 10s (remain 0m 14s) Loss: 1.9820(2.4164) \n",
      "EVAL: [200/236] Elapsed 0m 20s (remain 0m 3s) Loss: 2.2324(2.4134) \n"
     ]
    },
    {
     "name": "stderr",
     "output_type": "stream",
     "text": [
      "Epoch 4 - avg_train_loss: 2.6526  avg_val_loss: 2.4122  time: 125s\n",
      "Epoch 4 - MAE Score (without expiratory phase): 1.0191\n",
      "Epoch 4 - Save Best Score: 1.0191 Model\n"
     ]
    },
    {
     "name": "stdout",
     "output_type": "stream",
     "text": [
      "EVAL: [235/236] Elapsed 0m 23s (remain 0m 0s) Loss: 2.1895(2.4122) \n",
      "Epoch: [5][0/943] Elapsed 0m 0s (remain 9m 57s) Loss: 2.8148(2.8148) Grad: 17.6659  LR: 0.004887  \n",
      "Epoch: [5][100/943] Elapsed 0m 12s (remain 1m 47s) Loss: 2.8079(2.5191) Grad: 15.4337  LR: 0.004887  \n",
      "Epoch: [5][200/943] Elapsed 0m 23s (remain 1m 25s) Loss: 2.8311(2.5845) Grad: 13.2728  LR: 0.004887  \n",
      "Epoch: [5][300/943] Elapsed 0m 33s (remain 1m 12s) Loss: 2.2487(2.5940) Grad: 10.3432  LR: 0.004887  \n",
      "Epoch: [5][400/943] Elapsed 0m 44s (remain 1m 0s) Loss: 2.1664(2.5728) Grad: 12.2224  LR: 0.004887  \n",
      "Epoch: [5][500/943] Elapsed 0m 54s (remain 0m 48s) Loss: 2.6313(2.5467) Grad: 15.0186  LR: 0.004887  \n",
      "Epoch: [5][600/943] Elapsed 1m 5s (remain 0m 37s) Loss: 2.4140(2.5359) Grad: 27.6948  LR: 0.004887  \n",
      "Epoch: [5][700/943] Elapsed 1m 16s (remain 0m 26s) Loss: 2.5033(2.5316) Grad: 22.0928  LR: 0.004887  \n",
      "Epoch: [5][800/943] Elapsed 1m 26s (remain 0m 15s) Loss: 2.3865(2.5250) Grad: 11.0476  LR: 0.004887  \n",
      "Epoch: [5][900/943] Elapsed 1m 36s (remain 0m 4s) Loss: 2.9295(2.5100) Grad: 41.2158  LR: 0.004887  \n",
      "Epoch: [5][942/943] Elapsed 1m 41s (remain 0m 0s) Loss: 2.2532(2.5038) Grad: 23.6750  LR: 0.004887  \n",
      "EVAL: [0/236] Elapsed 0m 0s (remain 2m 1s) Loss: 1.9510(1.9510) \n",
      "EVAL: [100/236] Elapsed 0m 11s (remain 0m 15s) Loss: 1.9256(2.1032) \n",
      "EVAL: [200/236] Elapsed 0m 21s (remain 0m 3s) Loss: 1.9864(2.1004) \n"
     ]
    },
    {
     "name": "stderr",
     "output_type": "stream",
     "text": [
      "Epoch 5 - avg_train_loss: 2.5038  avg_val_loss: 2.0980  time: 126s\n",
      "Epoch 5 - MAE Score (without expiratory phase): 0.8657\n",
      "Epoch 5 - Save Best Score: 0.8657 Model\n"
     ]
    },
    {
     "name": "stdout",
     "output_type": "stream",
     "text": [
      "EVAL: [235/236] Elapsed 0m 24s (remain 0m 0s) Loss: 1.8571(2.0980) \n"
     ]
    },
    {
     "name": "stderr",
     "output_type": "stream",
     "text": [
      "========== fold: 1 result ==========\n",
      "Score (without expiratory phase): 0.8657\n",
      "========== fold: 2 training ==========\n"
     ]
    },
    {
     "name": "stdout",
     "output_type": "stream",
     "text": [
      "init LSTM(64, 64, batch_first=True, dropout=0.2, bidirectional=True)\n",
      "Epoch: [1][0/943] Elapsed 0m 0s (remain 10m 14s) Loss: 40.3659(40.3659) Grad: 33.8306  LR: 0.005000  \n",
      "Epoch: [1][100/943] Elapsed 0m 11s (remain 1m 38s) Loss: 9.9094(19.0673) Grad: 10.1909  LR: 0.005000  \n",
      "Epoch: [1][200/943] Elapsed 0m 23s (remain 1m 26s) Loss: 5.2173(13.0902) Grad: 32.6172  LR: 0.005000  \n",
      "Epoch: [1][300/943] Elapsed 0m 34s (remain 1m 12s) Loss: 5.4281(10.3210) Grad: 53.7542  LR: 0.005000  \n",
      "Epoch: [1][400/943] Elapsed 0m 45s (remain 1m 0s) Loss: 4.5999(8.8160) Grad: 28.4809  LR: 0.005000  \n",
      "Epoch: [1][500/943] Elapsed 0m 55s (remain 0m 48s) Loss: 3.7763(7.8312) Grad: 8.3039  LR: 0.005000  \n",
      "Epoch: [1][600/943] Elapsed 1m 5s (remain 0m 37s) Loss: 3.4109(7.1357) Grad: 27.4168  LR: 0.005000  \n",
      "Epoch: [1][700/943] Elapsed 1m 16s (remain 0m 26s) Loss: 3.9672(6.6188) Grad: 54.3884  LR: 0.005000  \n",
      "Epoch: [1][800/943] Elapsed 1m 27s (remain 0m 15s) Loss: 2.9888(6.2394) Grad: 26.1984  LR: 0.005000  \n",
      "Epoch: [1][900/943] Elapsed 1m 38s (remain 0m 4s) Loss: 3.4237(5.9254) Grad: 23.0905  LR: 0.005000  \n",
      "Epoch: [1][942/943] Elapsed 1m 42s (remain 0m 0s) Loss: 3.8660(5.8112) Grad: 28.2182  LR: 0.005000  \n",
      "EVAL: [0/236] Elapsed 0m 0s (remain 2m 6s) Loss: 3.0541(3.0541) \n",
      "EVAL: [100/236] Elapsed 0m 10s (remain 0m 14s) Loss: 3.1940(3.1106) \n",
      "EVAL: [200/236] Elapsed 0m 21s (remain 0m 3s) Loss: 3.1186(3.1077) \n"
     ]
    },
    {
     "name": "stderr",
     "output_type": "stream",
     "text": [
      "Epoch 1 - avg_train_loss: 5.8112  avg_val_loss: 3.1253  time: 127s\n",
      "Epoch 1 - MAE Score (without expiratory phase): 1.3424\n",
      "Epoch 1 - Save Best Score: 1.3424 Model\n"
     ]
    },
    {
     "name": "stdout",
     "output_type": "stream",
     "text": [
      "EVAL: [235/236] Elapsed 0m 24s (remain 0m 0s) Loss: 2.6675(3.1253) \n",
      "Epoch: [2][0/943] Elapsed 0m 0s (remain 10m 48s) Loss: 2.7351(2.7351) Grad: 11.5120  LR: 0.004990  \n",
      "Epoch: [2][100/943] Elapsed 0m 10s (remain 1m 31s) Loss: 3.6732(3.2526) Grad: 44.2011  LR: 0.004990  \n",
      "Epoch: [2][200/943] Elapsed 0m 22s (remain 1m 23s) Loss: 3.7103(3.2733) Grad: 49.2401  LR: 0.004990  \n",
      "Epoch: [2][300/943] Elapsed 0m 33s (remain 1m 10s) Loss: 3.1286(3.2394) Grad: 14.2439  LR: 0.004990  \n",
      "Epoch: [2][400/943] Elapsed 0m 43s (remain 0m 59s) Loss: 3.0220(3.1960) Grad: 8.9514  LR: 0.004990  \n",
      "Epoch: [2][500/943] Elapsed 0m 55s (remain 0m 48s) Loss: 2.4585(3.1709) Grad: 16.6718  LR: 0.004990  \n",
      "Epoch: [2][600/943] Elapsed 1m 5s (remain 0m 37s) Loss: 2.8849(3.1306) Grad: 10.0225  LR: 0.004990  \n",
      "Epoch: [2][700/943] Elapsed 1m 15s (remain 0m 26s) Loss: 3.2468(3.1384) Grad: 11.8507  LR: 0.004990  \n",
      "Epoch: [2][800/943] Elapsed 1m 26s (remain 0m 15s) Loss: 2.3368(3.1077) Grad: 12.1662  LR: 0.004990  \n",
      "Epoch: [2][900/943] Elapsed 1m 37s (remain 0m 4s) Loss: 3.3404(3.0879) Grad: 37.2362  LR: 0.004990  \n",
      "Epoch: [2][942/943] Elapsed 1m 41s (remain 0m 0s) Loss: 3.1057(3.0799) Grad: 41.8820  LR: 0.004990  \n",
      "EVAL: [0/236] Elapsed 0m 0s (remain 2m 18s) Loss: 2.6538(2.6538) \n",
      "EVAL: [100/236] Elapsed 0m 9s (remain 0m 13s) Loss: 2.9798(2.8444) \n",
      "EVAL: [200/236] Elapsed 0m 21s (remain 0m 3s) Loss: 2.6692(2.8428) \n"
     ]
    },
    {
     "name": "stderr",
     "output_type": "stream",
     "text": [
      "Epoch 2 - avg_train_loss: 3.0799  avg_val_loss: 2.8627  time: 125s\n",
      "Epoch 2 - MAE Score (without expiratory phase): 1.2171\n",
      "Epoch 2 - Save Best Score: 1.2171 Model\n"
     ]
    },
    {
     "name": "stdout",
     "output_type": "stream",
     "text": [
      "EVAL: [235/236] Elapsed 0m 23s (remain 0m 0s) Loss: 2.6264(2.8627) \n",
      "Epoch: [3][0/943] Elapsed 0m 0s (remain 10m 6s) Loss: 2.7022(2.7022) Grad: 43.0610  LR: 0.004966  \n",
      "Epoch: [3][100/943] Elapsed 0m 11s (remain 1m 33s) Loss: 2.8790(2.9148) Grad: 28.3552  LR: 0.004966  \n",
      "Epoch: [3][200/943] Elapsed 0m 22s (remain 1m 23s) Loss: 2.7406(2.9023) Grad: 17.7071  LR: 0.004966  \n",
      "Epoch: [3][300/943] Elapsed 0m 33s (remain 1m 11s) Loss: 2.7073(2.8673) Grad: 20.1235  LR: 0.004966  \n",
      "Epoch: [3][400/943] Elapsed 0m 43s (remain 0m 59s) Loss: 2.4932(2.8403) Grad: 19.8048  LR: 0.004966  \n",
      "Epoch: [3][500/943] Elapsed 0m 54s (remain 0m 47s) Loss: 2.7420(2.8262) Grad: 13.0091  LR: 0.004966  \n",
      "Epoch: [3][600/943] Elapsed 1m 5s (remain 0m 37s) Loss: 3.4887(2.8367) Grad: 38.3555  LR: 0.004966  \n",
      "Epoch: [3][700/943] Elapsed 1m 15s (remain 0m 26s) Loss: 2.5537(2.8250) Grad: 17.2538  LR: 0.004966  \n",
      "Epoch: [3][800/943] Elapsed 1m 26s (remain 0m 15s) Loss: 2.5210(2.8070) Grad: 7.5837  LR: 0.004966  \n",
      "Epoch: [3][900/943] Elapsed 1m 36s (remain 0m 4s) Loss: 2.5987(2.7892) Grad: 32.1836  LR: 0.004966  \n",
      "Epoch: [3][942/943] Elapsed 1m 41s (remain 0m 0s) Loss: 2.7237(2.7853) Grad: 8.9551  LR: 0.004966  \n",
      "EVAL: [0/236] Elapsed 0m 0s (remain 2m 22s) Loss: 2.4094(2.4094) \n",
      "EVAL: [100/236] Elapsed 0m 10s (remain 0m 14s) Loss: 2.4538(2.4572) \n",
      "EVAL: [200/236] Elapsed 0m 20s (remain 0m 3s) Loss: 2.6667(2.4408) \n"
     ]
    },
    {
     "name": "stderr",
     "output_type": "stream",
     "text": [
      "Epoch 3 - avg_train_loss: 2.7853  avg_val_loss: 2.4514  time: 126s\n",
      "Epoch 3 - MAE Score (without expiratory phase): 1.0274\n",
      "Epoch 3 - Save Best Score: 1.0274 Model\n"
     ]
    },
    {
     "name": "stdout",
     "output_type": "stream",
     "text": [
      "EVAL: [235/236] Elapsed 0m 24s (remain 0m 0s) Loss: 2.0794(2.4514) \n",
      "Epoch: [4][0/943] Elapsed 0m 0s (remain 9m 18s) Loss: 2.7573(2.7573) Grad: 6.9211  LR: 0.004931  \n",
      "Epoch: [4][100/943] Elapsed 0m 10s (remain 1m 31s) Loss: 2.4889(2.6568) Grad: 15.9750  LR: 0.004931  \n",
      "Epoch: [4][200/943] Elapsed 0m 22s (remain 1m 22s) Loss: 2.3481(2.6712) Grad: 11.8400  LR: 0.004931  \n",
      "Epoch: [4][300/943] Elapsed 0m 33s (remain 1m 10s) Loss: 2.3620(2.6570) Grad: 15.0202  LR: 0.004931  \n",
      "Epoch: [4][400/943] Elapsed 0m 43s (remain 0m 59s) Loss: 3.1827(2.6533) Grad: 10.2827  LR: 0.004931  \n",
      "Epoch: [4][500/943] Elapsed 0m 54s (remain 0m 47s) Loss: 2.9140(2.6630) Grad: 16.8308  LR: 0.004931  \n",
      "Epoch: [4][600/943] Elapsed 1m 5s (remain 0m 37s) Loss: 2.2275(2.6528) Grad: 10.0409  LR: 0.004931  \n",
      "Epoch: [4][700/943] Elapsed 1m 15s (remain 0m 26s) Loss: 2.3499(2.6372) Grad: 8.5642  LR: 0.004931  \n",
      "Epoch: [4][800/943] Elapsed 1m 26s (remain 0m 15s) Loss: 2.3977(2.6265) Grad: 8.0149  LR: 0.004931  \n",
      "Epoch: [4][900/943] Elapsed 1m 37s (remain 0m 4s) Loss: 2.2812(2.6245) Grad: 10.6270  LR: 0.004931  \n",
      "Epoch: [4][942/943] Elapsed 1m 41s (remain 0m 0s) Loss: 2.5306(2.6226) Grad: 8.1367  LR: 0.004931  \n",
      "EVAL: [0/236] Elapsed 0m 0s (remain 2m 23s) Loss: 2.7733(2.7733) \n",
      "EVAL: [100/236] Elapsed 0m 10s (remain 0m 13s) Loss: 2.6341(2.6409) \n",
      "EVAL: [200/236] Elapsed 0m 20s (remain 0m 3s) Loss: 2.7603(2.6334) \n"
     ]
    },
    {
     "name": "stderr",
     "output_type": "stream",
     "text": [
      "Epoch 4 - avg_train_loss: 2.6226  avg_val_loss: 2.6492  time: 125s\n",
      "Epoch 4 - MAE Score (without expiratory phase): 1.1335\n"
     ]
    },
    {
     "name": "stdout",
     "output_type": "stream",
     "text": [
      "EVAL: [235/236] Elapsed 0m 23s (remain 0m 0s) Loss: 2.3294(2.6492) \n",
      "Epoch: [5][0/943] Elapsed 0m 0s (remain 10m 5s) Loss: 2.6643(2.6643) Grad: 28.4333  LR: 0.004887  \n",
      "Epoch: [5][100/943] Elapsed 0m 12s (remain 1m 44s) Loss: 2.4612(2.6977) Grad: 17.0566  LR: 0.004887  \n",
      "Epoch: [5][200/943] Elapsed 0m 23s (remain 1m 25s) Loss: 2.3463(2.6142) Grad: 11.0270  LR: 0.004887  \n",
      "Epoch: [5][300/943] Elapsed 0m 33s (remain 1m 11s) Loss: 2.5520(2.5901) Grad: 29.4738  LR: 0.004887  \n",
      "Epoch: [5][400/943] Elapsed 0m 44s (remain 0m 59s) Loss: 3.0553(2.5646) Grad: 36.7534  LR: 0.004887  \n",
      "Epoch: [5][500/943] Elapsed 0m 54s (remain 0m 48s) Loss: 2.7716(2.5673) Grad: 28.0445  LR: 0.004887  \n",
      "Epoch: [5][600/943] Elapsed 1m 5s (remain 0m 36s) Loss: 2.5067(2.5517) Grad: 28.3465  LR: 0.004887  \n",
      "Epoch: [5][700/943] Elapsed 1m 16s (remain 0m 26s) Loss: 2.7766(2.5515) Grad: 16.9942  LR: 0.004887  \n",
      "Epoch: [5][800/943] Elapsed 1m 26s (remain 0m 15s) Loss: 2.8595(2.5517) Grad: 35.8948  LR: 0.004887  \n",
      "Epoch: [5][900/943] Elapsed 1m 36s (remain 0m 4s) Loss: 2.6113(2.5473) Grad: 17.9338  LR: 0.004887  \n",
      "Epoch: [5][942/943] Elapsed 1m 41s (remain 0m 0s) Loss: 2.5493(2.5409) Grad: 8.6853  LR: 0.004887  \n",
      "EVAL: [0/236] Elapsed 0m 0s (remain 2m 23s) Loss: 2.1515(2.1515) \n",
      "EVAL: [100/236] Elapsed 0m 11s (remain 0m 15s) Loss: 2.2164(2.2163) \n",
      "EVAL: [200/236] Elapsed 0m 21s (remain 0m 3s) Loss: 2.4272(2.2076) \n"
     ]
    },
    {
     "name": "stderr",
     "output_type": "stream",
     "text": [
      "Epoch 5 - avg_train_loss: 2.5409  avg_val_loss: 2.2168  time: 126s\n",
      "Epoch 5 - MAE Score (without expiratory phase): 0.9257\n",
      "Epoch 5 - Save Best Score: 0.9257 Model\n"
     ]
    },
    {
     "name": "stdout",
     "output_type": "stream",
     "text": [
      "EVAL: [235/236] Elapsed 0m 24s (remain 0m 0s) Loss: 2.0702(2.2168) \n"
     ]
    },
    {
     "name": "stderr",
     "output_type": "stream",
     "text": [
      "========== fold: 2 result ==========\n",
      "Score (without expiratory phase): 0.9257\n",
      "========== fold: 3 training ==========\n"
     ]
    },
    {
     "name": "stdout",
     "output_type": "stream",
     "text": [
      "init LSTM(64, 64, batch_first=True, dropout=0.2, bidirectional=True)\n",
      "Epoch: [1][0/943] Elapsed 0m 0s (remain 10m 30s) Loss: 40.8614(40.8614) Grad: 32.3195  LR: 0.005000  \n",
      "Epoch: [1][100/943] Elapsed 0m 11s (remain 1m 38s) Loss: 7.8397(17.4693) Grad: 40.8045  LR: 0.005000  \n",
      "Epoch: [1][200/943] Elapsed 0m 22s (remain 1m 24s) Loss: 4.5073(11.6560) Grad: 22.9606  LR: 0.005000  \n",
      "Epoch: [1][300/943] Elapsed 0m 33s (remain 1m 11s) Loss: 4.1954(9.4008) Grad: 18.5760  LR: 0.005000  \n",
      "Epoch: [1][400/943] Elapsed 0m 44s (remain 1m 0s) Loss: 4.2791(8.1420) Grad: 50.6829  LR: 0.005000  \n",
      "Epoch: [1][500/943] Elapsed 0m 54s (remain 0m 48s) Loss: 4.3734(7.3148) Grad: 11.7299  LR: 0.005000  \n",
      "Epoch: [1][600/943] Elapsed 1m 5s (remain 0m 37s) Loss: 3.4572(6.7393) Grad: 19.6636  LR: 0.005000  \n",
      "Epoch: [1][700/943] Elapsed 1m 16s (remain 0m 26s) Loss: 3.3742(6.3211) Grad: 10.0362  LR: 0.005000  \n",
      "Epoch: [1][800/943] Elapsed 1m 27s (remain 0m 15s) Loss: 3.7329(5.9785) Grad: 25.4719  LR: 0.005000  \n",
      "Epoch: [1][900/943] Elapsed 1m 37s (remain 0m 4s) Loss: 3.4213(5.6909) Grad: 20.7776  LR: 0.005000  \n",
      "Epoch: [1][942/943] Elapsed 1m 41s (remain 0m 0s) Loss: 3.5185(5.5920) Grad: 31.9746  LR: 0.005000  \n",
      "EVAL: [0/236] Elapsed 0m 0s (remain 2m 17s) Loss: 3.5360(3.5360) \n",
      "EVAL: [100/236] Elapsed 0m 10s (remain 0m 14s) Loss: 3.4912(3.4853) \n",
      "EVAL: [200/236] Elapsed 0m 21s (remain 0m 3s) Loss: 3.2135(3.4873) \n"
     ]
    },
    {
     "name": "stderr",
     "output_type": "stream",
     "text": [
      "Epoch 1 - avg_train_loss: 5.5920  avg_val_loss: 3.4808  time: 126s\n",
      "Epoch 1 - MAE Score (without expiratory phase): 1.4954\n",
      "Epoch 1 - Save Best Score: 1.4954 Model\n"
     ]
    },
    {
     "name": "stdout",
     "output_type": "stream",
     "text": [
      "EVAL: [235/236] Elapsed 0m 23s (remain 0m 0s) Loss: 4.1058(3.4808) \n",
      "Epoch: [2][0/943] Elapsed 0m 0s (remain 10m 32s) Loss: 3.5823(3.5823) Grad: 23.0852  LR: 0.004990  \n",
      "Epoch: [2][100/943] Elapsed 0m 10s (remain 1m 31s) Loss: 3.2498(3.2133) Grad: 19.4431  LR: 0.004990  \n",
      "Epoch: [2][200/943] Elapsed 0m 22s (remain 1m 24s) Loss: 3.3427(3.2210) Grad: 18.0541  LR: 0.004990  \n",
      "Epoch: [2][300/943] Elapsed 0m 33s (remain 1m 11s) Loss: 3.1614(3.1903) Grad: 15.8183  LR: 0.004990  \n",
      "Epoch: [2][400/943] Elapsed 0m 43s (remain 0m 59s) Loss: 2.8377(3.1691) Grad: 26.2521  LR: 0.004990  \n",
      "Epoch: [2][500/943] Elapsed 0m 55s (remain 0m 48s) Loss: 3.5561(3.1479) Grad: 32.6106  LR: 0.004990  \n",
      "Epoch: [2][600/943] Elapsed 1m 5s (remain 0m 37s) Loss: 2.5762(3.1281) Grad: 18.0305  LR: 0.004990  \n",
      "Epoch: [2][700/943] Elapsed 1m 15s (remain 0m 26s) Loss: 3.1248(3.1142) Grad: 20.2667  LR: 0.004990  \n",
      "Epoch: [2][800/943] Elapsed 1m 27s (remain 0m 15s) Loss: 2.9937(3.0933) Grad: 21.3481  LR: 0.004990  \n",
      "Epoch: [2][900/943] Elapsed 1m 37s (remain 0m 4s) Loss: 3.3816(3.0724) Grad: 20.2372  LR: 0.004990  \n",
      "Epoch: [2][942/943] Elapsed 1m 41s (remain 0m 0s) Loss: 3.3833(3.0641) Grad: 18.1774  LR: 0.004990  \n",
      "EVAL: [0/236] Elapsed 0m 0s (remain 2m 52s) Loss: 3.0210(3.0210) \n",
      "EVAL: [100/236] Elapsed 0m 10s (remain 0m 13s) Loss: 3.2272(2.9232) \n",
      "EVAL: [200/236] Elapsed 0m 20s (remain 0m 3s) Loss: 2.7925(2.9414) \n"
     ]
    },
    {
     "name": "stderr",
     "output_type": "stream",
     "text": [
      "Epoch 2 - avg_train_loss: 3.0641  avg_val_loss: 2.9401  time: 126s\n",
      "Epoch 2 - MAE Score (without expiratory phase): 1.2536\n",
      "Epoch 2 - Save Best Score: 1.2536 Model\n"
     ]
    },
    {
     "name": "stdout",
     "output_type": "stream",
     "text": [
      "EVAL: [235/236] Elapsed 0m 24s (remain 0m 0s) Loss: 3.2900(2.9401) \n",
      "Epoch: [3][0/943] Elapsed 0m 0s (remain 10m 3s) Loss: 3.1620(3.1620) Grad: 15.3484  LR: 0.004966  \n",
      "Epoch: [3][100/943] Elapsed 0m 11s (remain 1m 32s) Loss: 2.6533(2.8529) Grad: 24.4838  LR: 0.004966  \n",
      "Epoch: [3][200/943] Elapsed 0m 23s (remain 1m 25s) Loss: 2.1057(2.8453) Grad: 20.3573  LR: 0.004966  \n",
      "Epoch: [3][300/943] Elapsed 0m 33s (remain 1m 11s) Loss: 2.9326(2.9180) Grad: 26.3414  LR: 0.004966  \n",
      "Epoch: [3][400/943] Elapsed 0m 43s (remain 0m 59s) Loss: 2.8233(2.9133) Grad: 10.6577  LR: 0.004966  \n",
      "Epoch: [3][500/943] Elapsed 0m 54s (remain 0m 48s) Loss: 2.7080(2.8706) Grad: 16.8522  LR: 0.004966  \n",
      "Epoch: [3][600/943] Elapsed 1m 5s (remain 0m 37s) Loss: 2.4667(2.8681) Grad: 12.9961  LR: 0.004966  \n",
      "Epoch: [3][700/943] Elapsed 1m 16s (remain 0m 26s) Loss: 2.6202(2.8621) Grad: 25.8211  LR: 0.004966  \n",
      "Epoch: [3][800/943] Elapsed 1m 27s (remain 0m 15s) Loss: 2.7592(2.8550) Grad: 19.8654  LR: 0.004966  \n",
      "Epoch: [3][900/943] Elapsed 1m 37s (remain 0m 4s) Loss: 2.7711(2.8323) Grad: 12.2607  LR: 0.004966  \n",
      "Epoch: [3][942/943] Elapsed 1m 41s (remain 0m 0s) Loss: 2.7121(2.8270) Grad: 16.2466  LR: 0.004966  \n",
      "EVAL: [0/236] Elapsed 0m 0s (remain 2m 31s) Loss: 2.7924(2.7924) \n",
      "EVAL: [100/236] Elapsed 0m 9s (remain 0m 13s) Loss: 2.4873(2.4419) \n",
      "EVAL: [200/236] Elapsed 0m 21s (remain 0m 3s) Loss: 2.1780(2.4754) \n"
     ]
    },
    {
     "name": "stderr",
     "output_type": "stream",
     "text": [
      "Epoch 3 - avg_train_loss: 2.8270  avg_val_loss: 2.4716  time: 126s\n",
      "Epoch 3 - MAE Score (without expiratory phase): 1.0498\n",
      "Epoch 3 - Save Best Score: 1.0498 Model\n"
     ]
    },
    {
     "name": "stdout",
     "output_type": "stream",
     "text": [
      "EVAL: [235/236] Elapsed 0m 23s (remain 0m 0s) Loss: 2.8321(2.4716) \n",
      "Epoch: [4][0/943] Elapsed 0m 0s (remain 9m 4s) Loss: 2.6478(2.6478) Grad: 14.6373  LR: 0.004931  \n",
      "Epoch: [4][100/943] Elapsed 0m 12s (remain 1m 40s) Loss: 2.5790(2.6054) Grad: 9.7972  LR: 0.004931  \n",
      "Epoch: [4][200/943] Elapsed 0m 22s (remain 1m 22s) Loss: 2.4494(2.6180) Grad: 12.2104  LR: 0.004931  \n",
      "Epoch: [4][300/943] Elapsed 0m 33s (remain 1m 11s) Loss: 2.4972(2.6143) Grad: 11.6798  LR: 0.004931  \n",
      "Epoch: [4][400/943] Elapsed 0m 44s (remain 0m 59s) Loss: 2.6530(2.6128) Grad: 13.0437  LR: 0.004931  \n",
      "Epoch: [4][500/943] Elapsed 0m 54s (remain 0m 47s) Loss: 2.8162(2.6159) Grad: 25.3357  LR: 0.004931  \n",
      "Epoch: [4][600/943] Elapsed 1m 5s (remain 0m 37s) Loss: 3.5575(2.6259) Grad: 37.6539  LR: 0.004931  \n",
      "Epoch: [4][700/943] Elapsed 1m 16s (remain 0m 26s) Loss: 2.7270(2.6299) Grad: 40.5064  LR: 0.004931  \n",
      "Epoch: [4][800/943] Elapsed 1m 26s (remain 0m 15s) Loss: 2.6503(2.6472) Grad: 12.3100  LR: 0.004931  \n",
      "Epoch: [4][900/943] Elapsed 1m 36s (remain 0m 4s) Loss: 2.4660(2.6431) Grad: 8.9332  LR: 0.004931  \n",
      "Epoch: [4][942/943] Elapsed 1m 41s (remain 0m 0s) Loss: 2.7116(2.6425) Grad: 17.8405  LR: 0.004931  \n",
      "EVAL: [0/236] Elapsed 0m 0s (remain 2m 29s) Loss: 2.8150(2.8150) \n",
      "EVAL: [100/236] Elapsed 0m 10s (remain 0m 14s) Loss: 2.5767(2.5711) \n",
      "EVAL: [200/236] Elapsed 0m 20s (remain 0m 3s) Loss: 2.6379(2.6053) \n"
     ]
    },
    {
     "name": "stderr",
     "output_type": "stream",
     "text": [
      "Epoch 4 - avg_train_loss: 2.6425  avg_val_loss: 2.5953  time: 126s\n",
      "Epoch 4 - MAE Score (without expiratory phase): 1.0983\n"
     ]
    },
    {
     "name": "stdout",
     "output_type": "stream",
     "text": [
      "EVAL: [235/236] Elapsed 0m 23s (remain 0m 0s) Loss: 2.8859(2.5953) \n",
      "Epoch: [5][0/943] Elapsed 0m 0s (remain 11m 21s) Loss: 2.5154(2.5154) Grad: 30.1799  LR: 0.004887  \n",
      "Epoch: [5][100/943] Elapsed 0m 12s (remain 1m 45s) Loss: 2.5617(2.5423) Grad: 11.7660  LR: 0.004887  \n",
      "Epoch: [5][200/943] Elapsed 0m 23s (remain 1m 26s) Loss: 2.4699(2.5439) Grad: 31.0948  LR: 0.004887  \n",
      "Epoch: [5][300/943] Elapsed 0m 33s (remain 1m 11s) Loss: 2.1928(2.5321) Grad: 25.3837  LR: 0.004887  \n",
      "Epoch: [5][400/943] Elapsed 0m 44s (remain 1m 0s) Loss: 2.2731(2.5324) Grad: 18.1882  LR: 0.004887  \n",
      "Epoch: [5][500/943] Elapsed 0m 55s (remain 0m 48s) Loss: 2.6261(2.5292) Grad: 17.7375  LR: 0.004887  \n",
      "Epoch: [5][600/943] Elapsed 1m 5s (remain 0m 37s) Loss: 2.4684(2.5170) Grad: 11.1591  LR: 0.004887  \n",
      "Epoch: [5][700/943] Elapsed 1m 15s (remain 0m 26s) Loss: 2.7410(2.5051) Grad: 30.6838  LR: 0.004887  \n",
      "Epoch: [5][800/943] Elapsed 1m 26s (remain 0m 15s) Loss: 2.6664(2.4972) Grad: 19.1778  LR: 0.004887  \n",
      "Epoch: [5][900/943] Elapsed 1m 37s (remain 0m 4s) Loss: 2.7964(2.4969) Grad: 40.0713  LR: 0.004887  \n",
      "Epoch: [5][942/943] Elapsed 1m 41s (remain 0m 0s) Loss: 2.8783(2.4997) Grad: 27.1932  LR: 0.004887  \n",
      "EVAL: [0/236] Elapsed 0m 0s (remain 2m 10s) Loss: 2.6447(2.6447) \n",
      "EVAL: [100/236] Elapsed 0m 11s (remain 0m 15s) Loss: 2.2148(2.3322) \n",
      "EVAL: [200/236] Elapsed 0m 21s (remain 0m 3s) Loss: 2.3214(2.3651) \n"
     ]
    },
    {
     "name": "stderr",
     "output_type": "stream",
     "text": [
      "Epoch 5 - avg_train_loss: 2.4997  avg_val_loss: 2.3587  time: 126s\n",
      "Epoch 5 - MAE Score (without expiratory phase): 0.9921\n",
      "Epoch 5 - Save Best Score: 0.9921 Model\n"
     ]
    },
    {
     "name": "stdout",
     "output_type": "stream",
     "text": [
      "EVAL: [235/236] Elapsed 0m 24s (remain 0m 0s) Loss: 2.3581(2.3587) \n"
     ]
    },
    {
     "name": "stderr",
     "output_type": "stream",
     "text": [
      "========== fold: 3 result ==========\n",
      "Score (without expiratory phase): 0.9921\n",
      "========== fold: 4 training ==========\n"
     ]
    },
    {
     "name": "stdout",
     "output_type": "stream",
     "text": [
      "init LSTM(64, 64, batch_first=True, dropout=0.2, bidirectional=True)\n",
      "Epoch: [1][0/943] Elapsed 0m 0s (remain 9m 39s) Loss: 45.2979(45.2979) Grad: 33.4780  LR: 0.005000  \n",
      "Epoch: [1][100/943] Elapsed 0m 10s (remain 1m 31s) Loss: 8.3300(18.4581) Grad: 12.5603  LR: 0.005000  \n",
      "Epoch: [1][200/943] Elapsed 0m 22s (remain 1m 24s) Loss: 4.9874(12.4495) Grad: 19.5431  LR: 0.005000  \n",
      "Epoch: [1][300/943] Elapsed 0m 33s (remain 1m 12s) Loss: 4.1149(9.8848) Grad: 10.5619  LR: 0.005000  \n",
      "Epoch: [1][400/943] Elapsed 0m 44s (remain 0m 59s) Loss: 3.7940(8.4450) Grad: 9.8220  LR: 0.005000  \n",
      "Epoch: [1][500/943] Elapsed 0m 55s (remain 0m 48s) Loss: 3.9558(7.5059) Grad: 39.0615  LR: 0.005000  \n",
      "Epoch: [1][600/943] Elapsed 1m 5s (remain 0m 37s) Loss: 3.9673(6.8633) Grad: 36.3460  LR: 0.005000  \n",
      "Epoch: [1][700/943] Elapsed 1m 16s (remain 0m 26s) Loss: 3.5602(6.3792) Grad: 23.1641  LR: 0.005000  \n",
      "Epoch: [1][800/943] Elapsed 1m 27s (remain 0m 15s) Loss: 3.7105(5.9927) Grad: 29.0031  LR: 0.005000  \n",
      "Epoch: [1][900/943] Elapsed 1m 37s (remain 0m 4s) Loss: 2.9156(5.6928) Grad: 9.0125  LR: 0.005000  \n",
      "Epoch: [1][942/943] Elapsed 1m 41s (remain 0m 0s) Loss: 3.5016(5.5815) Grad: 20.7085  LR: 0.005000  \n",
      "EVAL: [0/236] Elapsed 0m 0s (remain 1m 59s) Loss: 3.0697(3.0697) \n",
      "EVAL: [100/236] Elapsed 0m 10s (remain 0m 13s) Loss: 3.2656(3.0890) \n",
      "EVAL: [200/236] Elapsed 0m 20s (remain 0m 3s) Loss: 3.0962(3.0853) \n"
     ]
    },
    {
     "name": "stderr",
     "output_type": "stream",
     "text": [
      "Epoch 1 - avg_train_loss: 5.5815  avg_val_loss: 3.0936  time: 126s\n",
      "Epoch 1 - MAE Score (without expiratory phase): 1.2603\n",
      "Epoch 1 - Save Best Score: 1.2603 Model\n"
     ]
    },
    {
     "name": "stdout",
     "output_type": "stream",
     "text": [
      "EVAL: [235/236] Elapsed 0m 24s (remain 0m 0s) Loss: 3.0538(3.0936) \n",
      "Epoch: [2][0/943] Elapsed 0m 0s (remain 9m 18s) Loss: 2.9929(2.9929) Grad: 39.3981  LR: 0.004990  \n",
      "Epoch: [2][100/943] Elapsed 0m 11s (remain 1m 33s) Loss: 3.0045(3.2324) Grad: 13.4152  LR: 0.004990  \n",
      "Epoch: [2][200/943] Elapsed 0m 22s (remain 1m 24s) Loss: 2.4455(3.1504) Grad: 17.1731  LR: 0.004990  \n",
      "Epoch: [2][300/943] Elapsed 0m 33s (remain 1m 11s) Loss: 2.8837(3.1079) Grad: 11.4147  LR: 0.004990  \n",
      "Epoch: [2][400/943] Elapsed 0m 43s (remain 0m 59s) Loss: 2.9748(3.0857) Grad: 8.7173  LR: 0.004990  \n",
      "Epoch: [2][500/943] Elapsed 0m 54s (remain 0m 48s) Loss: 3.4812(3.0729) Grad: 21.0250  LR: 0.004990  \n",
      "Epoch: [2][600/943] Elapsed 1m 5s (remain 0m 37s) Loss: 2.7457(3.0592) Grad: 33.9956  LR: 0.004990  \n",
      "Epoch: [2][700/943] Elapsed 1m 15s (remain 0m 26s) Loss: 2.8470(3.0675) Grad: 12.8584  LR: 0.004990  \n",
      "Epoch: [2][800/943] Elapsed 1m 26s (remain 0m 15s) Loss: 3.0329(3.0427) Grad: 9.0099  LR: 0.004990  \n",
      "Epoch: [2][900/943] Elapsed 1m 37s (remain 0m 4s) Loss: 2.6187(3.0345) Grad: 17.7010  LR: 0.004990  \n",
      "Epoch: [2][942/943] Elapsed 1m 41s (remain 0m 0s) Loss: 3.0058(3.0284) Grad: 26.5442  LR: 0.004990  \n",
      "EVAL: [0/236] Elapsed 0m 0s (remain 2m 24s) Loss: 2.6137(2.6137) \n",
      "EVAL: [100/236] Elapsed 0m 9s (remain 0m 13s) Loss: 2.5048(2.6256) \n",
      "EVAL: [200/236] Elapsed 0m 20s (remain 0m 3s) Loss: 2.6236(2.6196) \n"
     ]
    },
    {
     "name": "stderr",
     "output_type": "stream",
     "text": [
      "Epoch 2 - avg_train_loss: 3.0284  avg_val_loss: 2.6270  time: 125s\n",
      "Epoch 2 - MAE Score (without expiratory phase): 1.1149\n",
      "Epoch 2 - Save Best Score: 1.1149 Model\n"
     ]
    },
    {
     "name": "stdout",
     "output_type": "stream",
     "text": [
      "EVAL: [235/236] Elapsed 0m 23s (remain 0m 0s) Loss: 2.4716(2.6270) \n",
      "Epoch: [3][0/943] Elapsed 0m 0s (remain 8m 16s) Loss: 2.5551(2.5551) Grad: 14.3170  LR: 0.004966  \n",
      "Epoch: [3][100/943] Elapsed 0m 11s (remain 1m 32s) Loss: 2.8863(2.8120) Grad: 32.5278  LR: 0.004966  \n",
      "Epoch: [3][200/943] Elapsed 0m 22s (remain 1m 23s) Loss: 2.9890(2.8225) Grad: 30.2722  LR: 0.004966  \n",
      "Epoch: [3][300/943] Elapsed 0m 33s (remain 1m 11s) Loss: 2.9844(2.8052) Grad: 21.1047  LR: 0.004966  \n",
      "Epoch: [3][400/943] Elapsed 0m 43s (remain 0m 59s) Loss: 2.9264(2.8052) Grad: 21.2567  LR: 0.004966  \n",
      "Epoch: [3][500/943] Elapsed 0m 54s (remain 0m 48s) Loss: 2.3083(2.8027) Grad: 15.2262  LR: 0.004966  \n",
      "Epoch: [3][600/943] Elapsed 1m 6s (remain 0m 37s) Loss: 2.4285(2.7872) Grad: 19.5380  LR: 0.004966  \n",
      "Epoch: [3][700/943] Elapsed 1m 16s (remain 0m 26s) Loss: 3.0981(2.7740) Grad: 11.8148  LR: 0.004966  \n",
      "Epoch: [3][800/943] Elapsed 1m 27s (remain 0m 15s) Loss: 2.2851(2.7623) Grad: 13.7010  LR: 0.004966  \n",
      "Epoch: [3][900/943] Elapsed 1m 38s (remain 0m 4s) Loss: 3.0563(2.7536) Grad: 25.1082  LR: 0.004966  \n",
      "Epoch: [3][942/943] Elapsed 1m 42s (remain 0m 0s) Loss: 2.6746(2.7549) Grad: 26.6337  LR: 0.004966  \n",
      "EVAL: [0/236] Elapsed 0m 0s (remain 2m 32s) Loss: 2.5758(2.5758) \n",
      "EVAL: [100/236] Elapsed 0m 10s (remain 0m 14s) Loss: 2.3774(2.4867) \n",
      "EVAL: [200/236] Elapsed 0m 20s (remain 0m 3s) Loss: 2.7211(2.4787) \n"
     ]
    },
    {
     "name": "stderr",
     "output_type": "stream",
     "text": [
      "Epoch 3 - avg_train_loss: 2.7549  avg_val_loss: 2.4813  time: 127s\n",
      "Epoch 3 - MAE Score (without expiratory phase): 1.0547\n",
      "Epoch 3 - Save Best Score: 1.0547 Model\n"
     ]
    },
    {
     "name": "stdout",
     "output_type": "stream",
     "text": [
      "EVAL: [235/236] Elapsed 0m 23s (remain 0m 0s) Loss: 2.2473(2.4813) \n",
      "Epoch: [4][0/943] Elapsed 0m 0s (remain 7m 52s) Loss: 2.9002(2.9002) Grad: 16.9299  LR: 0.004931  \n",
      "Epoch: [4][100/943] Elapsed 0m 11s (remain 1m 39s) Loss: 2.5169(2.8339) Grad: 22.1742  LR: 0.004931  \n",
      "Epoch: [4][200/943] Elapsed 0m 22s (remain 1m 22s) Loss: 2.2416(2.7149) Grad: 19.7739  LR: 0.004931  \n",
      "Epoch: [4][300/943] Elapsed 0m 33s (remain 1m 11s) Loss: 2.6376(2.6780) Grad: 12.8748  LR: 0.004931  \n",
      "Epoch: [4][400/943] Elapsed 0m 44s (remain 1m 0s) Loss: 2.5663(2.6679) Grad: 21.2126  LR: 0.004931  \n",
      "Epoch: [4][500/943] Elapsed 0m 54s (remain 0m 48s) Loss: 2.2725(2.6444) Grad: 18.0391  LR: 0.004931  \n",
      "Epoch: [4][600/943] Elapsed 1m 5s (remain 0m 37s) Loss: 2.6521(2.6178) Grad: 11.5431  LR: 0.004931  \n",
      "Epoch: [4][700/943] Elapsed 1m 16s (remain 0m 26s) Loss: 2.5078(2.6126) Grad: 15.7859  LR: 0.004931  \n",
      "Epoch: [4][800/943] Elapsed 1m 27s (remain 0m 15s) Loss: 2.7093(2.6066) Grad: 25.4587  LR: 0.004931  \n",
      "Epoch: [4][900/943] Elapsed 1m 38s (remain 0m 4s) Loss: 2.6464(2.6021) Grad: 14.7322  LR: 0.004931  \n",
      "Epoch: [4][942/943] Elapsed 1m 42s (remain 0m 0s) Loss: 2.4434(2.5983) Grad: 12.3002  LR: 0.004931  \n",
      "EVAL: [0/236] Elapsed 0m 0s (remain 2m 19s) Loss: 2.1728(2.1728) \n",
      "EVAL: [100/236] Elapsed 0m 10s (remain 0m 14s) Loss: 2.3433(2.2624) \n",
      "EVAL: [200/236] Elapsed 0m 20s (remain 0m 3s) Loss: 2.4205(2.2500) \n"
     ]
    },
    {
     "name": "stderr",
     "output_type": "stream",
     "text": [
      "Epoch 4 - avg_train_loss: 2.5983  avg_val_loss: 2.2532  time: 126s\n",
      "Epoch 4 - MAE Score (without expiratory phase): 0.9496\n",
      "Epoch 4 - Save Best Score: 0.9496 Model\n"
     ]
    },
    {
     "name": "stdout",
     "output_type": "stream",
     "text": [
      "EVAL: [235/236] Elapsed 0m 23s (remain 0m 0s) Loss: 2.1690(2.2532) \n",
      "Epoch: [5][0/943] Elapsed 0m 0s (remain 13m 56s) Loss: 2.4709(2.4709) Grad: 8.5562  LR: 0.004887  \n",
      "Epoch: [5][100/943] Elapsed 0m 12s (remain 1m 45s) Loss: 2.1963(2.5628) Grad: 16.4069  LR: 0.004887  \n",
      "Epoch: [5][200/943] Elapsed 0m 22s (remain 1m 23s) Loss: 2.2740(2.5800) Grad: 14.0986  LR: 0.004887  \n",
      "Epoch: [5][300/943] Elapsed 0m 33s (remain 1m 12s) Loss: 2.3301(2.5595) Grad: 14.4126  LR: 0.004887  \n",
      "Epoch: [5][400/943] Elapsed 0m 44s (remain 0m 59s) Loss: 2.3990(2.5247) Grad: 15.3122  LR: 0.004887  \n",
      "Epoch: [5][500/943] Elapsed 0m 55s (remain 0m 48s) Loss: 2.5839(2.5208) Grad: 14.3186  LR: 0.004887  \n",
      "Epoch: [5][600/943] Elapsed 1m 5s (remain 0m 37s) Loss: 3.0134(2.5096) Grad: 23.8546  LR: 0.004887  \n",
      "Epoch: [5][700/943] Elapsed 1m 16s (remain 0m 26s) Loss: 2.7673(2.5045) Grad: 27.0054  LR: 0.004887  \n",
      "Epoch: [5][800/943] Elapsed 1m 26s (remain 0m 15s) Loss: 2.5663(2.4987) Grad: 10.9596  LR: 0.004887  \n",
      "Epoch: [5][900/943] Elapsed 1m 37s (remain 0m 4s) Loss: 2.7366(2.4983) Grad: 23.0687  LR: 0.004887  \n",
      "Epoch: [5][942/943] Elapsed 1m 41s (remain 0m 0s) Loss: 2.3198(2.4963) Grad: 15.1147  LR: 0.004887  \n",
      "EVAL: [0/236] Elapsed 0m 0s (remain 2m 49s) Loss: 2.2220(2.2220) \n",
      "EVAL: [100/236] Elapsed 0m 10s (remain 0m 14s) Loss: 2.2584(2.2610) \n",
      "EVAL: [200/236] Elapsed 0m 20s (remain 0m 3s) Loss: 2.4466(2.2520) \n"
     ]
    },
    {
     "name": "stderr",
     "output_type": "stream",
     "text": [
      "Epoch 5 - avg_train_loss: 2.4963  avg_val_loss: 2.2549  time: 125s\n",
      "Epoch 5 - MAE Score (without expiratory phase): 0.9506\n"
     ]
    },
    {
     "name": "stdout",
     "output_type": "stream",
     "text": [
      "EVAL: [235/236] Elapsed 0m 23s (remain 0m 0s) Loss: 2.1334(2.2549) \n"
     ]
    },
    {
     "name": "stderr",
     "output_type": "stream",
     "text": [
      "========== fold: 4 result ==========\n",
      "Score (without expiratory phase): 0.9496\n",
      "========== CV ==========\n",
      "Score (without expiratory phase): 1.0553\n"
     ]
    },
    {
     "name": "stdout",
     "output_type": "stream",
     "text": [
      "init LSTM(64, 64, batch_first=True, dropout=0.2, bidirectional=True)\n"
     ]
    },
    {
     "data": {
      "application/vnd.jupyter.widget-view+json": {
       "model_id": "3ebb64e693af418289ff7b4d55c7494b",
       "version_major": 2,
       "version_minor": 0
      },
      "text/plain": [
       "  0%|          | 0/393 [00:00<?, ?it/s]"
      ]
     },
     "metadata": {},
     "output_type": "display_data"
    },
    {
     "name": "stdout",
     "output_type": "stream",
     "text": [
      "init LSTM(64, 64, batch_first=True, dropout=0.2, bidirectional=True)\n"
     ]
    },
    {
     "data": {
      "application/vnd.jupyter.widget-view+json": {
       "model_id": "841ac50ce1704f6d94335f5c43055184",
       "version_major": 2,
       "version_minor": 0
      },
      "text/plain": [
       "  0%|          | 0/393 [00:00<?, ?it/s]"
      ]
     },
     "metadata": {},
     "output_type": "display_data"
    },
    {
     "name": "stdout",
     "output_type": "stream",
     "text": [
      "init LSTM(64, 64, batch_first=True, dropout=0.2, bidirectional=True)\n"
     ]
    },
    {
     "data": {
      "application/vnd.jupyter.widget-view+json": {
       "model_id": "b3420f7a2758485e9f616d519a34b0d8",
       "version_major": 2,
       "version_minor": 0
      },
      "text/plain": [
       "  0%|          | 0/393 [00:00<?, ?it/s]"
      ]
     },
     "metadata": {},
     "output_type": "display_data"
    },
    {
     "name": "stdout",
     "output_type": "stream",
     "text": [
      "init LSTM(64, 64, batch_first=True, dropout=0.2, bidirectional=True)\n"
     ]
    },
    {
     "data": {
      "application/vnd.jupyter.widget-view+json": {
       "model_id": "181d585551b24aa1bec76661a9c15574",
       "version_major": 2,
       "version_minor": 0
      },
      "text/plain": [
       "  0%|          | 0/393 [00:00<?, ?it/s]"
      ]
     },
     "metadata": {},
     "output_type": "display_data"
    },
    {
     "name": "stdout",
     "output_type": "stream",
     "text": [
      "init LSTM(64, 64, batch_first=True, dropout=0.2, bidirectional=True)\n"
     ]
    },
    {
     "data": {
      "application/vnd.jupyter.widget-view+json": {
       "model_id": "e25e4320abef49aea44e5341a1c46de3",
       "version_major": 2,
       "version_minor": 0
      },
      "text/plain": [
       "  0%|          | 0/393 [00:00<?, ?it/s]"
      ]
     },
     "metadata": {},
     "output_type": "display_data"
    },
    {
     "data": {
      "text/html": [
       "<br/>Waiting for W&B process to finish, PID 59<br/>Program ended successfully."
      ],
      "text/plain": [
       "<IPython.core.display.HTML object>"
      ]
     },
     "metadata": {},
     "output_type": "display_data"
    },
    {
     "data": {
      "application/vnd.jupyter.widget-view+json": {
       "model_id": "65b5a2a64f814b19b4964e0d5e4f5802",
       "version_major": 2,
       "version_minor": 0
      },
      "text/plain": [
       "VBox(children=(Label(value=' 0.00MB of 0.00MB uploaded (0.00MB deduped)\\r'), FloatProgress(value=1.0, max=1.0)…"
      ]
     },
     "metadata": {},
     "output_type": "display_data"
    },
    {
     "data": {
      "text/html": [
       "Find user logs for this run at: <code>/kaggle/working/wandb/run-20211001_155140-3tgz559a/logs/debug.log</code>"
      ],
      "text/plain": [
       "<IPython.core.display.HTML object>"
      ]
     },
     "metadata": {},
     "output_type": "display_data"
    },
    {
     "data": {
      "text/html": [
       "Find internal logs for this run at: <code>/kaggle/working/wandb/run-20211001_155140-3tgz559a/logs/debug-internal.log</code>"
      ],
      "text/plain": [
       "<IPython.core.display.HTML object>"
      ]
     },
     "metadata": {},
     "output_type": "display_data"
    },
    {
     "data": {
      "text/html": [
       "<h3>Run summary:</h3><br/><style>\n",
       "    table.wandb td:nth-child(1) { padding: 0 10px; text-align: right }\n",
       "    </style><table class=\"wandb\">\n",
       "<tr><td>[fold0] loss</td><td>2.72262</td></tr><tr><td>[fold0] lr</td><td>0.00489</td></tr><tr><td>_runtime</td><td>3172</td></tr><tr><td>_timestamp</td><td>1633106672</td></tr><tr><td>_step</td><td>23599</td></tr><tr><td>[fold0] epoch</td><td>5</td></tr><tr><td>[fold0] avg_train_loss</td><td>2.46165</td></tr><tr><td>[fold0] avg_val_loss</td><td>2.4972</td></tr><tr><td>[fold0] score</td><td>1.07109</td></tr><tr><td>[fold1] loss</td><td>2.25319</td></tr><tr><td>[fold1] lr</td><td>0.00489</td></tr><tr><td>[fold1] epoch</td><td>5</td></tr><tr><td>[fold1] avg_train_loss</td><td>2.5038</td></tr><tr><td>[fold1] avg_val_loss</td><td>2.09803</td></tr><tr><td>[fold1] score</td><td>0.86571</td></tr><tr><td>[fold2] loss</td><td>2.54934</td></tr><tr><td>[fold2] lr</td><td>0.00489</td></tr><tr><td>[fold2] epoch</td><td>5</td></tr><tr><td>[fold2] avg_train_loss</td><td>2.54092</td></tr><tr><td>[fold2] avg_val_loss</td><td>2.21683</td></tr><tr><td>[fold2] score</td><td>0.92566</td></tr><tr><td>[fold3] loss</td><td>2.87829</td></tr><tr><td>[fold3] lr</td><td>0.00489</td></tr><tr><td>[fold3] epoch</td><td>5</td></tr><tr><td>[fold3] avg_train_loss</td><td>2.49969</td></tr><tr><td>[fold3] avg_val_loss</td><td>2.35866</td></tr><tr><td>[fold3] score</td><td>0.99215</td></tr><tr><td>[fold4] loss</td><td>2.31976</td></tr><tr><td>[fold4] lr</td><td>0.00489</td></tr><tr><td>[fold4] epoch</td><td>5</td></tr><tr><td>[fold4] avg_train_loss</td><td>2.49631</td></tr><tr><td>[fold4] avg_val_loss</td><td>2.25491</td></tr><tr><td>[fold4] score</td><td>0.95061</td></tr></table>"
      ],
      "text/plain": [
       "<IPython.core.display.HTML object>"
      ]
     },
     "metadata": {},
     "output_type": "display_data"
    },
    {
     "data": {
      "text/html": [
       "<h3>Run history:</h3><br/><style>\n",
       "    table.wandb td:nth-child(1) { padding: 0 10px; text-align: right }\n",
       "    </style><table class=\"wandb\">\n",
       "<tr><td>[fold0] loss</td><td>█▃▂▂▂▂▂▂▂▂▁▁▁▂▁▁▁▁▁▁▂▁▁▁▁▁▁▁▁▁▁▁▁▂▁▁▁▁▁▁</td></tr><tr><td>[fold0] lr</td><td>████████▇▇▇▇▇▇▇▇▆▆▆▆▆▆▆▆▄▄▄▄▄▄▄▄▁▁▁▁▁▁▁▁</td></tr><tr><td>_runtime</td><td>▁▁▁▂▂▂▂▂▂▃▃▃▃▃▃▄▄▄▄▄▅▅▅▅▅▅▆▆▆▆▆▇▇▇▇▇████</td></tr><tr><td>_timestamp</td><td>▁▁▁▂▂▂▂▂▂▃▃▃▃▃▃▄▄▄▄▄▅▅▅▅▅▅▆▆▆▆▆▇▇▇▇▇████</td></tr><tr><td>_step</td><td>▁▁▁▂▂▂▂▂▂▃▃▃▃▃▃▄▄▄▄▄▅▅▅▅▅▅▆▆▆▆▆▇▇▇▇▇▇███</td></tr><tr><td>[fold0] epoch</td><td>▁▃▅▆█</td></tr><tr><td>[fold0] avg_train_loss</td><td>█▂▂▁▁</td></tr><tr><td>[fold0] avg_val_loss</td><td>█▁▂▁▁</td></tr><tr><td>[fold0] score</td><td>█▁▂▁▂</td></tr><tr><td>[fold1] loss</td><td>█▄▂▂▂▂▁▂▂▁▂▁▂▂▁▁▂▂▂▁▁▁▁▁▁▂▂▁▁▁▁▁▁▁▂▁▁▁▁▁</td></tr><tr><td>[fold1] lr</td><td>████████▇▇▇▇▇▇▇▇▆▆▆▆▆▆▆▆▄▄▄▄▄▄▄▄▁▁▁▁▁▁▁▁</td></tr><tr><td>[fold1] epoch</td><td>▁▃▅▆█</td></tr><tr><td>[fold1] avg_train_loss</td><td>█▂▂▁▁</td></tr><tr><td>[fold1] avg_val_loss</td><td>▇▄█▃▁</td></tr><tr><td>[fold1] score</td><td>▇▅█▃▁</td></tr><tr><td>[fold2] loss</td><td>█▃▃▂▂▂▂▂▂▂▁▁▁▂▁▂▁▂▁▂▁▂▁▁▁▁▁▁▁▁▁▁▁▁▁▁▁▁▂▁</td></tr><tr><td>[fold2] lr</td><td>████████▇▇▇▇▇▇▇▇▆▆▆▆▆▆▆▆▄▄▄▄▄▄▄▄▁▁▁▁▁▁▁▁</td></tr><tr><td>[fold2] epoch</td><td>▁▃▅▆█</td></tr><tr><td>[fold2] avg_train_loss</td><td>█▂▂▁▁</td></tr><tr><td>[fold2] avg_val_loss</td><td>█▆▃▄▁</td></tr><tr><td>[fold2] score</td><td>█▆▃▄▁</td></tr><tr><td>[fold3] loss</td><td>█▃▂▂▂▂▂▂▂▂▁▁▂▂▁▂▂▁▂▁▂▁▁▁▁▁▁▁▁▁▁▂▁▁▁▁▁▁▁▁</td></tr><tr><td>[fold3] lr</td><td>████████▇▇▇▇▇▇▇▇▆▆▆▆▆▆▆▆▄▄▄▄▄▄▄▄▁▁▁▁▁▁▁▁</td></tr><tr><td>[fold3] epoch</td><td>▁▃▅▆█</td></tr><tr><td>[fold3] avg_train_loss</td><td>█▂▂▁▁</td></tr><tr><td>[fold3] avg_val_loss</td><td>█▅▂▂▁</td></tr><tr><td>[fold3] score</td><td>█▅▂▂▁</td></tr><tr><td>[fold4] loss</td><td>█▄▃▂▂▂▂▁▂▂▁▁▁▂▁▂▂▂▁▁▁▁▁▁▂▁▁▁▁▁▁▁▂▁▁▁▁▁▁▁</td></tr><tr><td>[fold4] lr</td><td>████████▇▇▇▇▇▇▇▇▆▆▆▆▆▆▆▆▄▄▄▄▄▄▄▄▁▁▁▁▁▁▁▁</td></tr><tr><td>[fold4] epoch</td><td>▁▃▅▆█</td></tr><tr><td>[fold4] avg_train_loss</td><td>█▂▂▁▁</td></tr><tr><td>[fold4] avg_val_loss</td><td>█▄▃▁▁</td></tr><tr><td>[fold4] score</td><td>█▅▃▁▁</td></tr></table><br/>"
      ],
      "text/plain": [
       "<IPython.core.display.HTML object>"
      ]
     },
     "metadata": {},
     "output_type": "display_data"
    },
    {
     "data": {
      "text/html": [
       "Synced 5 W&B file(s), 0 media file(s), 0 artifact file(s) and 0 other file(s)"
      ],
      "text/plain": [
       "<IPython.core.display.HTML object>"
      ]
     },
     "metadata": {},
     "output_type": "display_data"
    },
    {
     "data": {
      "text/html": [
       "\n",
       "                    <br/>Synced <strong style=\"color:#cdcd00\">rnn</strong>: <a href=\"https://wandb.ai/anony-moose-140327/Ventilator-Pressure-Public/runs/3tgz559a?apiKey=7b74b0ca856f827705aaf9f81a53888eb39f2e1d\" target=\"_blank\">https://wandb.ai/anony-moose-140327/Ventilator-Pressure-Public/runs/3tgz559a?apiKey=7b74b0ca856f827705aaf9f81a53888eb39f2e1d</a><br/>\n",
       "                "
      ],
      "text/plain": [
       "<IPython.core.display.HTML object>"
      ]
     },
     "metadata": {},
     "output_type": "display_data"
    }
   ],
   "source": [
    "if __name__ == '__main__':\n",
    "    main()"
   ]
  },
  {
   "cell_type": "markdown",
   "id": "a3ea7960",
   "metadata": {
    "papermill": {
     "duration": 0.142354,
     "end_time": "2021-10-01T16:52:12.859109",
     "exception": false,
     "start_time": "2021-10-01T16:52:12.716755",
     "status": "completed"
    },
    "tags": []
   },
   "source": []
  },
  {
   "cell_type": "code",
   "execution_count": null,
   "id": "12b8fd41",
   "metadata": {
    "papermill": {
     "duration": 0.142411,
     "end_time": "2021-10-01T16:52:13.146159",
     "exception": false,
     "start_time": "2021-10-01T16:52:13.003748",
     "status": "completed"
    },
    "tags": []
   },
   "outputs": [],
   "source": []
  },
  {
   "cell_type": "code",
   "execution_count": null,
   "id": "12805464",
   "metadata": {
    "papermill": {
     "duration": 0.24484,
     "end_time": "2021-10-01T16:52:13.553005",
     "exception": false,
     "start_time": "2021-10-01T16:52:13.308165",
     "status": "completed"
    },
    "tags": []
   },
   "outputs": [],
   "source": []
  }
 ],
 "metadata": {
  "kernelspec": {
   "display_name": "Python 3",
   "language": "python",
   "name": "python3"
  },
  "language_info": {
   "codemirror_mode": {
    "name": "ipython",
    "version": 3
   },
   "file_extension": ".py",
   "mimetype": "text/x-python",
   "name": "python",
   "nbconvert_exporter": "python",
   "pygments_lexer": "ipython3",
   "version": "3.7.10"
  },
  "papermill": {
   "default_parameters": {},
   "duration": 3654.242278,
   "end_time": "2021-10-01T16:52:16.656110",
   "environment_variables": {},
   "exception": null,
   "input_path": "__notebook__.ipynb",
   "output_path": "__notebook__.ipynb",
   "parameters": {},
   "start_time": "2021-10-01T15:51:22.413832",
   "version": "2.3.3"
  },
  "widgets": {
   "application/vnd.jupyter.widget-state+json": {
    "state": {
     "0133d55d05f74b7cae0172507ef279b3": {
      "model_module": "@jupyter-widgets/controls",
      "model_module_version": "1.5.0",
      "model_name": "FloatProgressModel",
      "state": {
       "_dom_classes": [],
       "_model_module": "@jupyter-widgets/controls",
       "_model_module_version": "1.5.0",
       "_model_name": "FloatProgressModel",
       "_view_count": null,
       "_view_module": "@jupyter-widgets/controls",
       "_view_module_version": "1.5.0",
       "_view_name": "ProgressView",
       "bar_style": "",
       "description": "",
       "description_tooltip": null,
       "layout": "IPY_MODEL_f1a5f4b93fcf4683a7517ade8361f5e4",
       "max": 1.0,
       "min": 0.0,
       "orientation": "horizontal",
       "style": "IPY_MODEL_d22cd59a9e274c5fb7e17e599b3c80e1",
       "value": 1.0
      }
     },
     "05c4cc8a8292455c9dd46843c196be87": {
      "model_module": "@jupyter-widgets/controls",
      "model_module_version": "1.5.0",
      "model_name": "ProgressStyleModel",
      "state": {
       "_model_module": "@jupyter-widgets/controls",
       "_model_module_version": "1.5.0",
       "_model_name": "ProgressStyleModel",
       "_view_count": null,
       "_view_module": "@jupyter-widgets/base",
       "_view_module_version": "1.2.0",
       "_view_name": "StyleView",
       "bar_color": null,
       "description_width": ""
      }
     },
     "0921292d1b6a44558fd802af8f4c098c": {
      "model_module": "@jupyter-widgets/base",
      "model_module_version": "1.2.0",
      "model_name": "LayoutModel",
      "state": {
       "_model_module": "@jupyter-widgets/base",
       "_model_module_version": "1.2.0",
       "_model_name": "LayoutModel",
       "_view_count": null,
       "_view_module": "@jupyter-widgets/base",
       "_view_module_version": "1.2.0",
       "_view_name": "LayoutView",
       "align_content": null,
       "align_items": null,
       "align_self": null,
       "border": null,
       "bottom": null,
       "display": null,
       "flex": null,
       "flex_flow": null,
       "grid_area": null,
       "grid_auto_columns": null,
       "grid_auto_flow": null,
       "grid_auto_rows": null,
       "grid_column": null,
       "grid_gap": null,
       "grid_row": null,
       "grid_template_areas": null,
       "grid_template_columns": null,
       "grid_template_rows": null,
       "height": null,
       "justify_content": null,
       "justify_items": null,
       "left": null,
       "margin": null,
       "max_height": null,
       "max_width": null,
       "min_height": null,
       "min_width": null,
       "object_fit": null,
       "object_position": null,
       "order": null,
       "overflow": null,
       "overflow_x": null,
       "overflow_y": null,
       "padding": null,
       "right": null,
       "top": null,
       "visibility": null,
       "width": null
      }
     },
     "09f02525b82e40f38448067bf144c6d5": {
      "model_module": "@jupyter-widgets/controls",
      "model_module_version": "1.5.0",
      "model_name": "DescriptionStyleModel",
      "state": {
       "_model_module": "@jupyter-widgets/controls",
       "_model_module_version": "1.5.0",
       "_model_name": "DescriptionStyleModel",
       "_view_count": null,
       "_view_module": "@jupyter-widgets/base",
       "_view_module_version": "1.2.0",
       "_view_name": "StyleView",
       "description_width": ""
      }
     },
     "0c12a870a52442d89d65f58501109978": {
      "model_module": "@jupyter-widgets/controls",
      "model_module_version": "1.5.0",
      "model_name": "DescriptionStyleModel",
      "state": {
       "_model_module": "@jupyter-widgets/controls",
       "_model_module_version": "1.5.0",
       "_model_name": "DescriptionStyleModel",
       "_view_count": null,
       "_view_module": "@jupyter-widgets/base",
       "_view_module_version": "1.2.0",
       "_view_name": "StyleView",
       "description_width": ""
      }
     },
     "0c1660c7ac32434da020706fd2fa8770": {
      "model_module": "@jupyter-widgets/controls",
      "model_module_version": "1.5.0",
      "model_name": "HTMLModel",
      "state": {
       "_dom_classes": [],
       "_model_module": "@jupyter-widgets/controls",
       "_model_module_version": "1.5.0",
       "_model_name": "HTMLModel",
       "_view_count": null,
       "_view_module": "@jupyter-widgets/controls",
       "_view_module_version": "1.5.0",
       "_view_name": "HTMLView",
       "description": "",
       "description_tooltip": null,
       "layout": "IPY_MODEL_825c66ba98f5496187b5f18cc732e20f",
       "placeholder": "​",
       "style": "IPY_MODEL_09f02525b82e40f38448067bf144c6d5",
       "value": "100%"
      }
     },
     "0e711c71ee1a48bda0fdb056f2290866": {
      "model_module": "@jupyter-widgets/base",
      "model_module_version": "1.2.0",
      "model_name": "LayoutModel",
      "state": {
       "_model_module": "@jupyter-widgets/base",
       "_model_module_version": "1.2.0",
       "_model_name": "LayoutModel",
       "_view_count": null,
       "_view_module": "@jupyter-widgets/base",
       "_view_module_version": "1.2.0",
       "_view_name": "LayoutView",
       "align_content": null,
       "align_items": null,
       "align_self": null,
       "border": null,
       "bottom": null,
       "display": null,
       "flex": null,
       "flex_flow": null,
       "grid_area": null,
       "grid_auto_columns": null,
       "grid_auto_flow": null,
       "grid_auto_rows": null,
       "grid_column": null,
       "grid_gap": null,
       "grid_row": null,
       "grid_template_areas": null,
       "grid_template_columns": null,
       "grid_template_rows": null,
       "height": null,
       "justify_content": null,
       "justify_items": null,
       "left": null,
       "margin": null,
       "max_height": null,
       "max_width": null,
       "min_height": null,
       "min_width": null,
       "object_fit": null,
       "object_position": null,
       "order": null,
       "overflow": null,
       "overflow_x": null,
       "overflow_y": null,
       "padding": null,
       "right": null,
       "top": null,
       "visibility": null,
       "width": null
      }
     },
     "181d585551b24aa1bec76661a9c15574": {
      "model_module": "@jupyter-widgets/controls",
      "model_module_version": "1.5.0",
      "model_name": "HBoxModel",
      "state": {
       "_dom_classes": [],
       "_model_module": "@jupyter-widgets/controls",
       "_model_module_version": "1.5.0",
       "_model_name": "HBoxModel",
       "_view_count": null,
       "_view_module": "@jupyter-widgets/controls",
       "_view_module_version": "1.5.0",
       "_view_name": "HBoxView",
       "box_style": "",
       "children": [
        "IPY_MODEL_4df85b0c9ecc44e487d973bd93b8e692",
        "IPY_MODEL_1defea7246854df9aaa2bc526b36059a",
        "IPY_MODEL_7acd936ca551443da16cd86269a1bde0"
       ],
       "layout": "IPY_MODEL_0921292d1b6a44558fd802af8f4c098c"
      }
     },
     "1defea7246854df9aaa2bc526b36059a": {
      "model_module": "@jupyter-widgets/controls",
      "model_module_version": "1.5.0",
      "model_name": "FloatProgressModel",
      "state": {
       "_dom_classes": [],
       "_model_module": "@jupyter-widgets/controls",
       "_model_module_version": "1.5.0",
       "_model_name": "FloatProgressModel",
       "_view_count": null,
       "_view_module": "@jupyter-widgets/controls",
       "_view_module_version": "1.5.0",
       "_view_name": "ProgressView",
       "bar_style": "success",
       "description": "",
       "description_tooltip": null,
       "layout": "IPY_MODEL_35333bbfee7149a1bfdee7a4a864deac",
       "max": 393.0,
       "min": 0.0,
       "orientation": "horizontal",
       "style": "IPY_MODEL_be8ff4249262459aa8900bc157d20807",
       "value": 393.0
      }
     },
     "1e0e15f1f0ee46d49a46c8e462424dc4": {
      "model_module": "@jupyter-widgets/base",
      "model_module_version": "1.2.0",
      "model_name": "LayoutModel",
      "state": {
       "_model_module": "@jupyter-widgets/base",
       "_model_module_version": "1.2.0",
       "_model_name": "LayoutModel",
       "_view_count": null,
       "_view_module": "@jupyter-widgets/base",
       "_view_module_version": "1.2.0",
       "_view_name": "LayoutView",
       "align_content": null,
       "align_items": null,
       "align_self": null,
       "border": null,
       "bottom": null,
       "display": null,
       "flex": null,
       "flex_flow": null,
       "grid_area": null,
       "grid_auto_columns": null,
       "grid_auto_flow": null,
       "grid_auto_rows": null,
       "grid_column": null,
       "grid_gap": null,
       "grid_row": null,
       "grid_template_areas": null,
       "grid_template_columns": null,
       "grid_template_rows": null,
       "height": null,
       "justify_content": null,
       "justify_items": null,
       "left": null,
       "margin": null,
       "max_height": null,
       "max_width": null,
       "min_height": null,
       "min_width": null,
       "object_fit": null,
       "object_position": null,
       "order": null,
       "overflow": null,
       "overflow_x": null,
       "overflow_y": null,
       "padding": null,
       "right": null,
       "top": null,
       "visibility": null,
       "width": null
      }
     },
     "2999065151384ef99470700b3091d3ee": {
      "model_module": "@jupyter-widgets/controls",
      "model_module_version": "1.5.0",
      "model_name": "DescriptionStyleModel",
      "state": {
       "_model_module": "@jupyter-widgets/controls",
       "_model_module_version": "1.5.0",
       "_model_name": "DescriptionStyleModel",
       "_view_count": null,
       "_view_module": "@jupyter-widgets/base",
       "_view_module_version": "1.2.0",
       "_view_name": "StyleView",
       "description_width": ""
      }
     },
     "35333bbfee7149a1bfdee7a4a864deac": {
      "model_module": "@jupyter-widgets/base",
      "model_module_version": "1.2.0",
      "model_name": "LayoutModel",
      "state": {
       "_model_module": "@jupyter-widgets/base",
       "_model_module_version": "1.2.0",
       "_model_name": "LayoutModel",
       "_view_count": null,
       "_view_module": "@jupyter-widgets/base",
       "_view_module_version": "1.2.0",
       "_view_name": "LayoutView",
       "align_content": null,
       "align_items": null,
       "align_self": null,
       "border": null,
       "bottom": null,
       "display": null,
       "flex": null,
       "flex_flow": null,
       "grid_area": null,
       "grid_auto_columns": null,
       "grid_auto_flow": null,
       "grid_auto_rows": null,
       "grid_column": null,
       "grid_gap": null,
       "grid_row": null,
       "grid_template_areas": null,
       "grid_template_columns": null,
       "grid_template_rows": null,
       "height": null,
       "justify_content": null,
       "justify_items": null,
       "left": null,
       "margin": null,
       "max_height": null,
       "max_width": null,
       "min_height": null,
       "min_width": null,
       "object_fit": null,
       "object_position": null,
       "order": null,
       "overflow": null,
       "overflow_x": null,
       "overflow_y": null,
       "padding": null,
       "right": null,
       "top": null,
       "visibility": null,
       "width": null
      }
     },
     "3e3ec10bdf3e442a88acb8a121cb46d0": {
      "model_module": "@jupyter-widgets/controls",
      "model_module_version": "1.5.0",
      "model_name": "DescriptionStyleModel",
      "state": {
       "_model_module": "@jupyter-widgets/controls",
       "_model_module_version": "1.5.0",
       "_model_name": "DescriptionStyleModel",
       "_view_count": null,
       "_view_module": "@jupyter-widgets/base",
       "_view_module_version": "1.2.0",
       "_view_name": "StyleView",
       "description_width": ""
      }
     },
     "3ebb64e693af418289ff7b4d55c7494b": {
      "model_module": "@jupyter-widgets/controls",
      "model_module_version": "1.5.0",
      "model_name": "HBoxModel",
      "state": {
       "_dom_classes": [],
       "_model_module": "@jupyter-widgets/controls",
       "_model_module_version": "1.5.0",
       "_model_name": "HBoxModel",
       "_view_count": null,
       "_view_module": "@jupyter-widgets/controls",
       "_view_module_version": "1.5.0",
       "_view_name": "HBoxView",
       "box_style": "",
       "children": [
        "IPY_MODEL_0c1660c7ac32434da020706fd2fa8770",
        "IPY_MODEL_ee179cff486f4ad59b76bee3698bd4a7",
        "IPY_MODEL_6d8a75310b3443218e16d78d1c2f96c9"
       ],
       "layout": "IPY_MODEL_48bb38f0f6f6468491e8bca7524a375a"
      }
     },
     "3ec8692354464fbda32eeb70541d703b": {
      "model_module": "@jupyter-widgets/base",
      "model_module_version": "1.2.0",
      "model_name": "LayoutModel",
      "state": {
       "_model_module": "@jupyter-widgets/base",
       "_model_module_version": "1.2.0",
       "_model_name": "LayoutModel",
       "_view_count": null,
       "_view_module": "@jupyter-widgets/base",
       "_view_module_version": "1.2.0",
       "_view_name": "LayoutView",
       "align_content": null,
       "align_items": null,
       "align_self": null,
       "border": null,
       "bottom": null,
       "display": null,
       "flex": null,
       "flex_flow": null,
       "grid_area": null,
       "grid_auto_columns": null,
       "grid_auto_flow": null,
       "grid_auto_rows": null,
       "grid_column": null,
       "grid_gap": null,
       "grid_row": null,
       "grid_template_areas": null,
       "grid_template_columns": null,
       "grid_template_rows": null,
       "height": null,
       "justify_content": null,
       "justify_items": null,
       "left": null,
       "margin": null,
       "max_height": null,
       "max_width": null,
       "min_height": null,
       "min_width": null,
       "object_fit": null,
       "object_position": null,
       "order": null,
       "overflow": null,
       "overflow_x": null,
       "overflow_y": null,
       "padding": null,
       "right": null,
       "top": null,
       "visibility": null,
       "width": null
      }
     },
     "3f985354f9084b06aa2bc07db5d15eed": {
      "model_module": "@jupyter-widgets/base",
      "model_module_version": "1.2.0",
      "model_name": "LayoutModel",
      "state": {
       "_model_module": "@jupyter-widgets/base",
       "_model_module_version": "1.2.0",
       "_model_name": "LayoutModel",
       "_view_count": null,
       "_view_module": "@jupyter-widgets/base",
       "_view_module_version": "1.2.0",
       "_view_name": "LayoutView",
       "align_content": null,
       "align_items": null,
       "align_self": null,
       "border": null,
       "bottom": null,
       "display": null,
       "flex": null,
       "flex_flow": null,
       "grid_area": null,
       "grid_auto_columns": null,
       "grid_auto_flow": null,
       "grid_auto_rows": null,
       "grid_column": null,
       "grid_gap": null,
       "grid_row": null,
       "grid_template_areas": null,
       "grid_template_columns": null,
       "grid_template_rows": null,
       "height": null,
       "justify_content": null,
       "justify_items": null,
       "left": null,
       "margin": null,
       "max_height": null,
       "max_width": null,
       "min_height": null,
       "min_width": null,
       "object_fit": null,
       "object_position": null,
       "order": null,
       "overflow": null,
       "overflow_x": null,
       "overflow_y": null,
       "padding": null,
       "right": null,
       "top": null,
       "visibility": null,
       "width": null
      }
     },
     "3fdcecc87e544516a1aaf0b17f529c56": {
      "model_module": "@jupyter-widgets/controls",
      "model_module_version": "1.5.0",
      "model_name": "HTMLModel",
      "state": {
       "_dom_classes": [],
       "_model_module": "@jupyter-widgets/controls",
       "_model_module_version": "1.5.0",
       "_model_name": "HTMLModel",
       "_view_count": null,
       "_view_module": "@jupyter-widgets/controls",
       "_view_module_version": "1.5.0",
       "_view_name": "HTMLView",
       "description": "",
       "description_tooltip": null,
       "layout": "IPY_MODEL_0e711c71ee1a48bda0fdb056f2290866",
       "placeholder": "​",
       "style": "IPY_MODEL_a69d4ea4532c47c8aef76e43acc2aa56",
       "value": " 393/393 [01:08&lt;00:00,  7.60it/s]"
      }
     },
     "48bb38f0f6f6468491e8bca7524a375a": {
      "model_module": "@jupyter-widgets/base",
      "model_module_version": "1.2.0",
      "model_name": "LayoutModel",
      "state": {
       "_model_module": "@jupyter-widgets/base",
       "_model_module_version": "1.2.0",
       "_model_name": "LayoutModel",
       "_view_count": null,
       "_view_module": "@jupyter-widgets/base",
       "_view_module_version": "1.2.0",
       "_view_name": "LayoutView",
       "align_content": null,
       "align_items": null,
       "align_self": null,
       "border": null,
       "bottom": null,
       "display": null,
       "flex": null,
       "flex_flow": null,
       "grid_area": null,
       "grid_auto_columns": null,
       "grid_auto_flow": null,
       "grid_auto_rows": null,
       "grid_column": null,
       "grid_gap": null,
       "grid_row": null,
       "grid_template_areas": null,
       "grid_template_columns": null,
       "grid_template_rows": null,
       "height": null,
       "justify_content": null,
       "justify_items": null,
       "left": null,
       "margin": null,
       "max_height": null,
       "max_width": null,
       "min_height": null,
       "min_width": null,
       "object_fit": null,
       "object_position": null,
       "order": null,
       "overflow": null,
       "overflow_x": null,
       "overflow_y": null,
       "padding": null,
       "right": null,
       "top": null,
       "visibility": null,
       "width": null
      }
     },
     "4a486cf450ca40569a4600a8e08b8e7e": {
      "model_module": "@jupyter-widgets/base",
      "model_module_version": "1.2.0",
      "model_name": "LayoutModel",
      "state": {
       "_model_module": "@jupyter-widgets/base",
       "_model_module_version": "1.2.0",
       "_model_name": "LayoutModel",
       "_view_count": null,
       "_view_module": "@jupyter-widgets/base",
       "_view_module_version": "1.2.0",
       "_view_name": "LayoutView",
       "align_content": null,
       "align_items": null,
       "align_self": null,
       "border": null,
       "bottom": null,
       "display": null,
       "flex": null,
       "flex_flow": null,
       "grid_area": null,
       "grid_auto_columns": null,
       "grid_auto_flow": null,
       "grid_auto_rows": null,
       "grid_column": null,
       "grid_gap": null,
       "grid_row": null,
       "grid_template_areas": null,
       "grid_template_columns": null,
       "grid_template_rows": null,
       "height": null,
       "justify_content": null,
       "justify_items": null,
       "left": null,
       "margin": null,
       "max_height": null,
       "max_width": null,
       "min_height": null,
       "min_width": null,
       "object_fit": null,
       "object_position": null,
       "order": null,
       "overflow": null,
       "overflow_x": null,
       "overflow_y": null,
       "padding": null,
       "right": null,
       "top": null,
       "visibility": null,
       "width": null
      }
     },
     "4ba828b1194f439b949e0ad491e0711a": {
      "model_module": "@jupyter-widgets/base",
      "model_module_version": "1.2.0",
      "model_name": "LayoutModel",
      "state": {
       "_model_module": "@jupyter-widgets/base",
       "_model_module_version": "1.2.0",
       "_model_name": "LayoutModel",
       "_view_count": null,
       "_view_module": "@jupyter-widgets/base",
       "_view_module_version": "1.2.0",
       "_view_name": "LayoutView",
       "align_content": null,
       "align_items": null,
       "align_self": null,
       "border": null,
       "bottom": null,
       "display": null,
       "flex": null,
       "flex_flow": null,
       "grid_area": null,
       "grid_auto_columns": null,
       "grid_auto_flow": null,
       "grid_auto_rows": null,
       "grid_column": null,
       "grid_gap": null,
       "grid_row": null,
       "grid_template_areas": null,
       "grid_template_columns": null,
       "grid_template_rows": null,
       "height": null,
       "justify_content": null,
       "justify_items": null,
       "left": null,
       "margin": null,
       "max_height": null,
       "max_width": null,
       "min_height": null,
       "min_width": null,
       "object_fit": null,
       "object_position": null,
       "order": null,
       "overflow": null,
       "overflow_x": null,
       "overflow_y": null,
       "padding": null,
       "right": null,
       "top": null,
       "visibility": null,
       "width": null
      }
     },
     "4badaec344f64fbb8ade412bae032b13": {
      "model_module": "@jupyter-widgets/controls",
      "model_module_version": "1.5.0",
      "model_name": "DescriptionStyleModel",
      "state": {
       "_model_module": "@jupyter-widgets/controls",
       "_model_module_version": "1.5.0",
       "_model_name": "DescriptionStyleModel",
       "_view_count": null,
       "_view_module": "@jupyter-widgets/base",
       "_view_module_version": "1.2.0",
       "_view_name": "StyleView",
       "description_width": ""
      }
     },
     "4df85b0c9ecc44e487d973bd93b8e692": {
      "model_module": "@jupyter-widgets/controls",
      "model_module_version": "1.5.0",
      "model_name": "HTMLModel",
      "state": {
       "_dom_classes": [],
       "_model_module": "@jupyter-widgets/controls",
       "_model_module_version": "1.5.0",
       "_model_name": "HTMLModel",
       "_view_count": null,
       "_view_module": "@jupyter-widgets/controls",
       "_view_module_version": "1.5.0",
       "_view_name": "HTMLView",
       "description": "",
       "description_tooltip": null,
       "layout": "IPY_MODEL_1e0e15f1f0ee46d49a46c8e462424dc4",
       "placeholder": "​",
       "style": "IPY_MODEL_ad0f17737862407f920ae8a84b3057c2",
       "value": "100%"
      }
     },
     "5b54f64a2f0d41fda4a2addb806a62d2": {
      "model_module": "@jupyter-widgets/controls",
      "model_module_version": "1.5.0",
      "model_name": "ProgressStyleModel",
      "state": {
       "_model_module": "@jupyter-widgets/controls",
       "_model_module_version": "1.5.0",
       "_model_name": "ProgressStyleModel",
       "_view_count": null,
       "_view_module": "@jupyter-widgets/base",
       "_view_module_version": "1.2.0",
       "_view_name": "StyleView",
       "bar_color": null,
       "description_width": ""
      }
     },
     "5b9403360c5b41f0ba59f1d54708a87c": {
      "model_module": "@jupyter-widgets/controls",
      "model_module_version": "1.5.0",
      "model_name": "HTMLModel",
      "state": {
       "_dom_classes": [],
       "_model_module": "@jupyter-widgets/controls",
       "_model_module_version": "1.5.0",
       "_model_name": "HTMLModel",
       "_view_count": null,
       "_view_module": "@jupyter-widgets/controls",
       "_view_module_version": "1.5.0",
       "_view_name": "HTMLView",
       "description": "",
       "description_tooltip": null,
       "layout": "IPY_MODEL_ce2bbc3ba66549cb943e820204c55239",
       "placeholder": "​",
       "style": "IPY_MODEL_b55c02bf00254bbb80d9d253c96e8926",
       "value": " 393/393 [01:07&lt;00:00,  7.29it/s]"
      }
     },
     "65b5a2a64f814b19b4964e0d5e4f5802": {
      "model_module": "@jupyter-widgets/controls",
      "model_module_version": "1.5.0",
      "model_name": "VBoxModel",
      "state": {
       "_dom_classes": [],
       "_model_module": "@jupyter-widgets/controls",
       "_model_module_version": "1.5.0",
       "_model_name": "VBoxModel",
       "_view_count": null,
       "_view_module": "@jupyter-widgets/controls",
       "_view_module_version": "1.5.0",
       "_view_name": "VBoxView",
       "box_style": "",
       "children": [
        "IPY_MODEL_76645fbca8384ecfa051d1db5bde5c08",
        "IPY_MODEL_0133d55d05f74b7cae0172507ef279b3"
       ],
       "layout": "IPY_MODEL_3f985354f9084b06aa2bc07db5d15eed"
      }
     },
     "6b1a8650dea9410cb1a8ae5e2d49c79d": {
      "model_module": "@jupyter-widgets/controls",
      "model_module_version": "1.5.0",
      "model_name": "FloatProgressModel",
      "state": {
       "_dom_classes": [],
       "_model_module": "@jupyter-widgets/controls",
       "_model_module_version": "1.5.0",
       "_model_name": "FloatProgressModel",
       "_view_count": null,
       "_view_module": "@jupyter-widgets/controls",
       "_view_module_version": "1.5.0",
       "_view_name": "ProgressView",
       "bar_style": "success",
       "description": "",
       "description_tooltip": null,
       "layout": "IPY_MODEL_81a5f204c81e4a0db93c48c1c9807e4e",
       "max": 393.0,
       "min": 0.0,
       "orientation": "horizontal",
       "style": "IPY_MODEL_05c4cc8a8292455c9dd46843c196be87",
       "value": 393.0
      }
     },
     "6d8a75310b3443218e16d78d1c2f96c9": {
      "model_module": "@jupyter-widgets/controls",
      "model_module_version": "1.5.0",
      "model_name": "HTMLModel",
      "state": {
       "_dom_classes": [],
       "_model_module": "@jupyter-widgets/controls",
       "_model_module_version": "1.5.0",
       "_model_name": "HTMLModel",
       "_view_count": null,
       "_view_module": "@jupyter-widgets/controls",
       "_view_module_version": "1.5.0",
       "_view_name": "HTMLView",
       "description": "",
       "description_tooltip": null,
       "layout": "IPY_MODEL_6d98e9cd096849a79f9aba5c3014008a",
       "placeholder": "​",
       "style": "IPY_MODEL_0c12a870a52442d89d65f58501109978",
       "value": " 393/393 [01:05&lt;00:00,  7.18it/s]"
      }
     },
     "6d98e9cd096849a79f9aba5c3014008a": {
      "model_module": "@jupyter-widgets/base",
      "model_module_version": "1.2.0",
      "model_name": "LayoutModel",
      "state": {
       "_model_module": "@jupyter-widgets/base",
       "_model_module_version": "1.2.0",
       "_model_name": "LayoutModel",
       "_view_count": null,
       "_view_module": "@jupyter-widgets/base",
       "_view_module_version": "1.2.0",
       "_view_name": "LayoutView",
       "align_content": null,
       "align_items": null,
       "align_self": null,
       "border": null,
       "bottom": null,
       "display": null,
       "flex": null,
       "flex_flow": null,
       "grid_area": null,
       "grid_auto_columns": null,
       "grid_auto_flow": null,
       "grid_auto_rows": null,
       "grid_column": null,
       "grid_gap": null,
       "grid_row": null,
       "grid_template_areas": null,
       "grid_template_columns": null,
       "grid_template_rows": null,
       "height": null,
       "justify_content": null,
       "justify_items": null,
       "left": null,
       "margin": null,
       "max_height": null,
       "max_width": null,
       "min_height": null,
       "min_width": null,
       "object_fit": null,
       "object_position": null,
       "order": null,
       "overflow": null,
       "overflow_x": null,
       "overflow_y": null,
       "padding": null,
       "right": null,
       "top": null,
       "visibility": null,
       "width": null
      }
     },
     "6f6041b7784d4c42b7ec307b93ea2247": {
      "model_module": "@jupyter-widgets/base",
      "model_module_version": "1.2.0",
      "model_name": "LayoutModel",
      "state": {
       "_model_module": "@jupyter-widgets/base",
       "_model_module_version": "1.2.0",
       "_model_name": "LayoutModel",
       "_view_count": null,
       "_view_module": "@jupyter-widgets/base",
       "_view_module_version": "1.2.0",
       "_view_name": "LayoutView",
       "align_content": null,
       "align_items": null,
       "align_self": null,
       "border": null,
       "bottom": null,
       "display": null,
       "flex": null,
       "flex_flow": null,
       "grid_area": null,
       "grid_auto_columns": null,
       "grid_auto_flow": null,
       "grid_auto_rows": null,
       "grid_column": null,
       "grid_gap": null,
       "grid_row": null,
       "grid_template_areas": null,
       "grid_template_columns": null,
       "grid_template_rows": null,
       "height": null,
       "justify_content": null,
       "justify_items": null,
       "left": null,
       "margin": null,
       "max_height": null,
       "max_width": null,
       "min_height": null,
       "min_width": null,
       "object_fit": null,
       "object_position": null,
       "order": null,
       "overflow": null,
       "overflow_x": null,
       "overflow_y": null,
       "padding": null,
       "right": null,
       "top": null,
       "visibility": null,
       "width": null
      }
     },
     "76645fbca8384ecfa051d1db5bde5c08": {
      "model_module": "@jupyter-widgets/controls",
      "model_module_version": "1.5.0",
      "model_name": "LabelModel",
      "state": {
       "_dom_classes": [],
       "_model_module": "@jupyter-widgets/controls",
       "_model_module_version": "1.5.0",
       "_model_name": "LabelModel",
       "_view_count": null,
       "_view_module": "@jupyter-widgets/controls",
       "_view_module_version": "1.5.0",
       "_view_name": "LabelView",
       "description": "",
       "description_tooltip": null,
       "layout": "IPY_MODEL_93ae4a37216f4bd184e5ef2b6e122bad",
       "placeholder": "​",
       "style": "IPY_MODEL_ab236bca798a4f7589c33a5d38b2d280",
       "value": " 0.05MB of 0.05MB uploaded (0.00MB deduped)\r"
      }
     },
     "7acd936ca551443da16cd86269a1bde0": {
      "model_module": "@jupyter-widgets/controls",
      "model_module_version": "1.5.0",
      "model_name": "HTMLModel",
      "state": {
       "_dom_classes": [],
       "_model_module": "@jupyter-widgets/controls",
       "_model_module_version": "1.5.0",
       "_model_name": "HTMLModel",
       "_view_count": null,
       "_view_module": "@jupyter-widgets/controls",
       "_view_module_version": "1.5.0",
       "_view_name": "HTMLView",
       "description": "",
       "description_tooltip": null,
       "layout": "IPY_MODEL_eee823d1e57a42e2bc9afb972225bd54",
       "placeholder": "​",
       "style": "IPY_MODEL_87299b6276574e10b3b4696edf06728a",
       "value": " 393/393 [01:07&lt;00:00,  8.88it/s]"
      }
     },
     "81a5f204c81e4a0db93c48c1c9807e4e": {
      "model_module": "@jupyter-widgets/base",
      "model_module_version": "1.2.0",
      "model_name": "LayoutModel",
      "state": {
       "_model_module": "@jupyter-widgets/base",
       "_model_module_version": "1.2.0",
       "_model_name": "LayoutModel",
       "_view_count": null,
       "_view_module": "@jupyter-widgets/base",
       "_view_module_version": "1.2.0",
       "_view_name": "LayoutView",
       "align_content": null,
       "align_items": null,
       "align_self": null,
       "border": null,
       "bottom": null,
       "display": null,
       "flex": null,
       "flex_flow": null,
       "grid_area": null,
       "grid_auto_columns": null,
       "grid_auto_flow": null,
       "grid_auto_rows": null,
       "grid_column": null,
       "grid_gap": null,
       "grid_row": null,
       "grid_template_areas": null,
       "grid_template_columns": null,
       "grid_template_rows": null,
       "height": null,
       "justify_content": null,
       "justify_items": null,
       "left": null,
       "margin": null,
       "max_height": null,
       "max_width": null,
       "min_height": null,
       "min_width": null,
       "object_fit": null,
       "object_position": null,
       "order": null,
       "overflow": null,
       "overflow_x": null,
       "overflow_y": null,
       "padding": null,
       "right": null,
       "top": null,
       "visibility": null,
       "width": null
      }
     },
     "825c66ba98f5496187b5f18cc732e20f": {
      "model_module": "@jupyter-widgets/base",
      "model_module_version": "1.2.0",
      "model_name": "LayoutModel",
      "state": {
       "_model_module": "@jupyter-widgets/base",
       "_model_module_version": "1.2.0",
       "_model_name": "LayoutModel",
       "_view_count": null,
       "_view_module": "@jupyter-widgets/base",
       "_view_module_version": "1.2.0",
       "_view_name": "LayoutView",
       "align_content": null,
       "align_items": null,
       "align_self": null,
       "border": null,
       "bottom": null,
       "display": null,
       "flex": null,
       "flex_flow": null,
       "grid_area": null,
       "grid_auto_columns": null,
       "grid_auto_flow": null,
       "grid_auto_rows": null,
       "grid_column": null,
       "grid_gap": null,
       "grid_row": null,
       "grid_template_areas": null,
       "grid_template_columns": null,
       "grid_template_rows": null,
       "height": null,
       "justify_content": null,
       "justify_items": null,
       "left": null,
       "margin": null,
       "max_height": null,
       "max_width": null,
       "min_height": null,
       "min_width": null,
       "object_fit": null,
       "object_position": null,
       "order": null,
       "overflow": null,
       "overflow_x": null,
       "overflow_y": null,
       "padding": null,
       "right": null,
       "top": null,
       "visibility": null,
       "width": null
      }
     },
     "841ac50ce1704f6d94335f5c43055184": {
      "model_module": "@jupyter-widgets/controls",
      "model_module_version": "1.5.0",
      "model_name": "HBoxModel",
      "state": {
       "_dom_classes": [],
       "_model_module": "@jupyter-widgets/controls",
       "_model_module_version": "1.5.0",
       "_model_name": "HBoxModel",
       "_view_count": null,
       "_view_module": "@jupyter-widgets/controls",
       "_view_module_version": "1.5.0",
       "_view_name": "HBoxView",
       "box_style": "",
       "children": [
        "IPY_MODEL_dd3f279112744c04aeab34b708526be4",
        "IPY_MODEL_a112faa581f7427e9df73546b024785f",
        "IPY_MODEL_5b9403360c5b41f0ba59f1d54708a87c"
       ],
       "layout": "IPY_MODEL_b6eff161b13d45309ab7e81780660236"
      }
     },
     "87299b6276574e10b3b4696edf06728a": {
      "model_module": "@jupyter-widgets/controls",
      "model_module_version": "1.5.0",
      "model_name": "DescriptionStyleModel",
      "state": {
       "_model_module": "@jupyter-widgets/controls",
       "_model_module_version": "1.5.0",
       "_model_name": "DescriptionStyleModel",
       "_view_count": null,
       "_view_module": "@jupyter-widgets/base",
       "_view_module_version": "1.2.0",
       "_view_name": "StyleView",
       "description_width": ""
      }
     },
     "8d49680d43544a30a6a7e7ec42a7447a": {
      "model_module": "@jupyter-widgets/base",
      "model_module_version": "1.2.0",
      "model_name": "LayoutModel",
      "state": {
       "_model_module": "@jupyter-widgets/base",
       "_model_module_version": "1.2.0",
       "_model_name": "LayoutModel",
       "_view_count": null,
       "_view_module": "@jupyter-widgets/base",
       "_view_module_version": "1.2.0",
       "_view_name": "LayoutView",
       "align_content": null,
       "align_items": null,
       "align_self": null,
       "border": null,
       "bottom": null,
       "display": null,
       "flex": null,
       "flex_flow": null,
       "grid_area": null,
       "grid_auto_columns": null,
       "grid_auto_flow": null,
       "grid_auto_rows": null,
       "grid_column": null,
       "grid_gap": null,
       "grid_row": null,
       "grid_template_areas": null,
       "grid_template_columns": null,
       "grid_template_rows": null,
       "height": null,
       "justify_content": null,
       "justify_items": null,
       "left": null,
       "margin": null,
       "max_height": null,
       "max_width": null,
       "min_height": null,
       "min_width": null,
       "object_fit": null,
       "object_position": null,
       "order": null,
       "overflow": null,
       "overflow_x": null,
       "overflow_y": null,
       "padding": null,
       "right": null,
       "top": null,
       "visibility": null,
       "width": null
      }
     },
     "93ae4a37216f4bd184e5ef2b6e122bad": {
      "model_module": "@jupyter-widgets/base",
      "model_module_version": "1.2.0",
      "model_name": "LayoutModel",
      "state": {
       "_model_module": "@jupyter-widgets/base",
       "_model_module_version": "1.2.0",
       "_model_name": "LayoutModel",
       "_view_count": null,
       "_view_module": "@jupyter-widgets/base",
       "_view_module_version": "1.2.0",
       "_view_name": "LayoutView",
       "align_content": null,
       "align_items": null,
       "align_self": null,
       "border": null,
       "bottom": null,
       "display": null,
       "flex": null,
       "flex_flow": null,
       "grid_area": null,
       "grid_auto_columns": null,
       "grid_auto_flow": null,
       "grid_auto_rows": null,
       "grid_column": null,
       "grid_gap": null,
       "grid_row": null,
       "grid_template_areas": null,
       "grid_template_columns": null,
       "grid_template_rows": null,
       "height": null,
       "justify_content": null,
       "justify_items": null,
       "left": null,
       "margin": null,
       "max_height": null,
       "max_width": null,
       "min_height": null,
       "min_width": null,
       "object_fit": null,
       "object_position": null,
       "order": null,
       "overflow": null,
       "overflow_x": null,
       "overflow_y": null,
       "padding": null,
       "right": null,
       "top": null,
       "visibility": null,
       "width": null
      }
     },
     "9b327200398e45598873c15d25e6381b": {
      "model_module": "@jupyter-widgets/controls",
      "model_module_version": "1.5.0",
      "model_name": "ProgressStyleModel",
      "state": {
       "_model_module": "@jupyter-widgets/controls",
       "_model_module_version": "1.5.0",
       "_model_name": "ProgressStyleModel",
       "_view_count": null,
       "_view_module": "@jupyter-widgets/base",
       "_view_module_version": "1.2.0",
       "_view_name": "StyleView",
       "bar_color": null,
       "description_width": ""
      }
     },
     "9c857b6d6580431e82a06b94a4e81c89": {
      "model_module": "@jupyter-widgets/base",
      "model_module_version": "1.2.0",
      "model_name": "LayoutModel",
      "state": {
       "_model_module": "@jupyter-widgets/base",
       "_model_module_version": "1.2.0",
       "_model_name": "LayoutModel",
       "_view_count": null,
       "_view_module": "@jupyter-widgets/base",
       "_view_module_version": "1.2.0",
       "_view_name": "LayoutView",
       "align_content": null,
       "align_items": null,
       "align_self": null,
       "border": null,
       "bottom": null,
       "display": null,
       "flex": null,
       "flex_flow": null,
       "grid_area": null,
       "grid_auto_columns": null,
       "grid_auto_flow": null,
       "grid_auto_rows": null,
       "grid_column": null,
       "grid_gap": null,
       "grid_row": null,
       "grid_template_areas": null,
       "grid_template_columns": null,
       "grid_template_rows": null,
       "height": null,
       "justify_content": null,
       "justify_items": null,
       "left": null,
       "margin": null,
       "max_height": null,
       "max_width": null,
       "min_height": null,
       "min_width": null,
       "object_fit": null,
       "object_position": null,
       "order": null,
       "overflow": null,
       "overflow_x": null,
       "overflow_y": null,
       "padding": null,
       "right": null,
       "top": null,
       "visibility": null,
       "width": null
      }
     },
     "a112faa581f7427e9df73546b024785f": {
      "model_module": "@jupyter-widgets/controls",
      "model_module_version": "1.5.0",
      "model_name": "FloatProgressModel",
      "state": {
       "_dom_classes": [],
       "_model_module": "@jupyter-widgets/controls",
       "_model_module_version": "1.5.0",
       "_model_name": "FloatProgressModel",
       "_view_count": null,
       "_view_module": "@jupyter-widgets/controls",
       "_view_module_version": "1.5.0",
       "_view_name": "ProgressView",
       "bar_style": "success",
       "description": "",
       "description_tooltip": null,
       "layout": "IPY_MODEL_4ba828b1194f439b949e0ad491e0711a",
       "max": 393.0,
       "min": 0.0,
       "orientation": "horizontal",
       "style": "IPY_MODEL_5b54f64a2f0d41fda4a2addb806a62d2",
       "value": 393.0
      }
     },
     "a69d4ea4532c47c8aef76e43acc2aa56": {
      "model_module": "@jupyter-widgets/controls",
      "model_module_version": "1.5.0",
      "model_name": "DescriptionStyleModel",
      "state": {
       "_model_module": "@jupyter-widgets/controls",
       "_model_module_version": "1.5.0",
       "_model_name": "DescriptionStyleModel",
       "_view_count": null,
       "_view_module": "@jupyter-widgets/base",
       "_view_module_version": "1.2.0",
       "_view_name": "StyleView",
       "description_width": ""
      }
     },
     "ab236bca798a4f7589c33a5d38b2d280": {
      "model_module": "@jupyter-widgets/controls",
      "model_module_version": "1.5.0",
      "model_name": "DescriptionStyleModel",
      "state": {
       "_model_module": "@jupyter-widgets/controls",
       "_model_module_version": "1.5.0",
       "_model_name": "DescriptionStyleModel",
       "_view_count": null,
       "_view_module": "@jupyter-widgets/base",
       "_view_module_version": "1.2.0",
       "_view_name": "StyleView",
       "description_width": ""
      }
     },
     "ad0f17737862407f920ae8a84b3057c2": {
      "model_module": "@jupyter-widgets/controls",
      "model_module_version": "1.5.0",
      "model_name": "DescriptionStyleModel",
      "state": {
       "_model_module": "@jupyter-widgets/controls",
       "_model_module_version": "1.5.0",
       "_model_name": "DescriptionStyleModel",
       "_view_count": null,
       "_view_module": "@jupyter-widgets/base",
       "_view_module_version": "1.2.0",
       "_view_name": "StyleView",
       "description_width": ""
      }
     },
     "b3420f7a2758485e9f616d519a34b0d8": {
      "model_module": "@jupyter-widgets/controls",
      "model_module_version": "1.5.0",
      "model_name": "HBoxModel",
      "state": {
       "_dom_classes": [],
       "_model_module": "@jupyter-widgets/controls",
       "_model_module_version": "1.5.0",
       "_model_name": "HBoxModel",
       "_view_count": null,
       "_view_module": "@jupyter-widgets/controls",
       "_view_module_version": "1.5.0",
       "_view_name": "HBoxView",
       "box_style": "",
       "children": [
        "IPY_MODEL_b6e75f724e954f06b320d53d3adf217c",
        "IPY_MODEL_fdb9cb4e621b4ac5acd29fd648958e1a",
        "IPY_MODEL_3fdcecc87e544516a1aaf0b17f529c56"
       ],
       "layout": "IPY_MODEL_dd821f29eb834b599b57915cdddba5b5"
      }
     },
     "b55c02bf00254bbb80d9d253c96e8926": {
      "model_module": "@jupyter-widgets/controls",
      "model_module_version": "1.5.0",
      "model_name": "DescriptionStyleModel",
      "state": {
       "_model_module": "@jupyter-widgets/controls",
       "_model_module_version": "1.5.0",
       "_model_name": "DescriptionStyleModel",
       "_view_count": null,
       "_view_module": "@jupyter-widgets/base",
       "_view_module_version": "1.2.0",
       "_view_name": "StyleView",
       "description_width": ""
      }
     },
     "b6e75f724e954f06b320d53d3adf217c": {
      "model_module": "@jupyter-widgets/controls",
      "model_module_version": "1.5.0",
      "model_name": "HTMLModel",
      "state": {
       "_dom_classes": [],
       "_model_module": "@jupyter-widgets/controls",
       "_model_module_version": "1.5.0",
       "_model_name": "HTMLModel",
       "_view_count": null,
       "_view_module": "@jupyter-widgets/controls",
       "_view_module_version": "1.5.0",
       "_view_name": "HTMLView",
       "description": "",
       "description_tooltip": null,
       "layout": "IPY_MODEL_8d49680d43544a30a6a7e7ec42a7447a",
       "placeholder": "​",
       "style": "IPY_MODEL_4badaec344f64fbb8ade412bae032b13",
       "value": "100%"
      }
     },
     "b6eff161b13d45309ab7e81780660236": {
      "model_module": "@jupyter-widgets/base",
      "model_module_version": "1.2.0",
      "model_name": "LayoutModel",
      "state": {
       "_model_module": "@jupyter-widgets/base",
       "_model_module_version": "1.2.0",
       "_model_name": "LayoutModel",
       "_view_count": null,
       "_view_module": "@jupyter-widgets/base",
       "_view_module_version": "1.2.0",
       "_view_name": "LayoutView",
       "align_content": null,
       "align_items": null,
       "align_self": null,
       "border": null,
       "bottom": null,
       "display": null,
       "flex": null,
       "flex_flow": null,
       "grid_area": null,
       "grid_auto_columns": null,
       "grid_auto_flow": null,
       "grid_auto_rows": null,
       "grid_column": null,
       "grid_gap": null,
       "grid_row": null,
       "grid_template_areas": null,
       "grid_template_columns": null,
       "grid_template_rows": null,
       "height": null,
       "justify_content": null,
       "justify_items": null,
       "left": null,
       "margin": null,
       "max_height": null,
       "max_width": null,
       "min_height": null,
       "min_width": null,
       "object_fit": null,
       "object_position": null,
       "order": null,
       "overflow": null,
       "overflow_x": null,
       "overflow_y": null,
       "padding": null,
       "right": null,
       "top": null,
       "visibility": null,
       "width": null
      }
     },
     "be2d982295354e0e889d691f856726ab": {
      "model_module": "@jupyter-widgets/controls",
      "model_module_version": "1.5.0",
      "model_name": "ProgressStyleModel",
      "state": {
       "_model_module": "@jupyter-widgets/controls",
       "_model_module_version": "1.5.0",
       "_model_name": "ProgressStyleModel",
       "_view_count": null,
       "_view_module": "@jupyter-widgets/base",
       "_view_module_version": "1.2.0",
       "_view_name": "StyleView",
       "bar_color": null,
       "description_width": ""
      }
     },
     "be8ff4249262459aa8900bc157d20807": {
      "model_module": "@jupyter-widgets/controls",
      "model_module_version": "1.5.0",
      "model_name": "ProgressStyleModel",
      "state": {
       "_model_module": "@jupyter-widgets/controls",
       "_model_module_version": "1.5.0",
       "_model_name": "ProgressStyleModel",
       "_view_count": null,
       "_view_module": "@jupyter-widgets/base",
       "_view_module_version": "1.2.0",
       "_view_name": "StyleView",
       "bar_color": null,
       "description_width": ""
      }
     },
     "c47ee3c2966541848d2ef1bd8e039a76": {
      "model_module": "@jupyter-widgets/base",
      "model_module_version": "1.2.0",
      "model_name": "LayoutModel",
      "state": {
       "_model_module": "@jupyter-widgets/base",
       "_model_module_version": "1.2.0",
       "_model_name": "LayoutModel",
       "_view_count": null,
       "_view_module": "@jupyter-widgets/base",
       "_view_module_version": "1.2.0",
       "_view_name": "LayoutView",
       "align_content": null,
       "align_items": null,
       "align_self": null,
       "border": null,
       "bottom": null,
       "display": null,
       "flex": null,
       "flex_flow": null,
       "grid_area": null,
       "grid_auto_columns": null,
       "grid_auto_flow": null,
       "grid_auto_rows": null,
       "grid_column": null,
       "grid_gap": null,
       "grid_row": null,
       "grid_template_areas": null,
       "grid_template_columns": null,
       "grid_template_rows": null,
       "height": null,
       "justify_content": null,
       "justify_items": null,
       "left": null,
       "margin": null,
       "max_height": null,
       "max_width": null,
       "min_height": null,
       "min_width": null,
       "object_fit": null,
       "object_position": null,
       "order": null,
       "overflow": null,
       "overflow_x": null,
       "overflow_y": null,
       "padding": null,
       "right": null,
       "top": null,
       "visibility": null,
       "width": null
      }
     },
     "c64fae5a6646462c9fbfe178c11a6656": {
      "model_module": "@jupyter-widgets/controls",
      "model_module_version": "1.5.0",
      "model_name": "HTMLModel",
      "state": {
       "_dom_classes": [],
       "_model_module": "@jupyter-widgets/controls",
       "_model_module_version": "1.5.0",
       "_model_name": "HTMLModel",
       "_view_count": null,
       "_view_module": "@jupyter-widgets/controls",
       "_view_module_version": "1.5.0",
       "_view_name": "HTMLView",
       "description": "",
       "description_tooltip": null,
       "layout": "IPY_MODEL_c47ee3c2966541848d2ef1bd8e039a76",
       "placeholder": "​",
       "style": "IPY_MODEL_2999065151384ef99470700b3091d3ee",
       "value": "100%"
      }
     },
     "ce2bbc3ba66549cb943e820204c55239": {
      "model_module": "@jupyter-widgets/base",
      "model_module_version": "1.2.0",
      "model_name": "LayoutModel",
      "state": {
       "_model_module": "@jupyter-widgets/base",
       "_model_module_version": "1.2.0",
       "_model_name": "LayoutModel",
       "_view_count": null,
       "_view_module": "@jupyter-widgets/base",
       "_view_module_version": "1.2.0",
       "_view_name": "LayoutView",
       "align_content": null,
       "align_items": null,
       "align_self": null,
       "border": null,
       "bottom": null,
       "display": null,
       "flex": null,
       "flex_flow": null,
       "grid_area": null,
       "grid_auto_columns": null,
       "grid_auto_flow": null,
       "grid_auto_rows": null,
       "grid_column": null,
       "grid_gap": null,
       "grid_row": null,
       "grid_template_areas": null,
       "grid_template_columns": null,
       "grid_template_rows": null,
       "height": null,
       "justify_content": null,
       "justify_items": null,
       "left": null,
       "margin": null,
       "max_height": null,
       "max_width": null,
       "min_height": null,
       "min_width": null,
       "object_fit": null,
       "object_position": null,
       "order": null,
       "overflow": null,
       "overflow_x": null,
       "overflow_y": null,
       "padding": null,
       "right": null,
       "top": null,
       "visibility": null,
       "width": null
      }
     },
     "cf28179b72fd45468d37bf63ae9268bb": {
      "model_module": "@jupyter-widgets/controls",
      "model_module_version": "1.5.0",
      "model_name": "DescriptionStyleModel",
      "state": {
       "_model_module": "@jupyter-widgets/controls",
       "_model_module_version": "1.5.0",
       "_model_name": "DescriptionStyleModel",
       "_view_count": null,
       "_view_module": "@jupyter-widgets/base",
       "_view_module_version": "1.2.0",
       "_view_name": "StyleView",
       "description_width": ""
      }
     },
     "d22cd59a9e274c5fb7e17e599b3c80e1": {
      "model_module": "@jupyter-widgets/controls",
      "model_module_version": "1.5.0",
      "model_name": "ProgressStyleModel",
      "state": {
       "_model_module": "@jupyter-widgets/controls",
       "_model_module_version": "1.5.0",
       "_model_name": "ProgressStyleModel",
       "_view_count": null,
       "_view_module": "@jupyter-widgets/base",
       "_view_module_version": "1.2.0",
       "_view_name": "StyleView",
       "bar_color": null,
       "description_width": ""
      }
     },
     "dd3f279112744c04aeab34b708526be4": {
      "model_module": "@jupyter-widgets/controls",
      "model_module_version": "1.5.0",
      "model_name": "HTMLModel",
      "state": {
       "_dom_classes": [],
       "_model_module": "@jupyter-widgets/controls",
       "_model_module_version": "1.5.0",
       "_model_name": "HTMLModel",
       "_view_count": null,
       "_view_module": "@jupyter-widgets/controls",
       "_view_module_version": "1.5.0",
       "_view_name": "HTMLView",
       "description": "",
       "description_tooltip": null,
       "layout": "IPY_MODEL_6f6041b7784d4c42b7ec307b93ea2247",
       "placeholder": "​",
       "style": "IPY_MODEL_cf28179b72fd45468d37bf63ae9268bb",
       "value": "100%"
      }
     },
     "dd821f29eb834b599b57915cdddba5b5": {
      "model_module": "@jupyter-widgets/base",
      "model_module_version": "1.2.0",
      "model_name": "LayoutModel",
      "state": {
       "_model_module": "@jupyter-widgets/base",
       "_model_module_version": "1.2.0",
       "_model_name": "LayoutModel",
       "_view_count": null,
       "_view_module": "@jupyter-widgets/base",
       "_view_module_version": "1.2.0",
       "_view_name": "LayoutView",
       "align_content": null,
       "align_items": null,
       "align_self": null,
       "border": null,
       "bottom": null,
       "display": null,
       "flex": null,
       "flex_flow": null,
       "grid_area": null,
       "grid_auto_columns": null,
       "grid_auto_flow": null,
       "grid_auto_rows": null,
       "grid_column": null,
       "grid_gap": null,
       "grid_row": null,
       "grid_template_areas": null,
       "grid_template_columns": null,
       "grid_template_rows": null,
       "height": null,
       "justify_content": null,
       "justify_items": null,
       "left": null,
       "margin": null,
       "max_height": null,
       "max_width": null,
       "min_height": null,
       "min_width": null,
       "object_fit": null,
       "object_position": null,
       "order": null,
       "overflow": null,
       "overflow_x": null,
       "overflow_y": null,
       "padding": null,
       "right": null,
       "top": null,
       "visibility": null,
       "width": null
      }
     },
     "e25e4320abef49aea44e5341a1c46de3": {
      "model_module": "@jupyter-widgets/controls",
      "model_module_version": "1.5.0",
      "model_name": "HBoxModel",
      "state": {
       "_dom_classes": [],
       "_model_module": "@jupyter-widgets/controls",
       "_model_module_version": "1.5.0",
       "_model_name": "HBoxModel",
       "_view_count": null,
       "_view_module": "@jupyter-widgets/controls",
       "_view_module_version": "1.5.0",
       "_view_name": "HBoxView",
       "box_style": "",
       "children": [
        "IPY_MODEL_c64fae5a6646462c9fbfe178c11a6656",
        "IPY_MODEL_6b1a8650dea9410cb1a8ae5e2d49c79d",
        "IPY_MODEL_f333caca8fc94816a8573b47c0d911b8"
       ],
       "layout": "IPY_MODEL_9c857b6d6580431e82a06b94a4e81c89"
      }
     },
     "e7609e18bb5c4d6d8429c09a7c6afc9c": {
      "model_module": "@jupyter-widgets/base",
      "model_module_version": "1.2.0",
      "model_name": "LayoutModel",
      "state": {
       "_model_module": "@jupyter-widgets/base",
       "_model_module_version": "1.2.0",
       "_model_name": "LayoutModel",
       "_view_count": null,
       "_view_module": "@jupyter-widgets/base",
       "_view_module_version": "1.2.0",
       "_view_name": "LayoutView",
       "align_content": null,
       "align_items": null,
       "align_self": null,
       "border": null,
       "bottom": null,
       "display": null,
       "flex": null,
       "flex_flow": null,
       "grid_area": null,
       "grid_auto_columns": null,
       "grid_auto_flow": null,
       "grid_auto_rows": null,
       "grid_column": null,
       "grid_gap": null,
       "grid_row": null,
       "grid_template_areas": null,
       "grid_template_columns": null,
       "grid_template_rows": null,
       "height": null,
       "justify_content": null,
       "justify_items": null,
       "left": null,
       "margin": null,
       "max_height": null,
       "max_width": null,
       "min_height": null,
       "min_width": null,
       "object_fit": null,
       "object_position": null,
       "order": null,
       "overflow": null,
       "overflow_x": null,
       "overflow_y": null,
       "padding": null,
       "right": null,
       "top": null,
       "visibility": null,
       "width": null
      }
     },
     "ee179cff486f4ad59b76bee3698bd4a7": {
      "model_module": "@jupyter-widgets/controls",
      "model_module_version": "1.5.0",
      "model_name": "FloatProgressModel",
      "state": {
       "_dom_classes": [],
       "_model_module": "@jupyter-widgets/controls",
       "_model_module_version": "1.5.0",
       "_model_name": "FloatProgressModel",
       "_view_count": null,
       "_view_module": "@jupyter-widgets/controls",
       "_view_module_version": "1.5.0",
       "_view_name": "ProgressView",
       "bar_style": "success",
       "description": "",
       "description_tooltip": null,
       "layout": "IPY_MODEL_4a486cf450ca40569a4600a8e08b8e7e",
       "max": 393.0,
       "min": 0.0,
       "orientation": "horizontal",
       "style": "IPY_MODEL_be2d982295354e0e889d691f856726ab",
       "value": 393.0
      }
     },
     "eee823d1e57a42e2bc9afb972225bd54": {
      "model_module": "@jupyter-widgets/base",
      "model_module_version": "1.2.0",
      "model_name": "LayoutModel",
      "state": {
       "_model_module": "@jupyter-widgets/base",
       "_model_module_version": "1.2.0",
       "_model_name": "LayoutModel",
       "_view_count": null,
       "_view_module": "@jupyter-widgets/base",
       "_view_module_version": "1.2.0",
       "_view_name": "LayoutView",
       "align_content": null,
       "align_items": null,
       "align_self": null,
       "border": null,
       "bottom": null,
       "display": null,
       "flex": null,
       "flex_flow": null,
       "grid_area": null,
       "grid_auto_columns": null,
       "grid_auto_flow": null,
       "grid_auto_rows": null,
       "grid_column": null,
       "grid_gap": null,
       "grid_row": null,
       "grid_template_areas": null,
       "grid_template_columns": null,
       "grid_template_rows": null,
       "height": null,
       "justify_content": null,
       "justify_items": null,
       "left": null,
       "margin": null,
       "max_height": null,
       "max_width": null,
       "min_height": null,
       "min_width": null,
       "object_fit": null,
       "object_position": null,
       "order": null,
       "overflow": null,
       "overflow_x": null,
       "overflow_y": null,
       "padding": null,
       "right": null,
       "top": null,
       "visibility": null,
       "width": null
      }
     },
     "f1a5f4b93fcf4683a7517ade8361f5e4": {
      "model_module": "@jupyter-widgets/base",
      "model_module_version": "1.2.0",
      "model_name": "LayoutModel",
      "state": {
       "_model_module": "@jupyter-widgets/base",
       "_model_module_version": "1.2.0",
       "_model_name": "LayoutModel",
       "_view_count": null,
       "_view_module": "@jupyter-widgets/base",
       "_view_module_version": "1.2.0",
       "_view_name": "LayoutView",
       "align_content": null,
       "align_items": null,
       "align_self": null,
       "border": null,
       "bottom": null,
       "display": null,
       "flex": null,
       "flex_flow": null,
       "grid_area": null,
       "grid_auto_columns": null,
       "grid_auto_flow": null,
       "grid_auto_rows": null,
       "grid_column": null,
       "grid_gap": null,
       "grid_row": null,
       "grid_template_areas": null,
       "grid_template_columns": null,
       "grid_template_rows": null,
       "height": null,
       "justify_content": null,
       "justify_items": null,
       "left": null,
       "margin": null,
       "max_height": null,
       "max_width": null,
       "min_height": null,
       "min_width": null,
       "object_fit": null,
       "object_position": null,
       "order": null,
       "overflow": null,
       "overflow_x": null,
       "overflow_y": null,
       "padding": null,
       "right": null,
       "top": null,
       "visibility": null,
       "width": null
      }
     },
     "f333caca8fc94816a8573b47c0d911b8": {
      "model_module": "@jupyter-widgets/controls",
      "model_module_version": "1.5.0",
      "model_name": "HTMLModel",
      "state": {
       "_dom_classes": [],
       "_model_module": "@jupyter-widgets/controls",
       "_model_module_version": "1.5.0",
       "_model_name": "HTMLModel",
       "_view_count": null,
       "_view_module": "@jupyter-widgets/controls",
       "_view_module_version": "1.5.0",
       "_view_name": "HTMLView",
       "description": "",
       "description_tooltip": null,
       "layout": "IPY_MODEL_3ec8692354464fbda32eeb70541d703b",
       "placeholder": "​",
       "style": "IPY_MODEL_3e3ec10bdf3e442a88acb8a121cb46d0",
       "value": " 393/393 [01:07&lt;00:00,  7.77it/s]"
      }
     },
     "fdb9cb4e621b4ac5acd29fd648958e1a": {
      "model_module": "@jupyter-widgets/controls",
      "model_module_version": "1.5.0",
      "model_name": "FloatProgressModel",
      "state": {
       "_dom_classes": [],
       "_model_module": "@jupyter-widgets/controls",
       "_model_module_version": "1.5.0",
       "_model_name": "FloatProgressModel",
       "_view_count": null,
       "_view_module": "@jupyter-widgets/controls",
       "_view_module_version": "1.5.0",
       "_view_name": "ProgressView",
       "bar_style": "success",
       "description": "",
       "description_tooltip": null,
       "layout": "IPY_MODEL_e7609e18bb5c4d6d8429c09a7c6afc9c",
       "max": 393.0,
       "min": 0.0,
       "orientation": "horizontal",
       "style": "IPY_MODEL_9b327200398e45598873c15d25e6381b",
       "value": 393.0
      }
     }
    },
    "version_major": 2,
    "version_minor": 0
   }
  }
 },
 "nbformat": 4,
 "nbformat_minor": 5
}
