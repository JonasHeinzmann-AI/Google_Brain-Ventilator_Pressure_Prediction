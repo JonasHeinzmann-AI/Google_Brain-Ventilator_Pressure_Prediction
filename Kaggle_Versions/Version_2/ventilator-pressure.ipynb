{
 "cells": [
  {
   "cell_type": "markdown",
   "id": "9f2e8497",
   "metadata": {
    "papermill": {
     "duration": 0.015496,
     "end_time": "2021-10-02T12:08:34.204785",
     "exception": false,
     "start_time": "2021-10-02T12:08:34.189289",
     "status": "completed"
    },
    "tags": []
   },
   "source": [
    "# About this notebook  \n",
    "- PyTorch RNN starter code with W&B  \n",
    "- Pytorch W&B Usage Examples from https://docs.wandb.ai/guides/integrations/pytorch  \n",
    "\n",
    "If this notebook is helpful, feel free to upvote :)"
   ]
  },
  {
   "cell_type": "markdown",
   "id": "2f53f840",
   "metadata": {
    "papermill": {
     "duration": 0.013425,
     "end_time": "2021-10-02T12:08:34.232402",
     "exception": false,
     "start_time": "2021-10-02T12:08:34.218977",
     "status": "completed"
    },
    "tags": []
   },
   "source": [
    "![](https://raw.githubusercontent.com/google/deluca-lung/main/assets/2020-10-02%20Ventilator%20diagram.svg)"
   ]
  },
  {
   "cell_type": "code",
   "execution_count": 1,
   "id": "52e23a52",
   "metadata": {
    "execution": {
     "iopub.execute_input": "2021-10-02T12:08:34.265301Z",
     "iopub.status.busy": "2021-10-02T12:08:34.263809Z",
     "iopub.status.idle": "2021-10-02T12:08:34.345465Z",
     "shell.execute_reply": "2021-10-02T12:08:34.344788Z",
     "shell.execute_reply.started": "2021-10-02T10:32:55.848985Z"
    },
    "papermill": {
     "duration": 0.099908,
     "end_time": "2021-10-02T12:08:34.345650",
     "exception": false,
     "start_time": "2021-10-02T12:08:34.245742",
     "status": "completed"
    },
    "tags": []
   },
   "outputs": [],
   "source": [
    "# ====================================================\n",
    "# Directory settings\n",
    "# ====================================================\n",
    "import os\n",
    "\n",
    "OUTPUT_DIR = './'\n",
    "if not os.path.exists(OUTPUT_DIR):\n",
    "    os.makedirs(OUTPUT_DIR)"
   ]
  },
  {
   "cell_type": "code",
   "execution_count": 2,
   "id": "647be43f",
   "metadata": {
    "execution": {
     "iopub.execute_input": "2021-10-02T12:08:34.380742Z",
     "iopub.status.busy": "2021-10-02T12:08:34.380147Z",
     "iopub.status.idle": "2021-10-02T12:08:34.383245Z",
     "shell.execute_reply": "2021-10-02T12:08:34.382803Z",
     "shell.execute_reply.started": "2021-10-02T10:32:55.958910Z"
    },
    "papermill": {
     "duration": 0.023151,
     "end_time": "2021-10-02T12:08:34.383350",
     "exception": false,
     "start_time": "2021-10-02T12:08:34.360199",
     "status": "completed"
    },
    "tags": []
   },
   "outputs": [],
   "source": [
    "# ====================================================\n",
    "# CFG\n",
    "# ====================================================\n",
    "class CFG:\n",
    "    competition='ventilator'\n",
    "    _wandb_kernel='nakama'\n",
    "    apex=False\n",
    "    print_freq=100\n",
    "    num_workers=4\n",
    "    model_name='rnn'\n",
    "    scheduler='CosineAnnealingLR' # ['linear', 'cosine', 'ReduceLROnPlateau', 'CosineAnnealingLR', 'CosineAnnealingWarmRestarts']\n",
    "    batch_scheduler=False\n",
    "    num_warmup_steps=100 # ['linear', 'cosine']\n",
    "    #num_cycles=0.5 # 'cosine'\n",
    "    #factor=0.2 # ReduceLROnPlateau\n",
    "    #patience=4 # ReduceLROnPlateau\n",
    "    #eps=1e-6 # ReduceLROnPlateau\n",
    "    T_max=50 # CosineAnnealingLR\n",
    "    #T_0=50 # CosineAnnealingWarmRestarts\n",
    "    epochs=7\n",
    "    max_grad_norm=1000\n",
    "    gradient_accumulation_steps=1\n",
    "    hidden_size=64\n",
    "    lr=5e-3\n",
    "    min_lr=1e-6\n",
    "    weight_decay=1e-6\n",
    "    batch_size=64\n",
    "    n_fold=5\n",
    "    trn_fold=[0, 1, 2, 3, 4]\n",
    "    cate_seq_cols=['R', 'C']\n",
    "    cont_seq_cols=['time_step', 'u_in', 'u_out'] + ['breath_time', 'u_in_time']\n",
    "    train=True\n",
    "    inference=True"
   ]
  },
  {
   "cell_type": "code",
   "execution_count": 3,
   "id": "1625d248",
   "metadata": {
    "execution": {
     "iopub.execute_input": "2021-10-02T12:08:34.419884Z",
     "iopub.status.busy": "2021-10-02T12:08:34.419275Z",
     "iopub.status.idle": "2021-10-02T12:08:44.277458Z",
     "shell.execute_reply": "2021-10-02T12:08:44.276590Z",
     "shell.execute_reply.started": "2021-10-02T10:32:55.979263Z"
    },
    "papermill": {
     "duration": 9.880073,
     "end_time": "2021-10-02T12:08:44.277601",
     "exception": false,
     "start_time": "2021-10-02T12:08:34.397528",
     "status": "completed"
    },
    "tags": []
   },
   "outputs": [
    {
     "name": "stderr",
     "output_type": "stream",
     "text": [
      "2021-10-02 12:08:40.427093: I tensorflow/stream_executor/platform/default/dso_loader.cc:49] Successfully opened dynamic library libcudart.so.11.0\n"
     ]
    }
   ],
   "source": [
    "# ====================================================\n",
    "# Library\n",
    "# ====================================================\n",
    "import os\n",
    "import gc\n",
    "import sys\n",
    "import json\n",
    "import time\n",
    "import math\n",
    "import random\n",
    "from datetime import datetime\n",
    "from collections import Counter, defaultdict\n",
    "\n",
    "import scipy as sp\n",
    "import numpy as np\n",
    "import pandas as pd\n",
    "pd.set_option('display.max_rows', 500)\n",
    "pd.set_option('display.max_columns', 500)\n",
    "pd.set_option('display.width', 1000)\n",
    "\n",
    "from tqdm.auto import tqdm\n",
    "import category_encoders as ce\n",
    "\n",
    "from sklearn import preprocessing\n",
    "from sklearn.metrics import mean_absolute_error\n",
    "from sklearn.model_selection import StratifiedKFold, GroupKFold, KFold\n",
    "\n",
    "import torch\n",
    "import torch.nn as nn\n",
    "import torch.optim as optim\n",
    "import torch.nn.init as init\n",
    "import torch.nn.functional as F\n",
    "from torch.utils.data import DataLoader, Dataset\n",
    "from torch.optim.lr_scheduler import CosineAnnealingWarmRestarts, CosineAnnealingLR, ReduceLROnPlateau\n",
    "\n",
    "from transformers import AdamW\n",
    "from transformers import get_linear_schedule_with_warmup, get_cosine_schedule_with_warmup\n",
    "\n",
    "import warnings\n",
    "warnings.filterwarnings(\"ignore\")\n",
    "\n",
    "if CFG.apex:\n",
    "    from apex import amp\n",
    "\n",
    "device = torch.device('cuda' if torch.cuda.is_available() else 'cpu')"
   ]
  },
  {
   "cell_type": "code",
   "execution_count": 4,
   "id": "6d76b09c",
   "metadata": {
    "execution": {
     "iopub.execute_input": "2021-10-02T12:08:44.314273Z",
     "iopub.status.busy": "2021-10-02T12:08:44.313507Z",
     "iopub.status.idle": "2021-10-02T12:08:51.973229Z",
     "shell.execute_reply": "2021-10-02T12:08:51.972664Z",
     "shell.execute_reply.started": "2021-10-02T10:33:05.771850Z"
    },
    "papermill": {
     "duration": 7.681206,
     "end_time": "2021-10-02T12:08:51.973371",
     "exception": false,
     "start_time": "2021-10-02T12:08:44.292165",
     "status": "completed"
    },
    "tags": []
   },
   "outputs": [
    {
     "name": "stderr",
     "output_type": "stream",
     "text": [
      "\u001b[34m\u001b[1mwandb\u001b[0m: W&B API key is configured (use `wandb login --relogin` to force relogin)\n",
      "\u001b[34m\u001b[1mwandb\u001b[0m: \u001b[33mWARNING\u001b[0m If you're specifying your api key in code, ensure this code is not shared publically.\n",
      "\u001b[34m\u001b[1mwandb\u001b[0m: \u001b[33mWARNING\u001b[0m Consider setting the WANDB_API_KEY environment variable, or running `wandb login` from the command line.\n",
      "\u001b[34m\u001b[1mwandb\u001b[0m: Appending key for api.wandb.ai to your netrc file: /root/.netrc\n",
      "\u001b[34m\u001b[1mwandb\u001b[0m: Currently logged in as: \u001b[33mremgalleu\u001b[0m (use `wandb login --relogin` to force relogin)\n"
     ]
    },
    {
     "name": "stdout",
     "output_type": "stream",
     "text": [
      "Successfull\n"
     ]
    },
    {
     "name": "stderr",
     "output_type": "stream",
     "text": [
      "\u001b[34m\u001b[1mwandb\u001b[0m: wandb version 0.12.3 is available!  To upgrade, please run:\n",
      "\u001b[34m\u001b[1mwandb\u001b[0m:  $ pip install wandb --upgrade\n",
      "2021-10-02 12:08:47.060825: I tensorflow/stream_executor/platform/default/dso_loader.cc:49] Successfully opened dynamic library libcudart.so.11.0\n"
     ]
    },
    {
     "data": {
      "text/html": [
       "\n",
       "                Tracking run with wandb version 0.12.1<br/>\n",
       "                Syncing run <strong style=\"color:#cdcd00\">rnn</strong> to <a href=\"https://wandb.ai\" target=\"_blank\">Weights & Biases</a> <a href=\"https://docs.wandb.com/integrations/jupyter.html\" target=\"_blank\">(Documentation)</a>.<br/>\n",
       "                Project page: <a href=\"https://wandb.ai/remgalleu/Ventilator-Pressure-Public\" target=\"_blank\">https://wandb.ai/remgalleu/Ventilator-Pressure-Public</a><br/>\n",
       "                Run page: <a href=\"https://wandb.ai/remgalleu/Ventilator-Pressure-Public/runs/ud691x5a\" target=\"_blank\">https://wandb.ai/remgalleu/Ventilator-Pressure-Public/runs/ud691x5a</a><br/>\n",
       "                Run data is saved locally in <code>/kaggle/working/wandb/run-20211002_120845-ud691x5a</code><br/><br/>\n",
       "            "
      ],
      "text/plain": [
       "<IPython.core.display.HTML object>"
      ]
     },
     "metadata": {},
     "output_type": "display_data"
    }
   ],
   "source": [
    "# ====================================================\n",
    "# wandb\n",
    "# ====================================================\n",
    "import wandb\n",
    "\n",
    "try:\n",
    "    wandb.login(key=\"d52c610c9bbeabcfcc8a34f5e08671c8dfae7bf2\")\n",
    "    anony = None\n",
    "    print(\"Successfull\")\n",
    "except:\n",
    "    anony = \"must\"\n",
    "    print('If you want to use your W&B account, go to Add-ons -> Secrets and provide your W&B access token. Use the Label name as wandb_api. \\nGet your W&B access token from here: https://wandb.ai/authorize')\n",
    "\n",
    "    \n",
    "def class2dict(f):\n",
    "    return dict((name, getattr(f, name)) for name in dir(f) if not name.startswith('__'))\n",
    "\n",
    "run = wandb.init(project=\"Ventilator-Pressure-Public\", \n",
    "                 name=CFG.model_name,\n",
    "                 config=class2dict(CFG),\n",
    "                 group=CFG.model_name,\n",
    "                 job_type=\"train\",\n",
    "                 anonymous=anony)"
   ]
  },
  {
   "cell_type": "code",
   "execution_count": 5,
   "id": "d1c4f079",
   "metadata": {
    "execution": {
     "iopub.execute_input": "2021-10-02T12:08:52.027601Z",
     "iopub.status.busy": "2021-10-02T12:08:52.026746Z",
     "iopub.status.idle": "2021-10-02T12:08:52.037082Z",
     "shell.execute_reply": "2021-10-02T12:08:52.037548Z",
     "shell.execute_reply.started": "2021-10-02T10:33:12.815203Z"
    },
    "papermill": {
     "duration": 0.042064,
     "end_time": "2021-10-02T12:08:52.037719",
     "exception": false,
     "start_time": "2021-10-02T12:08:51.995655",
     "status": "completed"
    },
    "tags": []
   },
   "outputs": [],
   "source": [
    "# ====================================================\n",
    "# Utils\n",
    "# ====================================================\n",
    "def get_score(y_trues, y_preds):\n",
    "    score = mean_absolute_error(y_trues, y_preds)\n",
    "    return score\n",
    "\n",
    "\n",
    "def init_logger(log_file=OUTPUT_DIR+'train.log'):\n",
    "    from logging import getLogger, INFO, FileHandler,  Formatter,  StreamHandler\n",
    "    logger = getLogger(__name__)\n",
    "    logger.setLevel(INFO)\n",
    "    handler1 = StreamHandler()\n",
    "    handler1.setFormatter(Formatter(\"%(message)s\"))\n",
    "    handler2 = FileHandler(filename=log_file)\n",
    "    handler2.setFormatter(Formatter(\"%(message)s\"))\n",
    "    logger.addHandler(handler1)\n",
    "    logger.addHandler(handler2)\n",
    "    return logger\n",
    "\n",
    "LOGGER = init_logger()\n",
    "\n",
    "\n",
    "def seed_everything(seed=42):\n",
    "    random.seed(seed)\n",
    "    os.environ['PYTHONHASHSEED'] = str(seed)\n",
    "    np.random.seed(seed)\n",
    "    torch.manual_seed(seed)\n",
    "    torch.cuda.manual_seed(seed)\n",
    "    torch.backends.cudnn.deterministic = True\n",
    "    \n",
    "seed_everything()"
   ]
  },
  {
   "cell_type": "code",
   "execution_count": 6,
   "id": "c5586ae2",
   "metadata": {
    "execution": {
     "iopub.execute_input": "2021-10-02T12:08:52.090205Z",
     "iopub.status.busy": "2021-10-02T12:08:52.089442Z",
     "iopub.status.idle": "2021-10-02T12:09:05.969100Z",
     "shell.execute_reply": "2021-10-02T12:09:05.968592Z",
     "shell.execute_reply.started": "2021-10-02T10:33:12.841565Z"
    },
    "papermill": {
     "duration": 13.910304,
     "end_time": "2021-10-02T12:09:05.969231",
     "exception": false,
     "start_time": "2021-10-02T12:08:52.058927",
     "status": "completed"
    },
    "tags": []
   },
   "outputs": [
    {
     "name": "stderr",
     "output_type": "stream",
     "text": [
      "\n",
      "CondaEnvException: Unable to determine environment\n",
      "\n",
      "Please re-run this command with one of the following options:\n",
      "\n",
      "* Provide an environment name via --name or -n\n",
      "* Re-run this command inside an activated conda environment.\n",
      "\n"
     ]
    },
    {
     "data": {
      "text/html": [
       "<div>\n",
       "<style scoped>\n",
       "    .dataframe tbody tr th:only-of-type {\n",
       "        vertical-align: middle;\n",
       "    }\n",
       "\n",
       "    .dataframe tbody tr th {\n",
       "        vertical-align: top;\n",
       "    }\n",
       "\n",
       "    .dataframe thead th {\n",
       "        text-align: right;\n",
       "    }\n",
       "</style>\n",
       "<table border=\"1\" class=\"dataframe\">\n",
       "  <thead>\n",
       "    <tr style=\"text-align: right;\">\n",
       "      <th></th>\n",
       "      <th>id</th>\n",
       "      <th>breath_id</th>\n",
       "      <th>R</th>\n",
       "      <th>C</th>\n",
       "      <th>time_step</th>\n",
       "      <th>u_in</th>\n",
       "      <th>u_out</th>\n",
       "      <th>pressure</th>\n",
       "    </tr>\n",
       "  </thead>\n",
       "  <tbody>\n",
       "    <tr>\n",
       "      <th>0</th>\n",
       "      <td>1</td>\n",
       "      <td>1</td>\n",
       "      <td>1</td>\n",
       "      <td>2</td>\n",
       "      <td>0.000000</td>\n",
       "      <td>0.080043</td>\n",
       "      <td>0</td>\n",
       "      <td>5.837492</td>\n",
       "    </tr>\n",
       "    <tr>\n",
       "      <th>1</th>\n",
       "      <td>2</td>\n",
       "      <td>1</td>\n",
       "      <td>1</td>\n",
       "      <td>2</td>\n",
       "      <td>0.033652</td>\n",
       "      <td>2.964399</td>\n",
       "      <td>0</td>\n",
       "      <td>5.907794</td>\n",
       "    </tr>\n",
       "    <tr>\n",
       "      <th>2</th>\n",
       "      <td>3</td>\n",
       "      <td>1</td>\n",
       "      <td>1</td>\n",
       "      <td>2</td>\n",
       "      <td>0.067514</td>\n",
       "      <td>3.157395</td>\n",
       "      <td>0</td>\n",
       "      <td>7.876254</td>\n",
       "    </tr>\n",
       "    <tr>\n",
       "      <th>3</th>\n",
       "      <td>4</td>\n",
       "      <td>1</td>\n",
       "      <td>1</td>\n",
       "      <td>2</td>\n",
       "      <td>0.101542</td>\n",
       "      <td>3.170056</td>\n",
       "      <td>0</td>\n",
       "      <td>11.742872</td>\n",
       "    </tr>\n",
       "    <tr>\n",
       "      <th>4</th>\n",
       "      <td>5</td>\n",
       "      <td>1</td>\n",
       "      <td>1</td>\n",
       "      <td>2</td>\n",
       "      <td>0.135756</td>\n",
       "      <td>3.271690</td>\n",
       "      <td>0</td>\n",
       "      <td>12.234987</td>\n",
       "    </tr>\n",
       "  </tbody>\n",
       "</table>\n",
       "</div>"
      ],
      "text/plain": [
       "   id  breath_id  R  C  time_step      u_in  u_out   pressure\n",
       "0   1          1  1  2   0.000000  0.080043      0   5.837492\n",
       "1   2          1  1  2   0.033652  2.964399      0   5.907794\n",
       "2   3          1  1  2   0.067514  3.157395      0   7.876254\n",
       "3   4          1  1  2   0.101542  3.170056      0  11.742872\n",
       "4   5          1  1  2   0.135756  3.271690      0  12.234987"
      ]
     },
     "metadata": {},
     "output_type": "display_data"
    },
    {
     "data": {
      "text/html": [
       "<div>\n",
       "<style scoped>\n",
       "    .dataframe tbody tr th:only-of-type {\n",
       "        vertical-align: middle;\n",
       "    }\n",
       "\n",
       "    .dataframe tbody tr th {\n",
       "        vertical-align: top;\n",
       "    }\n",
       "\n",
       "    .dataframe thead th {\n",
       "        text-align: right;\n",
       "    }\n",
       "</style>\n",
       "<table border=\"1\" class=\"dataframe\">\n",
       "  <thead>\n",
       "    <tr style=\"text-align: right;\">\n",
       "      <th></th>\n",
       "      <th>id</th>\n",
       "      <th>breath_id</th>\n",
       "      <th>R</th>\n",
       "      <th>C</th>\n",
       "      <th>time_step</th>\n",
       "      <th>u_in</th>\n",
       "      <th>u_out</th>\n",
       "    </tr>\n",
       "  </thead>\n",
       "  <tbody>\n",
       "    <tr>\n",
       "      <th>0</th>\n",
       "      <td>1</td>\n",
       "      <td>0</td>\n",
       "      <td>0</td>\n",
       "      <td>1</td>\n",
       "      <td>0.000000</td>\n",
       "      <td>0.000000</td>\n",
       "      <td>0</td>\n",
       "    </tr>\n",
       "    <tr>\n",
       "      <th>1</th>\n",
       "      <td>2</td>\n",
       "      <td>0</td>\n",
       "      <td>0</td>\n",
       "      <td>1</td>\n",
       "      <td>0.031904</td>\n",
       "      <td>2.141835</td>\n",
       "      <td>0</td>\n",
       "    </tr>\n",
       "    <tr>\n",
       "      <th>2</th>\n",
       "      <td>3</td>\n",
       "      <td>0</td>\n",
       "      <td>0</td>\n",
       "      <td>1</td>\n",
       "      <td>0.063827</td>\n",
       "      <td>2.750578</td>\n",
       "      <td>0</td>\n",
       "    </tr>\n",
       "    <tr>\n",
       "      <th>3</th>\n",
       "      <td>4</td>\n",
       "      <td>0</td>\n",
       "      <td>0</td>\n",
       "      <td>1</td>\n",
       "      <td>0.095751</td>\n",
       "      <td>3.101470</td>\n",
       "      <td>0</td>\n",
       "    </tr>\n",
       "    <tr>\n",
       "      <th>4</th>\n",
       "      <td>5</td>\n",
       "      <td>0</td>\n",
       "      <td>0</td>\n",
       "      <td>1</td>\n",
       "      <td>0.127644</td>\n",
       "      <td>3.307654</td>\n",
       "      <td>0</td>\n",
       "    </tr>\n",
       "  </tbody>\n",
       "</table>\n",
       "</div>"
      ],
      "text/plain": [
       "   id  breath_id  R  C  time_step      u_in  u_out\n",
       "0   1          0  0  1   0.000000  0.000000      0\n",
       "1   2          0  0  1   0.031904  2.141835      0\n",
       "2   3          0  0  1   0.063827  2.750578      0\n",
       "3   4          0  0  1   0.095751  3.101470      0\n",
       "4   5          0  0  1   0.127644  3.307654      0"
      ]
     },
     "metadata": {},
     "output_type": "display_data"
    },
    {
     "data": {
      "text/html": [
       "<div>\n",
       "<style scoped>\n",
       "    .dataframe tbody tr th:only-of-type {\n",
       "        vertical-align: middle;\n",
       "    }\n",
       "\n",
       "    .dataframe tbody tr th {\n",
       "        vertical-align: top;\n",
       "    }\n",
       "\n",
       "    .dataframe thead th {\n",
       "        text-align: right;\n",
       "    }\n",
       "</style>\n",
       "<table border=\"1\" class=\"dataframe\">\n",
       "  <thead>\n",
       "    <tr style=\"text-align: right;\">\n",
       "      <th></th>\n",
       "      <th>id</th>\n",
       "      <th>pressure</th>\n",
       "    </tr>\n",
       "  </thead>\n",
       "  <tbody>\n",
       "    <tr>\n",
       "      <th>0</th>\n",
       "      <td>1</td>\n",
       "      <td>0</td>\n",
       "    </tr>\n",
       "    <tr>\n",
       "      <th>1</th>\n",
       "      <td>2</td>\n",
       "      <td>0</td>\n",
       "    </tr>\n",
       "    <tr>\n",
       "      <th>2</th>\n",
       "      <td>3</td>\n",
       "      <td>0</td>\n",
       "    </tr>\n",
       "    <tr>\n",
       "      <th>3</th>\n",
       "      <td>4</td>\n",
       "      <td>0</td>\n",
       "    </tr>\n",
       "    <tr>\n",
       "      <th>4</th>\n",
       "      <td>5</td>\n",
       "      <td>0</td>\n",
       "    </tr>\n",
       "  </tbody>\n",
       "</table>\n",
       "</div>"
      ],
      "text/plain": [
       "   id  pressure\n",
       "0   1         0\n",
       "1   2         0\n",
       "2   3         0\n",
       "3   4         0\n",
       "4   5         0"
      ]
     },
     "metadata": {},
     "output_type": "display_data"
    }
   ],
   "source": [
    "# ====================================================\n",
    "# Data Loading\n",
    "# ====================================================\n",
    "train = pd.read_csv('../input/ventilator-pressure-prediction/train.csv')\n",
    "test = pd.read_csv('../input/ventilator-pressure-prediction/test.csv')\n",
    "sub = pd.read_csv('../input/ventilator-pressure-prediction/sample_submission.csv')\n",
    "\n",
    "for c in ['u_in']:\n",
    "    train[c] = np.log1p(train[c])\n",
    "    test[c] = np.log1p(test[c])\n",
    "    \n",
    "r_map = {5: 0, 20: 1, 50: 2}\n",
    "c_map = {10: 0, 20: 1, 50: 2}\n",
    "train['R'] = train['R'].map(r_map)\n",
    "test['R'] = test['R'].map(r_map)\n",
    "train['C'] = train['C'].map(c_map)\n",
    "test['C'] = test['C'].map(c_map)\n",
    "\n",
    "display(train.head())\n",
    "display(test.head())\n",
    "display(sub.head())"
   ]
  },
  {
   "cell_type": "code",
   "execution_count": 7,
   "id": "45f3fdb7",
   "metadata": {
    "execution": {
     "iopub.execute_input": "2021-10-02T12:09:06.021321Z",
     "iopub.status.busy": "2021-10-02T12:09:06.020055Z",
     "iopub.status.idle": "2021-10-02T12:09:06.408406Z",
     "shell.execute_reply": "2021-10-02T12:09:06.409022Z",
     "shell.execute_reply.started": "2021-10-02T10:33:25.860931Z"
    },
    "papermill": {
     "duration": 0.419646,
     "end_time": "2021-10-02T12:09:06.409203",
     "exception": false,
     "start_time": "2021-10-02T12:09:05.989557",
     "status": "completed"
    },
    "tags": []
   },
   "outputs": [],
   "source": [
    "# ====================================================\n",
    "# FE\n",
    "# ====================================================\n",
    "def add_feature(df):\n",
    "    # breath_time\n",
    "    df['breath_time'] = df['time_step'] - df['time_step'].shift(1)\n",
    "    df.loc[df['time_step'] == 0, 'breath_time'] = 0\n",
    "    # u_in_time\n",
    "    df['u_in_time'] = df['u_in'] - df['u_in'].shift(1)\n",
    "    df.loc[df['time_step'] == 0, 'u_in_time'] = 0\n",
    "    return df\n",
    "\n",
    "\n",
    "train = add_feature(train)\n",
    "test = add_feature(test)"
   ]
  },
  {
   "cell_type": "code",
   "execution_count": 8,
   "id": "ec56b4de",
   "metadata": {
    "execution": {
     "iopub.execute_input": "2021-10-02T12:09:06.457074Z",
     "iopub.status.busy": "2021-10-02T12:09:06.456284Z",
     "iopub.status.idle": "2021-10-02T12:09:07.968986Z",
     "shell.execute_reply": "2021-10-02T12:09:07.970684Z",
     "shell.execute_reply.started": "2021-10-02T10:33:26.250679Z"
    },
    "papermill": {
     "duration": 1.542787,
     "end_time": "2021-10-02T12:09:07.970853",
     "exception": false,
     "start_time": "2021-10-02T12:09:06.428066",
     "status": "completed"
    },
    "tags": []
   },
   "outputs": [
    {
     "name": "stdout",
     "output_type": "stream",
     "text": [
      "fold\n",
      "0    1207200\n",
      "1    1207200\n",
      "2    1207200\n",
      "3    1207200\n",
      "4    1207200\n",
      "dtype: int64\n"
     ]
    }
   ],
   "source": [
    "# ====================================================\n",
    "# CV split\n",
    "# ====================================================\n",
    "Fold = GroupKFold(n_splits=5)\n",
    "groups = train['breath_id'].values\n",
    "for n, (train_index, val_index) in enumerate(Fold.split(train, train['pressure'], groups)):\n",
    "    train.loc[val_index, 'fold'] = int(n)\n",
    "train['fold'] = train['fold'].astype(int)\n",
    "print(train.groupby('fold').size())"
   ]
  },
  {
   "cell_type": "code",
   "execution_count": 9,
   "id": "8366b887",
   "metadata": {
    "execution": {
     "iopub.execute_input": "2021-10-02T12:09:08.022963Z",
     "iopub.status.busy": "2021-10-02T12:09:08.021845Z",
     "iopub.status.idle": "2021-10-02T12:09:08.023572Z",
     "shell.execute_reply": "2021-10-02T12:09:08.024040Z",
     "shell.execute_reply.started": "2021-10-02T10:33:27.692392Z"
    },
    "papermill": {
     "duration": 0.032829,
     "end_time": "2021-10-02T12:09:08.024194",
     "exception": false,
     "start_time": "2021-10-02T12:09:07.991365",
     "status": "completed"
    },
    "tags": []
   },
   "outputs": [],
   "source": [
    "# ====================================================\n",
    "# Dataset\n",
    "# ====================================================\n",
    "class TrainDataset(Dataset):\n",
    "    def __init__(self, df):\n",
    "        self.df = df\n",
    "        self.groups = df.groupby('breath_id').groups\n",
    "        self.keys = list(self.groups.keys())\n",
    "        \n",
    "    def __len__(self):\n",
    "        return len(self.groups)\n",
    "\n",
    "    def __getitem__(self, idx):\n",
    "        indexes = self.groups[self.keys[idx]]\n",
    "        df = self.df.iloc[indexes]\n",
    "        cate_seq_x = torch.LongTensor(df[CFG.cate_seq_cols].values)\n",
    "        cont_seq_x = torch.FloatTensor(df[CFG.cont_seq_cols].values)\n",
    "        u_out = torch.LongTensor(df['u_out'].values)\n",
    "        label = torch.FloatTensor(df['pressure'].values)\n",
    "        return cate_seq_x, cont_seq_x, u_out, label\n",
    "    \n",
    "\n",
    "class TestDataset(Dataset):\n",
    "    def __init__(self, df):\n",
    "        self.df = df\n",
    "        self.groups = df.groupby('breath_id').groups\n",
    "        self.keys = list(self.groups.keys())\n",
    "        \n",
    "    def __len__(self):\n",
    "        return len(self.groups)\n",
    "\n",
    "    def __getitem__(self, idx):\n",
    "        indexes = self.groups[self.keys[idx]]\n",
    "        df = self.df.iloc[indexes]\n",
    "        cate_seq_x = torch.LongTensor(df[CFG.cate_seq_cols].values)\n",
    "        cont_seq_x = torch.FloatTensor(df[CFG.cont_seq_cols].values)\n",
    "        return cate_seq_x, cont_seq_x"
   ]
  },
  {
   "cell_type": "code",
   "execution_count": 10,
   "id": "a458d052",
   "metadata": {
    "execution": {
     "iopub.execute_input": "2021-10-02T12:09:08.086223Z",
     "iopub.status.busy": "2021-10-02T12:09:08.085418Z",
     "iopub.status.idle": "2021-10-02T12:09:08.088866Z",
     "shell.execute_reply": "2021-10-02T12:09:08.089761Z",
     "shell.execute_reply.started": "2021-10-02T10:33:27.707328Z"
    },
    "papermill": {
     "duration": 0.038663,
     "end_time": "2021-10-02T12:09:08.089971",
     "exception": false,
     "start_time": "2021-10-02T12:09:08.051308",
     "status": "completed"
    },
    "tags": []
   },
   "outputs": [],
   "source": [
    "# ====================================================\n",
    "# Model\n",
    "# ====================================================\n",
    "class CustomModel(nn.Module):\n",
    "    def __init__(self, cfg):\n",
    "        super().__init__()\n",
    "        self.cfg = cfg\n",
    "        self.hidden_size = cfg.hidden_size\n",
    "        self.r_emb = nn.Embedding(3, 2, padding_idx=0)\n",
    "        self.c_emb = nn.Embedding(3, 2, padding_idx=0)\n",
    "        self.seq_emb = nn.Sequential(\n",
    "            nn.Linear(4 + len(cfg.cont_seq_cols), self.hidden_size),\n",
    "            nn.LayerNorm(self.hidden_size),\n",
    "            nn.ReLU(),\n",
    "            nn.Dropout(0.2),\n",
    "        )\n",
    "        self.lstm = nn.LSTM(self.hidden_size, self.hidden_size, \n",
    "                            dropout=0.2, batch_first=True, bidirectional=True)\n",
    "        self.head = nn.Sequential(\n",
    "            nn.Linear(self.hidden_size * 2, self.hidden_size * 2),\n",
    "            nn.LayerNorm(self.hidden_size * 2),\n",
    "            nn.ReLU(),\n",
    "            nn.Dropout(0.),\n",
    "            nn.Linear(self.hidden_size * 2, 1),\n",
    "        )\n",
    "        for n, m in self.named_modules():\n",
    "            if isinstance(m, nn.LSTM):\n",
    "                print(f'init {m}')\n",
    "                for param in m.parameters():\n",
    "                    if len(param.shape) >= 2:\n",
    "                        nn.init.orthogonal_(param.data)\n",
    "                    else:\n",
    "                        nn.init.normal_(param.data)\n",
    "            elif isinstance(m, nn.GRU):\n",
    "                print(f\"init {m}\")\n",
    "                for param in m.parameters():\n",
    "                    if len(param.shape) >= 2:\n",
    "                        init.orthogonal_(param.data)\n",
    "                    else:\n",
    "                        init.normal_(param.data)\n",
    "\n",
    "    def forward(self, cate_seq_x, cont_seq_x):\n",
    "        bs = cont_seq_x.size(0)\n",
    "        r_emb = self.r_emb(cate_seq_x[:,:,0]).view(bs, 80, -1)\n",
    "        c_emb = self.c_emb(cate_seq_x[:,:,1]).view(bs, 80, -1)\n",
    "        seq_x = torch.cat((r_emb, c_emb, cont_seq_x), 2)\n",
    "        seq_emb = self.seq_emb(seq_x)\n",
    "        seq_emb, _ = self.lstm(seq_emb)\n",
    "        output = self.head(seq_emb).view(bs, -1)\n",
    "        return output"
   ]
  },
  {
   "cell_type": "code",
   "execution_count": 11,
   "id": "8c3a9985",
   "metadata": {
    "execution": {
     "iopub.execute_input": "2021-10-02T12:09:08.158122Z",
     "iopub.status.busy": "2021-10-02T12:09:08.148547Z",
     "iopub.status.idle": "2021-10-02T12:09:08.162394Z",
     "shell.execute_reply": "2021-10-02T12:09:08.163090Z",
     "shell.execute_reply.started": "2021-10-02T10:33:27.725448Z"
    },
    "papermill": {
     "duration": 0.051842,
     "end_time": "2021-10-02T12:09:08.163324",
     "exception": false,
     "start_time": "2021-10-02T12:09:08.111482",
     "status": "completed"
    },
    "tags": []
   },
   "outputs": [],
   "source": [
    "# ====================================================\n",
    "# helper function\n",
    "# ====================================================\n",
    "class AverageMeter(object):\n",
    "    \"\"\"Computes and stores the average and current value\"\"\"\n",
    "    def __init__(self):\n",
    "        self.reset()\n",
    "\n",
    "    def reset(self):\n",
    "        self.val = 0\n",
    "        self.avg = 0\n",
    "        self.sum = 0\n",
    "        self.count = 0\n",
    "\n",
    "    def update(self, val, n=1):\n",
    "        self.val = val\n",
    "        self.sum += val * n\n",
    "        self.count += n\n",
    "        self.avg = self.sum / self.count\n",
    "\n",
    "\n",
    "def asMinutes(s):\n",
    "    m = math.floor(s / 60)\n",
    "    s -= m * 60\n",
    "    return '%dm %ds' % (m, s)\n",
    "\n",
    "\n",
    "def timeSince(since, percent):\n",
    "    now = time.time()\n",
    "    s = now - since\n",
    "    es = s / (percent)\n",
    "    rs = es - s\n",
    "    return '%s (remain %s)' % (asMinutes(s), asMinutes(rs))\n",
    "\n",
    "\n",
    "def train_fn(fold, train_loader, model, criterion, optimizer, epoch, scheduler, device):\n",
    "    model.train()\n",
    "    losses = AverageMeter()\n",
    "    start = end = time.time()\n",
    "    for step, (cate_seq_x, cont_seq_x, u_out, y) in enumerate(train_loader):\n",
    "        loss_mask = u_out == 0\n",
    "        cate_seq_x, cont_seq_x, y = cate_seq_x.to(device), cont_seq_x.to(device), y.to(device)\n",
    "        batch_size = cont_seq_x.size(0)\n",
    "        pred = model(cate_seq_x, cont_seq_x)\n",
    "        loss = 2. * criterion(pred[loss_mask], y[loss_mask]) + criterion(pred[loss_mask == 0], y[loss_mask == 0])\n",
    "        losses.update(loss.item(), batch_size)\n",
    "        if CFG.gradient_accumulation_steps > 1:\n",
    "            loss = loss / CFG.gradient_accumulation_steps\n",
    "        if CFG.apex:\n",
    "            with amp.scale_loss(loss, optimizer) as scaled_loss:\n",
    "                scaled_loss.backward()\n",
    "        else:\n",
    "            loss.backward()\n",
    "        grad_norm = torch.nn.utils.clip_grad_norm_(model.parameters(), CFG.max_grad_norm)\n",
    "        if (step + 1) % CFG.gradient_accumulation_steps == 0:\n",
    "            optimizer.step()\n",
    "            optimizer.zero_grad()\n",
    "            if CFG.batch_scheduler:\n",
    "                scheduler.step()\n",
    "        end = time.time()\n",
    "        if step % CFG.print_freq == 0 or step == (len(train_loader)-1):\n",
    "            print('Epoch: [{0}][{1}/{2}] '\n",
    "                  'Elapsed {remain:s} '\n",
    "                  'Loss: {loss.val:.4f}({loss.avg:.4f}) '\n",
    "                  'Grad: {grad_norm:.4f}  '\n",
    "                  'LR: {lr:.6f}  '\n",
    "                  .format(\n",
    "                   epoch+1, step, len(train_loader),\n",
    "                   remain=timeSince(start, float(step+1)/len(train_loader)),\n",
    "                   loss=losses,\n",
    "                   grad_norm=grad_norm,\n",
    "                   lr=scheduler.get_lr()[0],\n",
    "                   ))\n",
    "        wandb.log({f\"[fold{fold}] loss\": losses.val,\n",
    "                   f\"[fold{fold}] lr\": scheduler.get_lr()[0]})\n",
    "    return losses.avg\n",
    "\n",
    "\n",
    "def valid_fn(valid_loader, model, criterion, device):\n",
    "    model.eval()\n",
    "    preds = []\n",
    "    losses = AverageMeter()\n",
    "    start = end = time.time()\n",
    "    for step, (cate_seq_x, cont_seq_x, u_out, y) in enumerate(valid_loader):\n",
    "        loss_mask = u_out == 0\n",
    "        cate_seq_x, cont_seq_x, y = cate_seq_x.to(device), cont_seq_x.to(device), y.to(device)\n",
    "        batch_size = cont_seq_x.size(0)\n",
    "        with torch.no_grad():\n",
    "            pred = model(cate_seq_x, cont_seq_x)\n",
    "        loss = 2. * criterion(pred[loss_mask], y[loss_mask]) + criterion(pred[loss_mask == 0], y[loss_mask == 0])\n",
    "        losses.update(loss.item(), batch_size)\n",
    "        preds.append(pred.view(-1).detach().cpu().numpy())\n",
    "        if CFG.gradient_accumulation_steps > 1:\n",
    "            loss = loss / CFG.gradient_accumulation_steps\n",
    "        end = time.time()\n",
    "        if step % CFG.print_freq == 0 or step == (len(valid_loader)-1):\n",
    "            print('EVAL: [{0}/{1}] '\n",
    "                  'Elapsed {remain:s} '\n",
    "                  'Loss: {loss.val:.4f}({loss.avg:.4f}) '\n",
    "                  .format(\n",
    "                   step, len(valid_loader),\n",
    "                   remain=timeSince(start, float(step+1)/len(valid_loader)),\n",
    "                   loss=losses,\n",
    "                   ))\n",
    "    preds = np.concatenate(preds)\n",
    "    return losses.avg, preds\n",
    "\n",
    "\n",
    "def inference_fn(test_loader, model, device):\n",
    "    model.eval()\n",
    "    model.to(device)\n",
    "    preds = []\n",
    "    tk0 = tqdm(enumerate(test_loader), total=len(test_loader))\n",
    "    for step, (cate_seq_x, cont_seq_x) in tk0:\n",
    "        cate_seq_x, cont_seq_x = cate_seq_x.to(device), cont_seq_x.to(device)\n",
    "        with torch.no_grad():\n",
    "            pred = model(cate_seq_x, cont_seq_x)\n",
    "        preds.append(pred.view(-1).detach().cpu().numpy())\n",
    "    preds = np.concatenate(preds)\n",
    "    return preds"
   ]
  },
  {
   "cell_type": "code",
   "execution_count": 12,
   "id": "325264af",
   "metadata": {
    "execution": {
     "iopub.execute_input": "2021-10-02T12:09:08.229278Z",
     "iopub.status.busy": "2021-10-02T12:09:08.228188Z",
     "iopub.status.idle": "2021-10-02T12:09:08.232142Z",
     "shell.execute_reply": "2021-10-02T12:09:08.233189Z",
     "shell.execute_reply.started": "2021-10-02T10:33:27.762666Z"
    },
    "papermill": {
     "duration": 0.04676,
     "end_time": "2021-10-02T12:09:08.233414",
     "exception": false,
     "start_time": "2021-10-02T12:09:08.186654",
     "status": "completed"
    },
    "tags": []
   },
   "outputs": [],
   "source": [
    "# ====================================================\n",
    "# train loop\n",
    "# ====================================================\n",
    "def train_loop(folds, fold):\n",
    "\n",
    "    LOGGER.info(f\"========== fold: {fold} training ==========\")\n",
    "\n",
    "    # ====================================================\n",
    "    # loader\n",
    "    # ====================================================\n",
    "    trn_idx = folds[folds['fold'] != fold].index\n",
    "    val_idx = folds[folds['fold'] == fold].index\n",
    "    \n",
    "    train_folds = train.loc[trn_idx].reset_index(drop=True)\n",
    "    valid_folds = train.loc[val_idx].reset_index(drop=True)\n",
    "    y_true = valid_folds['pressure'].values\n",
    "    non_expiratory_phase_val_idx = valid_folds[valid_folds['u_out'] == 0].index # The expiratory phase is not scored\n",
    "\n",
    "    train_dataset = TrainDataset(train_folds)\n",
    "    valid_dataset = TrainDataset(valid_folds)\n",
    "\n",
    "    train_loader = DataLoader(train_dataset,\n",
    "                              batch_size=CFG.batch_size,\n",
    "                              shuffle=True,\n",
    "                              num_workers=CFG.num_workers, pin_memory=True, drop_last=True)\n",
    "    valid_loader = DataLoader(valid_dataset,\n",
    "                              batch_size=CFG.batch_size,\n",
    "                              shuffle=False,\n",
    "                              num_workers=CFG.num_workers, pin_memory=True, drop_last=False)\n",
    "\n",
    "    # ====================================================\n",
    "    # model & optimizer\n",
    "    # ====================================================\n",
    "    model = CustomModel(CFG)\n",
    "    model.to(device)\n",
    "\n",
    "    optimizer = AdamW(model.parameters(), lr=CFG.lr, weight_decay=CFG.weight_decay)\n",
    "    num_train_steps = int(len(train_folds) / CFG.batch_size * CFG.epochs)\n",
    "    \n",
    "    def get_scheduler(optimizer):\n",
    "        if CFG.scheduler=='linear':\n",
    "            scheduler = get_linear_schedule_with_warmup(\n",
    "                optimizer, num_warmup_steps=CFG.num_warmup_steps, num_training_steps=num_train_steps\n",
    "            )\n",
    "        elif CFG.scheduler=='cosine':\n",
    "            scheduler = get_cosine_schedule_with_warmup(\n",
    "                optimizer, num_warmup_steps=CFG.num_warmup_steps, num_training_steps=num_train_steps, num_cycles=CFG.num_cycles\n",
    "            )\n",
    "        elif CFG.scheduler=='ReduceLROnPlateau':\n",
    "            scheduler = ReduceLROnPlateau(optimizer, mode='min', factor=CFG.factor, patience=CFG.patience, verbose=True, eps=CFG.eps)\n",
    "        elif CFG.scheduler=='CosineAnnealingLR':\n",
    "            scheduler = CosineAnnealingLR(optimizer, T_max=CFG.T_max, eta_min=CFG.min_lr, last_epoch=-1)\n",
    "        elif CFG.scheduler=='CosineAnnealingWarmRestarts':\n",
    "            scheduler = CosineAnnealingWarmRestarts(optimizer, T_0=CFG.T_0, T_mult=1, eta_min=CFG.min_lr, last_epoch=-1)\n",
    "        return scheduler\n",
    "\n",
    "    scheduler = get_scheduler(optimizer)\n",
    "\n",
    "    # ====================================================\n",
    "    # apex\n",
    "    # ====================================================\n",
    "    if CFG.apex:\n",
    "        model, optimizer = amp.initialize(model, optimizer, opt_level='O1', verbosity=0)\n",
    "\n",
    "    # ====================================================\n",
    "    # loop\n",
    "    # ====================================================\n",
    "    criterion = nn.L1Loss()\n",
    "\n",
    "    best_score = np.inf\n",
    "\n",
    "    for epoch in range(CFG.epochs):\n",
    "\n",
    "        start_time = time.time()\n",
    "\n",
    "        # train\n",
    "        avg_loss = train_fn(fold, train_loader, model, criterion, optimizer, epoch, scheduler, device)\n",
    "\n",
    "        # eval\n",
    "        avg_val_loss, preds = valid_fn(valid_loader, model, criterion, device)\n",
    "        \n",
    "        if isinstance(scheduler, ReduceLROnPlateau):\n",
    "            scheduler.step(avg_val_loss)\n",
    "        elif isinstance(scheduler, CosineAnnealingLR):\n",
    "            scheduler.step()\n",
    "        elif isinstance(scheduler, CosineAnnealingWarmRestarts):\n",
    "            scheduler.step()\n",
    "\n",
    "        # scoring\n",
    "        score = get_score(y_true[non_expiratory_phase_val_idx], preds[non_expiratory_phase_val_idx])\n",
    "\n",
    "        elapsed = time.time() - start_time\n",
    "\n",
    "        LOGGER.info(f'Epoch {epoch+1} - avg_train_loss: {avg_loss:.4f}  avg_val_loss: {avg_val_loss:.4f}  time: {elapsed:.0f}s')\n",
    "        LOGGER.info(f'Epoch {epoch+1} - MAE Score (without expiratory phase): {score:.4f}')\n",
    "        wandb.log({f\"[fold{fold}] epoch\": epoch+1, \n",
    "                   f\"[fold{fold}] avg_train_loss\": avg_loss, \n",
    "                   f\"[fold{fold}] avg_val_loss\": avg_val_loss,\n",
    "                   f\"[fold{fold}] score\": score})\n",
    "        \n",
    "        if score < best_score:\n",
    "            best_score = score\n",
    "            LOGGER.info(f'Epoch {epoch+1} - Save Best Score: {score:.4f} Model')\n",
    "            torch.save({'model': model.state_dict(),\n",
    "                        'preds': preds},\n",
    "                        OUTPUT_DIR+f\"fold{fold}_best.pth\")\n",
    "            \n",
    "    preds = torch.load(OUTPUT_DIR+f\"fold{fold}_best.pth\", map_location=torch.device('cpu'))['preds']\n",
    "    valid_folds['preds'] = preds\n",
    "\n",
    "    torch.cuda.empty_cache()\n",
    "    gc.collect()\n",
    "    \n",
    "    return valid_folds"
   ]
  },
  {
   "cell_type": "code",
   "execution_count": 13,
   "id": "264a7dc2",
   "metadata": {
    "execution": {
     "iopub.execute_input": "2021-10-02T12:09:08.294114Z",
     "iopub.status.busy": "2021-10-02T12:09:08.293132Z",
     "iopub.status.idle": "2021-10-02T12:09:08.295481Z",
     "shell.execute_reply": "2021-10-02T12:09:08.294868Z",
     "shell.execute_reply.started": "2021-10-02T10:33:27.790537Z"
    },
    "papermill": {
     "duration": 0.035419,
     "end_time": "2021-10-02T12:09:08.295627",
     "exception": false,
     "start_time": "2021-10-02T12:09:08.260208",
     "status": "completed"
    },
    "tags": []
   },
   "outputs": [],
   "source": [
    "# ====================================================\n",
    "# main\n",
    "# ====================================================\n",
    "def main():\n",
    "    \n",
    "    \"\"\"\n",
    "    Prepare: 1.train 2.test\n",
    "    \"\"\"\n",
    "    \n",
    "    def get_result(result_df):\n",
    "        preds = result_df['preds'].values\n",
    "        labels = result_df['pressure'].values\n",
    "        non_expiratory_phase_val_idx = result_df[result_df['u_out'] == 0].index # The expiratory phase is not scored\n",
    "        score = get_score(labels[non_expiratory_phase_val_idx], preds[non_expiratory_phase_val_idx])\n",
    "        LOGGER.info(f'Score (without expiratory phase): {score:<.4f}')\n",
    "    \n",
    "    if CFG.train:\n",
    "        # train \n",
    "        oof_df = pd.DataFrame()\n",
    "        for fold in range(CFG.n_fold):\n",
    "            if fold in CFG.trn_fold:\n",
    "                _oof_df = train_loop(train, fold)\n",
    "                oof_df = pd.concat([oof_df, _oof_df])\n",
    "                LOGGER.info(f\"========== fold: {fold} result ==========\")\n",
    "                get_result(_oof_df)\n",
    "        # CV result\n",
    "        LOGGER.info(f\"========== CV ==========\")\n",
    "        get_result(oof_df)\n",
    "        # save result\n",
    "        oof_df.to_csv(OUTPUT_DIR+'oof_df.csv', index=False)\n",
    "    \n",
    "    if CFG.inference:\n",
    "        test_dataset = TestDataset(test)\n",
    "        test_loader = DataLoader(test_dataset, batch_size=CFG.batch_size * 2, shuffle=False, num_workers=CFG.num_workers, pin_memory=True)\n",
    "        for fold in CFG.trn_fold:\n",
    "            model = CustomModel(CFG)\n",
    "            path = OUTPUT_DIR+f\"fold{fold}_best.pth\"\n",
    "            state = torch.load(path, map_location=torch.device('cpu'))\n",
    "            model.load_state_dict(state['model'])\n",
    "            predictions = inference_fn(test_loader, model, device)\n",
    "            test[f'fold{fold}'] = predictions\n",
    "            del state, predictions; gc.collect()\n",
    "            torch.cuda.empty_cache()\n",
    "        # submission\n",
    "        test['pressure'] = test[[f'fold{fold}' for fold in range(CFG.n_fold)]].mean(1)\n",
    "        test[['id', 'pressure']+[f'fold{fold}' for fold in range(CFG.n_fold)]].to_csv(OUTPUT_DIR+'raw_submission.csv', index=False)\n",
    "        test[['id', 'pressure']].to_csv(OUTPUT_DIR+'submission.csv', index=False)\n",
    "    \n",
    "    wandb.finish()"
   ]
  },
  {
   "cell_type": "code",
   "execution_count": 14,
   "id": "664128ff",
   "metadata": {
    "execution": {
     "iopub.execute_input": "2021-10-02T12:09:08.354531Z",
     "iopub.status.busy": "2021-10-02T12:09:08.345523Z",
     "iopub.status.idle": "2021-10-02T13:28:01.041483Z",
     "shell.execute_reply": "2021-10-02T13:28:01.041051Z",
     "shell.execute_reply.started": "2021-10-02T10:33:27.820937Z"
    },
    "papermill": {
     "duration": 4732.721229,
     "end_time": "2021-10-02T13:28:01.041614",
     "exception": false,
     "start_time": "2021-10-02T12:09:08.320385",
     "status": "completed"
    },
    "tags": []
   },
   "outputs": [
    {
     "name": "stderr",
     "output_type": "stream",
     "text": [
      "========== fold: 0 training ==========\n"
     ]
    },
    {
     "name": "stdout",
     "output_type": "stream",
     "text": [
      "init LSTM(64, 64, batch_first=True, dropout=0.2, bidirectional=True)\n",
      "Epoch: [1][0/943] Elapsed 0m 0s (remain 11m 13s) Loss: 42.1867(42.1867) Grad: 30.7141  LR: 0.005000  \n",
      "Epoch: [1][100/943] Elapsed 0m 11s (remain 1m 32s) Loss: 9.7079(18.5723) Grad: 27.6273  LR: 0.005000  \n",
      "Epoch: [1][200/943] Elapsed 0m 21s (remain 1m 18s) Loss: 4.5978(12.1808) Grad: 46.6698  LR: 0.005000  \n",
      "Epoch: [1][300/943] Elapsed 0m 32s (remain 1m 8s) Loss: 3.6194(9.5902) Grad: 30.7479  LR: 0.005000  \n",
      "Epoch: [1][400/943] Elapsed 0m 42s (remain 0m 57s) Loss: 3.5849(8.2343) Grad: 15.6006  LR: 0.005000  \n",
      "Epoch: [1][500/943] Elapsed 0m 52s (remain 0m 46s) Loss: 4.8776(7.3472) Grad: 49.1285  LR: 0.005000  \n",
      "Epoch: [1][600/943] Elapsed 1m 2s (remain 0m 35s) Loss: 3.1692(6.7095) Grad: 16.0577  LR: 0.005000  \n",
      "Epoch: [1][700/943] Elapsed 1m 13s (remain 0m 25s) Loss: 3.2046(6.2384) Grad: 18.0597  LR: 0.005000  \n",
      "Epoch: [1][800/943] Elapsed 1m 23s (remain 0m 14s) Loss: 3.6701(5.8619) Grad: 24.2422  LR: 0.005000  \n",
      "Epoch: [1][900/943] Elapsed 1m 33s (remain 0m 4s) Loss: 3.3513(5.5797) Grad: 29.2930  LR: 0.005000  \n",
      "Epoch: [1][942/943] Elapsed 1m 38s (remain 0m 0s) Loss: 3.0061(5.4777) Grad: 36.2385  LR: 0.005000  \n",
      "EVAL: [0/236] Elapsed 0m 0s (remain 2m 11s) Loss: 2.9004(2.9004) \n",
      "EVAL: [100/236] Elapsed 0m 9s (remain 0m 13s) Loss: 2.6986(2.8450) \n",
      "EVAL: [200/236] Elapsed 0m 18s (remain 0m 3s) Loss: 2.8328(2.8324) \n"
     ]
    },
    {
     "name": "stderr",
     "output_type": "stream",
     "text": [
      "Epoch 1 - avg_train_loss: 5.4777  avg_val_loss: 2.8339  time: 121s\n",
      "Epoch 1 - MAE Score (without expiratory phase): 1.2079\n",
      "Epoch 1 - Save Best Score: 1.2079 Model\n"
     ]
    },
    {
     "name": "stdout",
     "output_type": "stream",
     "text": [
      "EVAL: [235/236] Elapsed 0m 21s (remain 0m 0s) Loss: 2.4933(2.8339) \n",
      "Epoch: [2][0/943] Elapsed 0m 0s (remain 7m 53s) Loss: 2.8398(2.8398) Grad: 17.6497  LR: 0.004990  \n",
      "Epoch: [2][100/943] Elapsed 0m 11s (remain 1m 36s) Loss: 4.1900(3.2174) Grad: 65.8356  LR: 0.004990  \n",
      "Epoch: [2][200/943] Elapsed 0m 21s (remain 1m 19s) Loss: 2.9325(3.2332) Grad: 17.1712  LR: 0.004990  \n",
      "Epoch: [2][300/943] Elapsed 0m 31s (remain 1m 7s) Loss: 3.4572(3.1972) Grad: 26.8499  LR: 0.004990  \n",
      "Epoch: [2][400/943] Elapsed 0m 42s (remain 0m 57s) Loss: 2.8838(3.1867) Grad: 40.7367  LR: 0.004990  \n",
      "Epoch: [2][500/943] Elapsed 0m 52s (remain 0m 46s) Loss: 2.8084(3.1564) Grad: 18.4096  LR: 0.004990  \n",
      "Epoch: [2][600/943] Elapsed 1m 2s (remain 0m 35s) Loss: 3.4701(3.1189) Grad: 47.9236  LR: 0.004990  \n",
      "Epoch: [2][700/943] Elapsed 1m 12s (remain 0m 25s) Loss: 2.7224(3.0776) Grad: 28.0150  LR: 0.004990  \n",
      "Epoch: [2][800/943] Elapsed 1m 23s (remain 0m 14s) Loss: 3.5705(3.0570) Grad: 35.5448  LR: 0.004990  \n",
      "Epoch: [2][900/943] Elapsed 1m 33s (remain 0m 4s) Loss: 3.1189(3.0388) Grad: 32.4259  LR: 0.004990  \n",
      "Epoch: [2][942/943] Elapsed 1m 37s (remain 0m 0s) Loss: 2.8176(3.0290) Grad: 24.7272  LR: 0.004990  \n",
      "EVAL: [0/236] Elapsed 0m 0s (remain 2m 2s) Loss: 2.7802(2.7802) \n",
      "EVAL: [100/236] Elapsed 0m 9s (remain 0m 13s) Loss: 2.3005(2.5240) \n",
      "EVAL: [200/236] Elapsed 0m 19s (remain 0m 3s) Loss: 2.5453(2.5055) \n"
     ]
    },
    {
     "name": "stderr",
     "output_type": "stream",
     "text": [
      "Epoch 2 - avg_train_loss: 3.0290  avg_val_loss: 2.5013  time: 120s\n",
      "Epoch 2 - MAE Score (without expiratory phase): 1.0566\n",
      "Epoch 2 - Save Best Score: 1.0566 Model\n"
     ]
    },
    {
     "name": "stdout",
     "output_type": "stream",
     "text": [
      "EVAL: [235/236] Elapsed 0m 22s (remain 0m 0s) Loss: 2.3272(2.5013) \n",
      "Epoch: [3][0/943] Elapsed 0m 0s (remain 9m 3s) Loss: 2.6754(2.6754) Grad: 10.9325  LR: 0.004966  \n",
      "Epoch: [3][100/943] Elapsed 0m 11s (remain 1m 32s) Loss: 2.4597(2.7982) Grad: 25.5816  LR: 0.004966  \n",
      "Epoch: [3][200/943] Elapsed 0m 22s (remain 1m 21s) Loss: 2.5997(2.8158) Grad: 19.4485  LR: 0.004966  \n",
      "Epoch: [3][300/943] Elapsed 0m 32s (remain 1m 8s) Loss: 2.5155(2.8199) Grad: 41.6341  LR: 0.004966  \n",
      "Epoch: [3][400/943] Elapsed 0m 42s (remain 0m 57s) Loss: 2.8067(2.7877) Grad: 24.7639  LR: 0.004966  \n",
      "Epoch: [3][500/943] Elapsed 0m 52s (remain 0m 46s) Loss: 2.3341(2.7921) Grad: 30.9253  LR: 0.004966  \n",
      "Epoch: [3][600/943] Elapsed 1m 2s (remain 0m 35s) Loss: 2.3596(2.7797) Grad: 19.9531  LR: 0.004966  \n",
      "Epoch: [3][700/943] Elapsed 1m 12s (remain 0m 25s) Loss: 2.8235(2.7635) Grad: 26.3375  LR: 0.004966  \n",
      "Epoch: [3][800/943] Elapsed 1m 23s (remain 0m 14s) Loss: 2.9239(2.7543) Grad: 53.8313  LR: 0.004966  \n",
      "Epoch: [3][900/943] Elapsed 1m 34s (remain 0m 4s) Loss: 2.4944(2.7506) Grad: 24.1032  LR: 0.004966  \n",
      "Epoch: [3][942/943] Elapsed 1m 37s (remain 0m 0s) Loss: 2.4675(2.7462) Grad: 19.8489  LR: 0.004966  \n",
      "EVAL: [0/236] Elapsed 0m 0s (remain 1m 38s) Loss: 2.7629(2.7629) \n",
      "EVAL: [100/236] Elapsed 0m 9s (remain 0m 13s) Loss: 2.3428(2.5309) \n",
      "EVAL: [200/236] Elapsed 0m 19s (remain 0m 3s) Loss: 2.4814(2.5212) \n"
     ]
    },
    {
     "name": "stderr",
     "output_type": "stream",
     "text": [
      "Epoch 3 - avg_train_loss: 2.7462  avg_val_loss: 2.5222  time: 121s\n",
      "Epoch 3 - MAE Score (without expiratory phase): 1.0706\n"
     ]
    },
    {
     "name": "stdout",
     "output_type": "stream",
     "text": [
      "EVAL: [235/236] Elapsed 0m 22s (remain 0m 0s) Loss: 2.2498(2.5222) \n",
      "Epoch: [4][0/943] Elapsed 0m 0s (remain 9m 33s) Loss: 2.6459(2.6459) Grad: 26.1202  LR: 0.004931  \n",
      "Epoch: [4][100/943] Elapsed 0m 10s (remain 1m 30s) Loss: 2.7742(2.6367) Grad: 48.0183  LR: 0.004931  \n",
      "Epoch: [4][200/943] Elapsed 0m 20s (remain 1m 16s) Loss: 2.7692(2.6878) Grad: 31.7675  LR: 0.004931  \n",
      "Epoch: [4][300/943] Elapsed 0m 31s (remain 1m 6s) Loss: 2.3346(2.6580) Grad: 13.1237  LR: 0.004931  \n",
      "Epoch: [4][400/943] Elapsed 0m 41s (remain 0m 56s) Loss: 2.3820(2.6475) Grad: 23.9667  LR: 0.004931  \n",
      "Epoch: [4][500/943] Elapsed 0m 51s (remain 0m 45s) Loss: 2.5304(2.6387) Grad: 19.7815  LR: 0.004931  \n",
      "Epoch: [4][600/943] Elapsed 1m 1s (remain 0m 35s) Loss: 2.4686(2.6174) Grad: 25.6206  LR: 0.004931  \n",
      "Epoch: [4][700/943] Elapsed 1m 12s (remain 0m 25s) Loss: 2.9435(2.6065) Grad: 40.1243  LR: 0.004931  \n",
      "Epoch: [4][800/943] Elapsed 1m 22s (remain 0m 14s) Loss: 2.4503(2.6049) Grad: 41.1149  LR: 0.004931  \n",
      "Epoch: [4][900/943] Elapsed 1m 32s (remain 0m 4s) Loss: 2.7686(2.5927) Grad: 25.2786  LR: 0.004931  \n",
      "Epoch: [4][942/943] Elapsed 1m 36s (remain 0m 0s) Loss: 2.5061(2.5912) Grad: 18.1527  LR: 0.004931  \n",
      "EVAL: [0/236] Elapsed 0m 0s (remain 3m 21s) Loss: 2.7175(2.7175) \n",
      "EVAL: [100/236] Elapsed 0m 10s (remain 0m 13s) Loss: 2.4780(2.5179) \n",
      "EVAL: [200/236] Elapsed 0m 18s (remain 0m 3s) Loss: 2.6763(2.5137) \n"
     ]
    },
    {
     "name": "stderr",
     "output_type": "stream",
     "text": [
      "Epoch 4 - avg_train_loss: 2.5912  avg_val_loss: 2.5120  time: 118s\n",
      "Epoch 4 - MAE Score (without expiratory phase): 1.0669\n"
     ]
    },
    {
     "name": "stdout",
     "output_type": "stream",
     "text": [
      "EVAL: [235/236] Elapsed 0m 21s (remain 0m 0s) Loss: 2.1833(2.5120) \n",
      "Epoch: [5][0/943] Elapsed 0m 0s (remain 9m 58s) Loss: 2.5153(2.5153) Grad: 11.8622  LR: 0.004887  \n",
      "Epoch: [5][100/943] Elapsed 0m 11s (remain 1m 32s) Loss: 2.1482(2.4136) Grad: 23.2927  LR: 0.004887  \n",
      "Epoch: [5][200/943] Elapsed 0m 21s (remain 1m 18s) Loss: 2.3950(2.4319) Grad: 16.9098  LR: 0.004887  \n",
      "Epoch: [5][300/943] Elapsed 0m 31s (remain 1m 6s) Loss: 2.5393(2.4478) Grad: 14.8522  LR: 0.004887  \n",
      "Epoch: [5][400/943] Elapsed 0m 41s (remain 0m 55s) Loss: 2.6997(2.4686) Grad: 13.3489  LR: 0.004887  \n",
      "Epoch: [5][500/943] Elapsed 0m 52s (remain 0m 45s) Loss: 2.3389(2.4615) Grad: 24.4503  LR: 0.004887  \n",
      "Epoch: [5][600/943] Elapsed 1m 2s (remain 0m 35s) Loss: 2.7295(2.4578) Grad: 26.6912  LR: 0.004887  \n",
      "Epoch: [5][700/943] Elapsed 1m 12s (remain 0m 24s) Loss: 2.2081(2.4553) Grad: 28.4857  LR: 0.004887  \n",
      "Epoch: [5][800/943] Elapsed 1m 23s (remain 0m 14s) Loss: 2.4302(2.4610) Grad: 27.1537  LR: 0.004887  \n",
      "Epoch: [5][900/943] Elapsed 1m 32s (remain 0m 4s) Loss: 2.6684(2.4609) Grad: 41.1146  LR: 0.004887  \n",
      "Epoch: [5][942/943] Elapsed 1m 36s (remain 0m 0s) Loss: 2.7226(2.4617) Grad: 32.8421  LR: 0.004887  \n",
      "EVAL: [0/236] Elapsed 0m 0s (remain 1m 55s) Loss: 2.7068(2.7068) \n",
      "EVAL: [100/236] Elapsed 0m 9s (remain 0m 12s) Loss: 2.2978(2.4974) \n",
      "EVAL: [200/236] Elapsed 0m 19s (remain 0m 3s) Loss: 2.7814(2.5036) \n"
     ]
    },
    {
     "name": "stderr",
     "output_type": "stream",
     "text": [
      "Epoch 5 - avg_train_loss: 2.4617  avg_val_loss: 2.4972  time: 119s\n",
      "Epoch 5 - MAE Score (without expiratory phase): 1.0711\n"
     ]
    },
    {
     "name": "stdout",
     "output_type": "stream",
     "text": [
      "EVAL: [235/236] Elapsed 0m 22s (remain 0m 0s) Loss: 2.1358(2.4972) \n",
      "Epoch: [6][0/943] Elapsed 0m 0s (remain 7m 34s) Loss: 2.5889(2.5889) Grad: 35.9695  LR: 0.004834  \n",
      "Epoch: [6][100/943] Elapsed 0m 10s (remain 1m 30s) Loss: 2.6170(2.3986) Grad: 19.3044  LR: 0.004834  \n",
      "Epoch: [6][200/943] Elapsed 0m 20s (remain 1m 16s) Loss: 2.4247(2.4141) Grad: 36.1963  LR: 0.004834  \n",
      "Epoch: [6][300/943] Elapsed 0m 30s (remain 1m 5s) Loss: 2.4503(2.4071) Grad: 30.7536  LR: 0.004834  \n",
      "Epoch: [6][400/943] Elapsed 0m 40s (remain 0m 54s) Loss: 2.1400(2.3988) Grad: 10.8576  LR: 0.004834  \n",
      "Epoch: [6][500/943] Elapsed 0m 50s (remain 0m 44s) Loss: 2.2279(2.3805) Grad: 17.0175  LR: 0.004834  \n",
      "Epoch: [6][600/943] Elapsed 1m 1s (remain 0m 34s) Loss: 2.7744(2.3801) Grad: 43.4745  LR: 0.004834  \n",
      "Epoch: [6][700/943] Elapsed 1m 12s (remain 0m 24s) Loss: 2.1947(2.3728) Grad: 8.8768  LR: 0.004834  \n",
      "Epoch: [6][800/943] Elapsed 1m 21s (remain 0m 14s) Loss: 2.7317(2.3617) Grad: 45.0644  LR: 0.004834  \n",
      "Epoch: [6][900/943] Elapsed 1m 32s (remain 0m 4s) Loss: 2.3954(2.3526) Grad: 9.9871  LR: 0.004834  \n",
      "Epoch: [6][942/943] Elapsed 1m 36s (remain 0m 0s) Loss: 2.3678(2.3526) Grad: 12.7463  LR: 0.004834  \n",
      "EVAL: [0/236] Elapsed 0m 0s (remain 2m 58s) Loss: 2.3660(2.3660) \n",
      "EVAL: [100/236] Elapsed 0m 9s (remain 0m 12s) Loss: 1.7890(2.0688) \n",
      "EVAL: [200/236] Elapsed 0m 18s (remain 0m 3s) Loss: 2.0601(2.0653) \n"
     ]
    },
    {
     "name": "stderr",
     "output_type": "stream",
     "text": [
      "Epoch 6 - avg_train_loss: 2.3526  avg_val_loss: 2.0642  time: 118s\n",
      "Epoch 6 - MAE Score (without expiratory phase): 0.8290\n",
      "Epoch 6 - Save Best Score: 0.8290 Model\n"
     ]
    },
    {
     "name": "stdout",
     "output_type": "stream",
     "text": [
      "EVAL: [235/236] Elapsed 0m 21s (remain 0m 0s) Loss: 1.9394(2.0642) \n",
      "Epoch: [7][0/943] Elapsed 0m 0s (remain 10m 32s) Loss: 2.6006(2.6006) Grad: 18.6483  LR: 0.004772  \n",
      "Epoch: [7][100/943] Elapsed 0m 11s (remain 1m 34s) Loss: 2.3448(2.3486) Grad: 26.8689  LR: 0.004772  \n",
      "Epoch: [7][200/943] Elapsed 0m 21s (remain 1m 17s) Loss: 2.5005(2.3657) Grad: 45.0193  LR: 0.004772  \n",
      "Epoch: [7][300/943] Elapsed 0m 30s (remain 1m 5s) Loss: 2.7745(2.3393) Grad: 38.7560  LR: 0.004772  \n",
      "Epoch: [7][400/943] Elapsed 0m 41s (remain 0m 56s) Loss: 1.9662(2.3231) Grad: 24.6850  LR: 0.004772  \n",
      "Epoch: [7][500/943] Elapsed 0m 51s (remain 0m 45s) Loss: 2.0833(2.3204) Grad: 10.4836  LR: 0.004772  \n",
      "Epoch: [7][600/943] Elapsed 1m 1s (remain 0m 34s) Loss: 2.2711(2.3155) Grad: 35.9969  LR: 0.004772  \n",
      "Epoch: [7][700/943] Elapsed 1m 12s (remain 0m 24s) Loss: 2.5400(2.3052) Grad: 37.9694  LR: 0.004772  \n",
      "Epoch: [7][800/943] Elapsed 1m 21s (remain 0m 14s) Loss: 1.9254(2.2960) Grad: 11.3987  LR: 0.004772  \n",
      "Epoch: [7][900/943] Elapsed 1m 31s (remain 0m 4s) Loss: 2.0292(2.2869) Grad: 6.7976  LR: 0.004772  \n",
      "Epoch: [7][942/943] Elapsed 1m 35s (remain 0m 0s) Loss: 2.1080(2.2849) Grad: 24.5735  LR: 0.004772  \n",
      "EVAL: [0/236] Elapsed 0m 0s (remain 1m 40s) Loss: 2.4936(2.4936) \n",
      "EVAL: [100/236] Elapsed 0m 10s (remain 0m 13s) Loss: 1.9426(2.1795) \n",
      "EVAL: [200/236] Elapsed 0m 19s (remain 0m 3s) Loss: 2.5476(2.1758) \n"
     ]
    },
    {
     "name": "stderr",
     "output_type": "stream",
     "text": [
      "Epoch 7 - avg_train_loss: 2.2849  avg_val_loss: 2.1759  time: 118s\n",
      "Epoch 7 - MAE Score (without expiratory phase): 0.9154\n"
     ]
    },
    {
     "name": "stdout",
     "output_type": "stream",
     "text": [
      "EVAL: [235/236] Elapsed 0m 22s (remain 0m 0s) Loss: 2.1719(2.1759) \n"
     ]
    },
    {
     "name": "stderr",
     "output_type": "stream",
     "text": [
      "========== fold: 0 result ==========\n",
      "Score (without expiratory phase): 0.8290\n",
      "========== fold: 1 training ==========\n"
     ]
    },
    {
     "name": "stdout",
     "output_type": "stream",
     "text": [
      "init LSTM(64, 64, batch_first=True, dropout=0.2, bidirectional=True)\n",
      "Epoch: [1][0/943] Elapsed 0m 0s (remain 9m 45s) Loss: 43.0718(43.0718) Grad: 37.3409  LR: 0.005000  \n",
      "Epoch: [1][100/943] Elapsed 0m 11s (remain 1m 31s) Loss: 9.6156(18.5411) Grad: 20.9551  LR: 0.005000  \n",
      "Epoch: [1][200/943] Elapsed 0m 22s (remain 1m 22s) Loss: 6.3267(12.6054) Grad: 51.2508  LR: 0.005000  \n",
      "Epoch: [1][300/943] Elapsed 0m 32s (remain 1m 8s) Loss: 3.7650(10.0160) Grad: 14.3487  LR: 0.005000  \n",
      "Epoch: [1][400/943] Elapsed 0m 41s (remain 0m 56s) Loss: 4.1149(8.5413) Grad: 22.5934  LR: 0.005000  \n",
      "Epoch: [1][500/943] Elapsed 0m 52s (remain 0m 46s) Loss: 4.1874(7.6305) Grad: 32.2763  LR: 0.005000  \n",
      "Epoch: [1][600/943] Elapsed 1m 2s (remain 0m 35s) Loss: 4.0813(6.9972) Grad: 29.7554  LR: 0.005000  \n",
      "Epoch: [1][700/943] Elapsed 1m 12s (remain 0m 25s) Loss: 3.5520(6.5432) Grad: 13.5665  LR: 0.005000  \n",
      "Epoch: [1][800/943] Elapsed 1m 22s (remain 0m 14s) Loss: 3.4632(6.1637) Grad: 24.2120  LR: 0.005000  \n",
      "Epoch: [1][900/943] Elapsed 1m 32s (remain 0m 4s) Loss: 2.9563(5.8577) Grad: 18.9992  LR: 0.005000  \n",
      "Epoch: [1][942/943] Elapsed 1m 36s (remain 0m 0s) Loss: 3.0481(5.7409) Grad: 17.7661  LR: 0.005000  \n",
      "EVAL: [0/236] Elapsed 0m 0s (remain 1m 42s) Loss: 2.8211(2.8211) \n",
      "EVAL: [100/236] Elapsed 0m 9s (remain 0m 12s) Loss: 2.7573(2.8371) \n",
      "EVAL: [200/236] Elapsed 0m 20s (remain 0m 3s) Loss: 2.5522(2.8395) \n"
     ]
    },
    {
     "name": "stderr",
     "output_type": "stream",
     "text": [
      "Epoch 1 - avg_train_loss: 5.7409  avg_val_loss: 2.8303  time: 120s\n",
      "Epoch 1 - MAE Score (without expiratory phase): 1.1925\n",
      "Epoch 1 - Save Best Score: 1.1925 Model\n"
     ]
    },
    {
     "name": "stdout",
     "output_type": "stream",
     "text": [
      "EVAL: [235/236] Elapsed 0m 23s (remain 0m 0s) Loss: 2.3593(2.8303) \n",
      "Epoch: [2][0/943] Elapsed 0m 0s (remain 7m 26s) Loss: 3.1736(3.1736) Grad: 9.4955  LR: 0.004990  \n",
      "Epoch: [2][100/943] Elapsed 0m 10s (remain 1m 28s) Loss: 2.9702(3.3527) Grad: 14.1920  LR: 0.004990  \n",
      "Epoch: [2][200/943] Elapsed 0m 21s (remain 1m 19s) Loss: 2.7616(3.2763) Grad: 6.8120  LR: 0.004990  \n",
      "Epoch: [2][300/943] Elapsed 0m 32s (remain 1m 9s) Loss: 2.9863(3.2628) Grad: 24.4273  LR: 0.004990  \n",
      "Epoch: [2][400/943] Elapsed 0m 42s (remain 0m 57s) Loss: 3.0203(3.2300) Grad: 35.6979  LR: 0.004990  \n",
      "Epoch: [2][500/943] Elapsed 0m 52s (remain 0m 46s) Loss: 2.6405(3.1829) Grad: 22.6884  LR: 0.004990  \n",
      "Epoch: [2][600/943] Elapsed 1m 3s (remain 0m 36s) Loss: 3.0048(3.1410) Grad: 14.4623  LR: 0.004990  \n",
      "Epoch: [2][700/943] Elapsed 1m 13s (remain 0m 25s) Loss: 3.3762(3.1153) Grad: 31.6371  LR: 0.004990  \n",
      "Epoch: [2][800/943] Elapsed 1m 22s (remain 0m 14s) Loss: 2.9341(3.0983) Grad: 22.5889  LR: 0.004990  \n",
      "Epoch: [2][900/943] Elapsed 1m 33s (remain 0m 4s) Loss: 3.0716(3.0816) Grad: 12.0300  LR: 0.004990  \n",
      "Epoch: [2][942/943] Elapsed 1m 37s (remain 0m 0s) Loss: 2.5411(3.0744) Grad: 16.4093  LR: 0.004990  \n",
      "EVAL: [0/236] Elapsed 0m 0s (remain 2m 23s) Loss: 2.7627(2.7627) \n",
      "EVAL: [100/236] Elapsed 0m 9s (remain 0m 12s) Loss: 2.4928(2.6570) \n",
      "EVAL: [200/236] Elapsed 0m 19s (remain 0m 3s) Loss: 2.3450(2.6720) \n"
     ]
    },
    {
     "name": "stderr",
     "output_type": "stream",
     "text": [
      "Epoch 2 - avg_train_loss: 3.0744  avg_val_loss: 2.6644  time: 120s\n",
      "Epoch 2 - MAE Score (without expiratory phase): 1.1311\n",
      "Epoch 2 - Save Best Score: 1.1311 Model\n"
     ]
    },
    {
     "name": "stdout",
     "output_type": "stream",
     "text": [
      "EVAL: [235/236] Elapsed 0m 22s (remain 0m 0s) Loss: 2.5251(2.6644) \n",
      "Epoch: [3][0/943] Elapsed 0m 0s (remain 9m 43s) Loss: 2.9232(2.9232) Grad: 17.7919  LR: 0.004966  \n",
      "Epoch: [3][100/943] Elapsed 0m 11s (remain 1m 39s) Loss: 2.7198(2.9202) Grad: 13.6637  LR: 0.004966  \n",
      "Epoch: [3][200/943] Elapsed 0m 23s (remain 1m 24s) Loss: 2.9385(2.8964) Grad: 11.5997  LR: 0.004966  \n",
      "Epoch: [3][300/943] Elapsed 0m 32s (remain 1m 10s) Loss: 2.7597(2.8885) Grad: 19.0330  LR: 0.004966  \n",
      "Epoch: [3][400/943] Elapsed 0m 43s (remain 0m 59s) Loss: 2.4240(2.8545) Grad: 9.3377  LR: 0.004966  \n",
      "Epoch: [3][500/943] Elapsed 0m 53s (remain 0m 47s) Loss: 2.8678(2.8365) Grad: 21.7710  LR: 0.004966  \n",
      "Epoch: [3][600/943] Elapsed 1m 3s (remain 0m 36s) Loss: 2.6654(2.8218) Grad: 15.6557  LR: 0.004966  \n",
      "Epoch: [3][700/943] Elapsed 1m 14s (remain 0m 25s) Loss: 2.5565(2.8198) Grad: 17.1972  LR: 0.004966  \n",
      "Epoch: [3][800/943] Elapsed 1m 24s (remain 0m 14s) Loss: 2.9876(2.8145) Grad: 20.2677  LR: 0.004966  \n",
      "Epoch: [3][900/943] Elapsed 1m 33s (remain 0m 4s) Loss: 2.6549(2.7963) Grad: 14.7602  LR: 0.004966  \n",
      "Epoch: [3][942/943] Elapsed 1m 37s (remain 0m 0s) Loss: 2.8238(2.7874) Grad: 15.6745  LR: 0.004966  \n",
      "EVAL: [0/236] Elapsed 0m 0s (remain 2m 8s) Loss: 2.4971(2.4971) \n",
      "EVAL: [100/236] Elapsed 0m 11s (remain 0m 14s) Loss: 2.9565(2.6964) \n",
      "EVAL: [200/236] Elapsed 0m 20s (remain 0m 3s) Loss: 2.3223(2.6994) \n"
     ]
    },
    {
     "name": "stderr",
     "output_type": "stream",
     "text": [
      "Epoch 3 - avg_train_loss: 2.7874  avg_val_loss: 2.6932  time: 121s\n",
      "Epoch 3 - MAE Score (without expiratory phase): 1.1572\n"
     ]
    },
    {
     "name": "stdout",
     "output_type": "stream",
     "text": [
      "EVAL: [235/236] Elapsed 0m 23s (remain 0m 0s) Loss: 2.4167(2.6932) \n",
      "Epoch: [4][0/943] Elapsed 0m 0s (remain 9m 17s) Loss: 2.8689(2.8689) Grad: 17.3961  LR: 0.004931  \n",
      "Epoch: [4][100/943] Elapsed 0m 10s (remain 1m 29s) Loss: 2.9371(2.7063) Grad: 21.4773  LR: 0.004931  \n",
      "Epoch: [4][200/943] Elapsed 0m 22s (remain 1m 22s) Loss: 3.0794(2.6921) Grad: 25.4970  LR: 0.004931  \n",
      "Epoch: [4][300/943] Elapsed 0m 32s (remain 1m 9s) Loss: 2.1908(2.6668) Grad: 9.6928  LR: 0.004931  \n",
      "Epoch: [4][400/943] Elapsed 0m 42s (remain 0m 57s) Loss: 2.8376(2.6616) Grad: 19.2622  LR: 0.004931  \n",
      "Epoch: [4][500/943] Elapsed 0m 53s (remain 0m 47s) Loss: 2.2457(2.6663) Grad: 22.9548  LR: 0.004931  \n",
      "Epoch: [4][600/943] Elapsed 1m 3s (remain 0m 36s) Loss: 3.0132(2.6601) Grad: 34.6582  LR: 0.004931  \n",
      "Epoch: [4][700/943] Elapsed 1m 13s (remain 0m 25s) Loss: 3.2996(2.6656) Grad: 35.0349  LR: 0.004931  \n",
      "Epoch: [4][800/943] Elapsed 1m 23s (remain 0m 14s) Loss: 2.4126(2.6550) Grad: 21.5598  LR: 0.004931  \n",
      "Epoch: [4][900/943] Elapsed 1m 33s (remain 0m 4s) Loss: 2.4903(2.6493) Grad: 22.3407  LR: 0.004931  \n",
      "Epoch: [4][942/943] Elapsed 1m 37s (remain 0m 0s) Loss: 2.3813(2.6418) Grad: 14.4372  LR: 0.004931  \n",
      "EVAL: [0/236] Elapsed 0m 0s (remain 1m 26s) Loss: 2.3671(2.3671) \n",
      "EVAL: [100/236] Elapsed 0m 10s (remain 0m 13s) Loss: 2.3423(2.4053) \n",
      "EVAL: [200/236] Elapsed 0m 20s (remain 0m 3s) Loss: 2.1379(2.3989) \n"
     ]
    },
    {
     "name": "stderr",
     "output_type": "stream",
     "text": [
      "Epoch 4 - avg_train_loss: 2.6418  avg_val_loss: 2.3935  time: 121s\n",
      "Epoch 4 - MAE Score (without expiratory phase): 1.0127\n",
      "Epoch 4 - Save Best Score: 1.0127 Model\n"
     ]
    },
    {
     "name": "stdout",
     "output_type": "stream",
     "text": [
      "EVAL: [235/236] Elapsed 0m 22s (remain 0m 0s) Loss: 2.1171(2.3935) \n",
      "Epoch: [5][0/943] Elapsed 0m 0s (remain 9m 31s) Loss: 2.2608(2.2608) Grad: 10.9909  LR: 0.004887  \n",
      "Epoch: [5][100/943] Elapsed 0m 11s (remain 1m 36s) Loss: 2.1045(2.5369) Grad: 9.7382  LR: 0.004887  \n",
      "Epoch: [5][200/943] Elapsed 0m 21s (remain 1m 20s) Loss: 2.5843(2.5062) Grad: 14.8641  LR: 0.004887  \n",
      "Epoch: [5][300/943] Elapsed 0m 32s (remain 1m 9s) Loss: 2.3432(2.5511) Grad: 16.4832  LR: 0.004887  \n",
      "Epoch: [5][400/943] Elapsed 0m 42s (remain 0m 57s) Loss: 2.3375(2.5528) Grad: 9.6608  LR: 0.004887  \n",
      "Epoch: [5][500/943] Elapsed 0m 52s (remain 0m 46s) Loss: 2.4910(2.5323) Grad: 19.3295  LR: 0.004887  \n",
      "Epoch: [5][600/943] Elapsed 1m 3s (remain 0m 36s) Loss: 2.6139(2.5137) Grad: 11.4335  LR: 0.004887  \n",
      "Epoch: [5][700/943] Elapsed 1m 13s (remain 0m 25s) Loss: 2.5222(2.5180) Grad: 14.3095  LR: 0.004887  \n",
      "Epoch: [5][800/943] Elapsed 1m 23s (remain 0m 14s) Loss: 2.5487(2.5071) Grad: 14.3647  LR: 0.004887  \n",
      "Epoch: [5][900/943] Elapsed 1m 33s (remain 0m 4s) Loss: 2.6160(2.4973) Grad: 9.9204  LR: 0.004887  \n",
      "Epoch: [5][942/943] Elapsed 1m 37s (remain 0m 0s) Loss: 2.2747(2.4924) Grad: 25.8943  LR: 0.004887  \n",
      "EVAL: [0/236] Elapsed 0m 0s (remain 1m 48s) Loss: 2.2246(2.2246) \n",
      "EVAL: [100/236] Elapsed 0m 10s (remain 0m 14s) Loss: 2.0698(2.2321) \n",
      "EVAL: [200/236] Elapsed 0m 19s (remain 0m 3s) Loss: 1.9862(2.2298) \n"
     ]
    },
    {
     "name": "stderr",
     "output_type": "stream",
     "text": [
      "Epoch 5 - avg_train_loss: 2.4924  avg_val_loss: 2.2252  time: 120s\n",
      "Epoch 5 - MAE Score (without expiratory phase): 0.9365\n",
      "Epoch 5 - Save Best Score: 0.9365 Model\n"
     ]
    },
    {
     "name": "stdout",
     "output_type": "stream",
     "text": [
      "EVAL: [235/236] Elapsed 0m 22s (remain 0m 0s) Loss: 2.1462(2.2252) \n",
      "Epoch: [6][0/943] Elapsed 0m 0s (remain 9m 14s) Loss: 2.3770(2.3770) Grad: 15.4585  LR: 0.004834  \n",
      "Epoch: [6][100/943] Elapsed 0m 12s (remain 1m 43s) Loss: 2.2994(2.4131) Grad: 9.2400  LR: 0.004834  \n",
      "Epoch: [6][200/943] Elapsed 0m 22s (remain 1m 22s) Loss: 2.0341(2.4195) Grad: 14.6768  LR: 0.004834  \n",
      "Epoch: [6][300/943] Elapsed 0m 32s (remain 1m 8s) Loss: 1.9950(2.3845) Grad: 13.5332  LR: 0.004834  \n",
      "Epoch: [6][400/943] Elapsed 0m 42s (remain 0m 57s) Loss: 2.3431(2.3886) Grad: 15.6467  LR: 0.004834  \n",
      "Epoch: [6][500/943] Elapsed 0m 52s (remain 0m 46s) Loss: 2.2191(2.4083) Grad: 25.5947  LR: 0.004834  \n",
      "Epoch: [6][600/943] Elapsed 1m 2s (remain 0m 35s) Loss: 2.1434(2.3983) Grad: 26.5064  LR: 0.004834  \n",
      "Epoch: [6][700/943] Elapsed 1m 12s (remain 0m 25s) Loss: 2.4466(2.4100) Grad: 14.0605  LR: 0.004834  \n",
      "Epoch: [6][800/943] Elapsed 1m 22s (remain 0m 14s) Loss: 2.3265(2.4171) Grad: 30.4410  LR: 0.004834  \n",
      "Epoch: [6][900/943] Elapsed 1m 32s (remain 0m 4s) Loss: 2.3806(2.4109) Grad: 16.5434  LR: 0.004834  \n",
      "Epoch: [6][942/943] Elapsed 1m 36s (remain 0m 0s) Loss: 2.4204(2.4024) Grad: 8.6429  LR: 0.004834  \n",
      "EVAL: [0/236] Elapsed 0m 0s (remain 2m 18s) Loss: 2.0493(2.0493) \n",
      "EVAL: [100/236] Elapsed 0m 11s (remain 0m 14s) Loss: 1.9170(2.1324) \n",
      "EVAL: [200/236] Elapsed 0m 19s (remain 0m 3s) Loss: 1.9588(2.1265) \n"
     ]
    },
    {
     "name": "stderr",
     "output_type": "stream",
     "text": [
      "Epoch 6 - avg_train_loss: 2.4024  avg_val_loss: 2.1220  time: 120s\n",
      "Epoch 6 - MAE Score (without expiratory phase): 0.8837\n",
      "Epoch 6 - Save Best Score: 0.8837 Model\n"
     ]
    },
    {
     "name": "stdout",
     "output_type": "stream",
     "text": [
      "EVAL: [235/236] Elapsed 0m 22s (remain 0m 0s) Loss: 2.0125(2.1220) \n",
      "Epoch: [7][0/943] Elapsed 0m 0s (remain 10m 13s) Loss: 2.1440(2.1440) Grad: 21.2236  LR: 0.004772  \n",
      "Epoch: [7][100/943] Elapsed 0m 11s (remain 1m 35s) Loss: 2.4153(2.3104) Grad: 18.5065  LR: 0.004772  \n",
      "Epoch: [7][200/943] Elapsed 0m 22s (remain 1m 21s) Loss: 2.2079(2.3519) Grad: 10.4717  LR: 0.004772  \n",
      "Epoch: [7][300/943] Elapsed 0m 31s (remain 1m 7s) Loss: 2.2869(2.3959) Grad: 26.0003  LR: 0.004772  \n",
      "Epoch: [7][400/943] Elapsed 0m 41s (remain 0m 56s) Loss: 2.1746(2.3829) Grad: 14.7980  LR: 0.004772  \n",
      "Epoch: [7][500/943] Elapsed 0m 51s (remain 0m 45s) Loss: 2.3697(2.3717) Grad: 8.5733  LR: 0.004772  \n",
      "Epoch: [7][600/943] Elapsed 1m 2s (remain 0m 35s) Loss: 2.4279(2.3616) Grad: 33.6830  LR: 0.004772  \n",
      "Epoch: [7][700/943] Elapsed 1m 11s (remain 0m 24s) Loss: 2.2366(2.3542) Grad: 9.8729  LR: 0.004772  \n",
      "Epoch: [7][800/943] Elapsed 1m 21s (remain 0m 14s) Loss: 2.2493(2.3481) Grad: 12.9014  LR: 0.004772  \n",
      "Epoch: [7][900/943] Elapsed 1m 31s (remain 0m 4s) Loss: 1.9677(2.3419) Grad: 11.9204  LR: 0.004772  \n",
      "Epoch: [7][942/943] Elapsed 1m 35s (remain 0m 0s) Loss: 2.3014(2.3395) Grad: 8.8528  LR: 0.004772  \n",
      "EVAL: [0/236] Elapsed 0m 0s (remain 2m 40s) Loss: 2.0671(2.0671) \n",
      "EVAL: [100/236] Elapsed 0m 10s (remain 0m 14s) Loss: 2.2984(2.2242) \n",
      "EVAL: [200/236] Elapsed 0m 19s (remain 0m 3s) Loss: 2.0365(2.2176) \n"
     ]
    },
    {
     "name": "stderr",
     "output_type": "stream",
     "text": [
      "Epoch 7 - avg_train_loss: 2.3395  avg_val_loss: 2.2237  time: 119s\n",
      "Epoch 7 - MAE Score (without expiratory phase): 0.9331\n"
     ]
    },
    {
     "name": "stdout",
     "output_type": "stream",
     "text": [
      "EVAL: [235/236] Elapsed 0m 23s (remain 0m 0s) Loss: 2.2837(2.2237) \n"
     ]
    },
    {
     "name": "stderr",
     "output_type": "stream",
     "text": [
      "========== fold: 1 result ==========\n",
      "Score (without expiratory phase): 0.8837\n",
      "========== fold: 2 training ==========\n"
     ]
    },
    {
     "name": "stdout",
     "output_type": "stream",
     "text": [
      "init LSTM(64, 64, batch_first=True, dropout=0.2, bidirectional=True)\n",
      "Epoch: [1][0/943] Elapsed 0m 0s (remain 10m 30s) Loss: 41.6814(41.6814) Grad: 33.5363  LR: 0.005000  \n",
      "Epoch: [1][100/943] Elapsed 0m 10s (remain 1m 25s) Loss: 8.8357(19.0223) Grad: 12.8062  LR: 0.005000  \n",
      "Epoch: [1][200/943] Elapsed 0m 21s (remain 1m 18s) Loss: 4.5932(12.7170) Grad: 29.8337  LR: 0.005000  \n",
      "Epoch: [1][300/943] Elapsed 0m 31s (remain 1m 7s) Loss: 3.8773(10.0515) Grad: 16.2859  LR: 0.005000  \n",
      "Epoch: [1][400/943] Elapsed 0m 41s (remain 0m 56s) Loss: 4.3202(8.5795) Grad: 13.6807  LR: 0.005000  \n",
      "Epoch: [1][500/943] Elapsed 0m 51s (remain 0m 45s) Loss: 3.6984(7.6720) Grad: 23.1701  LR: 0.005000  \n",
      "Epoch: [1][600/943] Elapsed 1m 2s (remain 0m 35s) Loss: 3.6586(7.0591) Grad: 11.1247  LR: 0.005000  \n",
      "Epoch: [1][700/943] Elapsed 1m 12s (remain 0m 24s) Loss: 3.3575(6.5822) Grad: 19.6527  LR: 0.005000  \n",
      "Epoch: [1][800/943] Elapsed 1m 21s (remain 0m 14s) Loss: 3.5695(6.1981) Grad: 11.7278  LR: 0.005000  \n",
      "Epoch: [1][900/943] Elapsed 1m 31s (remain 0m 4s) Loss: 3.7033(5.8824) Grad: 13.6778  LR: 0.005000  \n",
      "Epoch: [1][942/943] Elapsed 1m 36s (remain 0m 0s) Loss: 3.8526(5.7663) Grad: 26.6493  LR: 0.005000  \n",
      "EVAL: [0/236] Elapsed 0m 0s (remain 2m 8s) Loss: 3.1770(3.1770) \n",
      "EVAL: [100/236] Elapsed 0m 8s (remain 0m 11s) Loss: 2.9722(3.0255) \n",
      "EVAL: [200/236] Elapsed 0m 18s (remain 0m 3s) Loss: 3.3174(3.0240) \n"
     ]
    },
    {
     "name": "stderr",
     "output_type": "stream",
     "text": [
      "Epoch 1 - avg_train_loss: 5.7663  avg_val_loss: 3.0389  time: 119s\n",
      "Epoch 1 - MAE Score (without expiratory phase): 1.2990\n",
      "Epoch 1 - Save Best Score: 1.2990 Model\n"
     ]
    },
    {
     "name": "stdout",
     "output_type": "stream",
     "text": [
      "EVAL: [235/236] Elapsed 0m 21s (remain 0m 0s) Loss: 2.5460(3.0389) \n",
      "Epoch: [2][0/943] Elapsed 0m 0s (remain 10m 26s) Loss: 4.0485(4.0485) Grad: 23.3506  LR: 0.004990  \n",
      "Epoch: [2][100/943] Elapsed 0m 11s (remain 1m 33s) Loss: 3.9169(3.2907) Grad: 34.6895  LR: 0.004990  \n",
      "Epoch: [2][200/943] Elapsed 0m 21s (remain 1m 20s) Loss: 3.2027(3.2355) Grad: 25.3320  LR: 0.004990  \n",
      "Epoch: [2][300/943] Elapsed 0m 31s (remain 1m 7s) Loss: 3.0189(3.2285) Grad: 17.2956  LR: 0.004990  \n",
      "Epoch: [2][400/943] Elapsed 0m 42s (remain 0m 57s) Loss: 3.0399(3.2027) Grad: 16.6466  LR: 0.004990  \n",
      "Epoch: [2][500/943] Elapsed 0m 52s (remain 0m 45s) Loss: 2.7939(3.1923) Grad: 21.0657  LR: 0.004990  \n",
      "Epoch: [2][600/943] Elapsed 1m 1s (remain 0m 35s) Loss: 3.2629(3.1576) Grad: 24.2952  LR: 0.004990  \n",
      "Epoch: [2][700/943] Elapsed 1m 11s (remain 0m 24s) Loss: 3.0610(3.1408) Grad: 10.0085  LR: 0.004990  \n",
      "Epoch: [2][800/943] Elapsed 1m 22s (remain 0m 14s) Loss: 3.0151(3.1131) Grad: 20.3757  LR: 0.004990  \n",
      "Epoch: [2][900/943] Elapsed 1m 32s (remain 0m 4s) Loss: 2.6832(3.0845) Grad: 14.1091  LR: 0.004990  \n",
      "Epoch: [2][942/943] Elapsed 1m 36s (remain 0m 0s) Loss: 2.9598(3.0758) Grad: 15.5555  LR: 0.004990  \n",
      "EVAL: [0/236] Elapsed 0m 0s (remain 2m 22s) Loss: 2.7007(2.7007) \n",
      "EVAL: [100/236] Elapsed 0m 9s (remain 0m 12s) Loss: 2.8192(2.6534) \n",
      "EVAL: [200/236] Elapsed 0m 19s (remain 0m 3s) Loss: 2.5506(2.6399) \n"
     ]
    },
    {
     "name": "stderr",
     "output_type": "stream",
     "text": [
      "Epoch 2 - avg_train_loss: 3.0758  avg_val_loss: 2.6548  time: 119s\n",
      "Epoch 2 - MAE Score (without expiratory phase): 1.1107\n",
      "Epoch 2 - Save Best Score: 1.1107 Model\n"
     ]
    },
    {
     "name": "stdout",
     "output_type": "stream",
     "text": [
      "EVAL: [235/236] Elapsed 0m 22s (remain 0m 0s) Loss: 2.4562(2.6548) \n",
      "Epoch: [3][0/943] Elapsed 0m 0s (remain 11m 32s) Loss: 2.8876(2.8876) Grad: 14.5661  LR: 0.004966  \n",
      "Epoch: [3][100/943] Elapsed 0m 10s (remain 1m 28s) Loss: 2.5330(2.9042) Grad: 14.6602  LR: 0.004966  \n",
      "Epoch: [3][200/943] Elapsed 0m 22s (remain 1m 21s) Loss: 2.9496(2.8944) Grad: 19.2378  LR: 0.004966  \n",
      "Epoch: [3][300/943] Elapsed 0m 32s (remain 1m 8s) Loss: 2.6720(2.8567) Grad: 11.7839  LR: 0.004966  \n",
      "Epoch: [3][400/943] Elapsed 0m 41s (remain 0m 56s) Loss: 3.3877(2.8350) Grad: 41.6357  LR: 0.004966  \n",
      "Epoch: [3][500/943] Elapsed 0m 51s (remain 0m 45s) Loss: 2.6687(2.8421) Grad: 13.4505  LR: 0.004966  \n",
      "Epoch: [3][600/943] Elapsed 1m 1s (remain 0m 35s) Loss: 2.5925(2.8293) Grad: 20.2352  LR: 0.004966  \n",
      "Epoch: [3][700/943] Elapsed 1m 11s (remain 0m 24s) Loss: 2.3595(2.8181) Grad: 12.1438  LR: 0.004966  \n",
      "Epoch: [3][800/943] Elapsed 1m 22s (remain 0m 14s) Loss: 2.6980(2.8119) Grad: 10.0062  LR: 0.004966  \n",
      "Epoch: [3][900/943] Elapsed 1m 32s (remain 0m 4s) Loss: 2.7389(2.7924) Grad: 19.3467  LR: 0.004966  \n",
      "Epoch: [3][942/943] Elapsed 1m 36s (remain 0m 0s) Loss: 2.3054(2.7909) Grad: 17.4087  LR: 0.004966  \n",
      "EVAL: [0/236] Elapsed 0m 0s (remain 2m 13s) Loss: 2.3834(2.3834) \n",
      "EVAL: [100/236] Elapsed 0m 9s (remain 0m 12s) Loss: 2.7300(2.5916) \n",
      "EVAL: [200/236] Elapsed 0m 19s (remain 0m 3s) Loss: 2.5667(2.5784) \n"
     ]
    },
    {
     "name": "stderr",
     "output_type": "stream",
     "text": [
      "Epoch 3 - avg_train_loss: 2.7909  avg_val_loss: 2.5990  time: 119s\n",
      "Epoch 3 - MAE Score (without expiratory phase): 1.1004\n",
      "Epoch 3 - Save Best Score: 1.1004 Model\n"
     ]
    },
    {
     "name": "stdout",
     "output_type": "stream",
     "text": [
      "EVAL: [235/236] Elapsed 0m 21s (remain 0m 0s) Loss: 2.4790(2.5990) \n",
      "Epoch: [4][0/943] Elapsed 0m 0s (remain 9m 37s) Loss: 2.5371(2.5371) Grad: 18.8306  LR: 0.004931  \n",
      "Epoch: [4][100/943] Elapsed 0m 11s (remain 1m 35s) Loss: 2.6341(2.6751) Grad: 27.1535  LR: 0.004931  \n",
      "Epoch: [4][200/943] Elapsed 0m 22s (remain 1m 22s) Loss: 2.6543(2.6447) Grad: 22.6029  LR: 0.004931  \n",
      "Epoch: [4][300/943] Elapsed 0m 32s (remain 1m 8s) Loss: 2.4774(2.6322) Grad: 20.3661  LR: 0.004931  \n",
      "Epoch: [4][400/943] Elapsed 0m 42s (remain 0m 58s) Loss: 2.1888(2.6332) Grad: 13.5112  LR: 0.004931  \n",
      "Epoch: [4][500/943] Elapsed 0m 53s (remain 0m 47s) Loss: 2.9250(2.6429) Grad: 26.9956  LR: 0.004931  \n",
      "Epoch: [4][600/943] Elapsed 1m 3s (remain 0m 36s) Loss: 2.5352(2.6379) Grad: 8.0013  LR: 0.004931  \n",
      "Epoch: [4][700/943] Elapsed 1m 14s (remain 0m 25s) Loss: 2.3664(2.6292) Grad: 22.4704  LR: 0.004931  \n",
      "Epoch: [4][800/943] Elapsed 1m 24s (remain 0m 14s) Loss: 2.2958(2.6198) Grad: 14.3919  LR: 0.004931  \n",
      "Epoch: [4][900/943] Elapsed 1m 34s (remain 0m 4s) Loss: 2.6031(2.6127) Grad: 14.5112  LR: 0.004931  \n",
      "Epoch: [4][942/943] Elapsed 1m 37s (remain 0m 0s) Loss: 2.5759(2.6107) Grad: 8.2050  LR: 0.004931  \n",
      "EVAL: [0/236] Elapsed 0m 0s (remain 2m 16s) Loss: 2.5171(2.5171) \n",
      "EVAL: [100/236] Elapsed 0m 10s (remain 0m 13s) Loss: 2.4944(2.3841) \n",
      "EVAL: [200/236] Elapsed 0m 20s (remain 0m 3s) Loss: 2.3161(2.3757) \n"
     ]
    },
    {
     "name": "stderr",
     "output_type": "stream",
     "text": [
      "Epoch 4 - avg_train_loss: 2.6107  avg_val_loss: 2.3863  time: 121s\n",
      "Epoch 4 - MAE Score (without expiratory phase): 1.0058\n",
      "Epoch 4 - Save Best Score: 1.0058 Model\n"
     ]
    },
    {
     "name": "stdout",
     "output_type": "stream",
     "text": [
      "EVAL: [235/236] Elapsed 0m 23s (remain 0m 0s) Loss: 2.1638(2.3863) \n",
      "Epoch: [5][0/943] Elapsed 0m 0s (remain 7m 55s) Loss: 2.5840(2.5840) Grad: 20.9765  LR: 0.004887  \n",
      "Epoch: [5][100/943] Elapsed 0m 11s (remain 1m 35s) Loss: 1.9907(2.5509) Grad: 23.9645  LR: 0.004887  \n",
      "Epoch: [5][200/943] Elapsed 0m 22s (remain 1m 21s) Loss: 2.2124(2.5334) Grad: 12.7927  LR: 0.004887  \n",
      "Epoch: [5][300/943] Elapsed 0m 32s (remain 1m 8s) Loss: 3.0997(2.5148) Grad: 12.0292  LR: 0.004887  \n",
      "Epoch: [5][400/943] Elapsed 0m 41s (remain 0m 56s) Loss: 2.5854(2.5059) Grad: 27.1524  LR: 0.004887  \n",
      "Epoch: [5][500/943] Elapsed 0m 52s (remain 0m 46s) Loss: 2.3516(2.4954) Grad: 7.5289  LR: 0.004887  \n",
      "Epoch: [5][600/943] Elapsed 1m 3s (remain 0m 35s) Loss: 2.8049(2.4937) Grad: 14.7643  LR: 0.004887  \n",
      "Epoch: [5][700/943] Elapsed 1m 13s (remain 0m 25s) Loss: 1.9430(2.4912) Grad: 9.2305  LR: 0.004887  \n",
      "Epoch: [5][800/943] Elapsed 1m 23s (remain 0m 14s) Loss: 2.0841(2.4967) Grad: 14.1202  LR: 0.004887  \n",
      "Epoch: [5][900/943] Elapsed 1m 33s (remain 0m 4s) Loss: 2.5353(2.4969) Grad: 6.0604  LR: 0.004887  \n",
      "Epoch: [5][942/943] Elapsed 1m 37s (remain 0m 0s) Loss: 2.6661(2.4935) Grad: 12.8492  LR: 0.004887  \n",
      "EVAL: [0/236] Elapsed 0m 0s (remain 2m 18s) Loss: 2.1800(2.1800) \n",
      "EVAL: [100/236] Elapsed 0m 10s (remain 0m 14s) Loss: 2.1829(2.1750) \n",
      "EVAL: [200/236] Elapsed 0m 20s (remain 0m 3s) Loss: 2.1335(2.1751) \n"
     ]
    },
    {
     "name": "stderr",
     "output_type": "stream",
     "text": [
      "Epoch 5 - avg_train_loss: 2.4935  avg_val_loss: 2.1899  time: 121s\n",
      "Epoch 5 - MAE Score (without expiratory phase): 0.9189\n",
      "Epoch 5 - Save Best Score: 0.9189 Model\n"
     ]
    },
    {
     "name": "stdout",
     "output_type": "stream",
     "text": [
      "EVAL: [235/236] Elapsed 0m 23s (remain 0m 0s) Loss: 2.0047(2.1899) \n",
      "Epoch: [6][0/943] Elapsed 0m 0s (remain 10m 27s) Loss: 2.1256(2.1256) Grad: 10.4512  LR: 0.004834  \n",
      "Epoch: [6][100/943] Elapsed 0m 11s (remain 1m 33s) Loss: 2.5544(2.4452) Grad: 10.5139  LR: 0.004834  \n",
      "Epoch: [6][200/943] Elapsed 0m 21s (remain 1m 20s) Loss: 2.2731(2.4582) Grad: 9.4255  LR: 0.004834  \n",
      "Epoch: [6][300/943] Elapsed 0m 31s (remain 1m 7s) Loss: 2.8083(2.4532) Grad: 8.5978  LR: 0.004834  \n",
      "Epoch: [6][400/943] Elapsed 0m 41s (remain 0m 56s) Loss: 2.5295(2.4489) Grad: 17.1472  LR: 0.004834  \n",
      "Epoch: [6][500/943] Elapsed 0m 51s (remain 0m 45s) Loss: 2.2536(2.4383) Grad: 16.6879  LR: 0.004834  \n",
      "Epoch: [6][600/943] Elapsed 1m 2s (remain 0m 35s) Loss: 2.1352(2.4327) Grad: 8.6900  LR: 0.004834  \n",
      "Epoch: [6][700/943] Elapsed 1m 12s (remain 0m 24s) Loss: 2.2032(2.4261) Grad: 9.0567  LR: 0.004834  \n",
      "Epoch: [6][800/943] Elapsed 1m 22s (remain 0m 14s) Loss: 2.2893(2.4188) Grad: 7.4827  LR: 0.004834  \n",
      "Epoch: [6][900/943] Elapsed 1m 32s (remain 0m 4s) Loss: 2.3116(2.4139) Grad: 26.1185  LR: 0.004834  \n",
      "Epoch: [6][942/943] Elapsed 1m 36s (remain 0m 0s) Loss: 2.0818(2.4121) Grad: 9.2094  LR: 0.004834  \n",
      "EVAL: [0/236] Elapsed 0m 0s (remain 2m 20s) Loss: 1.9952(1.9952) \n",
      "EVAL: [100/236] Elapsed 0m 11s (remain 0m 14s) Loss: 2.0381(2.1473) \n",
      "EVAL: [200/236] Elapsed 0m 20s (remain 0m 3s) Loss: 2.1682(2.1440) \n"
     ]
    },
    {
     "name": "stderr",
     "output_type": "stream",
     "text": [
      "Epoch 6 - avg_train_loss: 2.4121  avg_val_loss: 2.1573  time: 120s\n",
      "Epoch 6 - MAE Score (without expiratory phase): 0.9017\n",
      "Epoch 6 - Save Best Score: 0.9017 Model\n"
     ]
    },
    {
     "name": "stdout",
     "output_type": "stream",
     "text": [
      "EVAL: [235/236] Elapsed 0m 23s (remain 0m 0s) Loss: 2.0555(2.1573) \n",
      "Epoch: [7][0/943] Elapsed 0m 0s (remain 9m 35s) Loss: 2.1815(2.1815) Grad: 7.7344  LR: 0.004772  \n",
      "Epoch: [7][100/943] Elapsed 0m 11s (remain 1m 36s) Loss: 2.4789(2.3053) Grad: 10.7392  LR: 0.004772  \n",
      "Epoch: [7][200/943] Elapsed 0m 21s (remain 1m 20s) Loss: 2.1380(2.2995) Grad: 20.7563  LR: 0.004772  \n",
      "Epoch: [7][300/943] Elapsed 0m 32s (remain 1m 8s) Loss: 2.3983(2.3210) Grad: 6.9304  LR: 0.004772  \n",
      "Epoch: [7][400/943] Elapsed 0m 42s (remain 0m 57s) Loss: 2.2984(2.3256) Grad: 9.9296  LR: 0.004772  \n",
      "Epoch: [7][500/943] Elapsed 0m 52s (remain 0m 46s) Loss: 2.0857(2.3181) Grad: 8.1112  LR: 0.004772  \n",
      "Epoch: [7][600/943] Elapsed 1m 2s (remain 0m 35s) Loss: 1.7381(2.3110) Grad: 25.8764  LR: 0.004772  \n",
      "Epoch: [7][700/943] Elapsed 1m 13s (remain 0m 25s) Loss: 2.0543(2.3054) Grad: 23.2461  LR: 0.004772  \n",
      "Epoch: [7][800/943] Elapsed 1m 23s (remain 0m 14s) Loss: 2.0209(2.3038) Grad: 15.0100  LR: 0.004772  \n",
      "Epoch: [7][900/943] Elapsed 1m 33s (remain 0m 4s) Loss: 2.3087(2.2966) Grad: 12.3808  LR: 0.004772  \n",
      "Epoch: [7][942/943] Elapsed 1m 37s (remain 0m 0s) Loss: 2.1229(2.2932) Grad: 27.2297  LR: 0.004772  \n",
      "EVAL: [0/236] Elapsed 0m 0s (remain 2m 18s) Loss: 1.9349(1.9349) \n",
      "EVAL: [100/236] Elapsed 0m 10s (remain 0m 14s) Loss: 1.9250(2.0452) \n",
      "EVAL: [200/236] Elapsed 0m 19s (remain 0m 3s) Loss: 1.7840(2.0403) \n"
     ]
    },
    {
     "name": "stderr",
     "output_type": "stream",
     "text": [
      "Epoch 7 - avg_train_loss: 2.2932  avg_val_loss: 2.0513  time: 120s\n",
      "Epoch 7 - MAE Score (without expiratory phase): 0.8339\n",
      "Epoch 7 - Save Best Score: 0.8339 Model\n"
     ]
    },
    {
     "name": "stdout",
     "output_type": "stream",
     "text": [
      "EVAL: [235/236] Elapsed 0m 22s (remain 0m 0s) Loss: 1.8444(2.0513) \n"
     ]
    },
    {
     "name": "stderr",
     "output_type": "stream",
     "text": [
      "========== fold: 2 result ==========\n",
      "Score (without expiratory phase): 0.8339\n",
      "========== fold: 3 training ==========\n"
     ]
    },
    {
     "name": "stdout",
     "output_type": "stream",
     "text": [
      "init LSTM(64, 64, batch_first=True, dropout=0.2, bidirectional=True)\n",
      "Epoch: [1][0/943] Elapsed 0m 0s (remain 9m 42s) Loss: 43.0882(43.0882) Grad: 35.5432  LR: 0.005000  \n",
      "Epoch: [1][100/943] Elapsed 0m 11s (remain 1m 33s) Loss: 9.8875(18.3478) Grad: 18.4220  LR: 0.005000  \n",
      "Epoch: [1][200/943] Elapsed 0m 22s (remain 1m 21s) Loss: 4.7968(12.2554) Grad: 31.0542  LR: 0.005000  \n",
      "Epoch: [1][300/943] Elapsed 0m 32s (remain 1m 8s) Loss: 3.7532(9.6905) Grad: 31.0406  LR: 0.005000  \n",
      "Epoch: [1][400/943] Elapsed 0m 42s (remain 0m 57s) Loss: 3.7221(8.2882) Grad: 35.8492  LR: 0.005000  \n",
      "Epoch: [1][500/943] Elapsed 0m 53s (remain 0m 46s) Loss: 3.1766(7.4033) Grad: 10.1715  LR: 0.005000  \n",
      "Epoch: [1][600/943] Elapsed 1m 3s (remain 0m 35s) Loss: 2.9312(6.7839) Grad: 10.9036  LR: 0.005000  \n",
      "Epoch: [1][700/943] Elapsed 1m 13s (remain 0m 25s) Loss: 2.7777(6.3213) Grad: 16.9144  LR: 0.005000  \n",
      "Epoch: [1][800/943] Elapsed 1m 23s (remain 0m 14s) Loss: 3.6196(5.9476) Grad: 25.4784  LR: 0.005000  \n",
      "Epoch: [1][900/943] Elapsed 1m 34s (remain 0m 4s) Loss: 3.5419(5.6562) Grad: 52.7751  LR: 0.005000  \n",
      "Epoch: [1][942/943] Elapsed 1m 38s (remain 0m 0s) Loss: 3.6977(5.5467) Grad: 34.5799  LR: 0.005000  \n",
      "EVAL: [0/236] Elapsed 0m 0s (remain 2m 21s) Loss: 3.0664(3.0664) \n",
      "EVAL: [100/236] Elapsed 0m 10s (remain 0m 13s) Loss: 2.8606(2.8715) \n",
      "EVAL: [200/236] Elapsed 0m 20s (remain 0m 3s) Loss: 2.7371(2.8916) \n"
     ]
    },
    {
     "name": "stderr",
     "output_type": "stream",
     "text": [
      "Epoch 1 - avg_train_loss: 5.5467  avg_val_loss: 2.8829  time: 122s\n",
      "Epoch 1 - MAE Score (without expiratory phase): 1.2198\n",
      "Epoch 1 - Save Best Score: 1.2198 Model\n"
     ]
    },
    {
     "name": "stdout",
     "output_type": "stream",
     "text": [
      "EVAL: [235/236] Elapsed 0m 23s (remain 0m 0s) Loss: 3.4203(2.8829) \n",
      "Epoch: [2][0/943] Elapsed 0m 0s (remain 10m 4s) Loss: 3.2555(3.2555) Grad: 36.0236  LR: 0.004990  \n",
      "Epoch: [2][100/943] Elapsed 0m 10s (remain 1m 27s) Loss: 2.9976(3.1641) Grad: 26.1194  LR: 0.004990  \n",
      "Epoch: [2][200/943] Elapsed 0m 22s (remain 1m 21s) Loss: 3.6026(3.1698) Grad: 36.9545  LR: 0.004990  \n",
      "Epoch: [2][300/943] Elapsed 0m 32s (remain 1m 8s) Loss: 3.2754(3.1485) Grad: 53.0832  LR: 0.004990  \n",
      "Epoch: [2][400/943] Elapsed 0m 42s (remain 0m 57s) Loss: 3.0831(3.1192) Grad: 19.1406  LR: 0.004990  \n",
      "Epoch: [2][500/943] Elapsed 0m 53s (remain 0m 46s) Loss: 2.8296(3.0977) Grad: 9.4766  LR: 0.004990  \n",
      "Epoch: [2][600/943] Elapsed 1m 3s (remain 0m 36s) Loss: 2.9095(3.0801) Grad: 16.7666  LR: 0.004990  \n",
      "Epoch: [2][700/943] Elapsed 1m 13s (remain 0m 25s) Loss: 2.8957(3.0542) Grad: 12.1929  LR: 0.004990  \n",
      "Epoch: [2][800/943] Elapsed 1m 24s (remain 0m 14s) Loss: 2.8288(3.0326) Grad: 15.4950  LR: 0.004990  \n",
      "Epoch: [2][900/943] Elapsed 1m 34s (remain 0m 4s) Loss: 2.6325(3.0159) Grad: 15.4236  LR: 0.004990  \n",
      "Epoch: [2][942/943] Elapsed 1m 38s (remain 0m 0s) Loss: 2.6823(3.0046) Grad: 31.6353  LR: 0.004990  \n",
      "EVAL: [0/236] Elapsed 0m 0s (remain 2m 46s) Loss: 2.6485(2.6485) \n",
      "EVAL: [100/236] Elapsed 0m 9s (remain 0m 13s) Loss: 2.5439(2.4444) \n",
      "EVAL: [200/236] Elapsed 0m 20s (remain 0m 3s) Loss: 2.3265(2.4729) \n"
     ]
    },
    {
     "name": "stderr",
     "output_type": "stream",
     "text": [
      "Epoch 2 - avg_train_loss: 3.0046  avg_val_loss: 2.4701  time: 123s\n",
      "Epoch 2 - MAE Score (without expiratory phase): 1.0390\n",
      "Epoch 2 - Save Best Score: 1.0390 Model\n"
     ]
    },
    {
     "name": "stdout",
     "output_type": "stream",
     "text": [
      "EVAL: [235/236] Elapsed 0m 23s (remain 0m 0s) Loss: 2.8426(2.4701) \n",
      "Epoch: [3][0/943] Elapsed 0m 0s (remain 8m 37s) Loss: 2.8976(2.8976) Grad: 14.1668  LR: 0.004966  \n",
      "Epoch: [3][100/943] Elapsed 0m 10s (remain 1m 30s) Loss: 2.7289(2.8562) Grad: 20.7164  LR: 0.004966  \n",
      "Epoch: [3][200/943] Elapsed 0m 22s (remain 1m 23s) Loss: 2.9881(2.8332) Grad: 19.3623  LR: 0.004966  \n",
      "Epoch: [3][300/943] Elapsed 0m 32s (remain 1m 10s) Loss: 2.3692(2.8492) Grad: 10.6017  LR: 0.004966  \n",
      "Epoch: [3][400/943] Elapsed 0m 42s (remain 0m 57s) Loss: 2.8458(2.8238) Grad: 35.6148  LR: 0.004966  \n",
      "Epoch: [3][500/943] Elapsed 0m 53s (remain 0m 47s) Loss: 2.5995(2.8215) Grad: 18.2310  LR: 0.004966  \n",
      "Epoch: [3][600/943] Elapsed 1m 3s (remain 0m 36s) Loss: 2.6244(2.8161) Grad: 18.6572  LR: 0.004966  \n",
      "Epoch: [3][700/943] Elapsed 1m 13s (remain 0m 25s) Loss: 2.4168(2.8177) Grad: 11.8275  LR: 0.004966  \n",
      "Epoch: [3][800/943] Elapsed 1m 24s (remain 0m 15s) Loss: 3.1168(2.8091) Grad: 43.2542  LR: 0.004966  \n",
      "Epoch: [3][900/943] Elapsed 1m 34s (remain 0m 4s) Loss: 2.8130(2.8113) Grad: 33.1314  LR: 0.004966  \n",
      "Epoch: [3][942/943] Elapsed 1m 39s (remain 0m 0s) Loss: 2.6885(2.8144) Grad: 43.7240  LR: 0.004966  \n",
      "EVAL: [0/236] Elapsed 0m 0s (remain 2m 11s) Loss: 2.9739(2.9739) \n",
      "EVAL: [100/236] Elapsed 0m 10s (remain 0m 13s) Loss: 3.0923(2.8859) \n",
      "EVAL: [200/236] Elapsed 0m 20s (remain 0m 3s) Loss: 2.5352(2.9095) \n"
     ]
    },
    {
     "name": "stderr",
     "output_type": "stream",
     "text": [
      "Epoch 3 - avg_train_loss: 2.8144  avg_val_loss: 2.9079  time: 123s\n",
      "Epoch 3 - MAE Score (without expiratory phase): 1.2481\n"
     ]
    },
    {
     "name": "stdout",
     "output_type": "stream",
     "text": [
      "EVAL: [235/236] Elapsed 0m 23s (remain 0m 0s) Loss: 3.3895(2.9079) \n",
      "Epoch: [4][0/943] Elapsed 0m 0s (remain 8m 14s) Loss: 2.8415(2.8415) Grad: 33.0507  LR: 0.004931  \n",
      "Epoch: [4][100/943] Elapsed 0m 10s (remain 1m 28s) Loss: 2.9013(2.7146) Grad: 26.2511  LR: 0.004931  \n",
      "Epoch: [4][200/943] Elapsed 0m 21s (remain 1m 19s) Loss: 2.9133(2.7082) Grad: 34.5184  LR: 0.004931  \n",
      "Epoch: [4][300/943] Elapsed 0m 32s (remain 1m 9s) Loss: 2.3915(2.7077) Grad: 19.2765  LR: 0.004931  \n",
      "Epoch: [4][400/943] Elapsed 0m 42s (remain 0m 58s) Loss: 2.4331(2.6877) Grad: 12.4004  LR: 0.004931  \n",
      "Epoch: [4][500/943] Elapsed 0m 53s (remain 0m 46s) Loss: 3.0631(2.6709) Grad: 18.3755  LR: 0.004931  \n",
      "Epoch: [4][600/943] Elapsed 1m 3s (remain 0m 36s) Loss: 2.5932(2.6799) Grad: 27.9263  LR: 0.004931  \n",
      "Epoch: [4][700/943] Elapsed 1m 13s (remain 0m 25s) Loss: 2.7513(2.6650) Grad: 15.6660  LR: 0.004931  \n",
      "Epoch: [4][800/943] Elapsed 1m 23s (remain 0m 14s) Loss: 3.2050(2.6596) Grad: 17.1511  LR: 0.004931  \n",
      "Epoch: [4][900/943] Elapsed 1m 34s (remain 0m 4s) Loss: 2.3690(2.6544) Grad: 29.4000  LR: 0.004931  \n",
      "Epoch: [4][942/943] Elapsed 1m 38s (remain 0m 0s) Loss: 2.2303(2.6508) Grad: 23.9132  LR: 0.004931  \n",
      "EVAL: [0/236] Elapsed 0m 0s (remain 2m 12s) Loss: 2.5295(2.5295) \n",
      "EVAL: [100/236] Elapsed 0m 11s (remain 0m 14s) Loss: 2.4491(2.4195) \n",
      "EVAL: [200/236] Elapsed 0m 20s (remain 0m 3s) Loss: 2.4463(2.4610) \n"
     ]
    },
    {
     "name": "stderr",
     "output_type": "stream",
     "text": [
      "Epoch 4 - avg_train_loss: 2.6508  avg_val_loss: 2.4567  time: 123s\n",
      "Epoch 4 - MAE Score (without expiratory phase): 1.0418\n"
     ]
    },
    {
     "name": "stdout",
     "output_type": "stream",
     "text": [
      "EVAL: [235/236] Elapsed 0m 24s (remain 0m 0s) Loss: 2.5108(2.4567) \n",
      "Epoch: [5][0/943] Elapsed 0m 0s (remain 9m 53s) Loss: 2.5542(2.5542) Grad: 21.2427  LR: 0.004887  \n",
      "Epoch: [5][100/943] Elapsed 0m 12s (remain 1m 40s) Loss: 2.1680(2.5039) Grad: 17.9952  LR: 0.004887  \n",
      "Epoch: [5][200/943] Elapsed 0m 22s (remain 1m 22s) Loss: 2.3675(2.5470) Grad: 17.9551  LR: 0.004887  \n",
      "Epoch: [5][300/943] Elapsed 0m 33s (remain 1m 11s) Loss: 2.4492(2.5637) Grad: 37.7181  LR: 0.004887  \n",
      "Epoch: [5][400/943] Elapsed 0m 44s (remain 0m 59s) Loss: 2.4541(2.5666) Grad: 14.4631  LR: 0.004887  \n",
      "Epoch: [5][500/943] Elapsed 0m 55s (remain 0m 48s) Loss: 2.5683(2.5551) Grad: 37.0332  LR: 0.004887  \n",
      "Epoch: [5][600/943] Elapsed 1m 6s (remain 0m 37s) Loss: 2.1444(2.5443) Grad: 12.0405  LR: 0.004887  \n",
      "Epoch: [5][700/943] Elapsed 1m 16s (remain 0m 26s) Loss: 2.2025(2.5363) Grad: 35.5232  LR: 0.004887  \n",
      "Epoch: [5][800/943] Elapsed 1m 27s (remain 0m 15s) Loss: 2.6142(2.5330) Grad: 16.4479  LR: 0.004887  \n",
      "Epoch: [5][900/943] Elapsed 1m 37s (remain 0m 4s) Loss: 2.8165(2.5230) Grad: 14.2361  LR: 0.004887  \n",
      "Epoch: [5][942/943] Elapsed 1m 41s (remain 0m 0s) Loss: 2.3355(2.5197) Grad: 29.6533  LR: 0.004887  \n",
      "EVAL: [0/236] Elapsed 0m 0s (remain 2m 1s) Loss: 2.5429(2.5429) \n",
      "EVAL: [100/236] Elapsed 0m 10s (remain 0m 14s) Loss: 2.3251(2.3040) \n",
      "EVAL: [200/236] Elapsed 0m 20s (remain 0m 3s) Loss: 2.2542(2.3464) \n"
     ]
    },
    {
     "name": "stderr",
     "output_type": "stream",
     "text": [
      "Epoch 5 - avg_train_loss: 2.5197  avg_val_loss: 2.3412  time: 125s\n",
      "Epoch 5 - MAE Score (without expiratory phase): 0.9757\n",
      "Epoch 5 - Save Best Score: 0.9757 Model\n"
     ]
    },
    {
     "name": "stdout",
     "output_type": "stream",
     "text": [
      "EVAL: [235/236] Elapsed 0m 23s (remain 0m 0s) Loss: 2.4473(2.3412) \n",
      "Epoch: [6][0/943] Elapsed 0m 0s (remain 14m 14s) Loss: 2.9026(2.9026) Grad: 23.4529  LR: 0.004834  \n",
      "Epoch: [6][100/943] Elapsed 0m 12s (remain 1m 41s) Loss: 2.2946(2.4271) Grad: 21.9457  LR: 0.004834  \n",
      "Epoch: [6][200/943] Elapsed 0m 21s (remain 1m 21s) Loss: 2.4377(2.4431) Grad: 22.9479  LR: 0.004834  \n",
      "Epoch: [6][300/943] Elapsed 0m 32s (remain 1m 10s) Loss: 2.3929(2.4591) Grad: 17.9959  LR: 0.004834  \n",
      "Epoch: [6][400/943] Elapsed 0m 43s (remain 0m 58s) Loss: 2.8489(2.4569) Grad: 7.5411  LR: 0.004834  \n",
      "Epoch: [6][500/943] Elapsed 0m 53s (remain 0m 46s) Loss: 2.3464(2.4468) Grad: 21.2210  LR: 0.004834  \n",
      "Epoch: [6][600/943] Elapsed 1m 3s (remain 0m 36s) Loss: 2.4265(2.4370) Grad: 10.4949  LR: 0.004834  \n",
      "Epoch: [6][700/943] Elapsed 1m 14s (remain 0m 25s) Loss: 2.1047(2.4445) Grad: 18.4510  LR: 0.004834  \n",
      "Epoch: [6][800/943] Elapsed 1m 24s (remain 0m 14s) Loss: 2.3197(2.4410) Grad: 7.7776  LR: 0.004834  \n",
      "Epoch: [6][900/943] Elapsed 1m 34s (remain 0m 4s) Loss: 3.0467(2.4331) Grad: 21.6878  LR: 0.004834  \n",
      "Epoch: [6][942/943] Elapsed 1m 39s (remain 0m 0s) Loss: 2.2221(2.4274) Grad: 11.7903  LR: 0.004834  \n",
      "EVAL: [0/236] Elapsed 0m 0s (remain 2m 46s) Loss: 2.6874(2.6874) \n",
      "EVAL: [100/236] Elapsed 0m 10s (remain 0m 14s) Loss: 2.4102(2.3761) \n",
      "EVAL: [200/236] Elapsed 0m 19s (remain 0m 3s) Loss: 2.4198(2.4119) \n"
     ]
    },
    {
     "name": "stderr",
     "output_type": "stream",
     "text": [
      "Epoch 6 - avg_train_loss: 2.4274  avg_val_loss: 2.3989  time: 123s\n",
      "Epoch 6 - MAE Score (without expiratory phase): 1.0080\n"
     ]
    },
    {
     "name": "stdout",
     "output_type": "stream",
     "text": [
      "EVAL: [235/236] Elapsed 0m 23s (remain 0m 0s) Loss: 2.3827(2.3989) \n",
      "Epoch: [7][0/943] Elapsed 0m 0s (remain 10m 33s) Loss: 2.8237(2.8237) Grad: 37.2209  LR: 0.004772  \n",
      "Epoch: [7][100/943] Elapsed 0m 12s (remain 1m 43s) Loss: 3.1055(2.3741) Grad: 49.9860  LR: 0.004772  \n",
      "Epoch: [7][200/943] Elapsed 0m 22s (remain 1m 23s) Loss: 2.5988(2.3568) Grad: 31.8980  LR: 0.004772  \n",
      "Epoch: [7][300/943] Elapsed 0m 32s (remain 1m 9s) Loss: 2.7930(2.3710) Grad: 19.9459  LR: 0.004772  \n",
      "Epoch: [7][400/943] Elapsed 0m 43s (remain 0m 58s) Loss: 2.4091(2.3966) Grad: 19.0995  LR: 0.004772  \n",
      "Epoch: [7][500/943] Elapsed 0m 53s (remain 0m 47s) Loss: 2.0509(2.3907) Grad: 8.2485  LR: 0.004772  \n",
      "Epoch: [7][600/943] Elapsed 1m 3s (remain 0m 36s) Loss: 2.2358(2.4001) Grad: 14.9309  LR: 0.004772  \n",
      "Epoch: [7][700/943] Elapsed 1m 14s (remain 0m 25s) Loss: 2.5768(2.3966) Grad: 22.7288  LR: 0.004772  \n",
      "Epoch: [7][800/943] Elapsed 1m 25s (remain 0m 15s) Loss: 2.3334(2.3980) Grad: 16.2578  LR: 0.004772  \n",
      "Epoch: [7][900/943] Elapsed 1m 35s (remain 0m 4s) Loss: 2.4769(2.3923) Grad: 23.7154  LR: 0.004772  \n",
      "Epoch: [7][942/943] Elapsed 1m 40s (remain 0m 0s) Loss: 2.5513(2.3897) Grad: 32.9660  LR: 0.004772  \n",
      "EVAL: [0/236] Elapsed 0m 0s (remain 2m 17s) Loss: 2.2387(2.2387) \n",
      "EVAL: [100/236] Elapsed 0m 11s (remain 0m 14s) Loss: 2.3540(2.0850) \n",
      "EVAL: [200/236] Elapsed 0m 20s (remain 0m 3s) Loss: 1.9514(2.1178) \n"
     ]
    },
    {
     "name": "stderr",
     "output_type": "stream",
     "text": [
      "Epoch 7 - avg_train_loss: 2.3897  avg_val_loss: 2.1138  time: 124s\n",
      "Epoch 7 - MAE Score (without expiratory phase): 0.8855\n",
      "Epoch 7 - Save Best Score: 0.8855 Model\n"
     ]
    },
    {
     "name": "stdout",
     "output_type": "stream",
     "text": [
      "EVAL: [235/236] Elapsed 0m 23s (remain 0m 0s) Loss: 2.2518(2.1138) \n"
     ]
    },
    {
     "name": "stderr",
     "output_type": "stream",
     "text": [
      "========== fold: 3 result ==========\n",
      "Score (without expiratory phase): 0.8855\n",
      "========== fold: 4 training ==========\n"
     ]
    },
    {
     "name": "stdout",
     "output_type": "stream",
     "text": [
      "init LSTM(64, 64, batch_first=True, dropout=0.2, bidirectional=True)\n",
      "Epoch: [1][0/943] Elapsed 0m 0s (remain 7m 31s) Loss: 41.5712(41.5712) Grad: 31.6499  LR: 0.005000  \n",
      "Epoch: [1][100/943] Elapsed 0m 11s (remain 1m 35s) Loss: 8.9765(19.0555) Grad: 16.7558  LR: 0.005000  \n",
      "Epoch: [1][200/943] Elapsed 0m 22s (remain 1m 24s) Loss: 6.0279(12.8946) Grad: 22.4700  LR: 0.005000  \n",
      "Epoch: [1][300/943] Elapsed 0m 33s (remain 1m 11s) Loss: 4.2036(10.2718) Grad: 37.4063  LR: 0.005000  \n",
      "Epoch: [1][400/943] Elapsed 0m 44s (remain 1m 0s) Loss: 4.6185(8.7522) Grad: 14.0861  LR: 0.005000  \n",
      "Epoch: [1][500/943] Elapsed 0m 55s (remain 0m 48s) Loss: 3.8425(7.7694) Grad: 12.9675  LR: 0.005000  \n",
      "Epoch: [1][600/943] Elapsed 1m 5s (remain 0m 37s) Loss: 2.9841(7.0970) Grad: 21.5799  LR: 0.005000  \n",
      "Epoch: [1][700/943] Elapsed 1m 16s (remain 0m 26s) Loss: 3.3255(6.5956) Grad: 12.8621  LR: 0.005000  \n",
      "Epoch: [1][800/943] Elapsed 1m 26s (remain 0m 15s) Loss: 3.7511(6.2098) Grad: 53.5590  LR: 0.005000  \n",
      "Epoch: [1][900/943] Elapsed 1m 36s (remain 0m 4s) Loss: 3.4250(5.8923) Grad: 31.3459  LR: 0.005000  \n",
      "Epoch: [1][942/943] Elapsed 1m 40s (remain 0m 0s) Loss: 3.0239(5.7799) Grad: 26.5570  LR: 0.005000  \n",
      "EVAL: [0/236] Elapsed 0m 0s (remain 1m 53s) Loss: 2.9694(2.9694) \n",
      "EVAL: [100/236] Elapsed 0m 10s (remain 0m 13s) Loss: 3.1013(3.1046) \n",
      "EVAL: [200/236] Elapsed 0m 20s (remain 0m 3s) Loss: 3.2862(3.0858) \n"
     ]
    },
    {
     "name": "stderr",
     "output_type": "stream",
     "text": [
      "Epoch 1 - avg_train_loss: 5.7799  avg_val_loss: 3.0929  time: 124s\n",
      "Epoch 1 - MAE Score (without expiratory phase): 1.3296\n",
      "Epoch 1 - Save Best Score: 1.3296 Model\n"
     ]
    },
    {
     "name": "stdout",
     "output_type": "stream",
     "text": [
      "EVAL: [235/236] Elapsed 0m 23s (remain 0m 0s) Loss: 3.2972(3.0929) \n",
      "Epoch: [2][0/943] Elapsed 0m 0s (remain 10m 1s) Loss: 3.5816(3.5816) Grad: 48.0222  LR: 0.004990  \n",
      "Epoch: [2][100/943] Elapsed 0m 10s (remain 1m 29s) Loss: 2.7582(3.2036) Grad: 17.5881  LR: 0.004990  \n",
      "Epoch: [2][200/943] Elapsed 0m 22s (remain 1m 24s) Loss: 3.1626(3.1787) Grad: 14.4700  LR: 0.004990  \n",
      "Epoch: [2][300/943] Elapsed 0m 32s (remain 1m 10s) Loss: 2.7909(3.1708) Grad: 19.0537  LR: 0.004990  \n",
      "Epoch: [2][400/943] Elapsed 0m 43s (remain 0m 58s) Loss: 2.7279(3.1536) Grad: 21.1198  LR: 0.004990  \n",
      "Epoch: [2][500/943] Elapsed 0m 54s (remain 0m 47s) Loss: 2.7572(3.1243) Grad: 15.3687  LR: 0.004990  \n",
      "Epoch: [2][600/943] Elapsed 1m 4s (remain 0m 36s) Loss: 2.5682(3.0837) Grad: 9.4523  LR: 0.004990  \n",
      "Epoch: [2][700/943] Elapsed 1m 14s (remain 0m 25s) Loss: 2.4563(3.0556) Grad: 20.0515  LR: 0.004990  \n",
      "Epoch: [2][800/943] Elapsed 1m 25s (remain 0m 15s) Loss: 2.9051(3.0297) Grad: 27.6998  LR: 0.004990  \n",
      "Epoch: [2][900/943] Elapsed 1m 35s (remain 0m 4s) Loss: 3.0313(3.0069) Grad: 23.1558  LR: 0.004990  \n",
      "Epoch: [2][942/943] Elapsed 1m 39s (remain 0m 0s) Loss: 2.3073(2.9987) Grad: 15.2099  LR: 0.004990  \n",
      "EVAL: [0/236] Elapsed 0m 0s (remain 2m 39s) Loss: 2.7643(2.7643) \n",
      "EVAL: [100/236] Elapsed 0m 9s (remain 0m 12s) Loss: 2.7535(2.7284) \n",
      "EVAL: [200/236] Elapsed 0m 20s (remain 0m 3s) Loss: 3.1399(2.7159) \n"
     ]
    },
    {
     "name": "stderr",
     "output_type": "stream",
     "text": [
      "Epoch 2 - avg_train_loss: 2.9987  avg_val_loss: 2.7263  time: 124s\n",
      "Epoch 2 - MAE Score (without expiratory phase): 1.1087\n",
      "Epoch 2 - Save Best Score: 1.1087 Model\n"
     ]
    },
    {
     "name": "stdout",
     "output_type": "stream",
     "text": [
      "EVAL: [235/236] Elapsed 0m 23s (remain 0m 0s) Loss: 2.6176(2.7263) \n",
      "Epoch: [3][0/943] Elapsed 0m 0s (remain 9m 57s) Loss: 2.7910(2.7910) Grad: 16.0526  LR: 0.004966  \n",
      "Epoch: [3][100/943] Elapsed 0m 10s (remain 1m 30s) Loss: 3.0138(2.8119) Grad: 13.1133  LR: 0.004966  \n",
      "Epoch: [3][200/943] Elapsed 0m 22s (remain 1m 21s) Loss: 2.9889(2.8022) Grad: 15.7030  LR: 0.004966  \n",
      "Epoch: [3][300/943] Elapsed 0m 33s (remain 1m 10s) Loss: 2.5615(2.8088) Grad: 11.8443  LR: 0.004966  \n",
      "Epoch: [3][400/943] Elapsed 0m 43s (remain 0m 58s) Loss: 2.4015(2.8184) Grad: 18.0779  LR: 0.004966  \n",
      "Epoch: [3][500/943] Elapsed 0m 53s (remain 0m 47s) Loss: 2.5364(2.7976) Grad: 8.9608  LR: 0.004966  \n",
      "Epoch: [3][600/943] Elapsed 1m 4s (remain 0m 36s) Loss: 2.5712(2.8088) Grad: 34.9146  LR: 0.004966  \n",
      "Epoch: [3][700/943] Elapsed 1m 14s (remain 0m 25s) Loss: 2.7350(2.7903) Grad: 21.5638  LR: 0.004966  \n",
      "Epoch: [3][800/943] Elapsed 1m 24s (remain 0m 14s) Loss: 3.1328(2.7878) Grad: 39.4756  LR: 0.004966  \n",
      "Epoch: [3][900/943] Elapsed 1m 35s (remain 0m 4s) Loss: 2.4796(2.7914) Grad: 16.0688  LR: 0.004966  \n",
      "Epoch: [3][942/943] Elapsed 1m 40s (remain 0m 0s) Loss: 2.6279(2.7837) Grad: 13.6383  LR: 0.004966  \n",
      "EVAL: [0/236] Elapsed 0m 0s (remain 2m 24s) Loss: 2.6544(2.6544) \n",
      "EVAL: [100/236] Elapsed 0m 9s (remain 0m 13s) Loss: 2.5087(2.4826) \n",
      "EVAL: [200/236] Elapsed 0m 20s (remain 0m 3s) Loss: 2.6950(2.4672) \n"
     ]
    },
    {
     "name": "stderr",
     "output_type": "stream",
     "text": [
      "Epoch 3 - avg_train_loss: 2.7837  avg_val_loss: 2.4795  time: 123s\n",
      "Epoch 3 - MAE Score (without expiratory phase): 1.0500\n",
      "Epoch 3 - Save Best Score: 1.0500 Model\n"
     ]
    },
    {
     "name": "stdout",
     "output_type": "stream",
     "text": [
      "EVAL: [235/236] Elapsed 0m 23s (remain 0m 0s) Loss: 2.6089(2.4795) \n",
      "Epoch: [4][0/943] Elapsed 0m 0s (remain 12m 46s) Loss: 2.5629(2.5629) Grad: 7.5801  LR: 0.004931  \n",
      "Epoch: [4][100/943] Elapsed 0m 12s (remain 1m 40s) Loss: 2.6081(2.6991) Grad: 18.3360  LR: 0.004931  \n",
      "Epoch: [4][200/943] Elapsed 0m 22s (remain 1m 24s) Loss: 2.4760(2.6546) Grad: 11.2039  LR: 0.004931  \n",
      "Epoch: [4][300/943] Elapsed 0m 33s (remain 1m 11s) Loss: 3.0594(2.6798) Grad: 22.1977  LR: 0.004931  \n",
      "Epoch: [4][400/943] Elapsed 0m 44s (remain 0m 59s) Loss: 2.6431(2.6691) Grad: 30.5897  LR: 0.004931  \n",
      "Epoch: [4][500/943] Elapsed 0m 54s (remain 0m 48s) Loss: 3.4787(2.6701) Grad: 51.3512  LR: 0.004931  \n",
      "Epoch: [4][600/943] Elapsed 1m 4s (remain 0m 36s) Loss: 2.7722(2.6620) Grad: 30.6772  LR: 0.004931  \n",
      "Epoch: [4][700/943] Elapsed 1m 15s (remain 0m 26s) Loss: 2.4132(2.6520) Grad: 12.7176  LR: 0.004931  \n",
      "Epoch: [4][800/943] Elapsed 1m 26s (remain 0m 15s) Loss: 2.5733(2.6416) Grad: 14.2973  LR: 0.004931  \n",
      "Epoch: [4][900/943] Elapsed 1m 36s (remain 0m 4s) Loss: 2.6224(2.6270) Grad: 43.5811  LR: 0.004931  \n",
      "Epoch: [4][942/943] Elapsed 1m 41s (remain 0m 0s) Loss: 2.9168(2.6246) Grad: 29.7866  LR: 0.004931  \n",
      "EVAL: [0/236] Elapsed 0m 0s (remain 2m 13s) Loss: 2.2758(2.2758) \n",
      "EVAL: [100/236] Elapsed 0m 10s (remain 0m 14s) Loss: 2.1375(2.3191) \n",
      "EVAL: [200/236] Elapsed 0m 19s (remain 0m 3s) Loss: 2.5471(2.3196) \n"
     ]
    },
    {
     "name": "stderr",
     "output_type": "stream",
     "text": [
      "Epoch 4 - avg_train_loss: 2.6246  avg_val_loss: 2.3237  time: 124s\n",
      "Epoch 4 - MAE Score (without expiratory phase): 0.9796\n",
      "Epoch 4 - Save Best Score: 0.9796 Model\n"
     ]
    },
    {
     "name": "stdout",
     "output_type": "stream",
     "text": [
      "EVAL: [235/236] Elapsed 0m 22s (remain 0m 0s) Loss: 2.3080(2.3237) \n",
      "Epoch: [5][0/943] Elapsed 0m 0s (remain 8m 14s) Loss: 2.4335(2.4335) Grad: 10.4828  LR: 0.004887  \n",
      "Epoch: [5][100/943] Elapsed 0m 12s (remain 1m 40s) Loss: 2.5343(2.4678) Grad: 9.7278  LR: 0.004887  \n",
      "Epoch: [5][200/943] Elapsed 0m 22s (remain 1m 24s) Loss: 2.4973(2.4846) Grad: 32.2990  LR: 0.004887  \n",
      "Epoch: [5][300/943] Elapsed 0m 33s (remain 1m 10s) Loss: 2.5969(2.4794) Grad: 23.1110  LR: 0.004887  \n",
      "Epoch: [5][400/943] Elapsed 0m 44s (remain 0m 59s) Loss: 2.8865(2.4748) Grad: 42.7753  LR: 0.004887  \n",
      "Epoch: [5][500/943] Elapsed 0m 54s (remain 0m 48s) Loss: 2.5946(2.4919) Grad: 24.3574  LR: 0.004887  \n",
      "Epoch: [5][600/943] Elapsed 1m 5s (remain 0m 37s) Loss: 2.2159(2.4828) Grad: 13.5558  LR: 0.004887  \n",
      "Epoch: [5][700/943] Elapsed 1m 16s (remain 0m 26s) Loss: 2.2182(2.4698) Grad: 11.9063  LR: 0.004887  \n",
      "Epoch: [5][800/943] Elapsed 1m 26s (remain 0m 15s) Loss: 2.0722(2.4600) Grad: 20.9627  LR: 0.004887  \n",
      "Epoch: [5][900/943] Elapsed 1m 36s (remain 0m 4s) Loss: 2.2938(2.4488) Grad: 22.5976  LR: 0.004887  \n",
      "Epoch: [5][942/943] Elapsed 1m 40s (remain 0m 0s) Loss: 2.5063(2.4479) Grad: 36.6401  LR: 0.004887  \n",
      "EVAL: [0/236] Elapsed 0m 0s (remain 2m 11s) Loss: 2.4742(2.4742) \n",
      "EVAL: [100/236] Elapsed 0m 11s (remain 0m 15s) Loss: 2.4379(2.3448) \n",
      "EVAL: [200/236] Elapsed 0m 20s (remain 0m 3s) Loss: 2.2495(2.3456) \n"
     ]
    },
    {
     "name": "stderr",
     "output_type": "stream",
     "text": [
      "Epoch 5 - avg_train_loss: 2.4479  avg_val_loss: 2.3441  time: 124s\n",
      "Epoch 5 - MAE Score (without expiratory phase): 0.9937\n"
     ]
    },
    {
     "name": "stdout",
     "output_type": "stream",
     "text": [
      "EVAL: [235/236] Elapsed 0m 23s (remain 0m 0s) Loss: 2.6229(2.3441) \n",
      "Epoch: [6][0/943] Elapsed 0m 0s (remain 12m 5s) Loss: 2.7042(2.7042) Grad: 34.0162  LR: 0.004834  \n",
      "Epoch: [6][100/943] Elapsed 0m 12s (remain 1m 44s) Loss: 2.4420(2.4254) Grad: 19.7361  LR: 0.004834  \n",
      "Epoch: [6][200/943] Elapsed 0m 22s (remain 1m 24s) Loss: 2.3112(2.3866) Grad: 16.6321  LR: 0.004834  \n",
      "Epoch: [6][300/943] Elapsed 0m 32s (remain 1m 10s) Loss: 2.2534(2.3598) Grad: 9.1735  LR: 0.004834  \n",
      "Epoch: [6][400/943] Elapsed 0m 42s (remain 0m 58s) Loss: 2.6890(2.3702) Grad: 12.8252  LR: 0.004834  \n",
      "Epoch: [6][500/943] Elapsed 0m 54s (remain 0m 47s) Loss: 2.3204(2.3676) Grad: 12.2425  LR: 0.004834  \n",
      "Epoch: [6][600/943] Elapsed 1m 4s (remain 0m 36s) Loss: 2.1955(2.3591) Grad: 11.9612  LR: 0.004834  \n",
      "Epoch: [6][700/943] Elapsed 1m 14s (remain 0m 25s) Loss: 2.3289(2.3681) Grad: 14.0385  LR: 0.004834  \n",
      "Epoch: [6][800/943] Elapsed 1m 25s (remain 0m 15s) Loss: 2.5680(2.3641) Grad: 14.0425  LR: 0.004834  \n",
      "Epoch: [6][900/943] Elapsed 1m 36s (remain 0m 4s) Loss: 2.3117(2.3693) Grad: 10.5477  LR: 0.004834  \n",
      "Epoch: [6][942/943] Elapsed 1m 40s (remain 0m 0s) Loss: 2.7688(2.3702) Grad: 8.6801  LR: 0.004834  \n",
      "EVAL: [0/236] Elapsed 0m 0s (remain 2m 14s) Loss: 2.5042(2.5042) \n",
      "EVAL: [100/236] Elapsed 0m 11s (remain 0m 15s) Loss: 2.1686(2.1426) \n",
      "EVAL: [200/236] Elapsed 0m 20s (remain 0m 3s) Loss: 2.2906(2.1338) \n"
     ]
    },
    {
     "name": "stderr",
     "output_type": "stream",
     "text": [
      "Epoch 6 - avg_train_loss: 2.3702  avg_val_loss: 2.1355  time: 124s\n",
      "Epoch 6 - MAE Score (without expiratory phase): 0.8978\n",
      "Epoch 6 - Save Best Score: 0.8978 Model\n"
     ]
    },
    {
     "name": "stdout",
     "output_type": "stream",
     "text": [
      "EVAL: [235/236] Elapsed 0m 23s (remain 0m 0s) Loss: 2.2567(2.1355) \n",
      "Epoch: [7][0/943] Elapsed 0m 0s (remain 8m 26s) Loss: 2.1907(2.1907) Grad: 16.4347  LR: 0.004772  \n",
      "Epoch: [7][100/943] Elapsed 0m 11s (remain 1m 38s) Loss: 2.2501(2.2580) Grad: 8.0801  LR: 0.004772  \n",
      "Epoch: [7][200/943] Elapsed 0m 22s (remain 1m 24s) Loss: 2.1024(2.2840) Grad: 13.4174  LR: 0.004772  \n",
      "Epoch: [7][300/943] Elapsed 0m 33s (remain 1m 10s) Loss: 2.2757(2.2572) Grad: 18.0201  LR: 0.004772  \n",
      "Epoch: [7][400/943] Elapsed 0m 43s (remain 0m 59s) Loss: 2.6907(2.2747) Grad: 19.1235  LR: 0.004772  \n",
      "Epoch: [7][500/943] Elapsed 0m 54s (remain 0m 48s) Loss: 2.0429(2.2847) Grad: 10.3267  LR: 0.004772  \n",
      "Epoch: [7][600/943] Elapsed 1m 4s (remain 0m 36s) Loss: 2.7890(2.2732) Grad: 28.6244  LR: 0.004772  \n",
      "Epoch: [7][700/943] Elapsed 1m 15s (remain 0m 26s) Loss: 2.1476(2.2703) Grad: 13.1531  LR: 0.004772  \n",
      "Epoch: [7][800/943] Elapsed 1m 26s (remain 0m 15s) Loss: 2.0143(2.2611) Grad: 10.0471  LR: 0.004772  \n",
      "Epoch: [7][900/943] Elapsed 1m 36s (remain 0m 4s) Loss: 2.2419(2.2558) Grad: 6.1847  LR: 0.004772  \n",
      "Epoch: [7][942/943] Elapsed 1m 40s (remain 0m 0s) Loss: 2.4033(2.2495) Grad: 31.9732  LR: 0.004772  \n",
      "EVAL: [0/236] Elapsed 0m 0s (remain 2m 29s) Loss: 2.0291(2.0291) \n",
      "EVAL: [100/236] Elapsed 0m 11s (remain 0m 14s) Loss: 2.3188(1.9717) \n",
      "EVAL: [200/236] Elapsed 0m 21s (remain 0m 3s) Loss: 1.9900(1.9514) \n"
     ]
    },
    {
     "name": "stderr",
     "output_type": "stream",
     "text": [
      "Epoch 7 - avg_train_loss: 2.2495  avg_val_loss: 1.9506  time: 125s\n",
      "Epoch 7 - MAE Score (without expiratory phase): 0.8121\n",
      "Epoch 7 - Save Best Score: 0.8121 Model\n"
     ]
    },
    {
     "name": "stdout",
     "output_type": "stream",
     "text": [
      "EVAL: [235/236] Elapsed 0m 23s (remain 0m 0s) Loss: 1.6730(1.9506) \n"
     ]
    },
    {
     "name": "stderr",
     "output_type": "stream",
     "text": [
      "========== fold: 4 result ==========\n",
      "Score (without expiratory phase): 0.8121\n",
      "========== CV ==========\n",
      "Score (without expiratory phase): 0.8277\n"
     ]
    },
    {
     "name": "stdout",
     "output_type": "stream",
     "text": [
      "init LSTM(64, 64, batch_first=True, dropout=0.2, bidirectional=True)\n"
     ]
    },
    {
     "data": {
      "application/vnd.jupyter.widget-view+json": {
       "model_id": "b3be2702cea44131a59b188600e83bc8",
       "version_major": 2,
       "version_minor": 0
      },
      "text/plain": [
       "  0%|          | 0/393 [00:00<?, ?it/s]"
      ]
     },
     "metadata": {},
     "output_type": "display_data"
    },
    {
     "name": "stdout",
     "output_type": "stream",
     "text": [
      "init LSTM(64, 64, batch_first=True, dropout=0.2, bidirectional=True)\n"
     ]
    },
    {
     "data": {
      "application/vnd.jupyter.widget-view+json": {
       "model_id": "beb7bff8c8af42518bb44993d1497a80",
       "version_major": 2,
       "version_minor": 0
      },
      "text/plain": [
       "  0%|          | 0/393 [00:00<?, ?it/s]"
      ]
     },
     "metadata": {},
     "output_type": "display_data"
    },
    {
     "name": "stdout",
     "output_type": "stream",
     "text": [
      "init LSTM(64, 64, batch_first=True, dropout=0.2, bidirectional=True)\n"
     ]
    },
    {
     "data": {
      "application/vnd.jupyter.widget-view+json": {
       "model_id": "196c40ee46c74b0c905fc61a775954f4",
       "version_major": 2,
       "version_minor": 0
      },
      "text/plain": [
       "  0%|          | 0/393 [00:00<?, ?it/s]"
      ]
     },
     "metadata": {},
     "output_type": "display_data"
    },
    {
     "name": "stdout",
     "output_type": "stream",
     "text": [
      "init LSTM(64, 64, batch_first=True, dropout=0.2, bidirectional=True)\n"
     ]
    },
    {
     "data": {
      "application/vnd.jupyter.widget-view+json": {
       "model_id": "d9f3eb4b5ef645c2b2f47d745ad27588",
       "version_major": 2,
       "version_minor": 0
      },
      "text/plain": [
       "  0%|          | 0/393 [00:00<?, ?it/s]"
      ]
     },
     "metadata": {},
     "output_type": "display_data"
    },
    {
     "name": "stdout",
     "output_type": "stream",
     "text": [
      "init LSTM(64, 64, batch_first=True, dropout=0.2, bidirectional=True)\n"
     ]
    },
    {
     "data": {
      "application/vnd.jupyter.widget-view+json": {
       "model_id": "906f4da717d3485b9069f4c4851ba69c",
       "version_major": 2,
       "version_minor": 0
      },
      "text/plain": [
       "  0%|          | 0/393 [00:00<?, ?it/s]"
      ]
     },
     "metadata": {},
     "output_type": "display_data"
    },
    {
     "data": {
      "text/html": [
       "<br/>Waiting for W&B process to finish, PID 61<br/>Program ended successfully."
      ],
      "text/plain": [
       "<IPython.core.display.HTML object>"
      ]
     },
     "metadata": {},
     "output_type": "display_data"
    },
    {
     "data": {
      "application/vnd.jupyter.widget-view+json": {
       "model_id": "87d4fcc37c6b45c5b59c2abeedff52ea",
       "version_major": 2,
       "version_minor": 0
      },
      "text/plain": [
       "VBox(children=(Label(value=' 0.00MB of 0.00MB uploaded (0.00MB deduped)\\r'), FloatProgress(value=1.0, max=1.0)…"
      ]
     },
     "metadata": {},
     "output_type": "display_data"
    },
    {
     "data": {
      "text/html": [
       "Find user logs for this run at: <code>/kaggle/working/wandb/run-20211002_120845-ud691x5a/logs/debug.log</code>"
      ],
      "text/plain": [
       "<IPython.core.display.HTML object>"
      ]
     },
     "metadata": {},
     "output_type": "display_data"
    },
    {
     "data": {
      "text/html": [
       "Find internal logs for this run at: <code>/kaggle/working/wandb/run-20211002_120845-ud691x5a/logs/debug-internal.log</code>"
      ],
      "text/plain": [
       "<IPython.core.display.HTML object>"
      ]
     },
     "metadata": {},
     "output_type": "display_data"
    },
    {
     "data": {
      "text/html": [
       "<h3>Run summary:</h3><br/><style>\n",
       "    table.wandb td:nth-child(1) { padding: 0 10px; text-align: right }\n",
       "    </style><table class=\"wandb\">\n",
       "<tr><td>[fold0] loss</td><td>2.10799</td></tr><tr><td>[fold0] lr</td><td>0.00477</td></tr><tr><td>_runtime</td><td>4294</td></tr><tr><td>_timestamp</td><td>1633180819</td></tr><tr><td>_step</td><td>33039</td></tr><tr><td>[fold0] epoch</td><td>7</td></tr><tr><td>[fold0] avg_train_loss</td><td>2.28491</td></tr><tr><td>[fold0] avg_val_loss</td><td>2.17592</td></tr><tr><td>[fold0] score</td><td>0.91541</td></tr><tr><td>[fold1] loss</td><td>2.30136</td></tr><tr><td>[fold1] lr</td><td>0.00477</td></tr><tr><td>[fold1] epoch</td><td>7</td></tr><tr><td>[fold1] avg_train_loss</td><td>2.33947</td></tr><tr><td>[fold1] avg_val_loss</td><td>2.22371</td></tr><tr><td>[fold1] score</td><td>0.93306</td></tr><tr><td>[fold2] loss</td><td>2.12294</td></tr><tr><td>[fold2] lr</td><td>0.00477</td></tr><tr><td>[fold2] epoch</td><td>7</td></tr><tr><td>[fold2] avg_train_loss</td><td>2.29319</td></tr><tr><td>[fold2] avg_val_loss</td><td>2.05126</td></tr><tr><td>[fold2] score</td><td>0.83393</td></tr><tr><td>[fold3] loss</td><td>2.55133</td></tr><tr><td>[fold3] lr</td><td>0.00477</td></tr><tr><td>[fold3] epoch</td><td>7</td></tr><tr><td>[fold3] avg_train_loss</td><td>2.38966</td></tr><tr><td>[fold3] avg_val_loss</td><td>2.1138</td></tr><tr><td>[fold3] score</td><td>0.88546</td></tr><tr><td>[fold4] loss</td><td>2.40335</td></tr><tr><td>[fold4] lr</td><td>0.00477</td></tr><tr><td>[fold4] epoch</td><td>7</td></tr><tr><td>[fold4] avg_train_loss</td><td>2.2495</td></tr><tr><td>[fold4] avg_val_loss</td><td>1.95064</td></tr><tr><td>[fold4] score</td><td>0.81213</td></tr></table>"
      ],
      "text/plain": [
       "<IPython.core.display.HTML object>"
      ]
     },
     "metadata": {},
     "output_type": "display_data"
    },
    {
     "data": {
      "text/html": [
       "<h3>Run history:</h3><br/><style>\n",
       "    table.wandb td:nth-child(1) { padding: 0 10px; text-align: right }\n",
       "    </style><table class=\"wandb\">\n",
       "<tr><td>[fold0] loss</td><td>█▂▂▂▂▂▂▁▂▁▁▂▁▂▂▁▁▁▁▁▁▁▁▂▁▁▁▁▁▁▁▁▁▁▁▁▁▁▁▁</td></tr><tr><td>[fold0] lr</td><td>████████████▇▇▇▇▇▆▆▆▆▆▆▅▅▅▅▅▃▃▃▃▃▃▁▁▁▁▁▁</td></tr><tr><td>_runtime</td><td>▁▁▁▁▂▂▂▂▂▃▃▃▃▃▃▄▄▄▄▄▄▅▅▅▅▅▆▆▆▆▆▇▇▇▇▇▇███</td></tr><tr><td>_timestamp</td><td>▁▁▁▁▂▂▂▂▂▃▃▃▃▃▃▄▄▄▄▄▄▅▅▅▅▅▆▆▆▆▆▇▇▇▇▇▇███</td></tr><tr><td>_step</td><td>▁▁▁▁▂▂▂▂▂▃▃▃▃▃▃▄▄▄▄▄▅▅▅▅▅▅▆▆▆▆▆▇▇▇▇▇▇███</td></tr><tr><td>[fold0] epoch</td><td>▁▂▃▅▆▇█</td></tr><tr><td>[fold0] avg_train_loss</td><td>█▃▂▂▁▁▁</td></tr><tr><td>[fold0] avg_val_loss</td><td>█▅▅▅▅▁▂</td></tr><tr><td>[fold0] score</td><td>█▅▅▅▅▁▃</td></tr><tr><td>[fold1] loss</td><td>█▂▂▂▂▂▂▂▁▁▁▁▁▁▁▂▁▁▁▁▁▁▁▁▂▁▂▁▁▁▁▁▂▁▁▁▁▁▁▁</td></tr><tr><td>[fold1] lr</td><td>████████████▇▇▇▇▇▆▆▆▆▆▆▅▅▅▅▅▃▃▃▃▃▃▁▁▁▁▁▁</td></tr><tr><td>[fold1] epoch</td><td>▁▂▃▅▆▇█</td></tr><tr><td>[fold1] avg_train_loss</td><td>█▃▂▂▁▁▁</td></tr><tr><td>[fold1] avg_val_loss</td><td>█▆▇▄▂▁▂</td></tr><tr><td>[fold1] score</td><td>█▇▇▄▂▁▂</td></tr><tr><td>[fold2] loss</td><td>█▃▂▂▂▂▂▂▁▂▁▁▁▁▁▁▁▁▁▁▁▁▁▁▁▁▁▂▁▁▁▁▁▁▁▁▁▁▁▁</td></tr><tr><td>[fold2] lr</td><td>████████████▇▇▇▇▇▆▆▆▆▆▆▅▅▅▅▅▃▃▃▃▃▃▁▁▁▁▁▁</td></tr><tr><td>[fold2] epoch</td><td>▁▂▃▅▆▇█</td></tr><tr><td>[fold2] avg_train_loss</td><td>█▃▂▂▁▁▁</td></tr><tr><td>[fold2] avg_val_loss</td><td>█▅▅▃▂▂▁</td></tr><tr><td>[fold2] score</td><td>█▅▅▄▂▂▁</td></tr><tr><td>[fold3] loss</td><td>█▃▂▂▂▂▁▂▂▁▁▁▁▁▁▁▁▁▁▁▁▁▁▁▁▁▁▁▁▁▁▁▁▁▁▁▁▁▁▁</td></tr><tr><td>[fold3] lr</td><td>████████████▇▇▇▇▇▆▆▆▆▆▆▅▅▅▅▅▃▃▃▃▃▃▁▁▁▁▁▁</td></tr><tr><td>[fold3] epoch</td><td>▁▂▃▅▆▇█</td></tr><tr><td>[fold3] avg_train_loss</td><td>█▂▂▂▁▁▁</td></tr><tr><td>[fold3] avg_val_loss</td><td>█▄█▄▃▄▁</td></tr><tr><td>[fold3] score</td><td>▇▄█▄▃▃▁</td></tr><tr><td>[fold4] loss</td><td>█▃▂▂▂▂▂▂▁▂▁▁▂▂▁▁▁▁▂▁▁▁▁▁▁▁▁▁▁▁▁▁▁▁▁▁▂▁▁▁</td></tr><tr><td>[fold4] lr</td><td>████████████▇▇▇▇▇▆▆▆▆▆▆▅▅▅▅▅▃▃▃▃▃▃▁▁▁▁▁▁</td></tr><tr><td>[fold4] epoch</td><td>▁▂▃▅▆▇█</td></tr><tr><td>[fold4] avg_train_loss</td><td>█▂▂▂▁▁▁</td></tr><tr><td>[fold4] avg_val_loss</td><td>█▆▄▃▃▂▁</td></tr><tr><td>[fold4] score</td><td>█▅▄▃▃▂▁</td></tr></table><br/>"
      ],
      "text/plain": [
       "<IPython.core.display.HTML object>"
      ]
     },
     "metadata": {},
     "output_type": "display_data"
    },
    {
     "data": {
      "text/html": [
       "Synced 5 W&B file(s), 0 media file(s), 0 artifact file(s) and 0 other file(s)"
      ],
      "text/plain": [
       "<IPython.core.display.HTML object>"
      ]
     },
     "metadata": {},
     "output_type": "display_data"
    },
    {
     "data": {
      "text/html": [
       "\n",
       "                    <br/>Synced <strong style=\"color:#cdcd00\">rnn</strong>: <a href=\"https://wandb.ai/remgalleu/Ventilator-Pressure-Public/runs/ud691x5a\" target=\"_blank\">https://wandb.ai/remgalleu/Ventilator-Pressure-Public/runs/ud691x5a</a><br/>\n",
       "                "
      ],
      "text/plain": [
       "<IPython.core.display.HTML object>"
      ]
     },
     "metadata": {},
     "output_type": "display_data"
    }
   ],
   "source": [
    "if __name__ == '__main__':\n",
    "    main()"
   ]
  },
  {
   "cell_type": "markdown",
   "id": "f9edd342",
   "metadata": {
    "papermill": {
     "duration": 0.187964,
     "end_time": "2021-10-02T13:28:01.419540",
     "exception": false,
     "start_time": "2021-10-02T13:28:01.231576",
     "status": "completed"
    },
    "tags": []
   },
   "source": []
  },
  {
   "cell_type": "code",
   "execution_count": 15,
   "id": "802c6f4a",
   "metadata": {
    "execution": {
     "iopub.execute_input": "2021-10-02T13:28:01.798617Z",
     "iopub.status.busy": "2021-10-02T13:28:01.797722Z",
     "iopub.status.idle": "2021-10-02T13:28:01.799938Z",
     "shell.execute_reply": "2021-10-02T13:28:01.800353Z",
     "shell.execute_reply.started": "2021-10-02T11:49:49.652947Z"
    },
    "papermill": {
     "duration": 0.193933,
     "end_time": "2021-10-02T13:28:01.800488",
     "exception": false,
     "start_time": "2021-10-02T13:28:01.606555",
     "status": "completed"
    },
    "tags": []
   },
   "outputs": [],
   "source": [
    "wandb.finish()"
   ]
  },
  {
   "cell_type": "code",
   "execution_count": null,
   "id": "6c2772ca",
   "metadata": {
    "papermill": {
     "duration": 0.188958,
     "end_time": "2021-10-02T13:28:02.183338",
     "exception": false,
     "start_time": "2021-10-02T13:28:01.994380",
     "status": "completed"
    },
    "tags": []
   },
   "outputs": [],
   "source": []
  }
 ],
 "metadata": {
  "kernelspec": {
   "display_name": "Python 3",
   "language": "python",
   "name": "python3"
  },
  "language_info": {
   "codemirror_mode": {
    "name": "ipython",
    "version": 3
   },
   "file_extension": ".py",
   "mimetype": "text/x-python",
   "name": "python",
   "nbconvert_exporter": "python",
   "pygments_lexer": "ipython3",
   "version": "3.7.10"
  },
  "papermill": {
   "default_parameters": {},
   "duration": 4777.829255,
   "end_time": "2021-10-02T13:28:05.337999",
   "environment_variables": {},
   "exception": null,
   "input_path": "__notebook__.ipynb",
   "output_path": "__notebook__.ipynb",
   "parameters": {},
   "start_time": "2021-10-02T12:08:27.508744",
   "version": "2.3.3"
  },
  "widgets": {
   "application/vnd.jupyter.widget-state+json": {
    "state": {
     "04be3a8fb9ff4b0a81db75dd8a5b6781": {
      "model_module": "@jupyter-widgets/base",
      "model_module_version": "1.2.0",
      "model_name": "LayoutModel",
      "state": {
       "_model_module": "@jupyter-widgets/base",
       "_model_module_version": "1.2.0",
       "_model_name": "LayoutModel",
       "_view_count": null,
       "_view_module": "@jupyter-widgets/base",
       "_view_module_version": "1.2.0",
       "_view_name": "LayoutView",
       "align_content": null,
       "align_items": null,
       "align_self": null,
       "border": null,
       "bottom": null,
       "display": null,
       "flex": null,
       "flex_flow": null,
       "grid_area": null,
       "grid_auto_columns": null,
       "grid_auto_flow": null,
       "grid_auto_rows": null,
       "grid_column": null,
       "grid_gap": null,
       "grid_row": null,
       "grid_template_areas": null,
       "grid_template_columns": null,
       "grid_template_rows": null,
       "height": null,
       "justify_content": null,
       "justify_items": null,
       "left": null,
       "margin": null,
       "max_height": null,
       "max_width": null,
       "min_height": null,
       "min_width": null,
       "object_fit": null,
       "object_position": null,
       "order": null,
       "overflow": null,
       "overflow_x": null,
       "overflow_y": null,
       "padding": null,
       "right": null,
       "top": null,
       "visibility": null,
       "width": null
      }
     },
     "06770fd0470b4a419a971cb75de0dfb1": {
      "model_module": "@jupyter-widgets/controls",
      "model_module_version": "1.5.0",
      "model_name": "HTMLModel",
      "state": {
       "_dom_classes": [],
       "_model_module": "@jupyter-widgets/controls",
       "_model_module_version": "1.5.0",
       "_model_name": "HTMLModel",
       "_view_count": null,
       "_view_module": "@jupyter-widgets/controls",
       "_view_module_version": "1.5.0",
       "_view_name": "HTMLView",
       "description": "",
       "description_tooltip": null,
       "layout": "IPY_MODEL_65310efa6902490cb85bf16ea780114d",
       "placeholder": "​",
       "style": "IPY_MODEL_4fe1bba557ed41e99f2dec6e68dee7aa",
       "value": " 393/393 [01:05&lt;00:00,  8.32it/s]"
      }
     },
     "0a293f89bbfb4049bacebfb41bccc8ee": {
      "model_module": "@jupyter-widgets/controls",
      "model_module_version": "1.5.0",
      "model_name": "HTMLModel",
      "state": {
       "_dom_classes": [],
       "_model_module": "@jupyter-widgets/controls",
       "_model_module_version": "1.5.0",
       "_model_name": "HTMLModel",
       "_view_count": null,
       "_view_module": "@jupyter-widgets/controls",
       "_view_module_version": "1.5.0",
       "_view_name": "HTMLView",
       "description": "",
       "description_tooltip": null,
       "layout": "IPY_MODEL_d43ef80d401e4fa788c2c508135f0839",
       "placeholder": "​",
       "style": "IPY_MODEL_2ed0f9e885534fe0873ac05070b0aec1",
       "value": " 393/393 [01:07&lt;00:00,  6.54it/s]"
      }
     },
     "11e964e3e7b2465a9c554002c9dc34d1": {
      "model_module": "@jupyter-widgets/base",
      "model_module_version": "1.2.0",
      "model_name": "LayoutModel",
      "state": {
       "_model_module": "@jupyter-widgets/base",
       "_model_module_version": "1.2.0",
       "_model_name": "LayoutModel",
       "_view_count": null,
       "_view_module": "@jupyter-widgets/base",
       "_view_module_version": "1.2.0",
       "_view_name": "LayoutView",
       "align_content": null,
       "align_items": null,
       "align_self": null,
       "border": null,
       "bottom": null,
       "display": null,
       "flex": null,
       "flex_flow": null,
       "grid_area": null,
       "grid_auto_columns": null,
       "grid_auto_flow": null,
       "grid_auto_rows": null,
       "grid_column": null,
       "grid_gap": null,
       "grid_row": null,
       "grid_template_areas": null,
       "grid_template_columns": null,
       "grid_template_rows": null,
       "height": null,
       "justify_content": null,
       "justify_items": null,
       "left": null,
       "margin": null,
       "max_height": null,
       "max_width": null,
       "min_height": null,
       "min_width": null,
       "object_fit": null,
       "object_position": null,
       "order": null,
       "overflow": null,
       "overflow_x": null,
       "overflow_y": null,
       "padding": null,
       "right": null,
       "top": null,
       "visibility": null,
       "width": null
      }
     },
     "155fa27cfd364d02b5682dd18e83947e": {
      "model_module": "@jupyter-widgets/controls",
      "model_module_version": "1.5.0",
      "model_name": "HTMLModel",
      "state": {
       "_dom_classes": [],
       "_model_module": "@jupyter-widgets/controls",
       "_model_module_version": "1.5.0",
       "_model_name": "HTMLModel",
       "_view_count": null,
       "_view_module": "@jupyter-widgets/controls",
       "_view_module_version": "1.5.0",
       "_view_name": "HTMLView",
       "description": "",
       "description_tooltip": null,
       "layout": "IPY_MODEL_790882a386a34bcd99dafed937efce45",
       "placeholder": "​",
       "style": "IPY_MODEL_a181a473ec2b4a3a8897dab9314643ad",
       "value": "100%"
      }
     },
     "196c40ee46c74b0c905fc61a775954f4": {
      "model_module": "@jupyter-widgets/controls",
      "model_module_version": "1.5.0",
      "model_name": "HBoxModel",
      "state": {
       "_dom_classes": [],
       "_model_module": "@jupyter-widgets/controls",
       "_model_module_version": "1.5.0",
       "_model_name": "HBoxModel",
       "_view_count": null,
       "_view_module": "@jupyter-widgets/controls",
       "_view_module_version": "1.5.0",
       "_view_name": "HBoxView",
       "box_style": "",
       "children": [
        "IPY_MODEL_ae881ea91810432b976722dd2e852f8e",
        "IPY_MODEL_62ecfbc87c5c44c0a4acaacb1d34e401",
        "IPY_MODEL_8662594342784abfb0107bfa88dce519"
       ],
       "layout": "IPY_MODEL_3f2a4b54fe954357a4ea298d40d9f3a4"
      }
     },
     "247626e9979d4d6abb33b305aed9fe16": {
      "model_module": "@jupyter-widgets/base",
      "model_module_version": "1.2.0",
      "model_name": "LayoutModel",
      "state": {
       "_model_module": "@jupyter-widgets/base",
       "_model_module_version": "1.2.0",
       "_model_name": "LayoutModel",
       "_view_count": null,
       "_view_module": "@jupyter-widgets/base",
       "_view_module_version": "1.2.0",
       "_view_name": "LayoutView",
       "align_content": null,
       "align_items": null,
       "align_self": null,
       "border": null,
       "bottom": null,
       "display": null,
       "flex": null,
       "flex_flow": null,
       "grid_area": null,
       "grid_auto_columns": null,
       "grid_auto_flow": null,
       "grid_auto_rows": null,
       "grid_column": null,
       "grid_gap": null,
       "grid_row": null,
       "grid_template_areas": null,
       "grid_template_columns": null,
       "grid_template_rows": null,
       "height": null,
       "justify_content": null,
       "justify_items": null,
       "left": null,
       "margin": null,
       "max_height": null,
       "max_width": null,
       "min_height": null,
       "min_width": null,
       "object_fit": null,
       "object_position": null,
       "order": null,
       "overflow": null,
       "overflow_x": null,
       "overflow_y": null,
       "padding": null,
       "right": null,
       "top": null,
       "visibility": null,
       "width": null
      }
     },
     "2a5506dbb12144aeb96cbf073c223d86": {
      "model_module": "@jupyter-widgets/base",
      "model_module_version": "1.2.0",
      "model_name": "LayoutModel",
      "state": {
       "_model_module": "@jupyter-widgets/base",
       "_model_module_version": "1.2.0",
       "_model_name": "LayoutModel",
       "_view_count": null,
       "_view_module": "@jupyter-widgets/base",
       "_view_module_version": "1.2.0",
       "_view_name": "LayoutView",
       "align_content": null,
       "align_items": null,
       "align_self": null,
       "border": null,
       "bottom": null,
       "display": null,
       "flex": null,
       "flex_flow": null,
       "grid_area": null,
       "grid_auto_columns": null,
       "grid_auto_flow": null,
       "grid_auto_rows": null,
       "grid_column": null,
       "grid_gap": null,
       "grid_row": null,
       "grid_template_areas": null,
       "grid_template_columns": null,
       "grid_template_rows": null,
       "height": null,
       "justify_content": null,
       "justify_items": null,
       "left": null,
       "margin": null,
       "max_height": null,
       "max_width": null,
       "min_height": null,
       "min_width": null,
       "object_fit": null,
       "object_position": null,
       "order": null,
       "overflow": null,
       "overflow_x": null,
       "overflow_y": null,
       "padding": null,
       "right": null,
       "top": null,
       "visibility": null,
       "width": null
      }
     },
     "2caeb396d5204df59919f3f45eb5fe4a": {
      "model_module": "@jupyter-widgets/base",
      "model_module_version": "1.2.0",
      "model_name": "LayoutModel",
      "state": {
       "_model_module": "@jupyter-widgets/base",
       "_model_module_version": "1.2.0",
       "_model_name": "LayoutModel",
       "_view_count": null,
       "_view_module": "@jupyter-widgets/base",
       "_view_module_version": "1.2.0",
       "_view_name": "LayoutView",
       "align_content": null,
       "align_items": null,
       "align_self": null,
       "border": null,
       "bottom": null,
       "display": null,
       "flex": null,
       "flex_flow": null,
       "grid_area": null,
       "grid_auto_columns": null,
       "grid_auto_flow": null,
       "grid_auto_rows": null,
       "grid_column": null,
       "grid_gap": null,
       "grid_row": null,
       "grid_template_areas": null,
       "grid_template_columns": null,
       "grid_template_rows": null,
       "height": null,
       "justify_content": null,
       "justify_items": null,
       "left": null,
       "margin": null,
       "max_height": null,
       "max_width": null,
       "min_height": null,
       "min_width": null,
       "object_fit": null,
       "object_position": null,
       "order": null,
       "overflow": null,
       "overflow_x": null,
       "overflow_y": null,
       "padding": null,
       "right": null,
       "top": null,
       "visibility": null,
       "width": null
      }
     },
     "2e57cdfc81d4478da9f8bd0eb6fcd222": {
      "model_module": "@jupyter-widgets/controls",
      "model_module_version": "1.5.0",
      "model_name": "FloatProgressModel",
      "state": {
       "_dom_classes": [],
       "_model_module": "@jupyter-widgets/controls",
       "_model_module_version": "1.5.0",
       "_model_name": "FloatProgressModel",
       "_view_count": null,
       "_view_module": "@jupyter-widgets/controls",
       "_view_module_version": "1.5.0",
       "_view_name": "ProgressView",
       "bar_style": "",
       "description": "",
       "description_tooltip": null,
       "layout": "IPY_MODEL_ed01e9a8254a41e2ad26a038f0205c3d",
       "max": 1.0,
       "min": 0.0,
       "orientation": "horizontal",
       "style": "IPY_MODEL_501ed481884c4dd09274a0f8f0cd819d",
       "value": 1.0
      }
     },
     "2ed0f9e885534fe0873ac05070b0aec1": {
      "model_module": "@jupyter-widgets/controls",
      "model_module_version": "1.5.0",
      "model_name": "DescriptionStyleModel",
      "state": {
       "_model_module": "@jupyter-widgets/controls",
       "_model_module_version": "1.5.0",
       "_model_name": "DescriptionStyleModel",
       "_view_count": null,
       "_view_module": "@jupyter-widgets/base",
       "_view_module_version": "1.2.0",
       "_view_name": "StyleView",
       "description_width": ""
      }
     },
     "2ef91cd876f84a16852e9566d3b65c3e": {
      "model_module": "@jupyter-widgets/controls",
      "model_module_version": "1.5.0",
      "model_name": "FloatProgressModel",
      "state": {
       "_dom_classes": [],
       "_model_module": "@jupyter-widgets/controls",
       "_model_module_version": "1.5.0",
       "_model_name": "FloatProgressModel",
       "_view_count": null,
       "_view_module": "@jupyter-widgets/controls",
       "_view_module_version": "1.5.0",
       "_view_name": "ProgressView",
       "bar_style": "success",
       "description": "",
       "description_tooltip": null,
       "layout": "IPY_MODEL_e0abeb5431cb4f3f8995eab287d6731d",
       "max": 393.0,
       "min": 0.0,
       "orientation": "horizontal",
       "style": "IPY_MODEL_d84fd6a8717646f9a483c4728ea71f35",
       "value": 393.0
      }
     },
     "3085f8f6f03d466ebf61fad7c6a184eb": {
      "model_module": "@jupyter-widgets/controls",
      "model_module_version": "1.5.0",
      "model_name": "ProgressStyleModel",
      "state": {
       "_model_module": "@jupyter-widgets/controls",
       "_model_module_version": "1.5.0",
       "_model_name": "ProgressStyleModel",
       "_view_count": null,
       "_view_module": "@jupyter-widgets/base",
       "_view_module_version": "1.2.0",
       "_view_name": "StyleView",
       "bar_color": null,
       "description_width": ""
      }
     },
     "31f0e46a634947389260685c36b79ed3": {
      "model_module": "@jupyter-widgets/controls",
      "model_module_version": "1.5.0",
      "model_name": "ProgressStyleModel",
      "state": {
       "_model_module": "@jupyter-widgets/controls",
       "_model_module_version": "1.5.0",
       "_model_name": "ProgressStyleModel",
       "_view_count": null,
       "_view_module": "@jupyter-widgets/base",
       "_view_module_version": "1.2.0",
       "_view_name": "StyleView",
       "bar_color": null,
       "description_width": ""
      }
     },
     "3f2a4b54fe954357a4ea298d40d9f3a4": {
      "model_module": "@jupyter-widgets/base",
      "model_module_version": "1.2.0",
      "model_name": "LayoutModel",
      "state": {
       "_model_module": "@jupyter-widgets/base",
       "_model_module_version": "1.2.0",
       "_model_name": "LayoutModel",
       "_view_count": null,
       "_view_module": "@jupyter-widgets/base",
       "_view_module_version": "1.2.0",
       "_view_name": "LayoutView",
       "align_content": null,
       "align_items": null,
       "align_self": null,
       "border": null,
       "bottom": null,
       "display": null,
       "flex": null,
       "flex_flow": null,
       "grid_area": null,
       "grid_auto_columns": null,
       "grid_auto_flow": null,
       "grid_auto_rows": null,
       "grid_column": null,
       "grid_gap": null,
       "grid_row": null,
       "grid_template_areas": null,
       "grid_template_columns": null,
       "grid_template_rows": null,
       "height": null,
       "justify_content": null,
       "justify_items": null,
       "left": null,
       "margin": null,
       "max_height": null,
       "max_width": null,
       "min_height": null,
       "min_width": null,
       "object_fit": null,
       "object_position": null,
       "order": null,
       "overflow": null,
       "overflow_x": null,
       "overflow_y": null,
       "padding": null,
       "right": null,
       "top": null,
       "visibility": null,
       "width": null
      }
     },
     "3fc810f777fa464ca006a2add77a8694": {
      "model_module": "@jupyter-widgets/controls",
      "model_module_version": "1.5.0",
      "model_name": "ProgressStyleModel",
      "state": {
       "_model_module": "@jupyter-widgets/controls",
       "_model_module_version": "1.5.0",
       "_model_name": "ProgressStyleModel",
       "_view_count": null,
       "_view_module": "@jupyter-widgets/base",
       "_view_module_version": "1.2.0",
       "_view_name": "StyleView",
       "bar_color": null,
       "description_width": ""
      }
     },
     "4052c83b675146559ca92ceb9b4093e6": {
      "model_module": "@jupyter-widgets/base",
      "model_module_version": "1.2.0",
      "model_name": "LayoutModel",
      "state": {
       "_model_module": "@jupyter-widgets/base",
       "_model_module_version": "1.2.0",
       "_model_name": "LayoutModel",
       "_view_count": null,
       "_view_module": "@jupyter-widgets/base",
       "_view_module_version": "1.2.0",
       "_view_name": "LayoutView",
       "align_content": null,
       "align_items": null,
       "align_self": null,
       "border": null,
       "bottom": null,
       "display": null,
       "flex": null,
       "flex_flow": null,
       "grid_area": null,
       "grid_auto_columns": null,
       "grid_auto_flow": null,
       "grid_auto_rows": null,
       "grid_column": null,
       "grid_gap": null,
       "grid_row": null,
       "grid_template_areas": null,
       "grid_template_columns": null,
       "grid_template_rows": null,
       "height": null,
       "justify_content": null,
       "justify_items": null,
       "left": null,
       "margin": null,
       "max_height": null,
       "max_width": null,
       "min_height": null,
       "min_width": null,
       "object_fit": null,
       "object_position": null,
       "order": null,
       "overflow": null,
       "overflow_x": null,
       "overflow_y": null,
       "padding": null,
       "right": null,
       "top": null,
       "visibility": null,
       "width": null
      }
     },
     "421d0235e86e4cbebbde111485a8cb3e": {
      "model_module": "@jupyter-widgets/base",
      "model_module_version": "1.2.0",
      "model_name": "LayoutModel",
      "state": {
       "_model_module": "@jupyter-widgets/base",
       "_model_module_version": "1.2.0",
       "_model_name": "LayoutModel",
       "_view_count": null,
       "_view_module": "@jupyter-widgets/base",
       "_view_module_version": "1.2.0",
       "_view_name": "LayoutView",
       "align_content": null,
       "align_items": null,
       "align_self": null,
       "border": null,
       "bottom": null,
       "display": null,
       "flex": null,
       "flex_flow": null,
       "grid_area": null,
       "grid_auto_columns": null,
       "grid_auto_flow": null,
       "grid_auto_rows": null,
       "grid_column": null,
       "grid_gap": null,
       "grid_row": null,
       "grid_template_areas": null,
       "grid_template_columns": null,
       "grid_template_rows": null,
       "height": null,
       "justify_content": null,
       "justify_items": null,
       "left": null,
       "margin": null,
       "max_height": null,
       "max_width": null,
       "min_height": null,
       "min_width": null,
       "object_fit": null,
       "object_position": null,
       "order": null,
       "overflow": null,
       "overflow_x": null,
       "overflow_y": null,
       "padding": null,
       "right": null,
       "top": null,
       "visibility": null,
       "width": null
      }
     },
     "47dc2769fa194205b7dd0bca9e3ad0ff": {
      "model_module": "@jupyter-widgets/controls",
      "model_module_version": "1.5.0",
      "model_name": "HTMLModel",
      "state": {
       "_dom_classes": [],
       "_model_module": "@jupyter-widgets/controls",
       "_model_module_version": "1.5.0",
       "_model_name": "HTMLModel",
       "_view_count": null,
       "_view_module": "@jupyter-widgets/controls",
       "_view_module_version": "1.5.0",
       "_view_name": "HTMLView",
       "description": "",
       "description_tooltip": null,
       "layout": "IPY_MODEL_2a5506dbb12144aeb96cbf073c223d86",
       "placeholder": "​",
       "style": "IPY_MODEL_7dd297183ea54723a3f983ae19218970",
       "value": "100%"
      }
     },
     "4fe1bba557ed41e99f2dec6e68dee7aa": {
      "model_module": "@jupyter-widgets/controls",
      "model_module_version": "1.5.0",
      "model_name": "DescriptionStyleModel",
      "state": {
       "_model_module": "@jupyter-widgets/controls",
       "_model_module_version": "1.5.0",
       "_model_name": "DescriptionStyleModel",
       "_view_count": null,
       "_view_module": "@jupyter-widgets/base",
       "_view_module_version": "1.2.0",
       "_view_name": "StyleView",
       "description_width": ""
      }
     },
     "501ed481884c4dd09274a0f8f0cd819d": {
      "model_module": "@jupyter-widgets/controls",
      "model_module_version": "1.5.0",
      "model_name": "ProgressStyleModel",
      "state": {
       "_model_module": "@jupyter-widgets/controls",
       "_model_module_version": "1.5.0",
       "_model_name": "ProgressStyleModel",
       "_view_count": null,
       "_view_module": "@jupyter-widgets/base",
       "_view_module_version": "1.2.0",
       "_view_name": "StyleView",
       "bar_color": null,
       "description_width": ""
      }
     },
     "58af080934d34a0384433b32b24ed7da": {
      "model_module": "@jupyter-widgets/base",
      "model_module_version": "1.2.0",
      "model_name": "LayoutModel",
      "state": {
       "_model_module": "@jupyter-widgets/base",
       "_model_module_version": "1.2.0",
       "_model_name": "LayoutModel",
       "_view_count": null,
       "_view_module": "@jupyter-widgets/base",
       "_view_module_version": "1.2.0",
       "_view_name": "LayoutView",
       "align_content": null,
       "align_items": null,
       "align_self": null,
       "border": null,
       "bottom": null,
       "display": null,
       "flex": null,
       "flex_flow": null,
       "grid_area": null,
       "grid_auto_columns": null,
       "grid_auto_flow": null,
       "grid_auto_rows": null,
       "grid_column": null,
       "grid_gap": null,
       "grid_row": null,
       "grid_template_areas": null,
       "grid_template_columns": null,
       "grid_template_rows": null,
       "height": null,
       "justify_content": null,
       "justify_items": null,
       "left": null,
       "margin": null,
       "max_height": null,
       "max_width": null,
       "min_height": null,
       "min_width": null,
       "object_fit": null,
       "object_position": null,
       "order": null,
       "overflow": null,
       "overflow_x": null,
       "overflow_y": null,
       "padding": null,
       "right": null,
       "top": null,
       "visibility": null,
       "width": null
      }
     },
     "5b083cd3c513481fbac932dda5346acb": {
      "model_module": "@jupyter-widgets/base",
      "model_module_version": "1.2.0",
      "model_name": "LayoutModel",
      "state": {
       "_model_module": "@jupyter-widgets/base",
       "_model_module_version": "1.2.0",
       "_model_name": "LayoutModel",
       "_view_count": null,
       "_view_module": "@jupyter-widgets/base",
       "_view_module_version": "1.2.0",
       "_view_name": "LayoutView",
       "align_content": null,
       "align_items": null,
       "align_self": null,
       "border": null,
       "bottom": null,
       "display": null,
       "flex": null,
       "flex_flow": null,
       "grid_area": null,
       "grid_auto_columns": null,
       "grid_auto_flow": null,
       "grid_auto_rows": null,
       "grid_column": null,
       "grid_gap": null,
       "grid_row": null,
       "grid_template_areas": null,
       "grid_template_columns": null,
       "grid_template_rows": null,
       "height": null,
       "justify_content": null,
       "justify_items": null,
       "left": null,
       "margin": null,
       "max_height": null,
       "max_width": null,
       "min_height": null,
       "min_width": null,
       "object_fit": null,
       "object_position": null,
       "order": null,
       "overflow": null,
       "overflow_x": null,
       "overflow_y": null,
       "padding": null,
       "right": null,
       "top": null,
       "visibility": null,
       "width": null
      }
     },
     "62ecfbc87c5c44c0a4acaacb1d34e401": {
      "model_module": "@jupyter-widgets/controls",
      "model_module_version": "1.5.0",
      "model_name": "FloatProgressModel",
      "state": {
       "_dom_classes": [],
       "_model_module": "@jupyter-widgets/controls",
       "_model_module_version": "1.5.0",
       "_model_name": "FloatProgressModel",
       "_view_count": null,
       "_view_module": "@jupyter-widgets/controls",
       "_view_module_version": "1.5.0",
       "_view_name": "ProgressView",
       "bar_style": "success",
       "description": "",
       "description_tooltip": null,
       "layout": "IPY_MODEL_2caeb396d5204df59919f3f45eb5fe4a",
       "max": 393.0,
       "min": 0.0,
       "orientation": "horizontal",
       "style": "IPY_MODEL_31f0e46a634947389260685c36b79ed3",
       "value": 393.0
      }
     },
     "65310efa6902490cb85bf16ea780114d": {
      "model_module": "@jupyter-widgets/base",
      "model_module_version": "1.2.0",
      "model_name": "LayoutModel",
      "state": {
       "_model_module": "@jupyter-widgets/base",
       "_model_module_version": "1.2.0",
       "_model_name": "LayoutModel",
       "_view_count": null,
       "_view_module": "@jupyter-widgets/base",
       "_view_module_version": "1.2.0",
       "_view_name": "LayoutView",
       "align_content": null,
       "align_items": null,
       "align_self": null,
       "border": null,
       "bottom": null,
       "display": null,
       "flex": null,
       "flex_flow": null,
       "grid_area": null,
       "grid_auto_columns": null,
       "grid_auto_flow": null,
       "grid_auto_rows": null,
       "grid_column": null,
       "grid_gap": null,
       "grid_row": null,
       "grid_template_areas": null,
       "grid_template_columns": null,
       "grid_template_rows": null,
       "height": null,
       "justify_content": null,
       "justify_items": null,
       "left": null,
       "margin": null,
       "max_height": null,
       "max_width": null,
       "min_height": null,
       "min_width": null,
       "object_fit": null,
       "object_position": null,
       "order": null,
       "overflow": null,
       "overflow_x": null,
       "overflow_y": null,
       "padding": null,
       "right": null,
       "top": null,
       "visibility": null,
       "width": null
      }
     },
     "6799100f40be4767b565daa97fda06c7": {
      "model_module": "@jupyter-widgets/controls",
      "model_module_version": "1.5.0",
      "model_name": "HTMLModel",
      "state": {
       "_dom_classes": [],
       "_model_module": "@jupyter-widgets/controls",
       "_model_module_version": "1.5.0",
       "_model_name": "HTMLModel",
       "_view_count": null,
       "_view_module": "@jupyter-widgets/controls",
       "_view_module_version": "1.5.0",
       "_view_name": "HTMLView",
       "description": "",
       "description_tooltip": null,
       "layout": "IPY_MODEL_5b083cd3c513481fbac932dda5346acb",
       "placeholder": "​",
       "style": "IPY_MODEL_993e7613cf0c43d4ae6d6e880355d328",
       "value": " 393/393 [01:09&lt;00:00,  6.19it/s]"
      }
     },
     "67b10e3898824e10a94ee04b34e271d0": {
      "model_module": "@jupyter-widgets/controls",
      "model_module_version": "1.5.0",
      "model_name": "ProgressStyleModel",
      "state": {
       "_model_module": "@jupyter-widgets/controls",
       "_model_module_version": "1.5.0",
       "_model_name": "ProgressStyleModel",
       "_view_count": null,
       "_view_module": "@jupyter-widgets/base",
       "_view_module_version": "1.2.0",
       "_view_name": "StyleView",
       "bar_color": null,
       "description_width": ""
      }
     },
     "69eb46b8806645909aae16cc9cbeb21d": {
      "model_module": "@jupyter-widgets/controls",
      "model_module_version": "1.5.0",
      "model_name": "HTMLModel",
      "state": {
       "_dom_classes": [],
       "_model_module": "@jupyter-widgets/controls",
       "_model_module_version": "1.5.0",
       "_model_name": "HTMLModel",
       "_view_count": null,
       "_view_module": "@jupyter-widgets/controls",
       "_view_module_version": "1.5.0",
       "_view_name": "HTMLView",
       "description": "",
       "description_tooltip": null,
       "layout": "IPY_MODEL_f39764d445ed457e9c86c8cad35891bc",
       "placeholder": "​",
       "style": "IPY_MODEL_d991730f5b1d47fab90813fff98fe097",
       "value": "100%"
      }
     },
     "70d7bca40df34ad1acfc2ad4c397cbb6": {
      "model_module": "@jupyter-widgets/controls",
      "model_module_version": "1.5.0",
      "model_name": "FloatProgressModel",
      "state": {
       "_dom_classes": [],
       "_model_module": "@jupyter-widgets/controls",
       "_model_module_version": "1.5.0",
       "_model_name": "FloatProgressModel",
       "_view_count": null,
       "_view_module": "@jupyter-widgets/controls",
       "_view_module_version": "1.5.0",
       "_view_name": "ProgressView",
       "bar_style": "success",
       "description": "",
       "description_tooltip": null,
       "layout": "IPY_MODEL_421d0235e86e4cbebbde111485a8cb3e",
       "max": 393.0,
       "min": 0.0,
       "orientation": "horizontal",
       "style": "IPY_MODEL_67b10e3898824e10a94ee04b34e271d0",
       "value": 393.0
      }
     },
     "74ce8b878b4d4a85aee0ca0cd1411b85": {
      "model_module": "@jupyter-widgets/controls",
      "model_module_version": "1.5.0",
      "model_name": "DescriptionStyleModel",
      "state": {
       "_model_module": "@jupyter-widgets/controls",
       "_model_module_version": "1.5.0",
       "_model_name": "DescriptionStyleModel",
       "_view_count": null,
       "_view_module": "@jupyter-widgets/base",
       "_view_module_version": "1.2.0",
       "_view_name": "StyleView",
       "description_width": ""
      }
     },
     "7688268532844d568dacb5d2d91b1c5e": {
      "model_module": "@jupyter-widgets/base",
      "model_module_version": "1.2.0",
      "model_name": "LayoutModel",
      "state": {
       "_model_module": "@jupyter-widgets/base",
       "_model_module_version": "1.2.0",
       "_model_name": "LayoutModel",
       "_view_count": null,
       "_view_module": "@jupyter-widgets/base",
       "_view_module_version": "1.2.0",
       "_view_name": "LayoutView",
       "align_content": null,
       "align_items": null,
       "align_self": null,
       "border": null,
       "bottom": null,
       "display": null,
       "flex": null,
       "flex_flow": null,
       "grid_area": null,
       "grid_auto_columns": null,
       "grid_auto_flow": null,
       "grid_auto_rows": null,
       "grid_column": null,
       "grid_gap": null,
       "grid_row": null,
       "grid_template_areas": null,
       "grid_template_columns": null,
       "grid_template_rows": null,
       "height": null,
       "justify_content": null,
       "justify_items": null,
       "left": null,
       "margin": null,
       "max_height": null,
       "max_width": null,
       "min_height": null,
       "min_width": null,
       "object_fit": null,
       "object_position": null,
       "order": null,
       "overflow": null,
       "overflow_x": null,
       "overflow_y": null,
       "padding": null,
       "right": null,
       "top": null,
       "visibility": null,
       "width": null
      }
     },
     "78a92f962a7542748922c8f3fa3127a1": {
      "model_module": "@jupyter-widgets/controls",
      "model_module_version": "1.5.0",
      "model_name": "FloatProgressModel",
      "state": {
       "_dom_classes": [],
       "_model_module": "@jupyter-widgets/controls",
       "_model_module_version": "1.5.0",
       "_model_name": "FloatProgressModel",
       "_view_count": null,
       "_view_module": "@jupyter-widgets/controls",
       "_view_module_version": "1.5.0",
       "_view_name": "ProgressView",
       "bar_style": "success",
       "description": "",
       "description_tooltip": null,
       "layout": "IPY_MODEL_4052c83b675146559ca92ceb9b4093e6",
       "max": 393.0,
       "min": 0.0,
       "orientation": "horizontal",
       "style": "IPY_MODEL_3085f8f6f03d466ebf61fad7c6a184eb",
       "value": 393.0
      }
     },
     "790882a386a34bcd99dafed937efce45": {
      "model_module": "@jupyter-widgets/base",
      "model_module_version": "1.2.0",
      "model_name": "LayoutModel",
      "state": {
       "_model_module": "@jupyter-widgets/base",
       "_model_module_version": "1.2.0",
       "_model_name": "LayoutModel",
       "_view_count": null,
       "_view_module": "@jupyter-widgets/base",
       "_view_module_version": "1.2.0",
       "_view_name": "LayoutView",
       "align_content": null,
       "align_items": null,
       "align_self": null,
       "border": null,
       "bottom": null,
       "display": null,
       "flex": null,
       "flex_flow": null,
       "grid_area": null,
       "grid_auto_columns": null,
       "grid_auto_flow": null,
       "grid_auto_rows": null,
       "grid_column": null,
       "grid_gap": null,
       "grid_row": null,
       "grid_template_areas": null,
       "grid_template_columns": null,
       "grid_template_rows": null,
       "height": null,
       "justify_content": null,
       "justify_items": null,
       "left": null,
       "margin": null,
       "max_height": null,
       "max_width": null,
       "min_height": null,
       "min_width": null,
       "object_fit": null,
       "object_position": null,
       "order": null,
       "overflow": null,
       "overflow_x": null,
       "overflow_y": null,
       "padding": null,
       "right": null,
       "top": null,
       "visibility": null,
       "width": null
      }
     },
     "7d57d3b8b9f142ca9344e195fa613236": {
      "model_module": "@jupyter-widgets/controls",
      "model_module_version": "1.5.0",
      "model_name": "HTMLModel",
      "state": {
       "_dom_classes": [],
       "_model_module": "@jupyter-widgets/controls",
       "_model_module_version": "1.5.0",
       "_model_name": "HTMLModel",
       "_view_count": null,
       "_view_module": "@jupyter-widgets/controls",
       "_view_module_version": "1.5.0",
       "_view_name": "HTMLView",
       "description": "",
       "description_tooltip": null,
       "layout": "IPY_MODEL_e3792413c34349d5ad54a2072f8818c5",
       "placeholder": "​",
       "style": "IPY_MODEL_e10dfffb7a1f4d2fb4aeeba0ff6f6bc2",
       "value": " 393/393 [01:07&lt;00:00,  8.86it/s]"
      }
     },
     "7dd297183ea54723a3f983ae19218970": {
      "model_module": "@jupyter-widgets/controls",
      "model_module_version": "1.5.0",
      "model_name": "DescriptionStyleModel",
      "state": {
       "_model_module": "@jupyter-widgets/controls",
       "_model_module_version": "1.5.0",
       "_model_name": "DescriptionStyleModel",
       "_view_count": null,
       "_view_module": "@jupyter-widgets/base",
       "_view_module_version": "1.2.0",
       "_view_name": "StyleView",
       "description_width": ""
      }
     },
     "7f74bb0733374f39a300dd5d87bacf44": {
      "model_module": "@jupyter-widgets/controls",
      "model_module_version": "1.5.0",
      "model_name": "DescriptionStyleModel",
      "state": {
       "_model_module": "@jupyter-widgets/controls",
       "_model_module_version": "1.5.0",
       "_model_name": "DescriptionStyleModel",
       "_view_count": null,
       "_view_module": "@jupyter-widgets/base",
       "_view_module_version": "1.2.0",
       "_view_name": "StyleView",
       "description_width": ""
      }
     },
     "8662594342784abfb0107bfa88dce519": {
      "model_module": "@jupyter-widgets/controls",
      "model_module_version": "1.5.0",
      "model_name": "HTMLModel",
      "state": {
       "_dom_classes": [],
       "_model_module": "@jupyter-widgets/controls",
       "_model_module_version": "1.5.0",
       "_model_name": "HTMLModel",
       "_view_count": null,
       "_view_module": "@jupyter-widgets/controls",
       "_view_module_version": "1.5.0",
       "_view_name": "HTMLView",
       "description": "",
       "description_tooltip": null,
       "layout": "IPY_MODEL_aa03fdc89d4348e285e54f75d6c7af54",
       "placeholder": "​",
       "style": "IPY_MODEL_7f74bb0733374f39a300dd5d87bacf44",
       "value": " 393/393 [01:07&lt;00:00,  6.98it/s]"
      }
     },
     "86a6757ea5c14764b9946727215e0ef7": {
      "model_module": "@jupyter-widgets/base",
      "model_module_version": "1.2.0",
      "model_name": "LayoutModel",
      "state": {
       "_model_module": "@jupyter-widgets/base",
       "_model_module_version": "1.2.0",
       "_model_name": "LayoutModel",
       "_view_count": null,
       "_view_module": "@jupyter-widgets/base",
       "_view_module_version": "1.2.0",
       "_view_name": "LayoutView",
       "align_content": null,
       "align_items": null,
       "align_self": null,
       "border": null,
       "bottom": null,
       "display": null,
       "flex": null,
       "flex_flow": null,
       "grid_area": null,
       "grid_auto_columns": null,
       "grid_auto_flow": null,
       "grid_auto_rows": null,
       "grid_column": null,
       "grid_gap": null,
       "grid_row": null,
       "grid_template_areas": null,
       "grid_template_columns": null,
       "grid_template_rows": null,
       "height": null,
       "justify_content": null,
       "justify_items": null,
       "left": null,
       "margin": null,
       "max_height": null,
       "max_width": null,
       "min_height": null,
       "min_width": null,
       "object_fit": null,
       "object_position": null,
       "order": null,
       "overflow": null,
       "overflow_x": null,
       "overflow_y": null,
       "padding": null,
       "right": null,
       "top": null,
       "visibility": null,
       "width": null
      }
     },
     "87d4fcc37c6b45c5b59c2abeedff52ea": {
      "model_module": "@jupyter-widgets/controls",
      "model_module_version": "1.5.0",
      "model_name": "VBoxModel",
      "state": {
       "_dom_classes": [],
       "_model_module": "@jupyter-widgets/controls",
       "_model_module_version": "1.5.0",
       "_model_name": "VBoxModel",
       "_view_count": null,
       "_view_module": "@jupyter-widgets/controls",
       "_view_module_version": "1.5.0",
       "_view_name": "VBoxView",
       "box_style": "",
       "children": [
        "IPY_MODEL_bfe50c5c024d4c218ff86376cee3c6ec",
        "IPY_MODEL_2e57cdfc81d4478da9f8bd0eb6fcd222"
       ],
       "layout": "IPY_MODEL_11e964e3e7b2465a9c554002c9dc34d1"
      }
     },
     "906f4da717d3485b9069f4c4851ba69c": {
      "model_module": "@jupyter-widgets/controls",
      "model_module_version": "1.5.0",
      "model_name": "HBoxModel",
      "state": {
       "_dom_classes": [],
       "_model_module": "@jupyter-widgets/controls",
       "_model_module_version": "1.5.0",
       "_model_name": "HBoxModel",
       "_view_count": null,
       "_view_module": "@jupyter-widgets/controls",
       "_view_module_version": "1.5.0",
       "_view_name": "HBoxView",
       "box_style": "",
       "children": [
        "IPY_MODEL_eb998cb8e08a4c20a7b2926facc034b9",
        "IPY_MODEL_70d7bca40df34ad1acfc2ad4c397cbb6",
        "IPY_MODEL_6799100f40be4767b565daa97fda06c7"
       ],
       "layout": "IPY_MODEL_58af080934d34a0384433b32b24ed7da"
      }
     },
     "993e7613cf0c43d4ae6d6e880355d328": {
      "model_module": "@jupyter-widgets/controls",
      "model_module_version": "1.5.0",
      "model_name": "DescriptionStyleModel",
      "state": {
       "_model_module": "@jupyter-widgets/controls",
       "_model_module_version": "1.5.0",
       "_model_name": "DescriptionStyleModel",
       "_view_count": null,
       "_view_module": "@jupyter-widgets/base",
       "_view_module_version": "1.2.0",
       "_view_name": "StyleView",
       "description_width": ""
      }
     },
     "a181a473ec2b4a3a8897dab9314643ad": {
      "model_module": "@jupyter-widgets/controls",
      "model_module_version": "1.5.0",
      "model_name": "DescriptionStyleModel",
      "state": {
       "_model_module": "@jupyter-widgets/controls",
       "_model_module_version": "1.5.0",
       "_model_name": "DescriptionStyleModel",
       "_view_count": null,
       "_view_module": "@jupyter-widgets/base",
       "_view_module_version": "1.2.0",
       "_view_name": "StyleView",
       "description_width": ""
      }
     },
     "a4f3f18cefcc41e19d994cffc0176247": {
      "model_module": "@jupyter-widgets/controls",
      "model_module_version": "1.5.0",
      "model_name": "FloatProgressModel",
      "state": {
       "_dom_classes": [],
       "_model_module": "@jupyter-widgets/controls",
       "_model_module_version": "1.5.0",
       "_model_name": "FloatProgressModel",
       "_view_count": null,
       "_view_module": "@jupyter-widgets/controls",
       "_view_module_version": "1.5.0",
       "_view_name": "ProgressView",
       "bar_style": "success",
       "description": "",
       "description_tooltip": null,
       "layout": "IPY_MODEL_04be3a8fb9ff4b0a81db75dd8a5b6781",
       "max": 393.0,
       "min": 0.0,
       "orientation": "horizontal",
       "style": "IPY_MODEL_3fc810f777fa464ca006a2add77a8694",
       "value": 393.0
      }
     },
     "a8100d3d74eb4475a99949d75f434104": {
      "model_module": "@jupyter-widgets/base",
      "model_module_version": "1.2.0",
      "model_name": "LayoutModel",
      "state": {
       "_model_module": "@jupyter-widgets/base",
       "_model_module_version": "1.2.0",
       "_model_name": "LayoutModel",
       "_view_count": null,
       "_view_module": "@jupyter-widgets/base",
       "_view_module_version": "1.2.0",
       "_view_name": "LayoutView",
       "align_content": null,
       "align_items": null,
       "align_self": null,
       "border": null,
       "bottom": null,
       "display": null,
       "flex": null,
       "flex_flow": null,
       "grid_area": null,
       "grid_auto_columns": null,
       "grid_auto_flow": null,
       "grid_auto_rows": null,
       "grid_column": null,
       "grid_gap": null,
       "grid_row": null,
       "grid_template_areas": null,
       "grid_template_columns": null,
       "grid_template_rows": null,
       "height": null,
       "justify_content": null,
       "justify_items": null,
       "left": null,
       "margin": null,
       "max_height": null,
       "max_width": null,
       "min_height": null,
       "min_width": null,
       "object_fit": null,
       "object_position": null,
       "order": null,
       "overflow": null,
       "overflow_x": null,
       "overflow_y": null,
       "padding": null,
       "right": null,
       "top": null,
       "visibility": null,
       "width": null
      }
     },
     "aa03fdc89d4348e285e54f75d6c7af54": {
      "model_module": "@jupyter-widgets/base",
      "model_module_version": "1.2.0",
      "model_name": "LayoutModel",
      "state": {
       "_model_module": "@jupyter-widgets/base",
       "_model_module_version": "1.2.0",
       "_model_name": "LayoutModel",
       "_view_count": null,
       "_view_module": "@jupyter-widgets/base",
       "_view_module_version": "1.2.0",
       "_view_name": "LayoutView",
       "align_content": null,
       "align_items": null,
       "align_self": null,
       "border": null,
       "bottom": null,
       "display": null,
       "flex": null,
       "flex_flow": null,
       "grid_area": null,
       "grid_auto_columns": null,
       "grid_auto_flow": null,
       "grid_auto_rows": null,
       "grid_column": null,
       "grid_gap": null,
       "grid_row": null,
       "grid_template_areas": null,
       "grid_template_columns": null,
       "grid_template_rows": null,
       "height": null,
       "justify_content": null,
       "justify_items": null,
       "left": null,
       "margin": null,
       "max_height": null,
       "max_width": null,
       "min_height": null,
       "min_width": null,
       "object_fit": null,
       "object_position": null,
       "order": null,
       "overflow": null,
       "overflow_x": null,
       "overflow_y": null,
       "padding": null,
       "right": null,
       "top": null,
       "visibility": null,
       "width": null
      }
     },
     "ae881ea91810432b976722dd2e852f8e": {
      "model_module": "@jupyter-widgets/controls",
      "model_module_version": "1.5.0",
      "model_name": "HTMLModel",
      "state": {
       "_dom_classes": [],
       "_model_module": "@jupyter-widgets/controls",
       "_model_module_version": "1.5.0",
       "_model_name": "HTMLModel",
       "_view_count": null,
       "_view_module": "@jupyter-widgets/controls",
       "_view_module_version": "1.5.0",
       "_view_name": "HTMLView",
       "description": "",
       "description_tooltip": null,
       "layout": "IPY_MODEL_a8100d3d74eb4475a99949d75f434104",
       "placeholder": "​",
       "style": "IPY_MODEL_d343d119187d4f2487f251fb7eb32ceb",
       "value": "100%"
      }
     },
     "b3be2702cea44131a59b188600e83bc8": {
      "model_module": "@jupyter-widgets/controls",
      "model_module_version": "1.5.0",
      "model_name": "HBoxModel",
      "state": {
       "_dom_classes": [],
       "_model_module": "@jupyter-widgets/controls",
       "_model_module_version": "1.5.0",
       "_model_name": "HBoxModel",
       "_view_count": null,
       "_view_module": "@jupyter-widgets/controls",
       "_view_module_version": "1.5.0",
       "_view_name": "HBoxView",
       "box_style": "",
       "children": [
        "IPY_MODEL_155fa27cfd364d02b5682dd18e83947e",
        "IPY_MODEL_2ef91cd876f84a16852e9566d3b65c3e",
        "IPY_MODEL_06770fd0470b4a419a971cb75de0dfb1"
       ],
       "layout": "IPY_MODEL_daa7c4c4d4d446b4a7e37f4073705f80"
      }
     },
     "beb7bff8c8af42518bb44993d1497a80": {
      "model_module": "@jupyter-widgets/controls",
      "model_module_version": "1.5.0",
      "model_name": "HBoxModel",
      "state": {
       "_dom_classes": [],
       "_model_module": "@jupyter-widgets/controls",
       "_model_module_version": "1.5.0",
       "_model_name": "HBoxModel",
       "_view_count": null,
       "_view_module": "@jupyter-widgets/controls",
       "_view_module_version": "1.5.0",
       "_view_name": "HBoxView",
       "box_style": "",
       "children": [
        "IPY_MODEL_69eb46b8806645909aae16cc9cbeb21d",
        "IPY_MODEL_78a92f962a7542748922c8f3fa3127a1",
        "IPY_MODEL_0a293f89bbfb4049bacebfb41bccc8ee"
       ],
       "layout": "IPY_MODEL_247626e9979d4d6abb33b305aed9fe16"
      }
     },
     "bfe50c5c024d4c218ff86376cee3c6ec": {
      "model_module": "@jupyter-widgets/controls",
      "model_module_version": "1.5.0",
      "model_name": "LabelModel",
      "state": {
       "_dom_classes": [],
       "_model_module": "@jupyter-widgets/controls",
       "_model_module_version": "1.5.0",
       "_model_name": "LabelModel",
       "_view_count": null,
       "_view_module": "@jupyter-widgets/controls",
       "_view_module_version": "1.5.0",
       "_view_name": "LabelView",
       "description": "",
       "description_tooltip": null,
       "layout": "IPY_MODEL_7688268532844d568dacb5d2d91b1c5e",
       "placeholder": "​",
       "style": "IPY_MODEL_74ce8b878b4d4a85aee0ca0cd1411b85",
       "value": " 0.07MB of 0.07MB uploaded (0.00MB deduped)\r"
      }
     },
     "d343d119187d4f2487f251fb7eb32ceb": {
      "model_module": "@jupyter-widgets/controls",
      "model_module_version": "1.5.0",
      "model_name": "DescriptionStyleModel",
      "state": {
       "_model_module": "@jupyter-widgets/controls",
       "_model_module_version": "1.5.0",
       "_model_name": "DescriptionStyleModel",
       "_view_count": null,
       "_view_module": "@jupyter-widgets/base",
       "_view_module_version": "1.2.0",
       "_view_name": "StyleView",
       "description_width": ""
      }
     },
     "d43ef80d401e4fa788c2c508135f0839": {
      "model_module": "@jupyter-widgets/base",
      "model_module_version": "1.2.0",
      "model_name": "LayoutModel",
      "state": {
       "_model_module": "@jupyter-widgets/base",
       "_model_module_version": "1.2.0",
       "_model_name": "LayoutModel",
       "_view_count": null,
       "_view_module": "@jupyter-widgets/base",
       "_view_module_version": "1.2.0",
       "_view_name": "LayoutView",
       "align_content": null,
       "align_items": null,
       "align_self": null,
       "border": null,
       "bottom": null,
       "display": null,
       "flex": null,
       "flex_flow": null,
       "grid_area": null,
       "grid_auto_columns": null,
       "grid_auto_flow": null,
       "grid_auto_rows": null,
       "grid_column": null,
       "grid_gap": null,
       "grid_row": null,
       "grid_template_areas": null,
       "grid_template_columns": null,
       "grid_template_rows": null,
       "height": null,
       "justify_content": null,
       "justify_items": null,
       "left": null,
       "margin": null,
       "max_height": null,
       "max_width": null,
       "min_height": null,
       "min_width": null,
       "object_fit": null,
       "object_position": null,
       "order": null,
       "overflow": null,
       "overflow_x": null,
       "overflow_y": null,
       "padding": null,
       "right": null,
       "top": null,
       "visibility": null,
       "width": null
      }
     },
     "d84fd6a8717646f9a483c4728ea71f35": {
      "model_module": "@jupyter-widgets/controls",
      "model_module_version": "1.5.0",
      "model_name": "ProgressStyleModel",
      "state": {
       "_model_module": "@jupyter-widgets/controls",
       "_model_module_version": "1.5.0",
       "_model_name": "ProgressStyleModel",
       "_view_count": null,
       "_view_module": "@jupyter-widgets/base",
       "_view_module_version": "1.2.0",
       "_view_name": "StyleView",
       "bar_color": null,
       "description_width": ""
      }
     },
     "d991730f5b1d47fab90813fff98fe097": {
      "model_module": "@jupyter-widgets/controls",
      "model_module_version": "1.5.0",
      "model_name": "DescriptionStyleModel",
      "state": {
       "_model_module": "@jupyter-widgets/controls",
       "_model_module_version": "1.5.0",
       "_model_name": "DescriptionStyleModel",
       "_view_count": null,
       "_view_module": "@jupyter-widgets/base",
       "_view_module_version": "1.2.0",
       "_view_name": "StyleView",
       "description_width": ""
      }
     },
     "d9f3eb4b5ef645c2b2f47d745ad27588": {
      "model_module": "@jupyter-widgets/controls",
      "model_module_version": "1.5.0",
      "model_name": "HBoxModel",
      "state": {
       "_dom_classes": [],
       "_model_module": "@jupyter-widgets/controls",
       "_model_module_version": "1.5.0",
       "_model_name": "HBoxModel",
       "_view_count": null,
       "_view_module": "@jupyter-widgets/controls",
       "_view_module_version": "1.5.0",
       "_view_name": "HBoxView",
       "box_style": "",
       "children": [
        "IPY_MODEL_47dc2769fa194205b7dd0bca9e3ad0ff",
        "IPY_MODEL_a4f3f18cefcc41e19d994cffc0176247",
        "IPY_MODEL_7d57d3b8b9f142ca9344e195fa613236"
       ],
       "layout": "IPY_MODEL_efe44b38df854232875112789b3858f4"
      }
     },
     "daa7c4c4d4d446b4a7e37f4073705f80": {
      "model_module": "@jupyter-widgets/base",
      "model_module_version": "1.2.0",
      "model_name": "LayoutModel",
      "state": {
       "_model_module": "@jupyter-widgets/base",
       "_model_module_version": "1.2.0",
       "_model_name": "LayoutModel",
       "_view_count": null,
       "_view_module": "@jupyter-widgets/base",
       "_view_module_version": "1.2.0",
       "_view_name": "LayoutView",
       "align_content": null,
       "align_items": null,
       "align_self": null,
       "border": null,
       "bottom": null,
       "display": null,
       "flex": null,
       "flex_flow": null,
       "grid_area": null,
       "grid_auto_columns": null,
       "grid_auto_flow": null,
       "grid_auto_rows": null,
       "grid_column": null,
       "grid_gap": null,
       "grid_row": null,
       "grid_template_areas": null,
       "grid_template_columns": null,
       "grid_template_rows": null,
       "height": null,
       "justify_content": null,
       "justify_items": null,
       "left": null,
       "margin": null,
       "max_height": null,
       "max_width": null,
       "min_height": null,
       "min_width": null,
       "object_fit": null,
       "object_position": null,
       "order": null,
       "overflow": null,
       "overflow_x": null,
       "overflow_y": null,
       "padding": null,
       "right": null,
       "top": null,
       "visibility": null,
       "width": null
      }
     },
     "e0abeb5431cb4f3f8995eab287d6731d": {
      "model_module": "@jupyter-widgets/base",
      "model_module_version": "1.2.0",
      "model_name": "LayoutModel",
      "state": {
       "_model_module": "@jupyter-widgets/base",
       "_model_module_version": "1.2.0",
       "_model_name": "LayoutModel",
       "_view_count": null,
       "_view_module": "@jupyter-widgets/base",
       "_view_module_version": "1.2.0",
       "_view_name": "LayoutView",
       "align_content": null,
       "align_items": null,
       "align_self": null,
       "border": null,
       "bottom": null,
       "display": null,
       "flex": null,
       "flex_flow": null,
       "grid_area": null,
       "grid_auto_columns": null,
       "grid_auto_flow": null,
       "grid_auto_rows": null,
       "grid_column": null,
       "grid_gap": null,
       "grid_row": null,
       "grid_template_areas": null,
       "grid_template_columns": null,
       "grid_template_rows": null,
       "height": null,
       "justify_content": null,
       "justify_items": null,
       "left": null,
       "margin": null,
       "max_height": null,
       "max_width": null,
       "min_height": null,
       "min_width": null,
       "object_fit": null,
       "object_position": null,
       "order": null,
       "overflow": null,
       "overflow_x": null,
       "overflow_y": null,
       "padding": null,
       "right": null,
       "top": null,
       "visibility": null,
       "width": null
      }
     },
     "e10dfffb7a1f4d2fb4aeeba0ff6f6bc2": {
      "model_module": "@jupyter-widgets/controls",
      "model_module_version": "1.5.0",
      "model_name": "DescriptionStyleModel",
      "state": {
       "_model_module": "@jupyter-widgets/controls",
       "_model_module_version": "1.5.0",
       "_model_name": "DescriptionStyleModel",
       "_view_count": null,
       "_view_module": "@jupyter-widgets/base",
       "_view_module_version": "1.2.0",
       "_view_name": "StyleView",
       "description_width": ""
      }
     },
     "e3792413c34349d5ad54a2072f8818c5": {
      "model_module": "@jupyter-widgets/base",
      "model_module_version": "1.2.0",
      "model_name": "LayoutModel",
      "state": {
       "_model_module": "@jupyter-widgets/base",
       "_model_module_version": "1.2.0",
       "_model_name": "LayoutModel",
       "_view_count": null,
       "_view_module": "@jupyter-widgets/base",
       "_view_module_version": "1.2.0",
       "_view_name": "LayoutView",
       "align_content": null,
       "align_items": null,
       "align_self": null,
       "border": null,
       "bottom": null,
       "display": null,
       "flex": null,
       "flex_flow": null,
       "grid_area": null,
       "grid_auto_columns": null,
       "grid_auto_flow": null,
       "grid_auto_rows": null,
       "grid_column": null,
       "grid_gap": null,
       "grid_row": null,
       "grid_template_areas": null,
       "grid_template_columns": null,
       "grid_template_rows": null,
       "height": null,
       "justify_content": null,
       "justify_items": null,
       "left": null,
       "margin": null,
       "max_height": null,
       "max_width": null,
       "min_height": null,
       "min_width": null,
       "object_fit": null,
       "object_position": null,
       "order": null,
       "overflow": null,
       "overflow_x": null,
       "overflow_y": null,
       "padding": null,
       "right": null,
       "top": null,
       "visibility": null,
       "width": null
      }
     },
     "e8971f7a36d04b89a0e4ae0f725d3cab": {
      "model_module": "@jupyter-widgets/controls",
      "model_module_version": "1.5.0",
      "model_name": "DescriptionStyleModel",
      "state": {
       "_model_module": "@jupyter-widgets/controls",
       "_model_module_version": "1.5.0",
       "_model_name": "DescriptionStyleModel",
       "_view_count": null,
       "_view_module": "@jupyter-widgets/base",
       "_view_module_version": "1.2.0",
       "_view_name": "StyleView",
       "description_width": ""
      }
     },
     "eb998cb8e08a4c20a7b2926facc034b9": {
      "model_module": "@jupyter-widgets/controls",
      "model_module_version": "1.5.0",
      "model_name": "HTMLModel",
      "state": {
       "_dom_classes": [],
       "_model_module": "@jupyter-widgets/controls",
       "_model_module_version": "1.5.0",
       "_model_name": "HTMLModel",
       "_view_count": null,
       "_view_module": "@jupyter-widgets/controls",
       "_view_module_version": "1.5.0",
       "_view_name": "HTMLView",
       "description": "",
       "description_tooltip": null,
       "layout": "IPY_MODEL_86a6757ea5c14764b9946727215e0ef7",
       "placeholder": "​",
       "style": "IPY_MODEL_e8971f7a36d04b89a0e4ae0f725d3cab",
       "value": "100%"
      }
     },
     "ed01e9a8254a41e2ad26a038f0205c3d": {
      "model_module": "@jupyter-widgets/base",
      "model_module_version": "1.2.0",
      "model_name": "LayoutModel",
      "state": {
       "_model_module": "@jupyter-widgets/base",
       "_model_module_version": "1.2.0",
       "_model_name": "LayoutModel",
       "_view_count": null,
       "_view_module": "@jupyter-widgets/base",
       "_view_module_version": "1.2.0",
       "_view_name": "LayoutView",
       "align_content": null,
       "align_items": null,
       "align_self": null,
       "border": null,
       "bottom": null,
       "display": null,
       "flex": null,
       "flex_flow": null,
       "grid_area": null,
       "grid_auto_columns": null,
       "grid_auto_flow": null,
       "grid_auto_rows": null,
       "grid_column": null,
       "grid_gap": null,
       "grid_row": null,
       "grid_template_areas": null,
       "grid_template_columns": null,
       "grid_template_rows": null,
       "height": null,
       "justify_content": null,
       "justify_items": null,
       "left": null,
       "margin": null,
       "max_height": null,
       "max_width": null,
       "min_height": null,
       "min_width": null,
       "object_fit": null,
       "object_position": null,
       "order": null,
       "overflow": null,
       "overflow_x": null,
       "overflow_y": null,
       "padding": null,
       "right": null,
       "top": null,
       "visibility": null,
       "width": null
      }
     },
     "efe44b38df854232875112789b3858f4": {
      "model_module": "@jupyter-widgets/base",
      "model_module_version": "1.2.0",
      "model_name": "LayoutModel",
      "state": {
       "_model_module": "@jupyter-widgets/base",
       "_model_module_version": "1.2.0",
       "_model_name": "LayoutModel",
       "_view_count": null,
       "_view_module": "@jupyter-widgets/base",
       "_view_module_version": "1.2.0",
       "_view_name": "LayoutView",
       "align_content": null,
       "align_items": null,
       "align_self": null,
       "border": null,
       "bottom": null,
       "display": null,
       "flex": null,
       "flex_flow": null,
       "grid_area": null,
       "grid_auto_columns": null,
       "grid_auto_flow": null,
       "grid_auto_rows": null,
       "grid_column": null,
       "grid_gap": null,
       "grid_row": null,
       "grid_template_areas": null,
       "grid_template_columns": null,
       "grid_template_rows": null,
       "height": null,
       "justify_content": null,
       "justify_items": null,
       "left": null,
       "margin": null,
       "max_height": null,
       "max_width": null,
       "min_height": null,
       "min_width": null,
       "object_fit": null,
       "object_position": null,
       "order": null,
       "overflow": null,
       "overflow_x": null,
       "overflow_y": null,
       "padding": null,
       "right": null,
       "top": null,
       "visibility": null,
       "width": null
      }
     },
     "f39764d445ed457e9c86c8cad35891bc": {
      "model_module": "@jupyter-widgets/base",
      "model_module_version": "1.2.0",
      "model_name": "LayoutModel",
      "state": {
       "_model_module": "@jupyter-widgets/base",
       "_model_module_version": "1.2.0",
       "_model_name": "LayoutModel",
       "_view_count": null,
       "_view_module": "@jupyter-widgets/base",
       "_view_module_version": "1.2.0",
       "_view_name": "LayoutView",
       "align_content": null,
       "align_items": null,
       "align_self": null,
       "border": null,
       "bottom": null,
       "display": null,
       "flex": null,
       "flex_flow": null,
       "grid_area": null,
       "grid_auto_columns": null,
       "grid_auto_flow": null,
       "grid_auto_rows": null,
       "grid_column": null,
       "grid_gap": null,
       "grid_row": null,
       "grid_template_areas": null,
       "grid_template_columns": null,
       "grid_template_rows": null,
       "height": null,
       "justify_content": null,
       "justify_items": null,
       "left": null,
       "margin": null,
       "max_height": null,
       "max_width": null,
       "min_height": null,
       "min_width": null,
       "object_fit": null,
       "object_position": null,
       "order": null,
       "overflow": null,
       "overflow_x": null,
       "overflow_y": null,
       "padding": null,
       "right": null,
       "top": null,
       "visibility": null,
       "width": null
      }
     }
    },
    "version_major": 2,
    "version_minor": 0
   }
  }
 },
 "nbformat": 4,
 "nbformat_minor": 5
}
